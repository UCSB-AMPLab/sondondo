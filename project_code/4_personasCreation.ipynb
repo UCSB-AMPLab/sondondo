{
 "cells": [
  {
   "cell_type": "markdown",
   "id": "af43b8b8",
   "metadata": {},
   "source": [
    "# Personas Creation"
   ]
  },
  {
   "cell_type": "markdown",
   "id": "9def67de",
   "metadata": {},
   "source": [
    "Our approach aligns closely with the input preparation model proposed by David W. Embley ([2021](https://doi.org/10.1007/978-3-030-88358-4_6)). We structure our data around _personas_, defined as \"each mention instance of a person in a document\" (p. 66), as a foundational step toward probabilistic record linkage (PRL). Each _persona_ is created by ingesting available individual metadata (such as name, last name, birth date), associating the person with a sacramental event (baptism, marriage, or burial), and establishing direct relationships (to parents, spouse, godparents)."
   ]
  },
  {
   "cell_type": "code",
   "execution_count": 1,
   "id": "e0b706ae",
   "metadata": {},
   "outputs": [],
   "source": [
    "import pandas as pd\n",
    "from pathlib import Path"
   ]
  },
  {
   "cell_type": "code",
   "execution_count": 2,
   "id": "019460f5",
   "metadata": {},
   "outputs": [],
   "source": [
    "bautismos = pd.read_csv(\"../data/clean/bautismos_clean.csv\")\n",
    "entierros = pd.read_csv(\"../data/clean/entierros_clean.csv\")\n",
    "matrimonios = pd.read_csv(\"../data/clean/matrimonios_clean.csv\")"
   ]
  },
  {
   "cell_type": "markdown",
   "id": "ef0c702d",
   "metadata": {},
   "source": [
    "## Identifying Prefixes\n",
    "\n",
    "This step is a very simple exercise to ensure consistency and good naming conventions across the datasets. Also helps to identify the entities for the ER model, and associate prefixes to those entities.\n",
    "\n"
   ]
  },
  {
   "cell_type": "code",
   "execution_count": 3,
   "id": "0bcd5ced",
   "metadata": {},
   "outputs": [
    {
     "data": {
      "text/plain": [
       "{'baptized',\n",
       " 'bride',\n",
       " 'burial',\n",
       " 'deceased',\n",
       " 'event',\n",
       " 'father',\n",
       " 'godfather',\n",
       " 'godmother',\n",
       " 'godparent',\n",
       " 'groom',\n",
       " 'husband',\n",
       " 'mother',\n",
       " 'parents',\n",
       " 'wife',\n",
       " 'witness'}"
      ]
     },
     "execution_count": 3,
     "metadata": {},
     "output_type": "execute_result"
    }
   ],
   "source": [
    "import re\n",
    "\n",
    "prefix_pattern = re.compile(r\"(^[A-Za-z]*_[\\d]?_?)([A-Za-z]*_?[\\w\\d]*)\")\n",
    "\n",
    "prefixes = set()\n",
    "\n",
    "for df in [bautismos, entierros, matrimonios]:\n",
    "    for col in df.columns:\n",
    "        if prefix_pattern.match(col):\n",
    "            prefix = prefix_pattern.match(col).group(1)\n",
    "            remove_pattern = re.compile(r\"\\d\")\n",
    "            prefix = remove_pattern.sub(\"\", prefix).strip(\"_\")\n",
    "            prefixes.add(prefix)\n",
    "\n",
    "prefixes"
   ]
  },
  {
   "cell_type": "markdown",
   "id": "1fb72e3b",
   "metadata": {},
   "source": [
    "## ER Model\n",
    "\n",
    "With those prefixes in mind, and after basic cleaning of data, we can create a more accurate version of the ER model ([See original version](https://github.com/UCSB-AMPLab/sondondo/tree/ffc80515805dd7b00c9c127c3093cb65c7da8b23/database)). The model has now the following structure:\n",
    "\n",
    "![ER Model](../database/db_diagram.png)\n",
    "\n"
   ]
  },
  {
   "cell_type": "markdown",
   "id": "06c5588e",
   "metadata": {},
   "source": [
    "### Ingestion Order\n",
    "\n",
    "```mathematica\n",
    "ConditionVocab\n",
    "    |\n",
    "    ▼\n",
    "Event\n",
    "    |\n",
    "    ▼\n",
    "OriginalTerms\n",
    "    |\n",
    "    ▼\n",
    "Persona\n",
    "    |\n",
    "    ▼\n",
    "PersonaCondition\n",
    "    |\n",
    "    ▼\n",
    "PersonaRelationship\n",
    "    |\n",
    "    ▼\n",
    "PersonaRoleInEvent\n",
    "    |\n",
    "    ▼\n",
    "Place\n",
    "    |\n",
    "    ▼\n",
    "Record\n",
    "```"
   ]
  },
  {
   "cell_type": "code",
   "execution_count": 4,
   "id": "ce0a8992",
   "metadata": {},
   "outputs": [],
   "source": [
    "from actions.extractors import Persona"
   ]
  },
  {
   "cell_type": "code",
   "execution_count": 5,
   "id": "96e68625",
   "metadata": {},
   "outputs": [
    {
     "data": {
      "text/html": [
       "<div>\n",
       "<style scoped>\n",
       "    .dataframe tbody tr th:only-of-type {\n",
       "        vertical-align: middle;\n",
       "    }\n",
       "\n",
       "    .dataframe tbody tr th {\n",
       "        vertical-align: top;\n",
       "    }\n",
       "\n",
       "    .dataframe thead th {\n",
       "        text-align: right;\n",
       "    }\n",
       "</style>\n",
       "<table border=\"1\" class=\"dataframe\">\n",
       "  <thead>\n",
       "    <tr style=\"text-align: right;\">\n",
       "      <th></th>\n",
       "      <th>event_idno</th>\n",
       "      <th>persona_type</th>\n",
       "      <th>name</th>\n",
       "      <th>lastname</th>\n",
       "      <th>social_condition</th>\n",
       "      <th>persona_idno</th>\n",
       "      <th>marital_status</th>\n",
       "      <th>birth_date</th>\n",
       "      <th>birth_place</th>\n",
       "      <th>resident_in</th>\n",
       "      <th>legitimacy_status</th>\n",
       "    </tr>\n",
       "  </thead>\n",
       "  <tbody>\n",
       "    <tr>\n",
       "      <th>count</th>\n",
       "      <td>32249</td>\n",
       "      <td>32249</td>\n",
       "      <td>32249</td>\n",
       "      <td>32249</td>\n",
       "      <td>8207</td>\n",
       "      <td>32249</td>\n",
       "      <td>4224</td>\n",
       "      <td>3185</td>\n",
       "      <td>1466</td>\n",
       "      <td>399</td>\n",
       "      <td>3908</td>\n",
       "    </tr>\n",
       "    <tr>\n",
       "      <th>unique</th>\n",
       "      <td>10155</td>\n",
       "      <td>13</td>\n",
       "      <td>2018</td>\n",
       "      <td>2304</td>\n",
       "      <td>899</td>\n",
       "      <td>32249</td>\n",
       "      <td>41</td>\n",
       "      <td>2916</td>\n",
       "      <td>65</td>\n",
       "      <td>18</td>\n",
       "      <td>37</td>\n",
       "    </tr>\n",
       "    <tr>\n",
       "      <th>top</th>\n",
       "      <td>matrimonio-477</td>\n",
       "      <td>mother</td>\n",
       "      <td>maria</td>\n",
       "      <td>quispe</td>\n",
       "      <td>Tributario/Tributaria</td>\n",
       "      <td>persona-1</td>\n",
       "      <td>Soltera</td>\n",
       "      <td>1893-07-12</td>\n",
       "      <td>Pampamarca</td>\n",
       "      <td>Pampamarca</td>\n",
       "      <td>legítima</td>\n",
       "    </tr>\n",
       "    <tr>\n",
       "      <th>freq</th>\n",
       "      <td>7</td>\n",
       "      <td>7539</td>\n",
       "      <td>942</td>\n",
       "      <td>1863</td>\n",
       "      <td>1288</td>\n",
       "      <td>1</td>\n",
       "      <td>739</td>\n",
       "      <td>6</td>\n",
       "      <td>1178</td>\n",
       "      <td>292</td>\n",
       "      <td>958</td>\n",
       "    </tr>\n",
       "  </tbody>\n",
       "</table>\n",
       "</div>"
      ],
      "text/plain": [
       "            event_idno persona_type   name lastname       social_condition  \\\n",
       "count            32249        32249  32249    32249                   8207   \n",
       "unique           10155           13   2018     2304                    899   \n",
       "top     matrimonio-477       mother  maria   quispe  Tributario/Tributaria   \n",
       "freq                 7         7539    942     1863                   1288   \n",
       "\n",
       "       persona_idno marital_status  birth_date birth_place resident_in  \\\n",
       "count         32249           4224        3185        1466         399   \n",
       "unique        32249             41        2916          65          18   \n",
       "top       persona-1        Soltera  1893-07-12  Pampamarca  Pampamarca   \n",
       "freq              1            739           6        1178         292   \n",
       "\n",
       "       legitimacy_status  \n",
       "count               3908  \n",
       "unique                37  \n",
       "top             legítima  \n",
       "freq                 958  "
      ]
     },
     "execution_count": 5,
     "metadata": {},
     "output_type": "execute_result"
    }
   ],
   "source": [
    "extractor = Persona.PersonaExtractor([bautismos, matrimonios, entierros])\n",
    "personas = extractor.extract_personas()\n",
    "\n",
    "personas.describe(include='all')"
   ]
  }
 ],
 "metadata": {
  "kernelspec": {
   "display_name": ".venv",
   "language": "python",
   "name": "python3"
  },
  "language_info": {
   "codemirror_mode": {
    "name": "ipython",
    "version": 3
   },
   "file_extension": ".py",
   "mimetype": "text/x-python",
   "name": "python",
   "nbconvert_exporter": "python",
   "pygments_lexer": "ipython3",
   "version": "3.11.6"
  }
 },
 "nbformat": 4,
 "nbformat_minor": 5
}
