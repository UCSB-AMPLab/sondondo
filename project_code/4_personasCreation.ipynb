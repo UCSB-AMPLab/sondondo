{
 "cells": [
  {
   "cell_type": "markdown",
   "id": "af43b8b8",
   "metadata": {},
   "source": [
    "# Personas Creation"
   ]
  },
  {
   "cell_type": "markdown",
   "id": "9def67de",
   "metadata": {},
   "source": [
    "Our approach aligns closely with the input preparation model proposed by David W. Embley ([2021](https://doi.org/10.1007/978-3-030-88358-4_6)). We structure our data around _personas_, defined as \"each mention instance of a person in a document\" (p. 66), as a foundational step toward probabilistic record linkage (PRL). Each _persona_ is created by ingesting available individual metadata (such as name, last name, birth date), associating the person with a sacramental event (baptism, marriage, or burial). The relationship between personas is established by their participation at the event (e.g., as father, mother, godfather, witness)."
   ]
  },
  {
   "cell_type": "markdown",
   "id": "897dd356",
   "metadata": {},
   "source": [
    "## Personas Data Structure\n",
    "\n",
    "The `personas` data structure is very straightforward:\n",
    "\n",
    "- event_idno: unique semantically meaningful identifier for the event\n",
    "- persona_idno: unique semantically meaningful identifier for the persona\n",
    "- persona_type: role of the persona in the event (e.g., baptized, father, mother, witness)\n",
    "- name: first name of the persona\n",
    "- last_name: last name of the persona\n",
    "- birth_date: birth date of the persona\n",
    "- birth_place: birth place of the persona\n",
    "- resident_in: persona residence at the time of the event\n",
    "- gender: inferred gender of the persona\n",
    "- social_condition: harmonized social condition of the persona\n",
    "- legitimacy_status: harmonized legitimacy status of the persona\n",
    "- marital_status: harmonized marital status of the persona\n",
    "\n",
    "\n",
    "Identification of individuals is done by parsing one or a list of dataframes with the clean data, and processing the data using the `Persona` class. Results are stored in `data/interim/personas_extracted.csv` for testing, and in `data/clean/personas.csv` for production."
   ]
  },
  {
   "cell_type": "code",
   "execution_count": 1,
   "id": "e0b706ae",
   "metadata": {},
   "outputs": [],
   "source": [
    "import pandas as pd\n",
    "from actions.extractors import Persona"
   ]
  },
  {
   "cell_type": "code",
   "execution_count": 2,
   "id": "019460f5",
   "metadata": {},
   "outputs": [],
   "source": [
    "bautismos = pd.read_csv(\"../data/clean/bautismos_clean.csv\")\n",
    "entierros = pd.read_csv(\"../data/clean/entierros_clean.csv\")\n",
    "matrimonios = pd.read_csv(\"../data/clean/matrimonios_clean.csv\")"
   ]
  },
  {
   "cell_type": "code",
   "execution_count": 3,
   "id": "96e68625",
   "metadata": {},
   "outputs": [
    {
     "data": {
      "text/html": [
       "<div>\n",
       "<style scoped>\n",
       "    .dataframe tbody tr th:only-of-type {\n",
       "        vertical-align: middle;\n",
       "    }\n",
       "\n",
       "    .dataframe tbody tr th {\n",
       "        vertical-align: top;\n",
       "    }\n",
       "\n",
       "    .dataframe thead th {\n",
       "        text-align: right;\n",
       "    }\n",
       "</style>\n",
       "<table border=\"1\" class=\"dataframe\">\n",
       "  <thead>\n",
       "    <tr style=\"text-align: right;\">\n",
       "      <th></th>\n",
       "      <th>event_idno</th>\n",
       "      <th>persona_type</th>\n",
       "      <th>name</th>\n",
       "      <th>birth_place</th>\n",
       "      <th>birth_date</th>\n",
       "      <th>legitimacy_status</th>\n",
       "      <th>lastname</th>\n",
       "      <th>persona_idno</th>\n",
       "      <th>social_condition</th>\n",
       "      <th>marital_status</th>\n",
       "      <th>resident_in</th>\n",
       "      <th>gender</th>\n",
       "    </tr>\n",
       "  </thead>\n",
       "  <tbody>\n",
       "    <tr>\n",
       "      <th>count</th>\n",
       "      <td>39585</td>\n",
       "      <td>39585</td>\n",
       "      <td>39517</td>\n",
       "      <td>2329</td>\n",
       "      <td>8594</td>\n",
       "      <td>11862</td>\n",
       "      <td>39013</td>\n",
       "      <td>39585</td>\n",
       "      <td>9350</td>\n",
       "      <td>4256</td>\n",
       "      <td>399</td>\n",
       "      <td>39585</td>\n",
       "    </tr>\n",
       "    <tr>\n",
       "      <th>unique</th>\n",
       "      <td>10179</td>\n",
       "      <td>16</td>\n",
       "      <td>4103</td>\n",
       "      <td>85</td>\n",
       "      <td>6999</td>\n",
       "      <td>2</td>\n",
       "      <td>2328</td>\n",
       "      <td>39585</td>\n",
       "      <td>7</td>\n",
       "      <td>3</td>\n",
       "      <td>18</td>\n",
       "      <td>6</td>\n",
       "    </tr>\n",
       "    <tr>\n",
       "      <th>top</th>\n",
       "      <td>matrimonio-465</td>\n",
       "      <td>mother</td>\n",
       "      <td>maria</td>\n",
       "      <td>Pampamarca</td>\n",
       "      <td>1901-09-04</td>\n",
       "      <td>legitimo</td>\n",
       "      <td>quispe</td>\n",
       "      <td>persona-1</td>\n",
       "      <td>indio</td>\n",
       "      <td>soltero</td>\n",
       "      <td>Pampamarca</td>\n",
       "      <td>male</td>\n",
       "    </tr>\n",
       "    <tr>\n",
       "      <th>freq</th>\n",
       "      <td>7</td>\n",
       "      <td>7613</td>\n",
       "      <td>1056</td>\n",
       "      <td>1902</td>\n",
       "      <td>8</td>\n",
       "      <td>9104</td>\n",
       "      <td>2305</td>\n",
       "      <td>1</td>\n",
       "      <td>5652</td>\n",
       "      <td>2779</td>\n",
       "      <td>292</td>\n",
       "      <td>15425</td>\n",
       "    </tr>\n",
       "  </tbody>\n",
       "</table>\n",
       "</div>"
      ],
      "text/plain": [
       "            event_idno persona_type   name birth_place  birth_date  \\\n",
       "count            39585        39585  39517        2329        8594   \n",
       "unique           10179           16   4103          85        6999   \n",
       "top     matrimonio-465       mother  maria  Pampamarca  1901-09-04   \n",
       "freq                 7         7613   1056        1902           8   \n",
       "\n",
       "       legitimacy_status lastname persona_idno social_condition  \\\n",
       "count              11862    39013        39585             9350   \n",
       "unique                 2     2328        39585                7   \n",
       "top             legitimo   quispe    persona-1            indio   \n",
       "freq                9104     2305            1             5652   \n",
       "\n",
       "       marital_status resident_in gender  \n",
       "count            4256         399  39585  \n",
       "unique              3          18      6  \n",
       "top           soltero  Pampamarca   male  \n",
       "freq             2779         292  15425  "
      ]
     },
     "execution_count": 3,
     "metadata": {},
     "output_type": "execute_result"
    }
   ],
   "source": [
    "extractor = Persona.PersonaExtractor([bautismos, matrimonios, entierros])\n",
    "personas = extractor.extract_personas()\n",
    "\n",
    "personas.describe(include='all')"
   ]
  },
  {
   "cell_type": "code",
   "execution_count": 4,
   "id": "88f66de1",
   "metadata": {},
   "outputs": [],
   "source": [
    "personas.to_csv(\"../data/clean/personas.csv\", index=False)"
   ]
  }
 ],
 "metadata": {
  "kernelspec": {
   "display_name": ".venv",
   "language": "python",
   "name": "python3"
  },
  "language_info": {
   "codemirror_mode": {
    "name": "ipython",
    "version": 3
   },
   "file_extension": ".py",
   "mimetype": "text/x-python",
   "name": "python",
   "nbconvert_exporter": "python",
   "pygments_lexer": "ipython3",
   "version": "3.11.6"
  }
 },
 "nbformat": 4,
 "nbformat_minor": 5
}
