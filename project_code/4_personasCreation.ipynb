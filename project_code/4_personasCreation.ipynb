{
 "cells": [
  {
   "cell_type": "markdown",
   "id": "af43b8b8",
   "metadata": {},
   "source": [
    "# Personas Creation"
   ]
  },
  {
   "cell_type": "markdown",
   "id": "9def67de",
   "metadata": {},
   "source": [
    "Our approach aligns closely with the input preparation model proposed by David W. Embley ([2021](https://doi.org/10.1007/978-3-030-88358-4_6)). We structure our data around _personas_, defined as \"each mention instance of a person in a document\" (p. 66), as a foundational step toward probabilistic record linkage (PRL). Each _persona_ is created by ingesting available individual metadata (such as name, last name, birth date), associating the person with a sacramental event (baptism, marriage, or burial), and establishing direct relationships (to parents, spouse, godparents)."
   ]
  },
  {
   "cell_type": "code",
   "execution_count": 1,
   "id": "e0b706ae",
   "metadata": {},
   "outputs": [],
   "source": [
    "import pandas as pd\n",
    "from pathlib import Path"
   ]
  },
  {
   "cell_type": "markdown",
   "id": "ef0c702d",
   "metadata": {},
   "source": [
    "## Identifying Prefixes\n",
    "\n",
    "This step is a very simple exercise to ensure consistency and good naming conventions across the datasets. Also helps to identify the entities for the ER model, and associate prefixes to those entities.\n",
    "\n"
   ]
  },
  {
   "cell_type": "code",
   "execution_count": 3,
   "id": "0bcd5ced",
   "metadata": {},
   "outputs": [
    {
     "data": {
      "text/plain": [
       "{'baptized',\n",
       " 'bride',\n",
       " 'burial',\n",
       " 'deceased',\n",
       " 'event',\n",
       " 'father',\n",
       " 'godfather',\n",
       " 'godmother',\n",
       " 'godparent',\n",
       " 'groom',\n",
       " 'husband',\n",
       " 'mother',\n",
       " 'parents',\n",
       " 'wife',\n",
       " 'witness'}"
      ]
     },
     "execution_count": 3,
     "metadata": {},
     "output_type": "execute_result"
    }
   ],
   "source": [
    "import re\n",
    "\n",
    "prefix_pattern = re.compile(r\"(^[A-Za-z]*_[\\d]?_?)([A-Za-z]*_?[\\w\\d]*)\")\n",
    "\n",
    "prefixes = set()\n",
    "\n",
    "for df in [bautismos, entierros, matrimonios]:\n",
    "    for col in df.columns:\n",
    "        if prefix_pattern.match(col):\n",
    "            prefix = prefix_pattern.match(col).group(1)\n",
    "            remove_pattern = re.compile(r\"\\d\")\n",
    "            prefix = remove_pattern.sub(\"\", prefix).strip(\"_\")\n",
    "            prefixes.add(prefix)\n",
    "\n",
    "prefixes"
   ]
  },
  {
   "cell_type": "markdown",
   "id": "1fb72e3b",
   "metadata": {},
   "source": [
    "## ER Model\n",
    "\n",
    "With those prefixes in mind, and after basic cleaning of data, we can create a more accurate version of the ER model ([See original version](https://github.com/UCSB-AMPLab/sondondo/tree/ffc80515805dd7b00c9c127c3093cb65c7da8b23/database)). The model has now the following structure:\n",
    "\n",
    "![ER Model](../database/db_diagram.png)\n",
    "\n"
   ]
  },
  {
   "cell_type": "code",
   "execution_count": null,
   "id": "e8d573e8",
   "metadata": {},
   "outputs": [],
   "source": [
    "    "
   ]
  }
 ],
 "metadata": {
  "kernelspec": {
   "display_name": ".venv",
   "language": "python",
   "name": "python3"
  },
  "language_info": {
   "codemirror_mode": {
    "name": "ipython",
    "version": 3
   },
   "file_extension": ".py",
   "mimetype": "text/x-python",
   "name": "python",
   "nbconvert_exporter": "python",
   "pygments_lexer": "ipython3",
   "version": "3.11.6"
  }
 },
 "nbformat": 4,
 "nbformat_minor": 5
}
