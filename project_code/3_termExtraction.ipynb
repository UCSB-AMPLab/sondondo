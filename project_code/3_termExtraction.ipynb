{
 "cells": [
  {
   "cell_type": "markdown",
   "id": "a95311b5",
   "metadata": {},
   "source": [
    "# Textual Variation Analysis for 'Conditions' Columns\n",
    "\n",
    "This analysis builds upon ealier iterations using [textAnalysis.py](https://github.com/UCSB-AMPLab/sondondo/blob/e3d7781/project_code/textAnalysis.py) and [textualAnalysis.py](https://github.com/UCSB-AMPLab/sondondo/blob/6fd3812/project_code/textualAnalysis.py) which led to the creation of the current [conditionMapping.json](https://github.com/UCSB-AMPLab/sondondo/blob/c200723/data/mappings/conditionMapping.json).\n",
    "\n",
    "The goal of this analysis is to examine textual variation and overlapping categories within the \"conditions\" columns across the cleaned datasets (`data/clean/bautismos_clean.csv`, `data/clean/matrimonios_clean.csv`, and `data/clean/defunciones_clean.csv`). This helps to evaluate how a reduced and harmonized mapping contributes to a more consistent and maneageable classification scheme.\n"
   ]
  },
  {
   "cell_type": "markdown",
   "id": "e52596b5",
   "metadata": {},
   "source": [
    "## Strategy for Creating `conditionMapping.json`\n",
    "\n",
    "The main objective was to reduce textual variation in the \"conditions\" columns without inadvertently losing important information. The process involved the following steps:\n",
    "\n",
    "1. Define three main categories of \"conditions\":\n",
    "   - Legitimacy status: Wheter the child was born within a legitimate marriage.\n",
    "   - Marital status: Wheter a persona was married, divorced, or widowed at the time of the event.\n",
    "   - Social condition: Labels used by the authority recording the event to mark social origin or perceived status (e.g., \"indigena\", \"mestizo\").\n",
    "2. Run TF-IDF analysis across all \"conditions\" columns from the raw datasets to identify the most frequent and distinctive keywords in each group.\n",
    "   - Results can be found in [main@e3d7781/logs/textanalysis.log](https://github.com/UCSB-AMPLab/sondondo/blob/e3d7781/logs/textanalysis.log)\n",
    "3.  Manually curate mapping from the top-ranked terms for each category. The following criteria guided the normalization process:\n",
    "    - Remove diacritics and accents.\n",
    "    - Convert all gendered terms to their masculine form.\n",
    "    - Use singular rather than plural forms.\n",
    "    - Expand abbreviations to full terms.\n",
    "    - Consolidate synonyms into the most commonly used or historically accurate term, e.g., \"natural\" mapped to \"indio\"."
   ]
  },
  {
   "cell_type": "markdown",
   "id": "2003e466",
   "metadata": {},
   "source": [
    "## Set the Project"
   ]
  },
  {
   "cell_type": "code",
   "execution_count": 13,
   "id": "fa83c202",
   "metadata": {},
   "outputs": [],
   "source": [
    "import pandas as pd\n",
    "import matplotlib.pyplot as plt\n",
    "import re\n",
    "import json\n",
    "\n",
    "from utils.LoggerHandler import setup_logger\n",
    "\n",
    "logger = setup_logger(\"termExtraction\")"
   ]
  },
  {
   "cell_type": "code",
   "execution_count": 2,
   "id": "c9b1987f",
   "metadata": {},
   "outputs": [],
   "source": [
    "dataframes_paths = {\n",
    "    \"bautismos\": {\n",
    "        \"csv_file\": \"../data/clean/bautismos_clean.csv\"\n",
    "    },\n",
    "    \"entierros\": {\n",
    "        \"csv_file\": \"../data/clean/entierros_clean.csv\"\n",
    "    },\n",
    "    \"matrimonios\": {\n",
    "        \"csv_file\": \"../data/clean/matrimonios_clean.csv\"\n",
    "    }\n",
    "}\n",
    "\n",
    "with open('../data/mappings/conditionMapping.json', 'r', encoding='utf-8') as f:\n",
    "    condition_mappings = json.load(f)\n",
    "\n",
    "existing_mappings = {\n",
    "    \"legitimacy_status\": list(condition_mappings[\"attribute_mappings\"][\"legitimacy_status\"].keys()),\n",
    "    \"social_condition\": list(condition_mappings[\"attribute_mappings\"][\"social_condition\"].keys()),\n",
    "    \"marital_status\": list(condition_mappings[\"attribute_mappings\"][\"marital_status\"].keys())\n",
    "}\n"
   ]
  },
  {
   "cell_type": "markdown",
   "id": "34d90ec2",
   "metadata": {},
   "source": [
    "## Statistical Analysis\n",
    "\n",
    "To accurately assess the effectiveness of the mapping, we performed a series of statistical analyses on the cleaned datasets. \n"
   ]
  },
  {
   "cell_type": "markdown",
   "id": "0d95d007",
   "metadata": {},
   "source": [
    "### Textual Variation Extraction\n",
    "\n",
    "These methods extract textual variations from the \"conditions\" columns using a regex pattern that matches the defined categories. "
   ]
  },
  {
   "cell_type": "code",
   "execution_count": 3,
   "id": "82a8301c",
   "metadata": {},
   "outputs": [],
   "source": [
    "def extract_textual_variations_from_columns(column_pattern, min_frequency: int = 1) -> dict:\n",
    "    \"\"\"\n",
    "    Extract all textual variations from columns matching a pattern.\n",
    "    This reveals how conditions were expressed in historical documents,\n",
    "    including mixed categories (e.g., marital status + age descriptors).\n",
    "    \n",
    "    Args:\n",
    "        column_pattern: Regex pattern to match column names\n",
    "        min_frequency: Minimum frequency for a term to be included\n",
    "        \n",
    "    Returns:\n",
    "        Dictionary with term frequencies and contextual metadata\n",
    "    \"\"\"\n",
    "    term_data = {}\n",
    "\n",
    "    for dataset, info in dataframes_paths.items():\n",
    "        logger.info(f\"Extracting textual variations from {dataset}...\")\n",
    "        csv_path = info[\"csv_file\"]\n",
    "\n",
    "        df = pd.read_csv(csv_path)\n",
    "\n",
    "        # Find matching columns\n",
    "        if isinstance(column_pattern, str):\n",
    "            pattern = re.compile(column_pattern)\n",
    "        else:\n",
    "            pattern = column_pattern\n",
    "            \n",
    "        matching_columns = [col for col in df.columns if pattern.search(col)]\n",
    "        logger.info(f\"Columns found: {matching_columns}\")\n",
    "\n",
    "        if not matching_columns:\n",
    "            continue\n",
    "        \n",
    "        # Extract all textual variations\n",
    "        for col in matching_columns:\n",
    "            logger.info(f\"Processing column: {col}\")\n",
    "            \n",
    "            # basic preprocessing\n",
    "            values = df[col].dropna().astype(str)\n",
    "            values = values[values != 'nan']\n",
    "            values = values[values.str.strip() != '']\n",
    "            \n",
    "            cleaned_values = values.str.lower().str.strip()\n",
    "\n",
    "            logger.info(f\"Found {len(cleaned_values)} non-empty entries\")\n",
    "\n",
    "            # Count occurrences\n",
    "            value_counts = cleaned_values.value_counts()\n",
    "            \n",
    "            for term, count in value_counts.items():\n",
    "                if term not in term_data:\n",
    "                    term_data[term] = {\n",
    "                        'frequency': 0, \n",
    "                        'columns': set(), \n",
    "                        'datasets': set(),\n",
    "                        'raw_variations': set()\n",
    "                    }\n",
    "                \n",
    "                term_data[term]['frequency'] += count\n",
    "                term_data[term]['columns'].add(col)\n",
    "                term_data[term]['datasets'].add(dataset)\n",
    "                \n",
    "                original_values = values[cleaned_values == term]\n",
    "                term_data[term]['raw_variations'].update(original_values.tolist())\n",
    "\n",
    "    # Filter by frequency\n",
    "    filtered_terms = {}\n",
    "    for term, data in term_data.items():\n",
    "        if data['frequency'] >= min_frequency:\n",
    "            filtered_terms[term] = {\n",
    "                'frequency': data['frequency'],\n",
    "                'columns': list(data['columns']),\n",
    "                'datasets': list(data['datasets']),\n",
    "                'raw_variations': list(data['raw_variations'])\n",
    "            }\n",
    "    \n",
    "    return filtered_terms"
   ]
  },
  {
   "cell_type": "code",
   "execution_count": 4,
   "id": "8ff1ea4e",
   "metadata": {},
   "outputs": [],
   "source": [
    "# Categories Data\n",
    "\n",
    "legitimacy_variations = extract_textual_variations_from_columns(\n",
    "    column_pattern=re.compile(r\".*legitimacy_status.*\"),\n",
    "    min_frequency=1\n",
    ")\n",
    "\n",
    "social_variations = extract_textual_variations_from_columns(\n",
    "    column_pattern=re.compile(r\".*social_condition.*\"),\n",
    "    min_frequency=1\n",
    ")\n",
    "\n",
    "marital_variations = extract_textual_variations_from_columns(\n",
    "    column_pattern=re.compile(r\".*marital_status.*\"),\n",
    "    min_frequency=1\n",
    ")\n"
   ]
  },
  {
   "cell_type": "code",
   "execution_count": 5,
   "id": "c79a5bdd",
   "metadata": {},
   "outputs": [],
   "source": [
    "categories_data = {\n",
    "    'legitimacy_status': (legitimacy_variations, existing_mappings[\"legitimacy_status\"]),\n",
    "    'social_condition': (social_variations, existing_mappings[\"social_condition\"]),\n",
    "    'marital_status': (marital_variations, existing_mappings[\"marital_status\"])\n",
    "}"
   ]
  },
  {
   "cell_type": "markdown",
   "id": "93d1d4b1",
   "metadata": {},
   "source": [
    "### Results of the Exploratory Analysis"
   ]
  },
  {
   "cell_type": "markdown",
   "id": "5ae2a556",
   "metadata": {},
   "source": [
    "We performed a frequency count of the terms found in the \"conditions\" columns, grouping them by their main categories. The following results summarize the number of unique terms and their total frequency of appearance in the dataset:"
   ]
  },
  {
   "cell_type": "code",
   "execution_count": 6,
   "id": "885a9e4f",
   "metadata": {},
   "outputs": [
    {
     "data": {
      "text/html": [
       "<div>\n",
       "<style scoped>\n",
       "    .dataframe tbody tr th:only-of-type {\n",
       "        vertical-align: middle;\n",
       "    }\n",
       "\n",
       "    .dataframe tbody tr th {\n",
       "        vertical-align: top;\n",
       "    }\n",
       "\n",
       "    .dataframe thead th {\n",
       "        text-align: right;\n",
       "    }\n",
       "</style>\n",
       "<table border=\"1\" class=\"dataframe\">\n",
       "  <thead>\n",
       "    <tr style=\"text-align: right;\">\n",
       "      <th></th>\n",
       "      <th>category</th>\n",
       "      <th>frequencies</th>\n",
       "      <th>total_terms</th>\n",
       "      <th>total_frequency</th>\n",
       "    </tr>\n",
       "  </thead>\n",
       "  <tbody>\n",
       "    <tr>\n",
       "      <th>0</th>\n",
       "      <td>legitimacy_status</td>\n",
       "      <td>[996, 917, 1495, 1366, 521, 428, 383, 350, 118...</td>\n",
       "      <td>314</td>\n",
       "      <td>10265</td>\n",
       "    </tr>\n",
       "    <tr>\n",
       "      <th>1</th>\n",
       "      <td>social_condition</td>\n",
       "      <td>[1382, 332, 29, 14, 18, 8, 33, 10, 71, 6, 6, 6...</td>\n",
       "      <td>955</td>\n",
       "      <td>9249</td>\n",
       "    </tr>\n",
       "    <tr>\n",
       "      <th>2</th>\n",
       "      <td>marital_status</td>\n",
       "      <td>[400, 247, 406, 1389, 1321, 368, 24, 24, 18, 1...</td>\n",
       "      <td>34</td>\n",
       "      <td>4254</td>\n",
       "    </tr>\n",
       "  </tbody>\n",
       "</table>\n",
       "</div>"
      ],
      "text/plain": [
       "            category                                        frequencies  \\\n",
       "0  legitimacy_status  [996, 917, 1495, 1366, 521, 428, 383, 350, 118...   \n",
       "1   social_condition  [1382, 332, 29, 14, 18, 8, 33, 10, 71, 6, 6, 6...   \n",
       "2     marital_status  [400, 247, 406, 1389, 1321, 368, 24, 24, 18, 1...   \n",
       "\n",
       "  total_terms total_frequency  \n",
       "0         314           10265  \n",
       "1         955            9249  \n",
       "2          34            4254  "
      ]
     },
     "execution_count": 6,
     "metadata": {},
     "output_type": "execute_result"
    }
   ],
   "source": [
    "stats = {}\n",
    "\n",
    "for category, (terms_dict, mappings) in categories_data.items():\n",
    "    frequencies = [info['frequency'] for info in terms_dict.values()]\n",
    "    stats[category] = {\n",
    "        'frequencies': frequencies,\n",
    "        'total_terms': len(frequencies),\n",
    "        'total_frequency': sum(frequencies)\n",
    "    }\n",
    "\n",
    "stats_df = pd.DataFrame(stats).T.sort_values(by='total_frequency', ascending=False).reset_index().rename(columns={'index': 'category'})\n",
    "stats_df"
   ]
  },
  {
   "cell_type": "markdown",
   "id": "5589b03a",
   "metadata": {},
   "source": [
    "The data shows that the social condition category has the highest number of unique terms (955), despite having a lower total frequency than legitimacy status. This suggests that many of the terms under social condition appear only once or a few times, indicating high textual variation and inconsistency — likely due to diverse wording choices by different scribes over time, as well as inconsistencies introduced during transcription.\n",
    "\n",
    "In contrast, the marital status category is significantly more standardized, with only 34 unique terms used across 4,254 entries. This low variation points to a more consistent vocabulary and higher likelihood of successful harmonization.\n",
    "\n",
    "To further quantify this, we computed the average frequency per term, which helps identify how often terms are reused — a proxy for redundancy and consistency."
   ]
  },
  {
   "cell_type": "code",
   "execution_count": 7,
   "id": "3dbe3713",
   "metadata": {},
   "outputs": [
    {
     "data": {
      "text/html": [
       "<div>\n",
       "<style scoped>\n",
       "    .dataframe tbody tr th:only-of-type {\n",
       "        vertical-align: middle;\n",
       "    }\n",
       "\n",
       "    .dataframe tbody tr th {\n",
       "        vertical-align: top;\n",
       "    }\n",
       "\n",
       "    .dataframe thead th {\n",
       "        text-align: right;\n",
       "    }\n",
       "</style>\n",
       "<table border=\"1\" class=\"dataframe\">\n",
       "  <thead>\n",
       "    <tr style=\"text-align: right;\">\n",
       "      <th></th>\n",
       "      <th>category</th>\n",
       "      <th>frequencies</th>\n",
       "      <th>total_terms</th>\n",
       "      <th>total_frequency</th>\n",
       "      <th>avg_frequency_per_term</th>\n",
       "    </tr>\n",
       "  </thead>\n",
       "  <tbody>\n",
       "    <tr>\n",
       "      <th>0</th>\n",
       "      <td>legitimacy_status</td>\n",
       "      <td>[996, 917, 1495, 1366, 521, 428, 383, 350, 118...</td>\n",
       "      <td>314</td>\n",
       "      <td>10265</td>\n",
       "      <td>32.69</td>\n",
       "    </tr>\n",
       "    <tr>\n",
       "      <th>1</th>\n",
       "      <td>social_condition</td>\n",
       "      <td>[1382, 332, 29, 14, 18, 8, 33, 10, 71, 6, 6, 6...</td>\n",
       "      <td>955</td>\n",
       "      <td>9249</td>\n",
       "      <td>9.68</td>\n",
       "    </tr>\n",
       "    <tr>\n",
       "      <th>2</th>\n",
       "      <td>marital_status</td>\n",
       "      <td>[400, 247, 406, 1389, 1321, 368, 24, 24, 18, 1...</td>\n",
       "      <td>34</td>\n",
       "      <td>4254</td>\n",
       "      <td>125.12</td>\n",
       "    </tr>\n",
       "  </tbody>\n",
       "</table>\n",
       "</div>"
      ],
      "text/plain": [
       "            category                                        frequencies  \\\n",
       "0  legitimacy_status  [996, 917, 1495, 1366, 521, 428, 383, 350, 118...   \n",
       "1   social_condition  [1382, 332, 29, 14, 18, 8, 33, 10, 71, 6, 6, 6...   \n",
       "2     marital_status  [400, 247, 406, 1389, 1321, 368, 24, 24, 18, 1...   \n",
       "\n",
       "  total_terms total_frequency  avg_frequency_per_term  \n",
       "0         314           10265                   32.69  \n",
       "1         955            9249                    9.68  \n",
       "2          34            4254                  125.12  "
      ]
     },
     "execution_count": 7,
     "metadata": {},
     "output_type": "execute_result"
    }
   ],
   "source": [
    "stats_df['avg_frequency_per_term'] = stats_df['total_frequency'] / stats_df['total_terms']\n",
    "stats_df['avg_frequency_per_term'] = stats_df['avg_frequency_per_term'].astype(float).round(2)\n",
    "stats_df"
   ]
  },
  {
   "cell_type": "markdown",
   "id": "965ae834",
   "metadata": {},
   "source": [
    "As shown above:\n",
    "\n",
    "- Social condition has the lowest average frequency per term (~9.7), confirming high fragmentation and the presence of long-tail entries that may be semantically similar but textually distinct.\n",
    "\n",
    "- Marital status has the highest reuse rate (~125 per term), suggesting a more constrained vocabulary and consistent usage patterns.\n",
    "\n",
    "- Legitimacy status sits in between, with moderate variation and moderate reuse.\n",
    "\n",
    "While all three categories benefit from textual normalization, social condition stands out as requiring special attention. Its high number of unique, low-frequency terms suggests significant noise and ambiguity that can hinder downstream analysis unless harmonized. The average frequency metric supports this interpretation and can serve as a quantifiable justification for the harmonization strategy applied in subsequent steps."
   ]
  },
  {
   "cell_type": "markdown",
   "id": "f37dce7f",
   "metadata": {},
   "source": [
    "### **Coefficient of Variation**: \n",
    "\n",
    "The coefficient of variation (CV) measures how much variability exists relative to the average value. In our case, we compute the CV across parishes based on the number of unique \"conditions\" entries before and after applying the mapping. A lower CV after mapping indicates that the mapping has reduced variation in the use of terms across parishes, suggesting improved consistency."
   ]
  },
  {
   "cell_type": "code",
   "execution_count": 8,
   "id": "32ac7d6e",
   "metadata": {},
   "outputs": [],
   "source": [
    "from utils import StatsMethods"
   ]
  },
  {
   "cell_type": "code",
   "execution_count": 9,
   "id": "39a26308",
   "metadata": {},
   "outputs": [
    {
     "data": {
      "text/html": [
       "<div>\n",
       "<style scoped>\n",
       "    .dataframe tbody tr th:only-of-type {\n",
       "        vertical-align: middle;\n",
       "    }\n",
       "\n",
       "    .dataframe tbody tr th {\n",
       "        vertical-align: top;\n",
       "    }\n",
       "\n",
       "    .dataframe thead th {\n",
       "        text-align: right;\n",
       "    }\n",
       "</style>\n",
       "<table border=\"1\" class=\"dataframe\">\n",
       "  <thead>\n",
       "    <tr style=\"text-align: right;\">\n",
       "      <th></th>\n",
       "      <th>category</th>\n",
       "      <th>frequencies</th>\n",
       "      <th>total_terms</th>\n",
       "      <th>total_frequency</th>\n",
       "      <th>avg_frequency_per_term</th>\n",
       "      <th>cv</th>\n",
       "    </tr>\n",
       "  </thead>\n",
       "  <tbody>\n",
       "    <tr>\n",
       "      <th>0</th>\n",
       "      <td>legitimacy_status</td>\n",
       "      <td>[996, 917, 1495, 1366, 521, 428, 383, 350, 118...</td>\n",
       "      <td>314</td>\n",
       "      <td>10265</td>\n",
       "      <td>32.69</td>\n",
       "      <td>4.96</td>\n",
       "    </tr>\n",
       "    <tr>\n",
       "      <th>1</th>\n",
       "      <td>social_condition</td>\n",
       "      <td>[1382, 332, 29, 14, 18, 8, 33, 10, 71, 6, 6, 6...</td>\n",
       "      <td>955</td>\n",
       "      <td>9249</td>\n",
       "      <td>9.68</td>\n",
       "      <td>5.66</td>\n",
       "    </tr>\n",
       "    <tr>\n",
       "      <th>2</th>\n",
       "      <td>marital_status</td>\n",
       "      <td>[400, 247, 406, 1389, 1321, 368, 24, 24, 18, 1...</td>\n",
       "      <td>34</td>\n",
       "      <td>4254</td>\n",
       "      <td>125.12</td>\n",
       "      <td>2.66</td>\n",
       "    </tr>\n",
       "  </tbody>\n",
       "</table>\n",
       "</div>"
      ],
      "text/plain": [
       "            category                                        frequencies  \\\n",
       "0  legitimacy_status  [996, 917, 1495, 1366, 521, 428, 383, 350, 118...   \n",
       "1   social_condition  [1382, 332, 29, 14, 18, 8, 33, 10, 71, 6, 6, 6...   \n",
       "2     marital_status  [400, 247, 406, 1389, 1321, 368, 24, 24, 18, 1...   \n",
       "\n",
       "  total_terms total_frequency  avg_frequency_per_term    cv  \n",
       "0         314           10265                   32.69  4.96  \n",
       "1         955            9249                    9.68  5.66  \n",
       "2          34            4254                  125.12  2.66  "
      ]
     },
     "execution_count": 9,
     "metadata": {},
     "output_type": "execute_result"
    }
   ],
   "source": [
    "stats_df['cv'] = stats_df.apply(lambda row: StatsMethods.cv(row['frequencies'], rounding=2), axis=1)\n",
    "stats_df"
   ]
  },
  {
   "cell_type": "markdown",
   "id": "55fdd368",
   "metadata": {},
   "source": [
    "### Shannon Entropy"
   ]
  },
  {
   "cell_type": "markdown",
   "id": "150e38ed",
   "metadata": {},
   "source": [
    "Shannon entropy quantifies the uncertainty or randomness in a set of data. We can notice that social condition has the highest entropy (H) and normalized entropy (Normalized_H), showing again the level of fragmentation of this group. Legitimacy and marital status have lower levels, but we expect that the mapping will reduce their entropy as well, leading to more consistent usage patterns."
   ]
  },
  {
   "cell_type": "code",
   "execution_count": 10,
   "id": "2ddaac96",
   "metadata": {},
   "outputs": [
    {
     "data": {
      "text/html": [
       "<div>\n",
       "<style scoped>\n",
       "    .dataframe tbody tr th:only-of-type {\n",
       "        vertical-align: middle;\n",
       "    }\n",
       "\n",
       "    .dataframe tbody tr th {\n",
       "        vertical-align: top;\n",
       "    }\n",
       "\n",
       "    .dataframe thead th {\n",
       "        text-align: right;\n",
       "    }\n",
       "</style>\n",
       "<table border=\"1\" class=\"dataframe\">\n",
       "  <thead>\n",
       "    <tr style=\"text-align: right;\">\n",
       "      <th></th>\n",
       "      <th>cv</th>\n",
       "      <th>H</th>\n",
       "      <th>H_max</th>\n",
       "      <th>Normalized_H</th>\n",
       "      <th>Redundancy</th>\n",
       "    </tr>\n",
       "  </thead>\n",
       "  <tbody>\n",
       "    <tr>\n",
       "      <th>0</th>\n",
       "      <td>4.96</td>\n",
       "      <td>4.43</td>\n",
       "      <td>8.29</td>\n",
       "      <td>0.53</td>\n",
       "      <td>0.47</td>\n",
       "    </tr>\n",
       "    <tr>\n",
       "      <th>1</th>\n",
       "      <td>5.66</td>\n",
       "      <td>6.97</td>\n",
       "      <td>9.90</td>\n",
       "      <td>0.70</td>\n",
       "      <td>0.30</td>\n",
       "    </tr>\n",
       "    <tr>\n",
       "      <th>2</th>\n",
       "      <td>2.66</td>\n",
       "      <td>2.50</td>\n",
       "      <td>5.09</td>\n",
       "      <td>0.49</td>\n",
       "      <td>0.51</td>\n",
       "    </tr>\n",
       "  </tbody>\n",
       "</table>\n",
       "</div>"
      ],
      "text/plain": [
       "     cv     H  H_max  Normalized_H  Redundancy\n",
       "0  4.96  4.43   8.29          0.53        0.47\n",
       "1  5.66  6.97   9.90          0.70        0.30\n",
       "2  2.66  2.50   5.09          0.49        0.51"
      ]
     },
     "execution_count": 10,
     "metadata": {},
     "output_type": "execute_result"
    }
   ],
   "source": [
    "stats_df[['H', 'H_max', 'Normalized_H', 'Redundancy']] = stats_df.apply(\n",
    "    lambda row: StatsMethods.shannon_entropy(row['frequencies'], rounding=2),\n",
    "    axis=1, result_type='expand'\n",
    ")\n",
    "stats_df[['cv', 'H', 'H_max', 'Normalized_H', 'Redundancy']]"
   ]
  },
  {
   "cell_type": "markdown",
   "id": "6b184117",
   "metadata": {},
   "source": [
    "### Zipf Distribution\n",
    "\n",
    "Zipf's law describes the frequency of terms in a language, where a few terms are very common while many others are rare. We can visualize the distribution of term frequencies to see if they follow this pattern. A Zipfian distribution would indicate that a small number of terms dominate usage, while many others are used infrequently."
   ]
  },
  {
   "cell_type": "code",
   "execution_count": 11,
   "id": "65e34918",
   "metadata": {},
   "outputs": [
    {
     "data": {
      "text/html": [
       "<div>\n",
       "<style scoped>\n",
       "    .dataframe tbody tr th:only-of-type {\n",
       "        vertical-align: middle;\n",
       "    }\n",
       "\n",
       "    .dataframe tbody tr th {\n",
       "        vertical-align: top;\n",
       "    }\n",
       "\n",
       "    .dataframe thead th {\n",
       "        text-align: right;\n",
       "    }\n",
       "</style>\n",
       "<table border=\"1\" class=\"dataframe\">\n",
       "  <thead>\n",
       "    <tr style=\"text-align: right;\">\n",
       "      <th></th>\n",
       "      <th>cv</th>\n",
       "      <th>H</th>\n",
       "      <th>H_max</th>\n",
       "      <th>Normalized_H</th>\n",
       "      <th>Redundancy</th>\n",
       "      <th>zipf_distribution</th>\n",
       "    </tr>\n",
       "  </thead>\n",
       "  <tbody>\n",
       "    <tr>\n",
       "      <th>0</th>\n",
       "      <td>4.96</td>\n",
       "      <td>4.43</td>\n",
       "      <td>8.29</td>\n",
       "      <td>0.53</td>\n",
       "      <td>0.47</td>\n",
       "      <td>[0.16, 0.08, 0.05, 0.04, 0.03, 0.03, 0.02, 0.0...</td>\n",
       "    </tr>\n",
       "    <tr>\n",
       "      <th>1</th>\n",
       "      <td>5.66</td>\n",
       "      <td>6.97</td>\n",
       "      <td>9.90</td>\n",
       "      <td>0.70</td>\n",
       "      <td>0.30</td>\n",
       "      <td>[0.13, 0.07, 0.04, 0.03, 0.03, 0.02, 0.02, 0.0...</td>\n",
       "    </tr>\n",
       "    <tr>\n",
       "      <th>2</th>\n",
       "      <td>2.66</td>\n",
       "      <td>2.50</td>\n",
       "      <td>5.09</td>\n",
       "      <td>0.49</td>\n",
       "      <td>0.51</td>\n",
       "      <td>[0.24, 0.12, 0.08, 0.06, 0.05, 0.04, 0.03, 0.0...</td>\n",
       "    </tr>\n",
       "  </tbody>\n",
       "</table>\n",
       "</div>"
      ],
      "text/plain": [
       "     cv     H  H_max  Normalized_H  Redundancy  \\\n",
       "0  4.96  4.43   8.29          0.53        0.47   \n",
       "1  5.66  6.97   9.90          0.70        0.30   \n",
       "2  2.66  2.50   5.09          0.49        0.51   \n",
       "\n",
       "                                   zipf_distribution  \n",
       "0  [0.16, 0.08, 0.05, 0.04, 0.03, 0.03, 0.02, 0.0...  \n",
       "1  [0.13, 0.07, 0.04, 0.03, 0.03, 0.02, 0.02, 0.0...  \n",
       "2  [0.24, 0.12, 0.08, 0.06, 0.05, 0.04, 0.03, 0.0...  "
      ]
     },
     "execution_count": 11,
     "metadata": {},
     "output_type": "execute_result"
    }
   ],
   "source": [
    "stats_df['zipf_distribution'] = stats_df.apply(\n",
    "    lambda row: StatsMethods.zipf_distribution(row['frequencies'], rounding=2),\n",
    "    axis=1\n",
    ")\n",
    "stats_df[['cv', 'H', 'H_max', 'Normalized_H', 'Redundancy', 'zipf_distribution']]"
   ]
  },
  {
   "cell_type": "code",
   "execution_count": 19,
   "id": "35b018d8",
   "metadata": {},
   "outputs": [
    {
     "data": {
      "image/png": "[encoded data removed]",
      "text/plain": [
       "<Figure size 1500x400 with 3 Axes>"
      ]
     },
     "metadata": {},
     "output_type": "display_data"
    }
   ],
   "source": [
    "social_status_zipf = stats_df.loc[stats_df['category'] == 'social_condition']['zipf_distribution'].iloc[0]\n",
    "legitimacy_status_zipf = stats_df.loc[stats_df['category'] == 'legitimacy_status']['zipf_distribution'].iloc[0]\n",
    "marital_status_zipf = stats_df.loc[stats_df['category'] == 'marital_status']['zipf_distribution'].iloc[0]\n",
    "\n",
    "\n",
    "fig, axes = plt.subplots(1, 3, figsize=(15, 4), sharey=True)\n",
    "\n",
    "# Social condition\n",
    "axes[0].plot(social_status_zipf, marker='o')\n",
    "axes[0].set_title(\"Social Condition\")\n",
    "axes[0].set_xlabel(\"Rank\")\n",
    "axes[0].set_ylabel(\"Frequency\")\n",
    "\n",
    "# Legitimacy status\n",
    "axes[1].plot(legitimacy_status_zipf, marker='x', color='orange')\n",
    "axes[1].set_title(\"Legitimacy Status\")\n",
    "axes[1].set_xlabel(\"Rank\")\n",
    "\n",
    "# Marital status\n",
    "axes[2].plot(marital_status_zipf, marker='s', color='green')\n",
    "axes[2].set_title(\"Marital Status\")\n",
    "axes[2].set_xlabel(\"Rank\")\n",
    "\n",
    "plt.suptitle(\"Zipf Distributions by Category\")\n",
    "plt.tight_layout()\n",
    "plt.show()\n",
    "\n"
   ]
  },
  {
   "cell_type": "markdown",
   "id": "3c66769c",
   "metadata": {},
   "source": [
    "## Normalization\n",
    "\n",
    "Our normalization strategy is designed to address the textual variation, redundancy, high entropy, and category mixing present in the “conditions” columns. The label “condition” was ambiguous even for parish priests and local officials, leading to inconsistent application across records. Without a standardized vocabulary or a consistent method for disambiguating terms, social, marital, and legitimacy-related descriptors appear intermingled in the same fields.\n",
    "\n",
    "To resolve this, we developed the `InferCondition.py` module, which can extract specific attributes from any “conditions” column, regardless of the category in which they were recorded. For example, `extract_marital_status` can be applied to a `social_condition` column to recover marital status terms that were incorrectly placed there. When applied to the correct category, these extractors significantly reduce variability.\n",
    "\n",
    "At its core, the module implements the AttributeNormalizer class, which:\n",
    "\n",
    "- Loads predefined mapping dictionaries for social condition, legitimacy status, and marital status.\n",
    "- Applies a multi-stage harmonization process:\n",
    "    - Case-insensitive exact match (checks if the term already matches a target form).\n",
    "    - Word-level match (matches any single token to the mapping).\n",
    "    - Substring match (captures longer phrases containing mapped terms).\n",
    "    - Fuzzy match (using RapidFuzz with a configurable threshold).\n",
    "- Logs unmapped values for later review.\n",
    "- Provides convenience methods to extract all attributes from a column or harmonize multiple columns in one pass.\n",
    "- Includes a function to extract unmapped tokens, removing all known mapped values and leaving residual, potentially meaningful text for further analysis.\n",
    "\n",
    "This normalization is a foundational step in preparing the dataset for probabilistic record linkage, as it reduces noise, improves consistency, and aligns variant expressions to a controlled vocabulary without discarding historically meaningful distinctions."
   ]
  }
 ],
 "metadata": {
  "language_info": {
   "name": "python"
  }
 },
 "nbformat": 4,
 "nbformat_minor": 5
}
