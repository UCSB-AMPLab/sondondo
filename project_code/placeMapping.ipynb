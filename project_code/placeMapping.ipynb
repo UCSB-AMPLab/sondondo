{
 "cells": [
  {
   "cell_type": "markdown",
   "id": "77c39526",
   "metadata": {},
   "source": [
    "# Step 2: Create Unique Values from Data"
   ]
  },
  {
   "cell_type": "code",
   "execution_count": null,
   "id": "397b225a",
   "metadata": {},
   "outputs": [],
   "source": [
    "# Main Libraries\n",
    "import pandas as pd"
   ]
  },
  {
   "cell_type": "code",
   "execution_count": 2,
   "id": "bd0f8157",
   "metadata": {},
   "outputs": [
    {
     "data": {
      "text/html": [
       "<div>\n",
       "<style scoped>\n",
       "    .dataframe tbody tr th:only-of-type {\n",
       "        vertical-align: middle;\n",
       "    }\n",
       "\n",
       "    .dataframe tbody tr th {\n",
       "        vertical-align: top;\n",
       "    }\n",
       "\n",
       "    .dataframe thead th {\n",
       "        text-align: right;\n",
       "    }\n",
       "</style>\n",
       "<table border=\"1\" class=\"dataframe\">\n",
       "  <thead>\n",
       "    <tr style=\"text-align: right;\">\n",
       "      <th></th>\n",
       "      <th>file</th>\n",
       "      <th>identifier</th>\n",
       "      <th>event_type</th>\n",
       "      <th>date</th>\n",
       "      <th>baptized_name</th>\n",
       "      <th>hometown</th>\n",
       "      <th>birth_date</th>\n",
       "      <th>baptized_legitimacy_status</th>\n",
       "      <th>father_name</th>\n",
       "      <th>father_lastname</th>\n",
       "      <th>...</th>\n",
       "      <th>godfather_lastname</th>\n",
       "      <th>godfather_social_condition</th>\n",
       "      <th>godmother_name</th>\n",
       "      <th>godmother_lastname</th>\n",
       "      <th>godmother_social_condition</th>\n",
       "      <th>baptism_place</th>\n",
       "      <th>geographic_descriptor_1</th>\n",
       "      <th>geographic_descriptor_2</th>\n",
       "      <th>geographic_descriptor_3</th>\n",
       "      <th>geographic_descriptor_4</th>\n",
       "    </tr>\n",
       "  </thead>\n",
       "  <tbody>\n",
       "    <tr>\n",
       "      <th>0</th>\n",
       "      <td>APAucará LB L001</td>\n",
       "      <td>B001</td>\n",
       "      <td>Bautizo</td>\n",
       "      <td>1790-10-04</td>\n",
       "      <td>domingo</td>\n",
       "      <td>NaN</td>\n",
       "      <td>1790-08-04</td>\n",
       "      <td>Hijo legitimo</td>\n",
       "      <td>lucas</td>\n",
       "      <td>ayquipa</td>\n",
       "      <td>...</td>\n",
       "      <td>guamani</td>\n",
       "      <td>NaN</td>\n",
       "      <td>NaN</td>\n",
       "      <td>NaN</td>\n",
       "      <td>NaN</td>\n",
       "      <td>Pampamarca</td>\n",
       "      <td>NaN</td>\n",
       "      <td>Pampamarca</td>\n",
       "      <td>NaN</td>\n",
       "      <td>NaN</td>\n",
       "    </tr>\n",
       "    <tr>\n",
       "      <th>1</th>\n",
       "      <td>APAucará LB L001</td>\n",
       "      <td>B002</td>\n",
       "      <td>Bautizo</td>\n",
       "      <td>1790-10-06</td>\n",
       "      <td>dominga</td>\n",
       "      <td>NaN</td>\n",
       "      <td>1790-08-04</td>\n",
       "      <td>Hija legitima</td>\n",
       "      <td>juan</td>\n",
       "      <td>lulia</td>\n",
       "      <td>...</td>\n",
       "      <td>varientos</td>\n",
       "      <td>NaN</td>\n",
       "      <td>NaN</td>\n",
       "      <td>NaN</td>\n",
       "      <td>NaN</td>\n",
       "      <td>Pampamarca</td>\n",
       "      <td>NaN</td>\n",
       "      <td>Pampamarca</td>\n",
       "      <td>NaN</td>\n",
       "      <td>NaN</td>\n",
       "    </tr>\n",
       "    <tr>\n",
       "      <th>2</th>\n",
       "      <td>APAucará LB L001</td>\n",
       "      <td>B003</td>\n",
       "      <td>Bautizo</td>\n",
       "      <td>1790-10-07</td>\n",
       "      <td>bartola</td>\n",
       "      <td>NaN</td>\n",
       "      <td>1790-08-04</td>\n",
       "      <td>Hija legitima</td>\n",
       "      <td>jacinto</td>\n",
       "      <td>quispe</td>\n",
       "      <td>...</td>\n",
       "      <td>NaN</td>\n",
       "      <td>NaN</td>\n",
       "      <td>rotonda</td>\n",
       "      <td>pocco</td>\n",
       "      <td>NaN</td>\n",
       "      <td>Pampamarca</td>\n",
       "      <td>NaN</td>\n",
       "      <td>Pampamarca</td>\n",
       "      <td>NaN</td>\n",
       "      <td>NaN</td>\n",
       "    </tr>\n",
       "    <tr>\n",
       "      <th>3</th>\n",
       "      <td>APAucará LB L001</td>\n",
       "      <td>B004</td>\n",
       "      <td>Bautizo</td>\n",
       "      <td>1790-10-20</td>\n",
       "      <td>francisca</td>\n",
       "      <td>NaN</td>\n",
       "      <td>1790-10-15</td>\n",
       "      <td>Hija legitima</td>\n",
       "      <td>juan</td>\n",
       "      <td>cuebas</td>\n",
       "      <td>...</td>\n",
       "      <td>NaN</td>\n",
       "      <td>NaN</td>\n",
       "      <td>ysabel</td>\n",
       "      <td>guillen</td>\n",
       "      <td>NaN</td>\n",
       "      <td>Aucara</td>\n",
       "      <td>NaN</td>\n",
       "      <td>NaN</td>\n",
       "      <td>NaN</td>\n",
       "      <td>NaN</td>\n",
       "    </tr>\n",
       "    <tr>\n",
       "      <th>4</th>\n",
       "      <td>APAucará LB L001</td>\n",
       "      <td>B005</td>\n",
       "      <td>Bautizo</td>\n",
       "      <td>1790-10-20</td>\n",
       "      <td>pedro</td>\n",
       "      <td>NaN</td>\n",
       "      <td>1790-10-19</td>\n",
       "      <td>Hijo legitimo</td>\n",
       "      <td>santos</td>\n",
       "      <td>manxo</td>\n",
       "      <td>...</td>\n",
       "      <td>NaN</td>\n",
       "      <td>NaN</td>\n",
       "      <td>josefa</td>\n",
       "      <td>santiago</td>\n",
       "      <td>NaN</td>\n",
       "      <td>Aucara</td>\n",
       "      <td>NaN</td>\n",
       "      <td>NaN</td>\n",
       "      <td>NaN</td>\n",
       "      <td>NaN</td>\n",
       "    </tr>\n",
       "    <tr>\n",
       "      <th>...</th>\n",
       "      <td>...</td>\n",
       "      <td>...</td>\n",
       "      <td>...</td>\n",
       "      <td>...</td>\n",
       "      <td>...</td>\n",
       "      <td>...</td>\n",
       "      <td>...</td>\n",
       "      <td>...</td>\n",
       "      <td>...</td>\n",
       "      <td>...</td>\n",
       "      <td>...</td>\n",
       "      <td>...</td>\n",
       "      <td>...</td>\n",
       "      <td>...</td>\n",
       "      <td>...</td>\n",
       "      <td>...</td>\n",
       "      <td>...</td>\n",
       "      <td>...</td>\n",
       "      <td>...</td>\n",
       "      <td>...</td>\n",
       "      <td>...</td>\n",
       "    </tr>\n",
       "    <tr>\n",
       "      <th>6336</th>\n",
       "      <td>APAucará LB L004</td>\n",
       "      <td>B2042</td>\n",
       "      <td>Bautizo</td>\n",
       "      <td>1888-12-10</td>\n",
       "      <td>leocadio</td>\n",
       "      <td>NaN</td>\n",
       "      <td>1888-12-09</td>\n",
       "      <td>Hijo natural, mestizo</td>\n",
       "      <td>miguel</td>\n",
       "      <td>pacheco</td>\n",
       "      <td>...</td>\n",
       "      <td>bendezú</td>\n",
       "      <td>NaN</td>\n",
       "      <td>NaN</td>\n",
       "      <td>NaN</td>\n",
       "      <td>NaN</td>\n",
       "      <td>Aucará</td>\n",
       "      <td>NaN</td>\n",
       "      <td>NaN</td>\n",
       "      <td>NaN</td>\n",
       "      <td>NaN</td>\n",
       "    </tr>\n",
       "    <tr>\n",
       "      <th>6337</th>\n",
       "      <td>APAucará LB L004</td>\n",
       "      <td>B2043</td>\n",
       "      <td>Bautizo</td>\n",
       "      <td>1888-12-11</td>\n",
       "      <td>mariano concepcion</td>\n",
       "      <td>NaN</td>\n",
       "      <td>1888-12-07</td>\n",
       "      <td>Hijo legítimo, indio</td>\n",
       "      <td>facundo</td>\n",
       "      <td>vega</td>\n",
       "      <td>...</td>\n",
       "      <td>mancco</td>\n",
       "      <td>NaN</td>\n",
       "      <td>NaN</td>\n",
       "      <td>NaN</td>\n",
       "      <td>NaN</td>\n",
       "      <td>Aucará</td>\n",
       "      <td>NaN</td>\n",
       "      <td>NaN</td>\n",
       "      <td>NaN</td>\n",
       "      <td>NaN</td>\n",
       "    </tr>\n",
       "    <tr>\n",
       "      <th>6338</th>\n",
       "      <td>APAucará LB L004</td>\n",
       "      <td>B2044</td>\n",
       "      <td>Bautizo</td>\n",
       "      <td>1888-12-12</td>\n",
       "      <td>ambrosio</td>\n",
       "      <td>NaN</td>\n",
       "      <td>1888-12-06</td>\n",
       "      <td>Hijo legítimo, indio</td>\n",
       "      <td>ysidro</td>\n",
       "      <td>ccasane</td>\n",
       "      <td>...</td>\n",
       "      <td>tito</td>\n",
       "      <td>NaN</td>\n",
       "      <td>NaN</td>\n",
       "      <td>NaN</td>\n",
       "      <td>NaN</td>\n",
       "      <td>Aucará</td>\n",
       "      <td>NaN</td>\n",
       "      <td>Mayobamba</td>\n",
       "      <td>NaN</td>\n",
       "      <td>NaN</td>\n",
       "    </tr>\n",
       "    <tr>\n",
       "      <th>6339</th>\n",
       "      <td>APAucará LB L004</td>\n",
       "      <td>B2045</td>\n",
       "      <td>Bautizo</td>\n",
       "      <td>1888-12-15</td>\n",
       "      <td>francisco</td>\n",
       "      <td>NaN</td>\n",
       "      <td>1888-11-30</td>\n",
       "      <td>Hijo legítimo, indio</td>\n",
       "      <td>mariano</td>\n",
       "      <td>lopez</td>\n",
       "      <td>...</td>\n",
       "      <td>dias</td>\n",
       "      <td>Indigna de Huaicahuacho</td>\n",
       "      <td>NaN</td>\n",
       "      <td>NaN</td>\n",
       "      <td>NaN</td>\n",
       "      <td>Aucará</td>\n",
       "      <td>NaN</td>\n",
       "      <td>Huaicahuacho</td>\n",
       "      <td>NaN</td>\n",
       "      <td>NaN</td>\n",
       "    </tr>\n",
       "    <tr>\n",
       "      <th>6340</th>\n",
       "      <td>APAucará LB L004</td>\n",
       "      <td>B2046</td>\n",
       "      <td>Bautizo</td>\n",
       "      <td>1888-12-16</td>\n",
       "      <td>laureana</td>\n",
       "      <td>NaN</td>\n",
       "      <td>1888-12-01</td>\n",
       "      <td>Hija legítima, india</td>\n",
       "      <td>bernarda</td>\n",
       "      <td>champa</td>\n",
       "      <td>...</td>\n",
       "      <td>NaN</td>\n",
       "      <td>NaN</td>\n",
       "      <td>manuela</td>\n",
       "      <td>de la cruz</td>\n",
       "      <td>NaN</td>\n",
       "      <td>Aucará</td>\n",
       "      <td>NaN</td>\n",
       "      <td>NaN</td>\n",
       "      <td>NaN</td>\n",
       "      <td>NaN</td>\n",
       "    </tr>\n",
       "  </tbody>\n",
       "</table>\n",
       "<p>6341 rows × 26 columns</p>\n",
       "</div>"
      ],
      "text/plain": [
       "                  file identifier event_type        date       baptized_name  \\\n",
       "0     APAucará LB L001       B001    Bautizo  1790-10-04             domingo   \n",
       "1     APAucará LB L001       B002    Bautizo  1790-10-06             dominga   \n",
       "2     APAucará LB L001       B003    Bautizo  1790-10-07             bartola   \n",
       "3     APAucará LB L001       B004    Bautizo  1790-10-20           francisca   \n",
       "4     APAucará LB L001       B005    Bautizo  1790-10-20               pedro   \n",
       "...                ...        ...        ...         ...                 ...   \n",
       "6336  APAucará LB L004      B2042    Bautizo  1888-12-10            leocadio   \n",
       "6337  APAucará LB L004      B2043    Bautizo  1888-12-11  mariano concepcion   \n",
       "6338  APAucará LB L004      B2044    Bautizo  1888-12-12            ambrosio   \n",
       "6339  APAucará LB L004      B2045    Bautizo  1888-12-15           francisco   \n",
       "6340  APAucará LB L004      B2046    Bautizo  1888-12-16            laureana   \n",
       "\n",
       "     hometown  birth_date baptized_legitimacy_status father_name  \\\n",
       "0         NaN  1790-08-04              Hijo legitimo       lucas   \n",
       "1         NaN  1790-08-04              Hija legitima        juan   \n",
       "2         NaN  1790-08-04              Hija legitima     jacinto   \n",
       "3         NaN  1790-10-15              Hija legitima        juan   \n",
       "4         NaN  1790-10-19              Hijo legitimo      santos   \n",
       "...       ...         ...                        ...         ...   \n",
       "6336      NaN  1888-12-09      Hijo natural, mestizo      miguel   \n",
       "6337      NaN  1888-12-07       Hijo legítimo, indio     facundo   \n",
       "6338      NaN  1888-12-06       Hijo legítimo, indio      ysidro   \n",
       "6339      NaN  1888-11-30       Hijo legítimo, indio     mariano   \n",
       "6340      NaN  1888-12-01       Hija legítima, india    bernarda   \n",
       "\n",
       "     father_lastname  ... godfather_lastname godfather_social_condition  \\\n",
       "0            ayquipa  ...            guamani                        NaN   \n",
       "1              lulia  ...          varientos                        NaN   \n",
       "2             quispe  ...                NaN                        NaN   \n",
       "3             cuebas  ...                NaN                        NaN   \n",
       "4              manxo  ...                NaN                        NaN   \n",
       "...              ...  ...                ...                        ...   \n",
       "6336         pacheco  ...            bendezú                        NaN   \n",
       "6337            vega  ...             mancco                        NaN   \n",
       "6338         ccasane  ...               tito                        NaN   \n",
       "6339           lopez  ...               dias    Indigna de Huaicahuacho   \n",
       "6340          champa  ...                NaN                        NaN   \n",
       "\n",
       "     godmother_name godmother_lastname godmother_social_condition  \\\n",
       "0               NaN                NaN                        NaN   \n",
       "1               NaN                NaN                        NaN   \n",
       "2           rotonda              pocco                        NaN   \n",
       "3            ysabel            guillen                        NaN   \n",
       "4            josefa           santiago                        NaN   \n",
       "...             ...                ...                        ...   \n",
       "6336            NaN                NaN                        NaN   \n",
       "6337            NaN                NaN                        NaN   \n",
       "6338            NaN                NaN                        NaN   \n",
       "6339            NaN                NaN                        NaN   \n",
       "6340        manuela         de la cruz                        NaN   \n",
       "\n",
       "     baptism_place geographic_descriptor_1 geographic_descriptor_2  \\\n",
       "0       Pampamarca                     NaN              Pampamarca   \n",
       "1       Pampamarca                     NaN              Pampamarca   \n",
       "2       Pampamarca                     NaN              Pampamarca   \n",
       "3           Aucara                     NaN                     NaN   \n",
       "4           Aucara                     NaN                     NaN   \n",
       "...            ...                     ...                     ...   \n",
       "6336        Aucará                     NaN                     NaN   \n",
       "6337        Aucará                     NaN                     NaN   \n",
       "6338        Aucará                     NaN               Mayobamba   \n",
       "6339        Aucará                     NaN            Huaicahuacho   \n",
       "6340        Aucará                     NaN                     NaN   \n",
       "\n",
       "     geographic_descriptor_3 geographic_descriptor_4  \n",
       "0                        NaN                     NaN  \n",
       "1                        NaN                     NaN  \n",
       "2                        NaN                     NaN  \n",
       "3                        NaN                     NaN  \n",
       "4                        NaN                     NaN  \n",
       "...                      ...                     ...  \n",
       "6336                     NaN                     NaN  \n",
       "6337                     NaN                     NaN  \n",
       "6338                     NaN                     NaN  \n",
       "6339                     NaN                     NaN  \n",
       "6340                     NaN                     NaN  \n",
       "\n",
       "[6341 rows x 26 columns]"
      ]
     },
     "execution_count": 2,
     "metadata": {},
     "output_type": "execute_result"
    }
   ],
   "source": [
    "# Clean Data\n",
    "\n",
    "BAUTISMOS_HARMONIZED = pd.read_csv(\"../data/clean/bautismos_clean.csv\")\n",
    "MATRIMONIOS_HARMONIZED = pd.read_csv(\"../data/clean/matrimonios_clean.csv\")\n",
    "ENTIERROS_HARMONIZED = pd.read_csv(\"../data/clean/entierros_clean.csv\")\n",
    "\n",
    "BAUTISMOS_HARMONIZED\n"
   ]
  },
  {
   "cell_type": "markdown",
   "id": "91bccbd5",
   "metadata": {},
   "source": [
    "## Map Places\n",
    "\n",
    "Create a list of unique places from the datasets and create a json file with the mapping of places to their respective geographic descriptors."
   ]
  },
  {
   "cell_type": "code",
   "execution_count": 3,
   "id": "9fe95365",
   "metadata": {},
   "outputs": [],
   "source": [
    "from actions.extractors import placeRecognition\n",
    "\n",
    "extractor = placeRecognition.PlaceExtractor()\n"
   ]
  },
  {
   "cell_type": "code",
   "execution_count": 4,
   "id": "2c71a97a",
   "metadata": {},
   "outputs": [
    {
     "data": {
      "text/html": [
       "<div>\n",
       "<style scoped>\n",
       "    .dataframe tbody tr th:only-of-type {\n",
       "        vertical-align: middle;\n",
       "    }\n",
       "\n",
       "    .dataframe tbody tr th {\n",
       "        vertical-align: top;\n",
       "    }\n",
       "\n",
       "    .dataframe thead th {\n",
       "        text-align: right;\n",
       "    }\n",
       "</style>\n",
       "<table border=\"1\" class=\"dataframe\">\n",
       "  <thead>\n",
       "    <tr style=\"text-align: right;\">\n",
       "      <th></th>\n",
       "      <th>hometown</th>\n",
       "      <th>baptism_place</th>\n",
       "      <th>geographic_descriptor_1</th>\n",
       "      <th>geographic_descriptor_2</th>\n",
       "      <th>geographic_descriptor_3</th>\n",
       "      <th>geographic_descriptor_4</th>\n",
       "    </tr>\n",
       "  </thead>\n",
       "  <tbody>\n",
       "    <tr>\n",
       "      <th>0</th>\n",
       "      <td>NaN</td>\n",
       "      <td>Pampamarca</td>\n",
       "      <td>NaN</td>\n",
       "      <td>Pampamarca</td>\n",
       "      <td>NaN</td>\n",
       "      <td>NaN</td>\n",
       "    </tr>\n",
       "    <tr>\n",
       "      <th>1</th>\n",
       "      <td>NaN</td>\n",
       "      <td>Pampamarca</td>\n",
       "      <td>NaN</td>\n",
       "      <td>Pampamarca</td>\n",
       "      <td>NaN</td>\n",
       "      <td>NaN</td>\n",
       "    </tr>\n",
       "    <tr>\n",
       "      <th>2</th>\n",
       "      <td>NaN</td>\n",
       "      <td>Pampamarca</td>\n",
       "      <td>NaN</td>\n",
       "      <td>Pampamarca</td>\n",
       "      <td>NaN</td>\n",
       "      <td>NaN</td>\n",
       "    </tr>\n",
       "    <tr>\n",
       "      <th>3</th>\n",
       "      <td>NaN</td>\n",
       "      <td>NaN</td>\n",
       "      <td>NaN</td>\n",
       "      <td>NaN</td>\n",
       "      <td>NaN</td>\n",
       "      <td>NaN</td>\n",
       "    </tr>\n",
       "    <tr>\n",
       "      <th>4</th>\n",
       "      <td>NaN</td>\n",
       "      <td>NaN</td>\n",
       "      <td>NaN</td>\n",
       "      <td>NaN</td>\n",
       "      <td>NaN</td>\n",
       "      <td>NaN</td>\n",
       "    </tr>\n",
       "    <tr>\n",
       "      <th>...</th>\n",
       "      <td>...</td>\n",
       "      <td>...</td>\n",
       "      <td>...</td>\n",
       "      <td>...</td>\n",
       "      <td>...</td>\n",
       "      <td>...</td>\n",
       "    </tr>\n",
       "    <tr>\n",
       "      <th>6336</th>\n",
       "      <td>NaN</td>\n",
       "      <td>NaN</td>\n",
       "      <td>NaN</td>\n",
       "      <td>NaN</td>\n",
       "      <td>NaN</td>\n",
       "      <td>NaN</td>\n",
       "    </tr>\n",
       "    <tr>\n",
       "      <th>6337</th>\n",
       "      <td>NaN</td>\n",
       "      <td>NaN</td>\n",
       "      <td>NaN</td>\n",
       "      <td>NaN</td>\n",
       "      <td>NaN</td>\n",
       "      <td>NaN</td>\n",
       "    </tr>\n",
       "    <tr>\n",
       "      <th>6338</th>\n",
       "      <td>NaN</td>\n",
       "      <td>NaN</td>\n",
       "      <td>NaN</td>\n",
       "      <td>Mayobamba</td>\n",
       "      <td>NaN</td>\n",
       "      <td>NaN</td>\n",
       "    </tr>\n",
       "    <tr>\n",
       "      <th>6339</th>\n",
       "      <td>NaN</td>\n",
       "      <td>NaN</td>\n",
       "      <td>NaN</td>\n",
       "      <td>Huaicahuacho</td>\n",
       "      <td>NaN</td>\n",
       "      <td>NaN</td>\n",
       "    </tr>\n",
       "    <tr>\n",
       "      <th>6340</th>\n",
       "      <td>NaN</td>\n",
       "      <td>NaN</td>\n",
       "      <td>NaN</td>\n",
       "      <td>NaN</td>\n",
       "      <td>NaN</td>\n",
       "      <td>NaN</td>\n",
       "    </tr>\n",
       "  </tbody>\n",
       "</table>\n",
       "<p>6341 rows × 6 columns</p>\n",
       "</div>"
      ],
      "text/plain": [
       "     hometown baptism_place geographic_descriptor_1 geographic_descriptor_2  \\\n",
       "0         NaN    Pampamarca                     NaN              Pampamarca   \n",
       "1         NaN    Pampamarca                     NaN              Pampamarca   \n",
       "2         NaN    Pampamarca                     NaN              Pampamarca   \n",
       "3         NaN           NaN                     NaN                     NaN   \n",
       "4         NaN           NaN                     NaN                     NaN   \n",
       "...       ...           ...                     ...                     ...   \n",
       "6336      NaN           NaN                     NaN                     NaN   \n",
       "6337      NaN           NaN                     NaN                     NaN   \n",
       "6338      NaN           NaN                     NaN               Mayobamba   \n",
       "6339      NaN           NaN                     NaN            Huaicahuacho   \n",
       "6340      NaN           NaN                     NaN                     NaN   \n",
       "\n",
       "     geographic_descriptor_3 geographic_descriptor_4  \n",
       "0                        NaN                     NaN  \n",
       "1                        NaN                     NaN  \n",
       "2                        NaN                     NaN  \n",
       "3                        NaN                     NaN  \n",
       "4                        NaN                     NaN  \n",
       "...                      ...                     ...  \n",
       "6336                     NaN                     NaN  \n",
       "6337                     NaN                     NaN  \n",
       "6338                     NaN                     NaN  \n",
       "6339                     NaN                     NaN  \n",
       "6340                     NaN                     NaN  \n",
       "\n",
       "[6341 rows x 6 columns]"
      ]
     },
     "execution_count": 4,
     "metadata": {},
     "output_type": "execute_result"
    }
   ],
   "source": [
    "bautismos_place_columns = [\n",
    "    'hometown', 'baptism_place', 'geographic_descriptor_1',\n",
    "        'geographic_descriptor_2', 'geographic_descriptor_3',\n",
    "        'geographic_descriptor_4'\n",
    "]\n",
    "\n",
    "for col in bautismos_place_columns:\n",
    "    if col in BAUTISMOS_HARMONIZED.columns:\n",
    "        BAUTISMOS_HARMONIZED[col] = extractor.extract_places_per_row(BAUTISMOS_HARMONIZED[col])\n",
    "\n",
    "BAUTISMOS_HARMONIZED[bautismos_place_columns]"
   ]
  },
  {
   "cell_type": "code",
   "execution_count": 5,
   "id": "2b4d557f",
   "metadata": {},
   "outputs": [
    {
     "data": {
      "text/html": [
       "<div>\n",
       "<style scoped>\n",
       "    .dataframe tbody tr th:only-of-type {\n",
       "        vertical-align: middle;\n",
       "    }\n",
       "\n",
       "    .dataframe tbody tr th {\n",
       "        vertical-align: top;\n",
       "    }\n",
       "\n",
       "    .dataframe thead th {\n",
       "        text-align: right;\n",
       "    }\n",
       "</style>\n",
       "<table border=\"1\" class=\"dataframe\">\n",
       "  <thead>\n",
       "    <tr style=\"text-align: right;\">\n",
       "      <th></th>\n",
       "      <th>groom_hometown</th>\n",
       "      <th>groom_resident_in</th>\n",
       "      <th>bride_hometown</th>\n",
       "      <th>bride_resident_in</th>\n",
       "      <th>marriage_place</th>\n",
       "      <th>geographic_descriptor_1</th>\n",
       "      <th>geographic_descriptor_2</th>\n",
       "      <th>geographic_descriptor_3</th>\n",
       "      <th>geographic_descriptor_4</th>\n",
       "      <th>geographic_descriptor_5</th>\n",
       "      <th>geographic_descriptor_6</th>\n",
       "    </tr>\n",
       "  </thead>\n",
       "  <tbody>\n",
       "    <tr>\n",
       "      <th>0</th>\n",
       "      <td>Ciudad de Huamanga</td>\n",
       "      <td>NaN</td>\n",
       "      <td>NaN</td>\n",
       "      <td>NaN</td>\n",
       "      <td>NaN</td>\n",
       "      <td>NaN</td>\n",
       "      <td>Huamanga</td>\n",
       "      <td>NaN</td>\n",
       "      <td>NaN</td>\n",
       "      <td>NaN</td>\n",
       "      <td>NaN</td>\n",
       "    </tr>\n",
       "    <tr>\n",
       "      <th>1</th>\n",
       "      <td>NaN</td>\n",
       "      <td>NaN</td>\n",
       "      <td>NaN</td>\n",
       "      <td>NaN</td>\n",
       "      <td>NaN</td>\n",
       "      <td>NaN</td>\n",
       "      <td>Colca</td>\n",
       "      <td>NaN</td>\n",
       "      <td>NaN</td>\n",
       "      <td>NaN</td>\n",
       "      <td>NaN</td>\n",
       "    </tr>\n",
       "    <tr>\n",
       "      <th>2</th>\n",
       "      <td>Pampamarca</td>\n",
       "      <td>NaN</td>\n",
       "      <td>Pampamarca</td>\n",
       "      <td>NaN</td>\n",
       "      <td>NaN</td>\n",
       "      <td>NaN</td>\n",
       "      <td>Pampamarca</td>\n",
       "      <td>NaN</td>\n",
       "      <td>NaN</td>\n",
       "      <td>NaN</td>\n",
       "      <td>NaN</td>\n",
       "    </tr>\n",
       "    <tr>\n",
       "      <th>3</th>\n",
       "      <td>Pampamarca</td>\n",
       "      <td>NaN</td>\n",
       "      <td>Pampamarca</td>\n",
       "      <td>NaN</td>\n",
       "      <td>NaN</td>\n",
       "      <td>NaN</td>\n",
       "      <td>Pampamarca</td>\n",
       "      <td>NaN</td>\n",
       "      <td>NaN</td>\n",
       "      <td>NaN</td>\n",
       "      <td>NaN</td>\n",
       "    </tr>\n",
       "    <tr>\n",
       "      <th>4</th>\n",
       "      <td>NaN</td>\n",
       "      <td>NaN</td>\n",
       "      <td>NaN</td>\n",
       "      <td>NaN</td>\n",
       "      <td>NaN</td>\n",
       "      <td>NaN</td>\n",
       "      <td>Pampamarca</td>\n",
       "      <td>NaN</td>\n",
       "      <td>NaN</td>\n",
       "      <td>NaN</td>\n",
       "      <td>NaN</td>\n",
       "    </tr>\n",
       "    <tr>\n",
       "      <th>...</th>\n",
       "      <td>...</td>\n",
       "      <td>...</td>\n",
       "      <td>...</td>\n",
       "      <td>...</td>\n",
       "      <td>...</td>\n",
       "      <td>...</td>\n",
       "      <td>...</td>\n",
       "      <td>...</td>\n",
       "      <td>...</td>\n",
       "      <td>...</td>\n",
       "      <td>...</td>\n",
       "    </tr>\n",
       "    <tr>\n",
       "      <th>1714</th>\n",
       "      <td>Pampamarca</td>\n",
       "      <td>NaN</td>\n",
       "      <td>Pampamarca</td>\n",
       "      <td>NaN</td>\n",
       "      <td>Pampamarca</td>\n",
       "      <td>NaN</td>\n",
       "      <td>Pampamarca</td>\n",
       "      <td>NaN</td>\n",
       "      <td>NaN</td>\n",
       "      <td>NaN</td>\n",
       "      <td>NaN</td>\n",
       "    </tr>\n",
       "    <tr>\n",
       "      <th>1715</th>\n",
       "      <td>NaN</td>\n",
       "      <td>NaN</td>\n",
       "      <td>NaN</td>\n",
       "      <td>NaN</td>\n",
       "      <td>NaN</td>\n",
       "      <td>NaN</td>\n",
       "      <td>NaN</td>\n",
       "      <td>NaN</td>\n",
       "      <td>NaN</td>\n",
       "      <td>NaN</td>\n",
       "      <td>NaN</td>\n",
       "    </tr>\n",
       "    <tr>\n",
       "      <th>1716</th>\n",
       "      <td>NaN</td>\n",
       "      <td>NaN</td>\n",
       "      <td>NaN</td>\n",
       "      <td>NaN</td>\n",
       "      <td>NaN</td>\n",
       "      <td>NaN</td>\n",
       "      <td>NaN</td>\n",
       "      <td>NaN</td>\n",
       "      <td>NaN</td>\n",
       "      <td>NaN</td>\n",
       "      <td>NaN</td>\n",
       "    </tr>\n",
       "    <tr>\n",
       "      <th>1717</th>\n",
       "      <td>NaN</td>\n",
       "      <td>NaN</td>\n",
       "      <td>NaN</td>\n",
       "      <td>NaN</td>\n",
       "      <td>NaN</td>\n",
       "      <td>NaN</td>\n",
       "      <td>NaN</td>\n",
       "      <td>NaN</td>\n",
       "      <td>NaN</td>\n",
       "      <td>NaN</td>\n",
       "      <td>NaN</td>\n",
       "    </tr>\n",
       "    <tr>\n",
       "      <th>1718</th>\n",
       "      <td>Pampamarca</td>\n",
       "      <td>NaN</td>\n",
       "      <td>Pampamarca</td>\n",
       "      <td>NaN</td>\n",
       "      <td>Pampamarca</td>\n",
       "      <td>NaN</td>\n",
       "      <td>Pampamarca</td>\n",
       "      <td>NaN</td>\n",
       "      <td>NaN</td>\n",
       "      <td>NaN</td>\n",
       "      <td>NaN</td>\n",
       "    </tr>\n",
       "  </tbody>\n",
       "</table>\n",
       "<p>1719 rows × 11 columns</p>\n",
       "</div>"
      ],
      "text/plain": [
       "          groom_hometown groom_resident_in bride_hometown bride_resident_in  \\\n",
       "0     Ciudad de Huamanga               NaN            NaN               NaN   \n",
       "1                    NaN               NaN            NaN               NaN   \n",
       "2             Pampamarca               NaN     Pampamarca               NaN   \n",
       "3             Pampamarca               NaN     Pampamarca               NaN   \n",
       "4                    NaN               NaN            NaN               NaN   \n",
       "...                  ...               ...            ...               ...   \n",
       "1714          Pampamarca               NaN     Pampamarca               NaN   \n",
       "1715                 NaN               NaN            NaN               NaN   \n",
       "1716                 NaN               NaN            NaN               NaN   \n",
       "1717                 NaN               NaN            NaN               NaN   \n",
       "1718          Pampamarca               NaN     Pampamarca               NaN   \n",
       "\n",
       "     marriage_place geographic_descriptor_1 geographic_descriptor_2  \\\n",
       "0               NaN                     NaN                Huamanga   \n",
       "1               NaN                     NaN                   Colca   \n",
       "2               NaN                     NaN              Pampamarca   \n",
       "3               NaN                     NaN              Pampamarca   \n",
       "4               NaN                     NaN              Pampamarca   \n",
       "...             ...                     ...                     ...   \n",
       "1714     Pampamarca                     NaN              Pampamarca   \n",
       "1715            NaN                     NaN                     NaN   \n",
       "1716            NaN                     NaN                     NaN   \n",
       "1717            NaN                     NaN                     NaN   \n",
       "1718     Pampamarca                     NaN              Pampamarca   \n",
       "\n",
       "     geographic_descriptor_3 geographic_descriptor_4 geographic_descriptor_5  \\\n",
       "0                        NaN                     NaN                     NaN   \n",
       "1                        NaN                     NaN                     NaN   \n",
       "2                        NaN                     NaN                     NaN   \n",
       "3                        NaN                     NaN                     NaN   \n",
       "4                        NaN                     NaN                     NaN   \n",
       "...                      ...                     ...                     ...   \n",
       "1714                     NaN                     NaN                     NaN   \n",
       "1715                     NaN                     NaN                     NaN   \n",
       "1716                     NaN                     NaN                     NaN   \n",
       "1717                     NaN                     NaN                     NaN   \n",
       "1718                     NaN                     NaN                     NaN   \n",
       "\n",
       "      geographic_descriptor_6  \n",
       "0                         NaN  \n",
       "1                         NaN  \n",
       "2                         NaN  \n",
       "3                         NaN  \n",
       "4                         NaN  \n",
       "...                       ...  \n",
       "1714                      NaN  \n",
       "1715                      NaN  \n",
       "1716                      NaN  \n",
       "1717                      NaN  \n",
       "1718                      NaN  \n",
       "\n",
       "[1719 rows x 11 columns]"
      ]
     },
     "execution_count": 5,
     "metadata": {},
     "output_type": "execute_result"
    }
   ],
   "source": [
    "matrimonios_place_columns = [\n",
    "    'groom_hometown',\n",
    "       'groom_resident_in', \n",
    "       'bride_hometown', 'bride_resident_in', \n",
    "       'marriage_place', 'geographic_descriptor_1', 'geographic_descriptor_2',\n",
    "       'geographic_descriptor_3', 'geographic_descriptor_4',\n",
    "       'geographic_descriptor_5', 'geographic_descriptor_6'\n",
    "]\n",
    "\n",
    "for col in matrimonios_place_columns:\n",
    "    if col in MATRIMONIOS_HARMONIZED.columns:\n",
    "        MATRIMONIOS_HARMONIZED[col] = extractor.extract_places_per_row(MATRIMONIOS_HARMONIZED[col])\n",
    "\n",
    "MATRIMONIOS_HARMONIZED[matrimonios_place_columns]"
   ]
  },
  {
   "cell_type": "code",
   "execution_count": 6,
   "id": "c8bbe8f8",
   "metadata": {},
   "outputs": [
    {
     "data": {
      "text/html": [
       "<div>\n",
       "<style scoped>\n",
       "    .dataframe tbody tr th:only-of-type {\n",
       "        vertical-align: middle;\n",
       "    }\n",
       "\n",
       "    .dataframe tbody tr th {\n",
       "        vertical-align: top;\n",
       "    }\n",
       "\n",
       "    .dataframe thead th {\n",
       "        text-align: right;\n",
       "    }\n",
       "</style>\n",
       "<table border=\"1\" class=\"dataframe\">\n",
       "  <thead>\n",
       "    <tr style=\"text-align: right;\">\n",
       "      <th></th>\n",
       "      <th>place</th>\n",
       "      <th>hometown</th>\n",
       "      <th>burial_place</th>\n",
       "      <th>geographic_descriptor_1</th>\n",
       "      <th>geographic_descriptor_2</th>\n",
       "      <th>geographic_descriptor_3</th>\n",
       "      <th>geographic_descriptor_4</th>\n",
       "    </tr>\n",
       "  </thead>\n",
       "  <tbody>\n",
       "    <tr>\n",
       "      <th>0</th>\n",
       "      <td>NaN</td>\n",
       "      <td>NaN</td>\n",
       "      <td>NaN</td>\n",
       "      <td>NaN</td>\n",
       "      <td>Lucanas</td>\n",
       "      <td>NaN</td>\n",
       "      <td>NaN</td>\n",
       "    </tr>\n",
       "    <tr>\n",
       "      <th>1</th>\n",
       "      <td>NaN</td>\n",
       "      <td>NaN</td>\n",
       "      <td>NaN</td>\n",
       "      <td>NaN</td>\n",
       "      <td>Lucanas</td>\n",
       "      <td>NaN</td>\n",
       "      <td>NaN</td>\n",
       "    </tr>\n",
       "    <tr>\n",
       "      <th>2</th>\n",
       "      <td>NaN</td>\n",
       "      <td>NaN</td>\n",
       "      <td>NaN</td>\n",
       "      <td>NaN</td>\n",
       "      <td>Lucanas</td>\n",
       "      <td>NaN</td>\n",
       "      <td>NaN</td>\n",
       "    </tr>\n",
       "    <tr>\n",
       "      <th>3</th>\n",
       "      <td>NaN</td>\n",
       "      <td>NaN</td>\n",
       "      <td>NaN</td>\n",
       "      <td>NaN</td>\n",
       "      <td>Lucanas</td>\n",
       "      <td>NaN</td>\n",
       "      <td>NaN</td>\n",
       "    </tr>\n",
       "    <tr>\n",
       "      <th>4</th>\n",
       "      <td>NaN</td>\n",
       "      <td>NaN</td>\n",
       "      <td>NaN</td>\n",
       "      <td>NaN</td>\n",
       "      <td>Lucanas</td>\n",
       "      <td>NaN</td>\n",
       "      <td>NaN</td>\n",
       "    </tr>\n",
       "    <tr>\n",
       "      <th>...</th>\n",
       "      <td>...</td>\n",
       "      <td>...</td>\n",
       "      <td>...</td>\n",
       "      <td>...</td>\n",
       "      <td>...</td>\n",
       "      <td>...</td>\n",
       "      <td>...</td>\n",
       "    </tr>\n",
       "    <tr>\n",
       "      <th>2193</th>\n",
       "      <td>NaN</td>\n",
       "      <td>Santa Ana de Aucara</td>\n",
       "      <td>NaN</td>\n",
       "      <td>NaN</td>\n",
       "      <td>Santa Ana de Aucara</td>\n",
       "      <td>NaN</td>\n",
       "      <td>NaN</td>\n",
       "    </tr>\n",
       "    <tr>\n",
       "      <th>2194</th>\n",
       "      <td>NaN</td>\n",
       "      <td>Pampamarca</td>\n",
       "      <td>NaN</td>\n",
       "      <td>NaN</td>\n",
       "      <td>Pampamarca</td>\n",
       "      <td>NaN</td>\n",
       "      <td>NaN</td>\n",
       "    </tr>\n",
       "    <tr>\n",
       "      <th>2195</th>\n",
       "      <td>NaN</td>\n",
       "      <td>Santa Ana de Aucara</td>\n",
       "      <td>NaN</td>\n",
       "      <td>NaN</td>\n",
       "      <td>Santa Ana de Aucara</td>\n",
       "      <td>NaN</td>\n",
       "      <td>NaN</td>\n",
       "    </tr>\n",
       "    <tr>\n",
       "      <th>2196</th>\n",
       "      <td>NaN</td>\n",
       "      <td>NaN</td>\n",
       "      <td>NaN</td>\n",
       "      <td>NaN</td>\n",
       "      <td>NaN</td>\n",
       "      <td>NaN</td>\n",
       "      <td>NaN</td>\n",
       "    </tr>\n",
       "    <tr>\n",
       "      <th>2197</th>\n",
       "      <td>NaN</td>\n",
       "      <td>NaN</td>\n",
       "      <td>NaN</td>\n",
       "      <td>NaN</td>\n",
       "      <td>NaN</td>\n",
       "      <td>NaN</td>\n",
       "      <td>NaN</td>\n",
       "    </tr>\n",
       "  </tbody>\n",
       "</table>\n",
       "<p>2198 rows × 7 columns</p>\n",
       "</div>"
      ],
      "text/plain": [
       "     place             hometown burial_place  geographic_descriptor_1  \\\n",
       "0      NaN                  NaN          NaN                      NaN   \n",
       "1      NaN                  NaN          NaN                      NaN   \n",
       "2      NaN                  NaN          NaN                      NaN   \n",
       "3      NaN                  NaN          NaN                      NaN   \n",
       "4      NaN                  NaN          NaN                      NaN   \n",
       "...    ...                  ...          ...                      ...   \n",
       "2193   NaN  Santa Ana de Aucara          NaN                      NaN   \n",
       "2194   NaN           Pampamarca          NaN                      NaN   \n",
       "2195   NaN  Santa Ana de Aucara          NaN                      NaN   \n",
       "2196   NaN                  NaN          NaN                      NaN   \n",
       "2197   NaN                  NaN          NaN                      NaN   \n",
       "\n",
       "     geographic_descriptor_2 geographic_descriptor_3  geographic_descriptor_4  \n",
       "0                    Lucanas                     NaN                      NaN  \n",
       "1                    Lucanas                     NaN                      NaN  \n",
       "2                    Lucanas                     NaN                      NaN  \n",
       "3                    Lucanas                     NaN                      NaN  \n",
       "4                    Lucanas                     NaN                      NaN  \n",
       "...                      ...                     ...                      ...  \n",
       "2193     Santa Ana de Aucara                     NaN                      NaN  \n",
       "2194              Pampamarca                     NaN                      NaN  \n",
       "2195     Santa Ana de Aucara                     NaN                      NaN  \n",
       "2196                     NaN                     NaN                      NaN  \n",
       "2197                     NaN                     NaN                      NaN  \n",
       "\n",
       "[2198 rows x 7 columns]"
      ]
     },
     "execution_count": 6,
     "metadata": {},
     "output_type": "execute_result"
    }
   ],
   "source": [
    "entierros_place_columns = [\n",
    "    'place', 'hometown', 'burial_place', 'geographic_descriptor_1',\n",
    "    'geographic_descriptor_2', 'geographic_descriptor_3',\n",
    "    'geographic_descriptor_4'\n",
    "]\n",
    "\n",
    "for col in entierros_place_columns:\n",
    "    if col in ENTIERROS_HARMONIZED.columns:\n",
    "        ENTIERROS_HARMONIZED[col] = extractor.extract_places_per_row(ENTIERROS_HARMONIZED[col])\n",
    "\n",
    "ENTIERROS_HARMONIZED[entierros_place_columns]"
   ]
  },
  {
   "cell_type": "code",
   "execution_count": 7,
   "id": "322f318b",
   "metadata": {},
   "outputs": [
    {
     "name": "stdout",
     "output_type": "stream",
     "text": [
      "2025-07-29 21:02:53 - INFO - Processing 122 unique combinations instead of 122 rows (0.0% reduction in API calls)\n"
     ]
    },
    {
     "name": "stderr",
     "output_type": "stream",
     "text": [
      "Resolving unique places:   0%|          | 0/122 [00:00<?, ?it/s]"
     ]
    },
    {
     "name": "stdout",
     "output_type": "stream",
     "text": [
      "2025-07-29 21:02:53 - INFO - Trying GeoNamesQuery for 'Acobamba'\n",
      "2025-07-29 21:02:57 - INFO - [API CALL] http://api.geonames.org/searchJSON?q=Acobamba&username=jairomelo&maxRows=10&type=json&style=FULL&country=PE&featureClass=p\n",
      "2025-07-29 21:02:57 - INFO - Post-filtering GeoNames results for 'Acobamba' with language 'es'\n",
      "2025-07-29 21:02:57 - INFO - Found match: 'Acobamba' with similarity 100.0%\n",
      "2025-07-29 21:02:57 - INFO - Resolved 'Acobamba' via GeoNamesQuery: {'place': 'Acobamba', 'standardize_label': 'Acobamba', 'language': 'es', 'latitude': -12.07757, 'longitude': -74.87127, 'source': 'GeoNames', 'id': 8663907, 'uri': 'http://sws.geonames.org/8663907/', 'country_code': 'PE', 'part_of': '', 'part_of_uri': '', 'confidence': 100.0, 'threshold': 90, 'match_type': 'exact'}\n"
     ]
    },
    {
     "name": "stderr",
     "output_type": "stream",
     "text": [
      "Resolving unique places:   1%|          | 1/122 [00:03<06:26,  3.19s/it]"
     ]
    },
    {
     "name": "stdout",
     "output_type": "stream",
     "text": [
      "2025-07-29 21:02:57 - INFO - Trying GeoNamesQuery for 'Alcamenca'\n",
      "2025-07-29 21:02:58 - INFO - [API CALL] http://api.geonames.org/searchJSON?q=Alcamenca&username=jairomelo&maxRows=10&type=json&style=FULL&country=PE&featureClass=p\n",
      "2025-07-29 21:02:58 - INFO - Post-filtering GeoNames results for 'Alcamenca' with language 'es'\n",
      "2025-07-29 21:02:58 - INFO - Found match: 'Yanamito' with similarity 46.15384615384615%\n",
      "2025-07-29 21:02:58 - INFO - Post-filtering GeoNames results for 'Alcamenca' with language 'es'\n",
      "2025-07-29 21:02:58 - INFO - Found match: 'Unya' with similarity 57.14285714285714%\n",
      "2025-07-29 21:02:58 - INFO - Post-filtering GeoNames results for 'Alcamenca' with language 'es'\n",
      "2025-07-29 21:02:58 - INFO - Found match: 'Poccencha' with similarity 66.66666666666667%\n",
      "2025-07-29 21:02:58 - INFO - Trying WHGQuery for 'Alcamenca'\n",
      "2025-07-29 21:02:58 - INFO - [API CALL] https://whgazetteer.org/api/index/?name=Alcamenca&fclass=p&dataset=&ccodes=PE\n",
      "2025-07-29 21:02:58 - INFO - Finding best match for 'Alcamenca' in WHG results\n",
      "2025-07-29 21:02:58 - INFO - Trying TGNQuery for 'Alcamenca'\n",
      "2025-07-29 21:02:59 - INFO - Trying WikidataQuery for 'Alcamenca'\n",
      "2025-07-29 21:02:59 - INFO - [API CALL] https://www.wikidata.org/w/api.php?action=wbsearchentities&search=Alcamenca&language=es&format=json&type=item&limit=10\n",
      "2025-07-29 21:02:59 - INFO - [API CALL] https://www.wikidata.org/w/api.php?action=wbgetentities&ids=Q130369762%7CQ3824932&format=json&props=labels%7Cclaims\n",
      "2025-07-29 21:03:00 - INFO - [API CALL] https://www.wikidata.org/w/api.php?action=wbgetentities&ids=Q419&format=json&props=labels%7Cclaims\n",
      "2025-07-29 21:03:00 - INFO - [API CALL] https://www.wikidata.org/w/api.php?action=wbgetentities&ids=Q1947116%7CQ3824932&format=json&props=labels%7Cclaims\n",
      "2025-07-29 21:03:00 - WARNING - Could not resolve 'Alcamenca' via any service.\n"
     ]
    },
    {
     "name": "stderr",
     "output_type": "stream",
     "text": [
      "Resolving unique places:   2%|▏         | 2/122 [00:06<06:44,  3.37s/it]"
     ]
    },
    {
     "name": "stdout",
     "output_type": "stream",
     "text": [
      "2025-07-29 21:03:00 - INFO - Trying GeoNamesQuery for 'Amaicca'\n",
      "2025-07-29 21:03:00 - INFO - [API CALL] http://api.geonames.org/searchJSON?q=Amaicca&username=jairomelo&maxRows=10&type=json&style=FULL&country=PE&featureClass=p\n",
      "2025-07-29 21:03:00 - INFO - Trying WHGQuery for 'Amaicca'\n",
      "2025-07-29 21:03:01 - INFO - [API CALL] https://whgazetteer.org/api/index/?name=Amaicca&fclass=p&dataset=&ccodes=PE\n",
      "2025-07-29 21:03:01 - INFO - Finding best match for 'Amaicca' in WHG results\n",
      "2025-07-29 21:03:01 - INFO - Trying TGNQuery for 'Amaicca'\n",
      "2025-07-29 21:03:01 - INFO - Trying WikidataQuery for 'Amaicca'\n",
      "2025-07-29 21:03:02 - INFO - [API CALL] https://www.wikidata.org/w/api.php?action=wbsearchentities&search=Amaicca&language=es&format=json&type=item&limit=10\n",
      "2025-07-29 21:03:02 - WARNING - Could not resolve 'Amaicca' via any service.\n"
     ]
    },
    {
     "name": "stderr",
     "output_type": "stream",
     "text": [
      "Resolving unique places:   2%|▏         | 3/122 [00:08<05:01,  2.54s/it]"
     ]
    },
    {
     "name": "stdout",
     "output_type": "stream",
     "text": [
      "2025-07-29 21:03:02 - INFO - Trying GeoNamesQuery for 'Andamarca'\n",
      "2025-07-29 21:03:02 - INFO - [API CALL] http://api.geonames.org/searchJSON?q=Andamarca&username=jairomelo&maxRows=10&type=json&style=FULL&country=PE&featureClass=p\n",
      "2025-07-29 21:03:02 - INFO - Post-filtering GeoNames results for 'Andamarca' with language 'es'\n",
      "2025-07-29 21:03:02 - INFO - Found match: 'Andamarca' with similarity 100.0%\n",
      "2025-07-29 21:03:02 - INFO - Resolved 'Andamarca' via GeoNamesQuery: {'place': 'Andamarca', 'standardize_label': 'Andamarca', 'language': 'es', 'latitude': -15.63833, 'longitude': -70.58848, 'source': 'GeoNames', 'id': 3947725, 'uri': 'http://sws.geonames.org/3947725/', 'country_code': 'PE', 'part_of': '', 'part_of_uri': '', 'confidence': 100.0, 'threshold': 90, 'match_type': 'exact'}\n"
     ]
    },
    {
     "name": "stderr",
     "output_type": "stream",
     "text": [
      "Resolving unique places:   3%|▎         | 4/122 [00:08<03:22,  1.71s/it]"
     ]
    },
    {
     "name": "stdout",
     "output_type": "stream",
     "text": [
      "2025-07-29 21:03:02 - INFO - Trying GeoNamesQuery for 'Antay'\n",
      "2025-07-29 21:03:02 - INFO - [API CALL] http://api.geonames.org/searchJSON?q=Antay&username=jairomelo&maxRows=10&type=json&style=FULL&country=PE&featureClass=p\n",
      "2025-07-29 21:03:02 - INFO - Trying WHGQuery for 'Antay'\n",
      "2025-07-29 21:03:03 - INFO - [API CALL] https://whgazetteer.org/api/index/?name=Antay&fclass=p&dataset=&ccodes=PE\n",
      "2025-07-29 21:03:03 - INFO - Finding best match for 'Antay' in WHG results\n",
      "2025-07-29 21:03:03 - INFO - Trying TGNQuery for 'Antay'\n",
      "2025-07-29 21:03:03 - INFO - Trying WikidataQuery for 'Antay'\n",
      "2025-07-29 21:03:03 - INFO - [API CALL] https://www.wikidata.org/w/api.php?action=wbsearchentities&search=Antay&language=es&format=json&type=item&limit=10\n",
      "2025-07-29 21:03:04 - INFO - [API CALL] https://www.wikidata.org/w/api.php?action=wbgetentities&ids=Q133868505%7CQ37574665%7CQ97160355%7CQ576104%7CQ4325870%7CQ124457202%7CQ133699136%7CQ16483459%7CQ77957009%7CQ24039110&format=json&props=labels%7Cclaims\n",
      "2025-07-29 21:03:05 - INFO - [API CALL] https://www.wikidata.org/w/api.php?action=wbgetentities&ids=Q30%7CQ212%7CQ419%7CQ298&format=json&props=labels%7Cclaims\n",
      "2025-07-29 21:03:05 - INFO - [CACHE HIT] https://www.wikidata.org/w/api.php?action=wbgetentities&format=json&ids=Q3868%7CQ2893883%7CQ4507219%7CQ1948195&props=labels%7Cclaims\n",
      "2025-07-29 21:03:05 - WARNING - Could not resolve 'Antay' via any service.\n"
     ]
    },
    {
     "name": "stderr",
     "output_type": "stream",
     "text": [
      "Resolving unique places:   4%|▍         | 5/122 [00:11<04:17,  2.20s/it]"
     ]
    },
    {
     "name": "stdout",
     "output_type": "stream",
     "text": [
      "2025-07-29 21:03:05 - INFO - Trying GeoNamesQuery for 'Aralla'\n",
      "2025-07-29 21:03:06 - INFO - [API CALL] http://api.geonames.org/searchJSON?q=Aralla&username=jairomelo&maxRows=10&type=json&style=FULL&country=PE&featureClass=p\n",
      "2025-07-29 21:03:06 - INFO - Trying WHGQuery for 'Aralla'\n",
      "2025-07-29 21:03:06 - INFO - [API CALL] https://whgazetteer.org/api/index/?name=Aralla&fclass=p&dataset=&ccodes=PE\n",
      "2025-07-29 21:03:06 - INFO - Finding best match for 'Aralla' in WHG results\n",
      "2025-07-29 21:03:06 - INFO - Trying TGNQuery for 'Aralla'\n",
      "2025-07-29 21:03:06 - INFO - Trying WikidataQuery for 'Aralla'\n",
      "2025-07-29 21:03:07 - INFO - [API CALL] https://www.wikidata.org/w/api.php?action=wbsearchentities&search=Aralla&language=es&format=json&type=item&limit=10\n",
      "2025-07-29 21:03:07 - INFO - [API CALL] https://www.wikidata.org/w/api.php?action=wbgetentities&ids=Q12472367%7CQ20021325%7CQ85742583%7CQ26431540&format=json&props=labels%7Cclaims\n",
      "2025-07-29 21:03:08 - INFO - [API CALL] https://www.wikidata.org/w/api.php?action=wbgetentities&ids=Q29%7CQ145%7CQ252%7CQ43&format=json&props=labels%7Cclaims\n",
      "2025-07-29 21:03:08 - INFO - [CACHE HIT] https://www.wikidata.org/w/api.php?action=wbgetentities&format=json&ids=Q1607678%7CQ7593036%7CQ4194832&props=labels%7Cclaims\n",
      "2025-07-29 21:03:08 - WARNING - Could not resolve 'Aralla' via any service.\n"
     ]
    },
    {
     "name": "stderr",
     "output_type": "stream",
     "text": [
      "Resolving unique places:   5%|▍         | 6/122 [00:15<04:57,  2.56s/it]"
     ]
    },
    {
     "name": "stdout",
     "output_type": "stream",
     "text": [
      "2025-07-29 21:03:08 - INFO - Trying GeoNamesQuery for 'Aucara'\n",
      "2025-07-29 21:03:09 - INFO - [API CALL] http://api.geonames.org/searchJSON?q=Aucara&username=jairomelo&maxRows=10&type=json&style=FULL&country=PE&featureClass=p\n",
      "2025-07-29 21:03:09 - INFO - Post-filtering GeoNames results for 'Aucara' with language 'es'\n",
      "2025-07-29 21:03:09 - INFO - Found match: 'Huaycahuaycho' with similarity 50.0%\n",
      "2025-07-29 21:03:09 - INFO - Post-filtering GeoNames results for 'Aucara' with language 'es'\n",
      "2025-07-29 21:03:09 - INFO - Found match: 'Queca' with similarity 66.66666666666667%\n",
      "2025-07-29 21:03:09 - INFO - Post-filtering GeoNames results for 'Aucara' with language 'es'\n",
      "2025-07-29 21:03:09 - INFO - Found match: 'Aucará' with similarity 90.9090909090909%\n",
      "2025-07-29 21:03:09 - INFO - Resolved 'Aucara' via GeoNamesQuery: {'place': 'Aucara', 'standardize_label': 'Aucará', 'language': 'es', 'latitude': -14.25, 'longitude': -74.08333, 'source': 'GeoNames', 'id': 3947087, 'uri': 'http://sws.geonames.org/3947087/', 'country_code': 'PE', 'part_of': '', 'part_of_uri': '', 'confidence': 90.9090909090909, 'threshold': 90, 'match_type': 'fuzzy'}\n"
     ]
    },
    {
     "name": "stderr",
     "output_type": "stream",
     "text": [
      "Resolving unique places:   6%|▌         | 7/122 [00:15<03:34,  1.87s/it]"
     ]
    },
    {
     "name": "stdout",
     "output_type": "stream",
     "text": [
      "2025-07-29 21:03:09 - INFO - Trying GeoNamesQuery for 'Aucara Barrio de Mayo'\n",
      "2025-07-29 21:03:09 - INFO - [API CALL] http://api.geonames.org/searchJSON?q=Aucara+Barrio+de+Mayo&username=jairomelo&maxRows=10&type=json&style=FULL&country=PE&featureClass=p\n",
      "2025-07-29 21:03:09 - INFO - Trying WHGQuery for 'Aucara Barrio de Mayo'\n",
      "2025-07-29 21:03:10 - INFO - [API CALL] https://whgazetteer.org/api/index/?name=Aucara%20Barrio%20de%20Mayo&fclass=p&dataset=&ccodes=PE\n",
      "2025-07-29 21:03:10 - INFO - Finding best match for 'Aucara Barrio de Mayo' in WHG results\n",
      "2025-07-29 21:03:10 - INFO - Trying TGNQuery for 'Aucara Barrio de Mayo'\n",
      "2025-07-29 21:03:11 - INFO - Trying WikidataQuery for 'Aucara Barrio de Mayo'\n",
      "2025-07-29 21:03:12 - INFO - [API CALL] https://www.wikidata.org/w/api.php?action=wbsearchentities&search=Aucara+Barrio+de+Mayo&language=es&format=json&type=item&limit=10\n",
      "2025-07-29 21:03:12 - WARNING - Could not resolve 'Aucara Barrio de Mayo' via any service.\n"
     ]
    },
    {
     "name": "stderr",
     "output_type": "stream",
     "text": [
      "Resolving unique places:   7%|▋         | 8/122 [00:18<04:09,  2.19s/it]"
     ]
    },
    {
     "name": "stdout",
     "output_type": "stream",
     "text": [
      "2025-07-29 21:03:12 - INFO - Trying GeoNamesQuery for 'Aucara Cabana'\n",
      "2025-07-29 21:03:12 - INFO - [API CALL] http://api.geonames.org/searchJSON?q=Aucara+Cabana&username=jairomelo&maxRows=10&type=json&style=FULL&country=PE&featureClass=p\n",
      "2025-07-29 21:03:12 - INFO - Trying WHGQuery for 'Aucara Cabana'\n",
      "2025-07-29 21:03:13 - INFO - [API CALL] https://whgazetteer.org/api/index/?name=Aucara%20Cabana&fclass=p&dataset=&ccodes=PE\n",
      "2025-07-29 21:03:13 - INFO - Finding best match for 'Aucara Cabana' in WHG results\n",
      "2025-07-29 21:03:13 - INFO - Trying TGNQuery for 'Aucara Cabana'\n",
      "2025-07-29 21:03:13 - INFO - Trying WikidataQuery for 'Aucara Cabana'\n",
      "2025-07-29 21:03:13 - INFO - [API CALL] https://www.wikidata.org/w/api.php?action=wbsearchentities&search=Aucara+Cabana&language=es&format=json&type=item&limit=10\n",
      "2025-07-29 21:03:13 - WARNING - Could not resolve 'Aucara Cabana' via any service.\n"
     ]
    },
    {
     "name": "stderr",
     "output_type": "stream",
     "text": [
      "Resolving unique places:   7%|▋         | 9/122 [00:19<03:40,  1.96s/it]"
     ]
    },
    {
     "name": "stdout",
     "output_type": "stream",
     "text": [
      "2025-07-29 21:03:13 - INFO - Trying GeoNamesQuery for 'Aucara Caserio de Visvicha'\n",
      "2025-07-29 21:03:14 - INFO - [API CALL] http://api.geonames.org/searchJSON?q=Aucara+Caserio+de+Visvicha&username=jairomelo&maxRows=10&type=json&style=FULL&country=PE&featureClass=p\n",
      "2025-07-29 21:03:14 - INFO - Trying WHGQuery for 'Aucara Caserio de Visvicha'\n",
      "2025-07-29 21:03:14 - INFO - [API CALL] https://whgazetteer.org/api/index/?name=Aucara%20Caserio%20de%20Visvicha&fclass=p&dataset=&ccodes=PE\n",
      "2025-07-29 21:03:14 - INFO - Finding best match for 'Aucara Caserio de Visvicha' in WHG results\n",
      "2025-07-29 21:03:14 - INFO - Trying TGNQuery for 'Aucara Caserio de Visvicha'\n",
      "2025-07-29 21:03:16 - INFO - Trying WikidataQuery for 'Aucara Caserio de Visvicha'\n",
      "2025-07-29 21:03:16 - INFO - [API CALL] https://www.wikidata.org/w/api.php?action=wbsearchentities&search=Aucara+Caserio+de+Visvicha&language=es&format=json&type=item&limit=10\n",
      "2025-07-29 21:03:16 - WARNING - Could not resolve 'Aucara Caserio de Visvicha' via any service.\n"
     ]
    },
    {
     "name": "stderr",
     "output_type": "stream",
     "text": [
      "Resolving unique places:   8%|▊         | 10/122 [00:22<04:08,  2.22s/it]"
     ]
    },
    {
     "name": "stdout",
     "output_type": "stream",
     "text": [
      "2025-07-29 21:03:16 - INFO - Trying GeoNamesQuery for 'Aucara Estancia de Chapa'\n",
      "2025-07-29 21:03:16 - INFO - [API CALL] http://api.geonames.org/searchJSON?q=Aucara+Estancia+de+Chapa&username=jairomelo&maxRows=10&type=json&style=FULL&country=PE&featureClass=p\n",
      "2025-07-29 21:03:16 - INFO - Trying WHGQuery for 'Aucara Estancia de Chapa'\n",
      "2025-07-29 21:03:17 - INFO - [API CALL] https://whgazetteer.org/api/index/?name=Aucara%20Estancia%20de%20Chapa&fclass=p&dataset=&ccodes=PE\n",
      "2025-07-29 21:03:17 - INFO - Finding best match for 'Aucara Estancia de Chapa' in WHG results\n",
      "2025-07-29 21:03:17 - INFO - Trying TGNQuery for 'Aucara Estancia de Chapa'\n",
      "2025-07-29 21:03:19 - INFO - Trying WikidataQuery for 'Aucara Estancia de Chapa'\n",
      "2025-07-29 21:03:19 - INFO - [API CALL] https://www.wikidata.org/w/api.php?action=wbsearchentities&search=Aucara+Estancia+de+Chapa&language=es&format=json&type=item&limit=10\n",
      "2025-07-29 21:03:19 - WARNING - Could not resolve 'Aucara Estancia de Chapa' via any service.\n"
     ]
    },
    {
     "name": "stderr",
     "output_type": "stream",
     "text": [
      "Resolving unique places:   9%|▉         | 11/122 [00:25<04:26,  2.40s/it]"
     ]
    },
    {
     "name": "stdout",
     "output_type": "stream",
     "text": [
      "2025-07-29 21:03:19 - INFO - Trying GeoNamesQuery for 'Aucara Huaycahuacho'\n",
      "2025-07-29 21:03:19 - INFO - [API CALL] http://api.geonames.org/searchJSON?q=Aucara+Huaycahuacho&username=jairomelo&maxRows=10&type=json&style=FULL&country=PE&featureClass=p\n",
      "2025-07-29 21:03:19 - INFO - Post-filtering GeoNames results for 'Aucara Huaycahuacho' with language 'es'\n",
      "2025-07-29 21:03:19 - INFO - Resolved 'Aucara Huaycahuacho' via GeoNamesQuery: {'place': 'Aucara Huaycahuacho', 'standardize_label': 'Huaycahuaycho', 'language': 'es', 'latitude': -14.15, 'longitude': -74.01667, 'source': 'GeoNames', 'id': 3939003, 'uri': 'http://sws.geonames.org/3939003/', 'country_code': 'PE', 'part_of': '', 'part_of_uri': '', 'confidence': 100, 'threshold': 90, 'match_type': 'exact'}\n"
     ]
    },
    {
     "name": "stderr",
     "output_type": "stream",
     "text": [
      "Resolving unique places:  10%|▉         | 12/122 [00:25<03:16,  1.79s/it]"
     ]
    },
    {
     "name": "stdout",
     "output_type": "stream",
     "text": [
      "2025-07-29 21:03:19 - INFO - Trying GeoNamesQuery for 'Aucará'\n",
      "2025-07-29 21:03:20 - INFO - [API CALL] http://api.geonames.org/searchJSON?q=Aucar%C3%A1&username=jairomelo&maxRows=10&type=json&style=FULL&country=PE&featureClass=p\n",
      "2025-07-29 21:03:20 - INFO - Post-filtering GeoNames results for 'Aucará' with language 'es'\n",
      "2025-07-29 21:03:20 - INFO - Found match: 'Huaycahuaycho' with similarity 50.0%\n",
      "2025-07-29 21:03:20 - INFO - Post-filtering GeoNames results for 'Aucará' with language 'es'\n",
      "2025-07-29 21:03:20 - INFO - Found match: 'Queca' with similarity 66.66666666666667%\n",
      "2025-07-29 21:03:20 - INFO - Post-filtering GeoNames results for 'Aucará' with language 'es'\n",
      "2025-07-29 21:03:20 - INFO - Found match: 'Aucará' with similarity 100.0%\n",
      "2025-07-29 21:03:20 - INFO - Resolved 'Aucará' via GeoNamesQuery: {'place': 'Aucará', 'standardize_label': 'Aucará', 'language': 'es', 'latitude': -14.25, 'longitude': -74.08333, 'source': 'GeoNames', 'id': 3947087, 'uri': 'http://sws.geonames.org/3947087/', 'country_code': 'PE', 'part_of': '', 'part_of_uri': '', 'confidence': 100.0, 'threshold': 90, 'match_type': 'exact'}\n"
     ]
    },
    {
     "name": "stderr",
     "output_type": "stream",
     "text": [
      "Resolving unique places:  11%|█         | 13/122 [00:26<02:28,  1.37s/it]"
     ]
    },
    {
     "name": "stdout",
     "output_type": "stream",
     "text": [
      "2025-07-29 21:03:20 - INFO - Trying GeoNamesQuery for 'Ayacucho'\n",
      "2025-07-29 21:03:20 - INFO - [API CALL] http://api.geonames.org/searchJSON?q=Ayacucho&username=jairomelo&maxRows=10&type=json&style=FULL&country=PE&featureClass=p\n",
      "2025-07-29 21:03:20 - INFO - Post-filtering GeoNames results for 'Ayacucho' with language 'es'\n",
      "2025-07-29 21:03:20 - INFO - Found match: 'Ayacucho' with similarity 100.0%\n",
      "2025-07-29 21:03:20 - INFO - Resolved 'Ayacucho' via GeoNamesQuery: {'place': 'Ayacucho', 'standardize_label': 'Ayacucho', 'language': 'es', 'latitude': -13.1638, 'longitude': -74.22345, 'source': 'GeoNames', 'id': 3947019, 'uri': 'http://sws.geonames.org/3947019/', 'country_code': 'PE', 'part_of': '', 'part_of_uri': '', 'confidence': 100.0, 'threshold': 90, 'match_type': 'exact'}\n"
     ]
    },
    {
     "name": "stderr",
     "output_type": "stream",
     "text": [
      "Resolving unique places:  11%|█▏        | 14/122 [00:26<01:57,  1.08s/it]"
     ]
    },
    {
     "name": "stdout",
     "output_type": "stream",
     "text": [
      "2025-07-29 21:03:20 - INFO - Trying GeoNamesQuery for 'Ayacuchoi'\n",
      "2025-07-29 21:03:20 - INFO - [API CALL] http://api.geonames.org/searchJSON?q=Ayacuchoi&username=jairomelo&maxRows=10&type=json&style=FULL&country=PE&featureClass=p\n",
      "2025-07-29 21:03:20 - INFO - Trying WHGQuery for 'Ayacuchoi'\n",
      "2025-07-29 21:03:21 - INFO - [API CALL] https://whgazetteer.org/api/index/?name=Ayacuchoi&fclass=p&dataset=&ccodes=PE\n",
      "2025-07-29 21:03:21 - INFO - Finding best match for 'Ayacuchoi' in WHG results\n",
      "2025-07-29 21:03:21 - INFO - Trying TGNQuery for 'Ayacuchoi'\n",
      "2025-07-29 21:03:21 - INFO - Trying WikidataQuery for 'Ayacuchoi'\n",
      "2025-07-29 21:03:21 - INFO - [API CALL] https://www.wikidata.org/w/api.php?action=wbsearchentities&search=Ayacuchoi&language=es&format=json&type=item&limit=10\n",
      "2025-07-29 21:03:22 - INFO - [API CALL] https://www.wikidata.org/w/api.php?action=wbgetentities&ids=Q1364036%7CQ56451273&format=json&props=labels%7Cclaims\n",
      "2025-07-29 21:03:22 - INFO - [CACHE HIT] https://www.wikidata.org/w/api.php?action=wbgetentities&format=json&ids=Q419&props=labels%7Cclaims\n",
      "2025-07-29 21:03:22 - INFO - [API CALL] https://www.wikidata.org/w/api.php?action=wbgetentities&ids=Q504215&format=json&props=labels%7Cclaims\n",
      "2025-07-29 21:03:22 - WARNING - Could not resolve 'Ayacuchoi' via any service.\n"
     ]
    },
    {
     "name": "stderr",
     "output_type": "stream",
     "text": [
      "Resolving unique places:  12%|█▏        | 15/122 [00:28<02:24,  1.35s/it]"
     ]
    },
    {
     "name": "stdout",
     "output_type": "stream",
     "text": [
      "2025-07-29 21:03:22 - INFO - Trying GeoNamesQuery for 'Barrio de Mayo'\n",
      "2025-07-29 21:03:22 - INFO - [API CALL] http://api.geonames.org/searchJSON?q=Barrio+de+Mayo&username=jairomelo&maxRows=10&type=json&style=FULL&country=PE&featureClass=p\n",
      "2025-07-29 21:03:22 - INFO - Trying WHGQuery for 'Barrio de Mayo'\n",
      "2025-07-29 21:03:23 - INFO - [API CALL] https://whgazetteer.org/api/index/?name=Barrio%20de%20Mayo&fclass=p&dataset=&ccodes=PE\n",
      "2025-07-29 21:03:23 - INFO - Finding best match for 'Barrio de Mayo' in WHG results\n",
      "2025-07-29 21:03:23 - INFO - Trying TGNQuery for 'Barrio de Mayo'\n",
      "2025-07-29 21:03:24 - INFO - Trying WikidataQuery for 'Barrio de Mayo'\n",
      "2025-07-29 21:03:25 - INFO - [API CALL] https://www.wikidata.org/w/api.php?action=wbsearchentities&search=Barrio+de+Mayo&language=es&format=json&type=item&limit=10\n",
      "2025-07-29 21:03:25 - WARNING - Could not resolve 'Barrio de Mayo' via any service.\n"
     ]
    },
    {
     "name": "stderr",
     "output_type": "stream",
     "text": [
      "Resolving unique places:  13%|█▎        | 16/122 [00:31<03:09,  1.78s/it]"
     ]
    },
    {
     "name": "stdout",
     "output_type": "stream",
     "text": [
      "2025-07-29 21:03:25 - INFO - Trying GeoNamesQuery for 'Cabana'\n",
      "2025-07-29 21:03:25 - INFO - [API CALL] http://api.geonames.org/searchJSON?q=Cabana&username=jairomelo&maxRows=10&type=json&style=FULL&country=PE&featureClass=p\n",
      "2025-07-29 21:03:25 - INFO - Post-filtering GeoNames results for 'Cabana' with language 'es'\n",
      "2025-07-29 21:03:25 - INFO - Found match: 'Cabana' with similarity 100.0%\n",
      "2025-07-29 21:03:25 - INFO - Resolved 'Cabana' via GeoNamesQuery: {'place': 'Cabana', 'standardize_label': 'Cabana', 'language': 'es', 'latitude': -8.4, 'longitude': -78.03333, 'source': 'GeoNames', 'id': 3699185, 'uri': 'http://sws.geonames.org/3699185/', 'country_code': 'PE', 'part_of': '', 'part_of_uri': '', 'confidence': 100.0, 'threshold': 90, 'match_type': 'exact'}\n"
     ]
    },
    {
     "name": "stderr",
     "output_type": "stream",
     "text": [
      "Resolving unique places:  14%|█▍        | 17/122 [00:31<02:26,  1.39s/it]"
     ]
    },
    {
     "name": "stdout",
     "output_type": "stream",
     "text": [
      "2025-07-29 21:03:25 - INFO - Trying GeoNamesQuery for 'Canaria'\n",
      "2025-07-29 21:03:26 - INFO - [API CALL] http://api.geonames.org/searchJSON?q=Canaria&username=jairomelo&maxRows=10&type=json&style=FULL&country=PE&featureClass=p\n",
      "2025-07-29 21:03:26 - INFO - Post-filtering GeoNames results for 'Canaria' with language 'es'\n",
      "2025-07-29 21:03:26 - INFO - Found match: 'Marcolla' with similarity 42.85714285714286%\n",
      "2025-07-29 21:03:26 - INFO - Post-filtering GeoNames results for 'Canaria' with language 'es'\n",
      "2025-07-29 21:03:26 - INFO - Found match: 'Sallani' with similarity 60.0%\n",
      "2025-07-29 21:03:26 - INFO - Post-filtering GeoNames results for 'Canaria' with language 'es'\n",
      "2025-07-29 21:03:26 - INFO - Found match: 'Canaria' with similarity 100.0%\n",
      "2025-07-29 21:03:26 - INFO - Resolved 'Canaria' via GeoNamesQuery: {'place': 'Canaria', 'standardize_label': 'Canaria', 'language': 'es', 'latitude': -13.81667, 'longitude': -73.86667, 'source': 'GeoNames', 'id': 3945879, 'uri': 'http://sws.geonames.org/3945879/', 'country_code': 'PE', 'part_of': '', 'part_of_uri': '', 'confidence': 100.0, 'threshold': 90, 'match_type': 'exact'}\n"
     ]
    },
    {
     "name": "stderr",
     "output_type": "stream",
     "text": [
      "Resolving unique places:  15%|█▍        | 18/122 [00:32<01:57,  1.13s/it]"
     ]
    },
    {
     "name": "stdout",
     "output_type": "stream",
     "text": [
      "2025-07-29 21:03:26 - INFO - Trying GeoNamesQuery for 'Cangallo'\n",
      "2025-07-29 21:03:26 - INFO - [API CALL] http://api.geonames.org/searchJSON?q=Cangallo&username=jairomelo&maxRows=10&type=json&style=FULL&country=PE&featureClass=p\n",
      "2025-07-29 21:03:26 - INFO - Post-filtering GeoNames results for 'Cangallo' with language 'es'\n",
      "2025-07-29 21:03:26 - INFO - Found match: 'Cangallo' with similarity 100.0%\n",
      "2025-07-29 21:03:26 - INFO - Resolved 'Cangallo' via GeoNamesQuery: {'place': 'Cangallo', 'standardize_label': 'Cangallo', 'language': 'es', 'latitude': -13.62861, 'longitude': -74.14389, 'source': 'GeoNames', 'id': 3945793, 'uri': 'http://sws.geonames.org/3945793/', 'country_code': 'PE', 'part_of': '', 'part_of_uri': '', 'confidence': 100.0, 'threshold': 90, 'match_type': 'exact'}\n"
     ]
    },
    {
     "name": "stderr",
     "output_type": "stream",
     "text": [
      "Resolving unique places:  16%|█▌        | 19/122 [00:32<01:34,  1.09it/s]"
     ]
    },
    {
     "name": "stdout",
     "output_type": "stream",
     "text": [
      "2025-07-29 21:03:26 - INFO - Trying GeoNamesQuery for 'Caralla'\n",
      "2025-07-29 21:03:27 - INFO - [API CALL] http://api.geonames.org/searchJSON?q=Caralla&username=jairomelo&maxRows=10&type=json&style=FULL&country=PE&featureClass=p\n",
      "2025-07-29 21:03:27 - INFO - Post-filtering GeoNames results for 'Caralla' with language 'es'\n",
      "2025-07-29 21:03:27 - INFO - Resolved 'Caralla' via GeoNamesQuery: {'place': 'Caralla', 'standardize_label': 'Caralla', 'language': 'es', 'latitude': -15.29535, 'longitude': -71.56692, 'source': 'GeoNames', 'id': 3955233, 'uri': 'http://sws.geonames.org/3955233/', 'country_code': 'PE', 'part_of': '', 'part_of_uri': '', 'confidence': 100, 'threshold': 90, 'match_type': 'exact'}\n"
     ]
    },
    {
     "name": "stderr",
     "output_type": "stream",
     "text": [
      "Resolving unique places:  16%|█▋        | 20/122 [00:33<01:18,  1.30it/s]"
     ]
    },
    {
     "name": "stdout",
     "output_type": "stream",
     "text": [
      "2025-07-29 21:03:27 - INFO - Trying GeoNamesQuery for 'Carmen Alto'\n",
      "2025-07-29 21:03:27 - INFO - [API CALL] http://api.geonames.org/searchJSON?q=Carmen+Alto&username=jairomelo&maxRows=10&type=json&style=FULL&country=PE&featureClass=p\n",
      "2025-07-29 21:03:27 - INFO - Post-filtering GeoNames results for 'Carmen Alto' with language 'es'\n",
      "2025-07-29 21:03:27 - INFO - Found match: 'Yanama' with similarity 40.0%\n",
      "2025-07-29 21:03:27 - INFO - Post-filtering GeoNames results for 'Carmen Alto' with language 'es'\n",
      "2025-07-29 21:03:27 - INFO - Found match: 'Campanayocc' with similarity 60.0%\n",
      "2025-07-29 21:03:27 - INFO - Post-filtering GeoNames results for 'Carmen Alto' with language 'es'\n",
      "2025-07-29 21:03:27 - INFO - Found match: 'Carmen Alto' with similarity 100.0%\n",
      "2025-07-29 21:03:27 - INFO - Resolved 'Carmen Alto' via GeoNamesQuery: {'place': 'Carmen Alto', 'standardize_label': 'Carmen Alto', 'language': 'es', 'latitude': -14.70031, 'longitude': -70.5173, 'source': 'GeoNames', 'id': 13318788, 'uri': 'http://sws.geonames.org/13318788/', 'country_code': 'PE', 'part_of': '', 'part_of_uri': '', 'confidence': 100.0, 'threshold': 90, 'match_type': 'exact'}\n"
     ]
    },
    {
     "name": "stderr",
     "output_type": "stream",
     "text": [
      "Resolving unique places:  17%|█▋        | 21/122 [00:33<01:14,  1.35it/s]"
     ]
    },
    {
     "name": "stdout",
     "output_type": "stream",
     "text": [
      "2025-07-29 21:03:27 - INFO - Trying GeoNamesQuery for 'Castilla'\n",
      "2025-07-29 21:03:28 - INFO - [API CALL] http://api.geonames.org/searchJSON?q=Castilla&username=jairomelo&maxRows=10&type=json&style=FULL&country=PE&featureClass=p\n",
      "2025-07-29 21:03:28 - INFO - Post-filtering GeoNames results for 'Castilla' with language 'es'\n",
      "2025-07-29 21:03:28 - INFO - Found match: 'Santa Rosa de Yavarí' with similarity 46.15384615384615%\n",
      "2025-07-29 21:03:28 - INFO - Post-filtering GeoNames results for 'Castilla' with language 'es'\n",
      "2025-07-29 21:03:28 - INFO - Found match: 'Castilla Puquio' with similarity 100.0%\n",
      "2025-07-29 21:03:28 - INFO - Resolved 'Castilla' via GeoNamesQuery: {'place': 'Castilla', 'standardize_label': 'Castilla Puquio', 'language': 'es', 'latitude': -15.90016, 'longitude': -70.59152, 'source': 'GeoNames', 'id': 3945238, 'uri': 'http://sws.geonames.org/3945238/', 'country_code': 'PE', 'part_of': '', 'part_of_uri': '', 'confidence': 100.0, 'threshold': 90, 'match_type': 'exact'}\n"
     ]
    },
    {
     "name": "stderr",
     "output_type": "stream",
     "text": [
      "Resolving unique places:  18%|█▊        | 22/122 [00:34<01:04,  1.54it/s]"
     ]
    },
    {
     "name": "stdout",
     "output_type": "stream",
     "text": [
      "2025-07-29 21:03:28 - INFO - Trying GeoNamesQuery for 'Cayara'\n",
      "2025-07-29 21:03:28 - INFO - [API CALL] http://api.geonames.org/searchJSON?q=Cayara&username=jairomelo&maxRows=10&type=json&style=FULL&country=PE&featureClass=p\n",
      "2025-07-29 21:03:28 - INFO - Post-filtering GeoNames results for 'Cayara' with language 'es'\n",
      "2025-07-29 21:03:28 - INFO - Found match: 'Mayopampa' with similarity 53.333333333333336%\n",
      "2025-07-29 21:03:28 - INFO - Post-filtering GeoNames results for 'Cayara' with language 'es'\n",
      "2025-07-29 21:03:28 - INFO - Found match: 'Cayara' with similarity 100.0%\n",
      "2025-07-29 21:03:28 - INFO - Resolved 'Cayara' via GeoNamesQuery: {'place': 'Cayara', 'standardize_label': 'Cayara', 'language': 'es', 'latitude': -15.31836, 'longitude': -73.55003, 'source': 'GeoNames', 'id': 3945148, 'uri': 'http://sws.geonames.org/3945148/', 'country_code': 'PE', 'part_of': '', 'part_of_uri': '', 'confidence': 100.0, 'threshold': 90, 'match_type': 'exact'}\n"
     ]
    },
    {
     "name": "stderr",
     "output_type": "stream",
     "text": [
      "Resolving unique places:  19%|█▉        | 23/122 [00:34<00:58,  1.69it/s]"
     ]
    },
    {
     "name": "stdout",
     "output_type": "stream",
     "text": [
      "2025-07-29 21:03:28 - INFO - Trying GeoNamesQuery for 'Ccecca'\n",
      "2025-07-29 21:03:29 - INFO - [API CALL] http://api.geonames.org/searchJSON?q=Ccecca&username=jairomelo&maxRows=10&type=json&style=FULL&country=PE&featureClass=p\n",
      "2025-07-29 21:03:29 - INFO - Trying WHGQuery for 'Ccecca'\n",
      "2025-07-29 21:03:29 - INFO - [API CALL] https://whgazetteer.org/api/index/?name=Ccecca&fclass=p&dataset=&ccodes=PE\n",
      "2025-07-29 21:03:29 - INFO - Finding best match for 'Ccecca' in WHG results\n",
      "2025-07-29 21:03:29 - INFO - Trying TGNQuery for 'Ccecca'\n",
      "2025-07-29 21:03:29 - INFO - Trying WikidataQuery for 'Ccecca'\n",
      "2025-07-29 21:03:30 - INFO - [API CALL] https://www.wikidata.org/w/api.php?action=wbsearchentities&search=Ccecca&language=es&format=json&type=item&limit=10\n",
      "2025-07-29 21:03:30 - WARNING - Could not resolve 'Ccecca' via any service.\n"
     ]
    },
    {
     "name": "stderr",
     "output_type": "stream",
     "text": [
      "Resolving unique places:  20%|█▉        | 24/122 [00:36<01:22,  1.18it/s]"
     ]
    },
    {
     "name": "stdout",
     "output_type": "stream",
     "text": [
      "2025-07-29 21:03:30 - INFO - Trying GeoNamesQuery for 'Cecca'\n",
      "2025-07-29 21:03:30 - INFO - [API CALL] http://api.geonames.org/searchJSON?q=Cecca&username=jairomelo&maxRows=10&type=json&style=FULL&country=PE&featureClass=p\n",
      "2025-07-29 21:03:30 - INFO - Trying WHGQuery for 'Cecca'\n",
      "2025-07-29 21:03:30 - INFO - [API CALL] https://whgazetteer.org/api/index/?name=Cecca&fclass=p&dataset=&ccodes=PE\n",
      "2025-07-29 21:03:30 - INFO - Finding best match for 'Cecca' in WHG results\n",
      "2025-07-29 21:03:30 - INFO - Trying TGNQuery for 'Cecca'\n",
      "2025-07-29 21:03:31 - INFO - Trying WikidataQuery for 'Cecca'\n",
      "2025-07-29 21:03:31 - INFO - [API CALL] https://www.wikidata.org/w/api.php?action=wbsearchentities&search=Cecca&language=es&format=json&type=item&limit=10\n",
      "2025-07-29 21:03:31 - INFO - [API CALL] https://www.wikidata.org/w/api.php?action=wbgetentities&ids=Q99980969%7CQ104622513%7CQ116706%7CQ21492854%7CQ21492851%7CQ42951378%7CQ37537803%7CQ5055858%7CQ775270%7CQ100251138&format=json&props=labels%7Cclaims\n",
      "2025-07-29 21:03:32 - INFO - [API CALL] https://www.wikidata.org/w/api.php?action=wbgetentities&ids=Q38&format=json&props=labels%7Cclaims\n",
      "2025-07-29 21:03:32 - INFO - [API CALL] https://www.wikidata.org/w/api.php?action=wbgetentities&ids=Q16181&format=json&props=labels%7Cclaims\n",
      "2025-07-29 21:03:32 - WARNING - Could not resolve 'Cecca' via any service.\n"
     ]
    },
    {
     "name": "stderr",
     "output_type": "stream",
     "text": [
      "Resolving unique places:  20%|██        | 25/122 [00:38<02:17,  1.42s/it]"
     ]
    },
    {
     "name": "stdout",
     "output_type": "stream",
     "text": [
      "2025-07-29 21:03:32 - INFO - Trying GeoNamesQuery for 'Cementerio General'\n",
      "2025-07-29 21:03:33 - INFO - [API CALL] http://api.geonames.org/searchJSON?q=Cementerio+General&username=jairomelo&maxRows=10&type=json&style=FULL&country=PE&featureClass=p\n",
      "2025-07-29 21:03:33 - INFO - Trying WHGQuery for 'Cementerio General'\n",
      "2025-07-29 21:03:33 - INFO - [API CALL] https://whgazetteer.org/api/index/?name=Cementerio%20General&fclass=p&dataset=&ccodes=PE\n",
      "2025-07-29 21:03:33 - INFO - Finding best match for 'Cementerio General' in WHG results\n",
      "2025-07-29 21:03:33 - INFO - Trying TGNQuery for 'Cementerio General'\n",
      "2025-07-29 21:03:34 - INFO - Trying WikidataQuery for 'Cementerio General'\n",
      "2025-07-29 21:03:34 - INFO - [API CALL] https://www.wikidata.org/w/api.php?action=wbsearchentities&search=Cementerio+General&language=es&format=json&type=item&limit=10\n",
      "2025-07-29 21:03:34 - INFO - [API CALL] https://www.wikidata.org/w/api.php?action=wbgetentities&ids=Q16302532%7CQ5531759%7CQ1053309%7CQ102149416%7CQ3776989%7CQ17624754%7CQ1811243%7CQ56285737%7CQ19915001%7CQ16490571&format=json&props=labels%7Cclaims\n",
      "2025-07-29 21:03:36 - INFO - [API CALL] https://www.wikidata.org/w/api.php?action=wbgetentities&ids=Q750%7CQ419%7CQ736%7CQ55%7CQ298%7CQ774%7CQ29&format=json&props=labels%7Cclaims\n",
      "2025-07-29 21:03:37 - INFO - [API CALL] https://www.wikidata.org/w/api.php?action=wbgetentities&ids=Q1491%7CQ335464%7CQ36600%7CQ1555%7CQ3393002%7CQ3031413%7CQ23659675%7CQ56117%7CQ1770480&format=json&props=labels%7Cclaims\n",
      "2025-07-29 21:03:37 - WARNING - Could not resolve 'Cementerio General' via any service.\n"
     ]
    },
    {
     "name": "stderr",
     "output_type": "stream",
     "text": [
      "Resolving unique places:  21%|██▏       | 26/122 [00:43<03:37,  2.27s/it]"
     ]
    },
    {
     "name": "stdout",
     "output_type": "stream",
     "text": [
      "2025-07-29 21:03:37 - INFO - Trying GeoNamesQuery for 'Cementerio General de Aucará'\n",
      "2025-07-29 21:03:37 - INFO - [API CALL] http://api.geonames.org/searchJSON?q=Cementerio+General+de+Aucar%C3%A1&username=jairomelo&maxRows=10&type=json&style=FULL&country=PE&featureClass=p\n",
      "2025-07-29 21:03:37 - INFO - Trying WHGQuery for 'Cementerio General de Aucará'\n",
      "2025-07-29 21:03:38 - INFO - [API CALL] https://whgazetteer.org/api/index/?name=Cementerio%20General%20de%20Aucar%C3%A1&fclass=p&dataset=&ccodes=PE\n",
      "2025-07-29 21:03:38 - INFO - Finding best match for 'Cementerio General de Aucará' in WHG results\n",
      "2025-07-29 21:03:38 - INFO - Trying TGNQuery for 'Cementerio General de Aucará'\n",
      "2025-07-29 21:03:39 - INFO - Trying WikidataQuery for 'Cementerio General de Aucará'\n",
      "2025-07-29 21:03:39 - INFO - [API CALL] https://www.wikidata.org/w/api.php?action=wbsearchentities&search=Cementerio+General+de+Aucar%C3%A1&language=es&format=json&type=item&limit=10\n",
      "2025-07-29 21:03:39 - WARNING - Could not resolve 'Cementerio General de Aucará' via any service.\n"
     ]
    },
    {
     "name": "stderr",
     "output_type": "stream",
     "text": [
      "Resolving unique places:  22%|██▏       | 27/122 [00:45<03:49,  2.42s/it]"
     ]
    },
    {
     "name": "stdout",
     "output_type": "stream",
     "text": [
      "2025-07-29 21:03:39 - INFO - Trying GeoNamesQuery for 'Cementerio de Aucará'\n",
      "2025-07-29 21:03:40 - INFO - [API CALL] http://api.geonames.org/searchJSON?q=Cementerio+de+Aucar%C3%A1&username=jairomelo&maxRows=10&type=json&style=FULL&country=PE&featureClass=p\n",
      "2025-07-29 21:03:40 - INFO - Trying WHGQuery for 'Cementerio de Aucará'\n",
      "2025-07-29 21:03:40 - INFO - [API CALL] https://whgazetteer.org/api/index/?name=Cementerio%20de%20Aucar%C3%A1&fclass=p&dataset=&ccodes=PE\n",
      "2025-07-29 21:03:40 - INFO - Finding best match for 'Cementerio de Aucará' in WHG results\n",
      "2025-07-29 21:03:40 - INFO - Trying TGNQuery for 'Cementerio de Aucará'\n",
      "2025-07-29 21:03:42 - INFO - Trying WikidataQuery for 'Cementerio de Aucará'\n",
      "2025-07-29 21:03:42 - INFO - [API CALL] https://www.wikidata.org/w/api.php?action=wbsearchentities&search=Cementerio+de+Aucar%C3%A1&language=es&format=json&type=item&limit=10\n",
      "2025-07-29 21:03:42 - WARNING - Could not resolve 'Cementerio de Aucará' via any service.\n"
     ]
    },
    {
     "name": "stderr",
     "output_type": "stream",
     "text": [
      "Resolving unique places:  23%|██▎       | 28/122 [00:48<03:57,  2.53s/it]"
     ]
    },
    {
     "name": "stdout",
     "output_type": "stream",
     "text": [
      "2025-07-29 21:03:42 - INFO - Trying GeoNamesQuery for 'Cementerio de Pampamarca'\n",
      "2025-07-29 21:03:43 - INFO - [API CALL] http://api.geonames.org/searchJSON?q=Cementerio+de+Pampamarca&username=jairomelo&maxRows=10&type=json&style=FULL&country=PE&featureClass=p\n",
      "2025-07-29 21:03:43 - INFO - Trying WHGQuery for 'Cementerio de Pampamarca'\n",
      "2025-07-29 21:03:43 - INFO - [API CALL] https://whgazetteer.org/api/index/?name=Cementerio%20de%20Pampamarca&fclass=p&dataset=&ccodes=PE\n",
      "2025-07-29 21:03:43 - INFO - Finding best match for 'Cementerio de Pampamarca' in WHG results\n",
      "2025-07-29 21:03:43 - INFO - Trying TGNQuery for 'Cementerio de Pampamarca'\n",
      "2025-07-29 21:03:45 - INFO - Trying WikidataQuery for 'Cementerio de Pampamarca'\n",
      "2025-07-29 21:03:45 - INFO - [API CALL] https://www.wikidata.org/w/api.php?action=wbsearchentities&search=Cementerio+de+Pampamarca&language=es&format=json&type=item&limit=10\n",
      "2025-07-29 21:03:45 - WARNING - Could not resolve 'Cementerio de Pampamarca' via any service.\n"
     ]
    },
    {
     "name": "stderr",
     "output_type": "stream",
     "text": [
      "Resolving unique places:  24%|██▍       | 29/122 [00:51<04:02,  2.61s/it]"
     ]
    },
    {
     "name": "stdout",
     "output_type": "stream",
     "text": [
      "2025-07-29 21:03:45 - INFO - Trying GeoNamesQuery for 'Cementerio de Visvicha'\n",
      "2025-07-29 21:03:45 - INFO - [API CALL] http://api.geonames.org/searchJSON?q=Cementerio+de+Visvicha&username=jairomelo&maxRows=10&type=json&style=FULL&country=PE&featureClass=p\n",
      "2025-07-29 21:03:45 - INFO - Trying WHGQuery for 'Cementerio de Visvicha'\n",
      "2025-07-29 21:03:46 - INFO - [API CALL] https://whgazetteer.org/api/index/?name=Cementerio%20de%20Visvicha&fclass=p&dataset=&ccodes=PE\n",
      "2025-07-29 21:03:46 - INFO - Finding best match for 'Cementerio de Visvicha' in WHG results\n",
      "2025-07-29 21:03:46 - INFO - Trying TGNQuery for 'Cementerio de Visvicha'\n",
      "2025-07-29 21:03:47 - INFO - Trying WikidataQuery for 'Cementerio de Visvicha'\n",
      "2025-07-29 21:03:48 - INFO - [API CALL] https://www.wikidata.org/w/api.php?action=wbsearchentities&search=Cementerio+de+Visvicha&language=es&format=json&type=item&limit=10\n",
      "2025-07-29 21:03:48 - WARNING - Could not resolve 'Cementerio de Visvicha' via any service.\n"
     ]
    },
    {
     "name": "stderr",
     "output_type": "stream",
     "text": [
      "Resolving unique places:  25%|██▍       | 30/122 [00:54<04:02,  2.64s/it]"
     ]
    },
    {
     "name": "stdout",
     "output_type": "stream",
     "text": [
      "2025-07-29 21:03:48 - INFO - Trying GeoNamesQuery for 'Cementerio de las Punas de Visvicha'\n",
      "2025-07-29 21:03:48 - INFO - [API CALL] http://api.geonames.org/searchJSON?q=Cementerio+de+las+Punas+de+Visvicha&username=jairomelo&maxRows=10&type=json&style=FULL&country=PE&featureClass=p\n",
      "2025-07-29 21:03:48 - INFO - Trying WHGQuery for 'Cementerio de las Punas de Visvicha'\n",
      "2025-07-29 21:03:49 - INFO - [API CALL] https://whgazetteer.org/api/index/?name=Cementerio%20de%20las%20Punas%20de%20Visvicha&fclass=p&dataset=&ccodes=PE\n",
      "2025-07-29 21:03:49 - INFO - Finding best match for 'Cementerio de las Punas de Visvicha' in WHG results\n",
      "2025-07-29 21:03:49 - INFO - Trying TGNQuery for 'Cementerio de las Punas de Visvicha'\n",
      "2025-07-29 21:03:50 - INFO - Trying WikidataQuery for 'Cementerio de las Punas de Visvicha'\n",
      "2025-07-29 21:03:51 - INFO - [API CALL] https://www.wikidata.org/w/api.php?action=wbsearchentities&search=Cementerio+de+las+Punas+de+Visvicha&language=es&format=json&type=item&limit=10\n",
      "2025-07-29 21:03:51 - WARNING - Could not resolve 'Cementerio de las Punas de Visvicha' via any service.\n"
     ]
    },
    {
     "name": "stderr",
     "output_type": "stream",
     "text": [
      "Resolving unique places:  25%|██▌       | 31/122 [00:57<04:08,  2.73s/it]"
     ]
    },
    {
     "name": "stdout",
     "output_type": "stream",
     "text": [
      "2025-07-29 21:03:51 - INFO - Trying GeoNamesQuery for 'Cementerio general  Aucará'\n",
      "2025-07-29 21:03:51 - INFO - [API CALL] http://api.geonames.org/searchJSON?q=Cementerio+general++Aucar%C3%A1&username=jairomelo&maxRows=10&type=json&style=FULL&country=PE&featureClass=p\n",
      "2025-07-29 21:03:51 - INFO - Trying WHGQuery for 'Cementerio general  Aucará'\n",
      "2025-07-29 21:03:51 - INFO - [API CALL] https://whgazetteer.org/api/index/?name=Cementerio%20general%20%20Aucar%C3%A1&fclass=p&dataset=&ccodes=PE\n",
      "2025-07-29 21:03:51 - INFO - Finding best match for 'Cementerio general  Aucará' in WHG results\n",
      "2025-07-29 21:03:51 - INFO - Trying TGNQuery for 'Cementerio general  Aucará'\n",
      "2025-07-29 21:03:52 - INFO - Trying WikidataQuery for 'Cementerio general  Aucará'\n",
      "2025-07-29 21:03:52 - INFO - [API CALL] https://www.wikidata.org/w/api.php?action=wbsearchentities&search=Cementerio+general++Aucar%C3%A1&language=es&format=json&type=item&limit=10\n",
      "2025-07-29 21:03:52 - WARNING - Could not resolve 'Cementerio general  Aucará' via any service.\n"
     ]
    },
    {
     "name": "stderr",
     "output_type": "stream",
     "text": [
      "Resolving unique places:  26%|██▌       | 32/122 [00:58<03:30,  2.34s/it]"
     ]
    },
    {
     "name": "stdout",
     "output_type": "stream",
     "text": [
      "2025-07-29 21:03:52 - INFO - Trying GeoNamesQuery for 'Cementerio general  Chacralla'\n",
      "2025-07-29 21:03:52 - INFO - [API CALL] http://api.geonames.org/searchJSON?q=Cementerio+general++Chacralla&username=jairomelo&maxRows=10&type=json&style=FULL&country=PE&featureClass=p\n",
      "2025-07-29 21:03:52 - INFO - Trying WHGQuery for 'Cementerio general  Chacralla'\n",
      "2025-07-29 21:03:53 - INFO - [API CALL] https://whgazetteer.org/api/index/?name=Cementerio%20general%20%20Chacralla&fclass=p&dataset=&ccodes=PE\n",
      "2025-07-29 21:03:53 - INFO - Finding best match for 'Cementerio general  Chacralla' in WHG results\n",
      "2025-07-29 21:03:53 - INFO - Trying TGNQuery for 'Cementerio general  Chacralla'\n",
      "2025-07-29 21:03:53 - INFO - Trying WikidataQuery for 'Cementerio general  Chacralla'\n",
      "2025-07-29 21:03:53 - INFO - [API CALL] https://www.wikidata.org/w/api.php?action=wbsearchentities&search=Cementerio+general++Chacralla&language=es&format=json&type=item&limit=10\n",
      "2025-07-29 21:03:53 - WARNING - Could not resolve 'Cementerio general  Chacralla' via any service.\n"
     ]
    },
    {
     "name": "stderr",
     "output_type": "stream",
     "text": [
      "Resolving unique places:  27%|██▋       | 33/122 [01:00<03:02,  2.05s/it]"
     ]
    },
    {
     "name": "stdout",
     "output_type": "stream",
     "text": [
      "2025-07-29 21:03:53 - INFO - Trying GeoNamesQuery for 'Cementerio general  Pampamarca'\n",
      "2025-07-29 21:03:54 - INFO - [API CALL] http://api.geonames.org/searchJSON?q=Cementerio+general++Pampamarca&username=jairomelo&maxRows=10&type=json&style=FULL&country=PE&featureClass=p\n",
      "2025-07-29 21:03:54 - INFO - Trying WHGQuery for 'Cementerio general  Pampamarca'\n",
      "2025-07-29 21:03:54 - INFO - [API CALL] https://whgazetteer.org/api/index/?name=Cementerio%20general%20%20Pampamarca&fclass=p&dataset=&ccodes=PE\n",
      "2025-07-29 21:03:54 - INFO - Finding best match for 'Cementerio general  Pampamarca' in WHG results\n",
      "2025-07-29 21:03:54 - INFO - Trying TGNQuery for 'Cementerio general  Pampamarca'\n",
      "2025-07-29 21:03:55 - INFO - Trying WikidataQuery for 'Cementerio general  Pampamarca'\n",
      "2025-07-29 21:03:55 - INFO - [API CALL] https://www.wikidata.org/w/api.php?action=wbsearchentities&search=Cementerio+general++Pampamarca&language=es&format=json&type=item&limit=10\n",
      "2025-07-29 21:03:55 - WARNING - Could not resolve 'Cementerio general  Pampamarca' via any service.\n"
     ]
    },
    {
     "name": "stderr",
     "output_type": "stream",
     "text": [
      "Resolving unique places:  28%|██▊       | 34/122 [01:01<02:41,  1.84s/it]"
     ]
    },
    {
     "name": "stdout",
     "output_type": "stream",
     "text": [
      "2025-07-29 21:03:55 - INFO - Trying GeoNamesQuery for 'Cementerio general de Aucara'\n",
      "2025-07-29 21:03:55 - INFO - [API CALL] http://api.geonames.org/searchJSON?q=Cementerio+general+de+Aucara&username=jairomelo&maxRows=10&type=json&style=FULL&country=PE&featureClass=p\n",
      "2025-07-29 21:03:55 - INFO - Trying WHGQuery for 'Cementerio general de Aucara'\n",
      "2025-07-29 21:03:56 - INFO - [API CALL] https://whgazetteer.org/api/index/?name=Cementerio%20general%20de%20Aucara&fclass=p&dataset=&ccodes=PE\n",
      "2025-07-29 21:03:56 - INFO - Finding best match for 'Cementerio general de Aucara' in WHG results\n",
      "2025-07-29 21:03:56 - INFO - Trying TGNQuery for 'Cementerio general de Aucara'\n",
      "2025-07-29 21:03:57 - INFO - Trying WikidataQuery for 'Cementerio general de Aucara'\n",
      "2025-07-29 21:03:57 - INFO - [API CALL] https://www.wikidata.org/w/api.php?action=wbsearchentities&search=Cementerio+general+de+Aucara&language=es&format=json&type=item&limit=10\n",
      "2025-07-29 21:03:57 - WARNING - Could not resolve 'Cementerio general de Aucara' via any service.\n"
     ]
    },
    {
     "name": "stderr",
     "output_type": "stream",
     "text": [
      "Resolving unique places:  29%|██▊       | 35/122 [01:04<03:02,  2.10s/it]"
     ]
    },
    {
     "name": "stdout",
     "output_type": "stream",
     "text": [
      "2025-07-29 21:03:57 - INFO - Trying GeoNamesQuery for 'Cementerio general de Pampamarca'\n",
      "2025-07-29 21:03:58 - INFO - [API CALL] http://api.geonames.org/searchJSON?q=Cementerio+general+de+Pampamarca&username=jairomelo&maxRows=10&type=json&style=FULL&country=PE&featureClass=p\n",
      "2025-07-29 21:03:58 - INFO - Trying WHGQuery for 'Cementerio general de Pampamarca'\n",
      "2025-07-29 21:03:58 - INFO - [API CALL] https://whgazetteer.org/api/index/?name=Cementerio%20general%20de%20Pampamarca&fclass=p&dataset=&ccodes=PE\n",
      "2025-07-29 21:03:58 - INFO - Finding best match for 'Cementerio general de Pampamarca' in WHG results\n",
      "2025-07-29 21:03:58 - INFO - Trying TGNQuery for 'Cementerio general de Pampamarca'\n",
      "2025-07-29 21:04:00 - INFO - Trying WikidataQuery for 'Cementerio general de Pampamarca'\n",
      "2025-07-29 21:04:00 - INFO - [API CALL] https://www.wikidata.org/w/api.php?action=wbsearchentities&search=Cementerio+general+de+Pampamarca&language=es&format=json&type=item&limit=10\n",
      "2025-07-29 21:04:00 - WARNING - Could not resolve 'Cementerio general de Pampamarca' via any service.\n"
     ]
    },
    {
     "name": "stderr",
     "output_type": "stream",
     "text": [
      "Resolving unique places:  30%|██▉       | 36/122 [01:06<03:16,  2.29s/it]"
     ]
    },
    {
     "name": "stdout",
     "output_type": "stream",
     "text": [
      "2025-07-29 21:04:00 - INFO - Trying GeoNamesQuery for 'Cementerio general de la Vice'\n",
      "2025-07-29 21:04:01 - INFO - [API CALL] http://api.geonames.org/searchJSON?q=Cementerio+general+de+la+Vice&username=jairomelo&maxRows=10&type=json&style=FULL&country=PE&featureClass=p\n",
      "2025-07-29 21:04:01 - INFO - Trying WHGQuery for 'Cementerio general de la Vice'\n",
      "2025-07-29 21:04:01 - INFO - [API CALL] https://whgazetteer.org/api/index/?name=Cementerio%20general%20de%20la%20Vice&fclass=p&dataset=&ccodes=PE\n",
      "2025-07-29 21:04:01 - INFO - Finding best match for 'Cementerio general de la Vice' in WHG results\n",
      "2025-07-29 21:04:01 - INFO - Trying TGNQuery for 'Cementerio general de la Vice'\n",
      "2025-07-29 21:04:03 - INFO - Trying WikidataQuery for 'Cementerio general de la Vice'\n",
      "2025-07-29 21:04:03 - INFO - [API CALL] https://www.wikidata.org/w/api.php?action=wbsearchentities&search=Cementerio+general+de+la+Vice&language=es&format=json&type=item&limit=10\n",
      "2025-07-29 21:04:03 - WARNING - Could not resolve 'Cementerio general de la Vice' via any service.\n"
     ]
    },
    {
     "name": "stderr",
     "output_type": "stream",
     "text": [
      "Resolving unique places:  30%|███       | 37/122 [01:10<03:41,  2.60s/it]"
     ]
    },
    {
     "name": "stdout",
     "output_type": "stream",
     "text": [
      "2025-07-29 21:04:03 - INFO - Trying GeoNamesQuery for 'Chacalla'\n",
      "2025-07-29 21:04:04 - INFO - [API CALL] http://api.geonames.org/searchJSON?q=Chacalla&username=jairomelo&maxRows=10&type=json&style=FULL&country=PE&featureClass=p\n",
      "2025-07-29 21:04:04 - INFO - Post-filtering GeoNames results for 'Chacalla' with language 'es'\n",
      "2025-07-29 21:04:04 - INFO - Resolved 'Chacalla' via GeoNamesQuery: {'place': 'Chacalla', 'standardize_label': 'Chacalla', 'language': 'es', 'latitude': -13.96889, 'longitude': -72.20556, 'source': 'GeoNames', 'id': 6392254, 'uri': 'http://sws.geonames.org/6392254/', 'country_code': 'PE', 'part_of': '', 'part_of_uri': '', 'confidence': 100, 'threshold': 90, 'match_type': 'exact'}\n"
     ]
    },
    {
     "name": "stderr",
     "output_type": "stream",
     "text": [
      "Resolving unique places:  31%|███       | 38/122 [01:10<02:44,  1.95s/it]"
     ]
    },
    {
     "name": "stdout",
     "output_type": "stream",
     "text": [
      "2025-07-29 21:04:04 - INFO - Trying GeoNamesQuery for 'Chacralla'\n",
      "2025-07-29 21:04:04 - INFO - [API CALL] http://api.geonames.org/searchJSON?q=Chacralla&username=jairomelo&maxRows=10&type=json&style=FULL&country=PE&featureClass=p\n",
      "2025-07-29 21:04:04 - INFO - Post-filtering GeoNames results for 'Chacralla' with language 'es'\n",
      "2025-07-29 21:04:04 - INFO - Resolved 'Chacralla' via GeoNamesQuery: {'place': 'Chacralla', 'standardize_label': 'Chacralla', 'language': 'es', 'latitude': -14.20736, 'longitude': -73.99278, 'source': 'GeoNames', 'id': 3944632, 'uri': 'http://sws.geonames.org/3944632/', 'country_code': 'PE', 'part_of': '', 'part_of_uri': '', 'confidence': 100, 'threshold': 90, 'match_type': 'exact'}\n"
     ]
    },
    {
     "name": "stderr",
     "output_type": "stream",
     "text": [
      "Resolving unique places:  32%|███▏      | 39/122 [01:10<02:03,  1.48s/it]"
     ]
    },
    {
     "name": "stdout",
     "output_type": "stream",
     "text": [
      "2025-07-29 21:04:04 - INFO - Trying GeoNamesQuery for 'Chacralla Pampamarca'\n",
      "2025-07-29 21:04:05 - INFO - [API CALL] http://api.geonames.org/searchJSON?q=Chacralla+Pampamarca&username=jairomelo&maxRows=10&type=json&style=FULL&country=PE&featureClass=p\n",
      "2025-07-29 21:04:05 - INFO - Trying WHGQuery for 'Chacralla Pampamarca'\n",
      "2025-07-29 21:04:05 - INFO - [API CALL] https://whgazetteer.org/api/index/?name=Chacralla%20Pampamarca&fclass=p&dataset=&ccodes=PE\n",
      "2025-07-29 21:04:05 - INFO - Finding best match for 'Chacralla Pampamarca' in WHG results\n",
      "2025-07-29 21:04:05 - INFO - Trying TGNQuery for 'Chacralla Pampamarca'\n",
      "2025-07-29 21:04:06 - INFO - Trying WikidataQuery for 'Chacralla Pampamarca'\n",
      "2025-07-29 21:04:06 - INFO - [API CALL] https://www.wikidata.org/w/api.php?action=wbsearchentities&search=Chacralla+Pampamarca&language=es&format=json&type=item&limit=10\n",
      "2025-07-29 21:04:06 - WARNING - Could not resolve 'Chacralla Pampamarca' via any service.\n"
     ]
    },
    {
     "name": "stderr",
     "output_type": "stream",
     "text": [
      "Resolving unique places:  33%|███▎      | 40/122 [01:12<01:59,  1.46s/it]"
     ]
    },
    {
     "name": "stdout",
     "output_type": "stream",
     "text": [
      "2025-07-29 21:04:06 - INFO - Trying GeoNamesQuery for 'Chalhuanca'\n",
      "2025-07-29 21:04:07 - INFO - [API CALL] http://api.geonames.org/searchJSON?q=Chalhuanca&username=jairomelo&maxRows=10&type=json&style=FULL&country=PE&featureClass=p\n",
      "2025-07-29 21:04:07 - INFO - Post-filtering GeoNames results for 'Chalhuanca' with language 'es'\n",
      "2025-07-29 21:04:07 - INFO - Found match: 'Chalhuanca' with similarity 100.0%\n",
      "2025-07-29 21:04:07 - INFO - Resolved 'Chalhuanca' via GeoNamesQuery: {'place': 'Chalhuanca', 'standardize_label': 'Chalhuanca', 'language': 'es', 'latitude': -14.30056, 'longitude': -73.23083, 'source': 'GeoNames', 'id': 3944545, 'uri': 'http://sws.geonames.org/3944545/', 'country_code': 'PE', 'part_of': '', 'part_of_uri': '', 'confidence': 100.0, 'threshold': 90, 'match_type': 'exact'}\n"
     ]
    },
    {
     "name": "stderr",
     "output_type": "stream",
     "text": [
      "Resolving unique places:  34%|███▎      | 41/122 [01:13<01:41,  1.26s/it]"
     ]
    },
    {
     "name": "stdout",
     "output_type": "stream",
     "text": [
      "2025-07-29 21:04:07 - INFO - Trying GeoNamesQuery for 'Challhuanca'\n",
      "2025-07-29 21:04:07 - INFO - [API CALL] http://api.geonames.org/searchJSON?q=Challhuanca&username=jairomelo&maxRows=10&type=json&style=FULL&country=PE&featureClass=p\n",
      "2025-07-29 21:04:07 - INFO - Post-filtering GeoNames results for 'Challhuanca' with language 'es'\n",
      "2025-07-29 21:04:07 - INFO - Resolved 'Challhuanca' via GeoNamesQuery: {'place': 'Challhuanca', 'standardize_label': 'Chalhuanca', 'language': 'es', 'latitude': -14.30056, 'longitude': -73.23083, 'source': 'GeoNames', 'id': 3944545, 'uri': 'http://sws.geonames.org/3944545/', 'country_code': 'PE', 'part_of': '', 'part_of_uri': '', 'confidence': 100, 'threshold': 90, 'match_type': 'exact'}\n"
     ]
    },
    {
     "name": "stderr",
     "output_type": "stream",
     "text": [
      "Resolving unique places:  34%|███▍      | 42/122 [01:13<01:22,  1.03s/it]"
     ]
    },
    {
     "name": "stdout",
     "output_type": "stream",
     "text": [
      "2025-07-29 21:04:07 - INFO - Trying GeoNamesQuery for 'Chilcas'\n",
      "2025-07-29 21:04:08 - INFO - [API CALL] http://api.geonames.org/searchJSON?q=Chilcas&username=jairomelo&maxRows=10&type=json&style=FULL&country=PE&featureClass=p\n",
      "2025-07-29 21:04:08 - INFO - Post-filtering GeoNames results for 'Chilcas' with language 'es'\n",
      "2025-07-29 21:04:08 - INFO - Found match: 'Trigo Orjo' with similarity 19.999999999999996%\n",
      "2025-07-29 21:04:08 - INFO - Post-filtering GeoNames results for 'Chilcas' with language 'es'\n",
      "2025-07-29 21:04:08 - INFO - Found match: 'Chuchín Santa Calle' with similarity 54.54545454545454%\n",
      "2025-07-29 21:04:08 - INFO - Post-filtering GeoNames results for 'Chilcas' with language 'es'\n",
      "2025-07-29 21:04:08 - INFO - Found match: 'Huilculo' with similarity 66.66666666666667%\n",
      "2025-07-29 21:04:08 - INFO - Post-filtering GeoNames results for 'Chilcas' with language 'es'\n",
      "2025-07-29 21:04:08 - INFO - Found match: 'Chilcas' with similarity 100.0%\n",
      "2025-07-29 21:04:08 - INFO - Resolved 'Chilcas' via GeoNamesQuery: {'place': 'Chilcas', 'standardize_label': 'Chilcas', 'language': 'es', 'latitude': -12.37284, 'longitude': -74.84687, 'source': 'GeoNames', 'id': 8664084, 'uri': 'http://sws.geonames.org/8664084/', 'country_code': 'PE', 'part_of': '', 'part_of_uri': '', 'confidence': 100.0, 'threshold': 90, 'match_type': 'exact'}\n"
     ]
    },
    {
     "name": "stderr",
     "output_type": "stream",
     "text": [
      "Resolving unique places:  35%|███▌      | 43/122 [01:14<01:10,  1.12it/s]"
     ]
    },
    {
     "name": "stdout",
     "output_type": "stream",
     "text": [
      "2025-07-29 21:04:08 - INFO - Trying GeoNamesQuery for 'Chipau'\n",
      "2025-07-29 21:04:08 - INFO - [API CALL] http://api.geonames.org/searchJSON?q=Chipau&username=jairomelo&maxRows=10&type=json&style=FULL&country=PE&featureClass=p\n",
      "2025-07-29 21:04:08 - INFO - Trying WHGQuery for 'Chipau'\n",
      "2025-07-29 21:04:09 - INFO - [API CALL] https://whgazetteer.org/api/index/?name=Chipau&fclass=p&dataset=&ccodes=PE\n",
      "2025-07-29 21:04:09 - INFO - Finding best match for 'Chipau' in WHG results\n",
      "2025-07-29 21:04:09 - INFO - Trying TGNQuery for 'Chipau'\n",
      "2025-07-29 21:04:09 - INFO - Trying WikidataQuery for 'Chipau'\n",
      "2025-07-29 21:04:09 - INFO - [API CALL] https://www.wikidata.org/w/api.php?action=wbsearchentities&search=Chipau&language=es&format=json&type=item&limit=10\n",
      "2025-07-29 21:04:09 - INFO - [API CALL] https://www.wikidata.org/w/api.php?action=wbgetentities&ids=Q65099795%7CQ104802445%7CQ5101583%7CQ104021718%7CQ1427474%7CQ97246909&format=json&props=labels%7Cclaims\n",
      "2025-07-29 21:04:10 - INFO - [API CALL] https://www.wikidata.org/w/api.php?action=wbgetentities&ids=Q414&format=json&props=labels%7Cclaims\n",
      "2025-07-29 21:04:10 - INFO - [API CALL] https://www.wikidata.org/w/api.php?action=wbgetentities&ids=Q44802&format=json&props=labels%7Cclaims\n",
      "2025-07-29 21:04:10 - WARNING - Could not resolve 'Chipau' via any service.\n"
     ]
    },
    {
     "name": "stderr",
     "output_type": "stream",
     "text": [
      "Resolving unique places:  36%|███▌      | 44/122 [01:16<01:52,  1.45s/it]"
     ]
    },
    {
     "name": "stdout",
     "output_type": "stream",
     "text": [
      "2025-07-29 21:04:10 - INFO - Trying GeoNamesQuery for 'Chumpe'\n",
      "2025-07-29 21:04:11 - INFO - [API CALL] http://api.geonames.org/searchJSON?q=Chumpe&username=jairomelo&maxRows=10&type=json&style=FULL&country=PE&featureClass=p\n",
      "2025-07-29 21:04:11 - INFO - Post-filtering GeoNames results for 'Chumpe' with language 'es'\n",
      "2025-07-29 21:04:11 - INFO - Resolved 'Chumpe' via GeoNamesQuery: {'place': 'Chumpe', 'standardize_label': 'Chumpe', 'language': 'es', 'latitude': -12.29611, 'longitude': -75.69778, 'source': 'GeoNames', 'id': 6304004, 'uri': 'http://sws.geonames.org/6304004/', 'country_code': 'PE', 'part_of': '', 'part_of_uri': '', 'confidence': 100, 'threshold': 90, 'match_type': 'exact'}\n"
     ]
    },
    {
     "name": "stderr",
     "output_type": "stream",
     "text": [
      "Resolving unique places:  37%|███▋      | 45/122 [01:17<01:29,  1.16s/it]"
     ]
    },
    {
     "name": "stdout",
     "output_type": "stream",
     "text": [
      "2025-07-29 21:04:11 - INFO - Trying GeoNamesQuery for 'Churbe'\n",
      "2025-07-29 21:04:11 - INFO - [API CALL] http://api.geonames.org/searchJSON?q=Churbe&username=jairomelo&maxRows=10&type=json&style=FULL&country=PE&featureClass=p\n",
      "2025-07-29 21:04:11 - INFO - Trying WHGQuery for 'Churbe'\n",
      "2025-07-29 21:04:12 - INFO - [API CALL] https://whgazetteer.org/api/index/?name=Churbe&fclass=p&dataset=&ccodes=PE\n",
      "2025-07-29 21:04:12 - INFO - Finding best match for 'Churbe' in WHG results\n",
      "2025-07-29 21:04:12 - INFO - Trying TGNQuery for 'Churbe'\n",
      "2025-07-29 21:04:12 - INFO - Trying WikidataQuery for 'Churbe'\n",
      "2025-07-29 21:04:12 - INFO - [API CALL] https://www.wikidata.org/w/api.php?action=wbsearchentities&search=Churbe&language=es&format=json&type=item&limit=10\n",
      "2025-07-29 21:04:13 - INFO - [API CALL] https://www.wikidata.org/w/api.php?action=wbgetentities&ids=Q47514081%7CQ103897530%7CQ2330088%7CQ104022197&format=json&props=labels%7Cclaims\n",
      "2025-07-29 21:04:13 - INFO - [API CALL] https://www.wikidata.org/w/api.php?action=wbgetentities&ids=Q813&format=json&props=labels%7Cclaims\n",
      "2025-07-29 21:04:13 - INFO - [API CALL] https://www.wikidata.org/w/api.php?action=wbgetentities&ids=Q2573246&format=json&props=labels%7Cclaims\n",
      "2025-07-29 21:04:13 - WARNING - Could not resolve 'Churbe' via any service.\n"
     ]
    },
    {
     "name": "stderr",
     "output_type": "stream",
     "text": [
      "Resolving unique places:  38%|███▊      | 46/122 [01:19<01:58,  1.56s/it]"
     ]
    },
    {
     "name": "stdout",
     "output_type": "stream",
     "text": [
      "2025-07-29 21:04:13 - INFO - Trying GeoNamesQuery for 'Ciuda de Ayacucho'\n",
      "2025-07-29 21:04:14 - INFO - [API CALL] http://api.geonames.org/searchJSON?q=Ciuda+de+Ayacucho&username=jairomelo&maxRows=10&type=json&style=FULL&country=PE&featureClass=p\n",
      "2025-07-29 21:04:14 - INFO - Trying WHGQuery for 'Ciuda de Ayacucho'\n",
      "2025-07-29 21:04:14 - INFO - [API CALL] https://whgazetteer.org/api/index/?name=Ciuda%20de%20Ayacucho&fclass=p&dataset=&ccodes=PE\n",
      "2025-07-29 21:04:14 - INFO - Finding best match for 'Ciuda de Ayacucho' in WHG results\n",
      "2025-07-29 21:04:14 - INFO - Trying TGNQuery for 'Ciuda de Ayacucho'\n",
      "2025-07-29 21:04:16 - INFO - Trying WikidataQuery for 'Ciuda de Ayacucho'\n",
      "2025-07-29 21:04:16 - INFO - [API CALL] https://www.wikidata.org/w/api.php?action=wbsearchentities&search=Ciuda+de+Ayacucho&language=es&format=json&type=item&limit=10\n",
      "2025-07-29 21:04:16 - WARNING - Could not resolve 'Ciuda de Ayacucho' via any service.\n"
     ]
    },
    {
     "name": "stderr",
     "output_type": "stream",
     "text": [
      "Resolving unique places:  39%|███▊      | 47/122 [01:22<02:26,  1.96s/it]"
     ]
    },
    {
     "name": "stdout",
     "output_type": "stream",
     "text": [
      "2025-07-29 21:04:16 - INFO - Trying GeoNamesQuery for 'Ciudad de Ayacucho'\n",
      "2025-07-29 21:04:17 - INFO - [API CALL] http://api.geonames.org/searchJSON?q=Ciudad+de+Ayacucho&username=jairomelo&maxRows=10&type=json&style=FULL&country=PE&featureClass=p\n",
      "2025-07-29 21:04:17 - INFO - Post-filtering GeoNames results for 'Ciudad de Ayacucho' with language 'es'\n",
      "2025-07-29 21:04:17 - INFO - Resolved 'Ciudad de Ayacucho' via GeoNamesQuery: {'place': 'Ciudad de Ayacucho', 'standardize_label': 'Ciudad Libertad de las Américas', 'language': 'es', 'latitude': -13.17884, 'longitude': -74.21498, 'source': 'GeoNames', 'id': 13323572, 'uri': 'http://sws.geonames.org/13323572/', 'country_code': 'PE', 'part_of': '', 'part_of_uri': '', 'confidence': 100, 'threshold': 90, 'match_type': 'exact'}\n"
     ]
    },
    {
     "name": "stderr",
     "output_type": "stream",
     "text": [
      "Resolving unique places:  39%|███▉      | 48/122 [01:23<01:52,  1.52s/it]"
     ]
    },
    {
     "name": "stdout",
     "output_type": "stream",
     "text": [
      "2025-07-29 21:04:17 - INFO - Trying GeoNamesQuery for 'Ciudad de Huamanga'\n",
      "2025-07-29 21:04:17 - INFO - [API CALL] http://api.geonames.org/searchJSON?q=Ciudad+de+Huamanga&username=jairomelo&maxRows=10&type=json&style=FULL&country=PE&featureClass=p\n",
      "2025-07-29 21:04:17 - INFO - Post-filtering GeoNames results for 'Ciudad de Huamanga' with language 'es'\n",
      "2025-07-29 21:04:17 - INFO - Resolved 'Ciudad de Huamanga' via GeoNamesQuery: {'place': 'Ciudad de Huamanga', 'standardize_label': 'Ciudad Libertad de las Américas', 'language': 'es', 'latitude': -13.17884, 'longitude': -74.21498, 'source': 'GeoNames', 'id': 13323572, 'uri': 'http://sws.geonames.org/13323572/', 'country_code': 'PE', 'part_of': '', 'part_of_uri': '', 'confidence': 100, 'threshold': 90, 'match_type': 'exact'}\n"
     ]
    },
    {
     "name": "stderr",
     "output_type": "stream",
     "text": [
      "Resolving unique places:  40%|████      | 49/122 [01:23<01:28,  1.21s/it]"
     ]
    },
    {
     "name": "stdout",
     "output_type": "stream",
     "text": [
      "2025-07-29 21:04:17 - INFO - Trying GeoNamesQuery for 'Colca'\n",
      "2025-07-29 21:04:18 - INFO - [API CALL] http://api.geonames.org/searchJSON?q=Colca&username=jairomelo&maxRows=10&type=json&style=FULL&country=PE&featureClass=p\n",
      "2025-07-29 21:04:18 - INFO - Post-filtering GeoNames results for 'Colca' with language 'es'\n",
      "2025-07-29 21:04:18 - INFO - Found match: 'Huancapi' with similarity 44.44444444444444%\n",
      "2025-07-29 21:04:18 - INFO - Post-filtering GeoNames results for 'Colca' with language 'es'\n",
      "2025-07-29 21:04:18 - INFO - Found match: 'Calca' with similarity 80.0%\n",
      "2025-07-29 21:04:18 - INFO - Post-filtering GeoNames results for 'Colca' with language 'es'\n",
      "2025-07-29 21:04:18 - INFO - Found match: 'La Colca de San Nicolas' with similarity 100.0%\n",
      "2025-07-29 21:04:18 - INFO - Resolved 'Colca' via GeoNamesQuery: {'place': 'Colca', 'standardize_label': 'San Nicolás', 'language': 'es', 'latitude': -6.92831, 'longitude': -79.61352, 'source': 'GeoNames', 'id': 3692357, 'uri': 'http://sws.geonames.org/3692357/', 'country_code': 'PE', 'part_of': '', 'part_of_uri': '', 'confidence': 100.0, 'threshold': 90, 'match_type': 'exact'}\n"
     ]
    },
    {
     "name": "stderr",
     "output_type": "stream",
     "text": [
      "Resolving unique places:  41%|████      | 50/122 [01:24<01:21,  1.13s/it]"
     ]
    },
    {
     "name": "stdout",
     "output_type": "stream",
     "text": [
      "2025-07-29 21:04:18 - INFO - Trying GeoNamesQuery for 'Cordoba'\n",
      "2025-07-29 21:04:19 - INFO - [API CALL] http://api.geonames.org/searchJSON?q=Cordoba&username=jairomelo&maxRows=10&type=json&style=FULL&country=PE&featureClass=p\n",
      "2025-07-29 21:04:19 - INFO - Post-filtering GeoNames results for 'Cordoba' with language 'es'\n",
      "2025-07-29 21:04:19 - INFO - Resolved 'Cordoba' via GeoNamesQuery: {'place': 'Cordoba', 'standardize_label': 'Córdova', 'language': 'es', 'latitude': -14.03972, 'longitude': -75.1843, 'source': 'GeoNames', 'id': 3942222, 'uri': 'http://sws.geonames.org/3942222/', 'country_code': 'PE', 'part_of': '', 'part_of_uri': '', 'confidence': 100, 'threshold': 90, 'match_type': 'exact'}\n"
     ]
    },
    {
     "name": "stderr",
     "output_type": "stream",
     "text": [
      "Resolving unique places:  42%|████▏     | 51/122 [01:25<01:08,  1.04it/s]"
     ]
    },
    {
     "name": "stdout",
     "output_type": "stream",
     "text": [
      "2025-07-29 21:04:19 - INFO - Trying GeoNamesQuery for 'Cordova'\n",
      "2025-07-29 21:04:19 - INFO - [API CALL] http://api.geonames.org/searchJSON?q=Cordova&username=jairomelo&maxRows=10&type=json&style=FULL&country=PE&featureClass=p\n",
      "2025-07-29 21:04:19 - INFO - Post-filtering GeoNames results for 'Cordova' with language 'es'\n",
      "2025-07-29 21:04:19 - INFO - Found match: 'Puesto Cabo Córdova' with similarity 85.71428571428572%\n",
      "2025-07-29 21:04:19 - INFO - Trying WHGQuery for 'Cordova'\n",
      "2025-07-29 21:04:20 - INFO - [API CALL] https://whgazetteer.org/api/index/?name=Cordova&fclass=p&dataset=&ccodes=PE\n",
      "2025-07-29 21:04:20 - INFO - Finding best match for 'Cordova' in WHG results\n",
      "2025-07-29 21:04:20 - INFO - Comparing 'Cordova' with 'Cordova': 100.0% similarity\n",
      "2025-07-29 21:04:20 - INFO - Best match for 'Cordova': Cordova (100.0%)\n",
      "2025-07-29 21:04:20 - INFO - Resolved 'Cordova' via WHGQuery: {'place': 'Cordova', 'standardize_label': 'Cordova', 'language': 'es', 'latitude': -14.04, 'longitude': -75.1853, 'source': 'WHG', 'id': '14164455', 'uri': 'https://whgazetteer.org/places/14164455/portal/', 'country_code': 'PE', 'part_of': '', 'part_of_uri': '', 'confidence': 100.0, 'threshold': 90, 'match_type': 'exact'}\n"
     ]
    },
    {
     "name": "stderr",
     "output_type": "stream",
     "text": [
      "Resolving unique places:  43%|████▎     | 52/122 [01:26<01:13,  1.05s/it]"
     ]
    },
    {
     "name": "stdout",
     "output_type": "stream",
     "text": [
      "2025-07-29 21:04:20 - INFO - Trying GeoNamesQuery for 'Español de Aucará'\n",
      "2025-07-29 21:04:20 - INFO - [API CALL] http://api.geonames.org/searchJSON?q=Espa%C3%B1ol+de+Aucar%C3%A1&username=jairomelo&maxRows=10&type=json&style=FULL&country=PE&featureClass=p\n",
      "2025-07-29 21:04:20 - INFO - Trying WHGQuery for 'Español de Aucará'\n",
      "2025-07-29 21:04:21 - INFO - [API CALL] https://whgazetteer.org/api/index/?name=Espa%C3%B1ol%20de%20Aucar%C3%A1&fclass=p&dataset=&ccodes=PE\n",
      "2025-07-29 21:04:21 - INFO - Finding best match for 'Español de Aucará' in WHG results\n",
      "2025-07-29 21:04:21 - INFO - Trying TGNQuery for 'Español de Aucará'\n",
      "2025-07-29 21:04:23 - INFO - Trying WikidataQuery for 'Español de Aucará'\n",
      "2025-07-29 21:04:23 - INFO - [API CALL] https://www.wikidata.org/w/api.php?action=wbsearchentities&search=Espa%C3%B1ol+de+Aucar%C3%A1&language=es&format=json&type=item&limit=10\n",
      "2025-07-29 21:04:23 - WARNING - Could not resolve 'Español de Aucará' via any service.\n"
     ]
    },
    {
     "name": "stderr",
     "output_type": "stream",
     "text": [
      "Resolving unique places:  43%|████▎     | 53/122 [01:29<02:00,  1.75s/it]"
     ]
    },
    {
     "name": "stdout",
     "output_type": "stream",
     "text": [
      "2025-07-29 21:04:23 - INFO - Trying GeoNamesQuery for 'Español de Pampamarca'\n",
      "2025-07-29 21:04:24 - INFO - [API CALL] http://api.geonames.org/searchJSON?q=Espa%C3%B1ol+de+Pampamarca&username=jairomelo&maxRows=10&type=json&style=FULL&country=PE&featureClass=p\n",
      "2025-07-29 21:04:24 - INFO - Trying WHGQuery for 'Español de Pampamarca'\n",
      "2025-07-29 21:04:24 - INFO - [API CALL] https://whgazetteer.org/api/index/?name=Espa%C3%B1ol%20de%20Pampamarca&fclass=p&dataset=&ccodes=PE\n",
      "2025-07-29 21:04:24 - INFO - Finding best match for 'Español de Pampamarca' in WHG results\n",
      "2025-07-29 21:04:24 - INFO - Trying TGNQuery for 'Español de Pampamarca'\n",
      "2025-07-29 21:04:26 - INFO - Trying WikidataQuery for 'Español de Pampamarca'\n",
      "2025-07-29 21:04:26 - INFO - [API CALL] https://www.wikidata.org/w/api.php?action=wbsearchentities&search=Espa%C3%B1ol+de+Pampamarca&language=es&format=json&type=item&limit=10\n",
      "2025-07-29 21:04:26 - WARNING - Could not resolve 'Español de Pampamarca' via any service.\n"
     ]
    },
    {
     "name": "stderr",
     "output_type": "stream",
     "text": [
      "Resolving unique places:  44%|████▍     | 54/122 [01:32<02:20,  2.06s/it]"
     ]
    },
    {
     "name": "stdout",
     "output_type": "stream",
     "text": [
      "2025-07-29 21:04:26 - INFO - Trying GeoNamesQuery for 'Espilco'\n",
      "2025-07-29 21:04:27 - INFO - [API CALL] http://api.geonames.org/searchJSON?q=Espilco&username=jairomelo&maxRows=10&type=json&style=FULL&country=PE&featureClass=p\n",
      "2025-07-29 21:04:27 - INFO - Trying WHGQuery for 'Espilco'\n",
      "2025-07-29 21:04:27 - INFO - [API CALL] https://whgazetteer.org/api/index/?name=Espilco&fclass=p&dataset=&ccodes=PE\n",
      "2025-07-29 21:04:27 - INFO - Finding best match for 'Espilco' in WHG results\n",
      "2025-07-29 21:04:27 - INFO - Trying TGNQuery for 'Espilco'\n",
      "2025-07-29 21:04:28 - INFO - Trying WikidataQuery for 'Espilco'\n",
      "2025-07-29 21:04:28 - INFO - [API CALL] https://www.wikidata.org/w/api.php?action=wbsearchentities&search=Espilco&language=es&format=json&type=item&limit=10\n",
      "2025-07-29 21:04:28 - WARNING - Could not resolve 'Espilco' via any service.\n"
     ]
    },
    {
     "name": "stderr",
     "output_type": "stream",
     "text": [
      "Resolving unique places:  45%|████▌     | 55/122 [01:34<02:10,  1.95s/it]"
     ]
    },
    {
     "name": "stdout",
     "output_type": "stream",
     "text": [
      "2025-07-29 21:04:28 - INFO - Trying GeoNamesQuery for 'General'\n",
      "2025-07-29 21:04:28 - INFO - [API CALL] http://api.geonames.org/searchJSON?q=General&username=jairomelo&maxRows=10&type=json&style=FULL&country=PE&featureClass=p\n",
      "2025-07-29 21:04:28 - INFO - Post-filtering GeoNames results for 'General' with language 'es'\n",
      "2025-07-29 21:04:28 - INFO - Found match: 'Talahuaya' with similarity 40.0%\n",
      "2025-07-29 21:04:28 - INFO - Post-filtering GeoNames results for 'General' with language 'es'\n",
      "2025-07-29 21:04:28 - INFO - Found match: 'San Miguel de Curisa' with similarity 42.85714285714286%\n",
      "2025-07-29 21:04:28 - INFO - Post-filtering GeoNames results for 'General' with language 'es'\n",
      "2025-07-29 21:04:28 - INFO - Found match: 'Seche' with similarity 44.44444444444444%\n",
      "2025-07-29 21:04:28 - INFO - Trying WHGQuery for 'General'\n",
      "2025-07-29 21:04:29 - INFO - [API CALL] https://whgazetteer.org/api/index/?name=General&fclass=p&dataset=&ccodes=PE\n",
      "2025-07-29 21:04:29 - INFO - Finding best match for 'General' in WHG results\n",
      "2025-07-29 21:04:29 - INFO - Trying TGNQuery for 'General'\n",
      "2025-07-29 21:04:29 - INFO - Trying WikidataQuery for 'General'\n",
      "2025-07-29 21:04:29 - INFO - [API CALL] https://www.wikidata.org/w/api.php?action=wbsearchentities&search=General&language=es&format=json&type=item&limit=10\n",
      "2025-07-29 21:04:30 - INFO - [API CALL] https://www.wikidata.org/w/api.php?action=wbgetentities&ids=Q83460%7CQ23790275%7CQ2608441%7CQ1337239%7CQ62365366%7CQ222662%7CQ1606717%7CQ670860%7CQ106644026%7CQ152951&format=json&props=labels%7Cclaims\n",
      "2025-07-29 21:04:31 - INFO - [API CALL] https://www.wikidata.org/w/api.php?action=wbgetentities&ids=Q30%7CQ39&format=json&props=labels%7Cclaims\n",
      "2025-07-29 21:04:31 - WARNING - Could not resolve 'General' via any service.\n"
     ]
    },
    {
     "name": "stderr",
     "output_type": "stream",
     "text": [
      "Resolving unique places:  46%|████▌     | 56/122 [01:37<02:29,  2.27s/it]"
     ]
    },
    {
     "name": "stdout",
     "output_type": "stream",
     "text": [
      "2025-07-29 21:04:31 - INFO - Trying GeoNamesQuery for 'Huacaña'\n",
      "2025-07-29 21:04:32 - INFO - [API CALL] http://api.geonames.org/searchJSON?q=Huaca%C3%B1a&username=jairomelo&maxRows=10&type=json&style=FULL&country=PE&featureClass=p\n",
      "2025-07-29 21:04:32 - INFO - Post-filtering GeoNames results for 'Huacaña' with language 'es'\n",
      "2025-07-29 21:04:32 - INFO - Found match: 'Huacaña' with similarity 100.0%\n",
      "2025-07-29 21:04:32 - INFO - Resolved 'Huacaña' via GeoNamesQuery: {'place': 'Huacaña', 'standardize_label': 'Huacaña', 'language': 'es', 'latitude': -15.51861, 'longitude': -72.01884, 'source': 'GeoNames', 'id': 3940068, 'uri': 'http://sws.geonames.org/3940068/', 'country_code': 'PE', 'part_of': '', 'part_of_uri': '', 'confidence': 100.0, 'threshold': 90, 'match_type': 'exact'}\n"
     ]
    },
    {
     "name": "stderr",
     "output_type": "stream",
     "text": [
      "Resolving unique places:  47%|████▋     | 57/122 [01:38<01:57,  1.80s/it]"
     ]
    },
    {
     "name": "stdout",
     "output_type": "stream",
     "text": [
      "2025-07-29 21:04:32 - INFO - Trying GeoNamesQuery for 'Huaicahuacho'\n",
      "2025-07-29 21:04:33 - INFO - [API CALL] http://api.geonames.org/searchJSON?q=Huaicahuacho&username=jairomelo&maxRows=10&type=json&style=FULL&country=PE&featureClass=p\n",
      "2025-07-29 21:04:33 - INFO - Post-filtering GeoNames results for 'Huaicahuacho' with language 'es'\n",
      "2025-07-29 21:04:33 - INFO - Resolved 'Huaicahuacho' via GeoNamesQuery: {'place': 'Huaicahuacho', 'standardize_label': 'Huaycahuaycho', 'language': 'es', 'latitude': -14.15, 'longitude': -74.01667, 'source': 'GeoNames', 'id': 3939003, 'uri': 'http://sws.geonames.org/3939003/', 'country_code': 'PE', 'part_of': '', 'part_of_uri': '', 'confidence': 100, 'threshold': 90, 'match_type': 'exact'}\n"
     ]
    },
    {
     "name": "stderr",
     "output_type": "stream",
     "text": [
      "Resolving unique places:  48%|████▊     | 58/122 [01:39<01:42,  1.60s/it]"
     ]
    },
    {
     "name": "stdout",
     "output_type": "stream",
     "text": [
      "2025-07-29 21:04:33 - INFO - Trying GeoNamesQuery for 'Hualla'\n",
      "2025-07-29 21:04:34 - INFO - [API CALL] http://api.geonames.org/searchJSON?q=Hualla&username=jairomelo&maxRows=10&type=json&style=FULL&country=PE&featureClass=p\n",
      "2025-07-29 21:04:34 - INFO - Post-filtering GeoNames results for 'Hualla' with language 'es'\n",
      "2025-07-29 21:04:34 - INFO - Found match: 'Huallatalloc' with similarity 100.0%\n",
      "2025-07-29 21:04:34 - INFO - Resolved 'Hualla' via GeoNamesQuery: {'place': 'Hualla', 'standardize_label': 'Huallatalloc', 'language': 'es', 'latitude': -13.51667, 'longitude': -70.95, 'source': 'GeoNames', 'id': 3939794, 'uri': 'http://sws.geonames.org/3939794/', 'country_code': 'PE', 'part_of': '', 'part_of_uri': '', 'confidence': 100.0, 'threshold': 90, 'match_type': 'exact'}\n"
     ]
    },
    {
     "name": "stderr",
     "output_type": "stream",
     "text": [
      "Resolving unique places:  48%|████▊     | 59/122 [01:40<01:31,  1.46s/it]"
     ]
    },
    {
     "name": "stdout",
     "output_type": "stream",
     "text": [
      "2025-07-29 21:04:34 - INFO - Trying GeoNamesQuery for 'Huamanga'\n",
      "2025-07-29 21:04:34 - INFO - [API CALL] http://api.geonames.org/searchJSON?q=Huamanga&username=jairomelo&maxRows=10&type=json&style=FULL&country=PE&featureClass=p\n",
      "2025-07-29 21:04:34 - INFO - Post-filtering GeoNames results for 'Huamanga' with language 'es'\n",
      "2025-07-29 21:04:34 - INFO - Found match: 'Ayacucho' with similarity 36.36363636363637%\n",
      "2025-07-29 21:04:34 - INFO - Post-filtering GeoNames results for 'Huamanga' with language 'es'\n",
      "2025-07-29 21:04:34 - INFO - Found match: 'Ayacucho' with similarity 40.0%\n",
      "2025-07-29 21:04:34 - INFO - Post-filtering GeoNames results for 'Huamanga' with language 'es'\n",
      "2025-07-29 21:04:34 - INFO - Found match: 'Ayacucho' with similarity 50.0%\n",
      "2025-07-29 21:04:34 - INFO - Post-filtering GeoNames results for 'Huamanga' with language 'es'\n",
      "2025-07-29 21:04:34 - INFO - Found match: 'Ayacucho' with similarity 92.3076923076923%\n",
      "2025-07-29 21:04:34 - INFO - Resolved 'Huamanga' via GeoNamesQuery: {'place': 'Huamanga', 'standardize_label': 'Ayacucho', 'language': 'es', 'latitude': -13.1638, 'longitude': -74.22345, 'source': 'GeoNames', 'id': 3947019, 'uri': 'http://sws.geonames.org/3947019/', 'country_code': 'PE', 'part_of': '', 'part_of_uri': '', 'confidence': 92.3076923076923, 'threshold': 90, 'match_type': 'fuzzy'}\n"
     ]
    },
    {
     "name": "stderr",
     "output_type": "stream",
     "text": [
      "Resolving unique places:  49%|████▉     | 60/122 [01:41<01:14,  1.20s/it]"
     ]
    },
    {
     "name": "stdout",
     "output_type": "stream",
     "text": [
      "2025-07-29 21:04:34 - INFO - Trying GeoNamesQuery for 'Huanca'\n",
      "2025-07-29 21:04:35 - INFO - [API CALL] http://api.geonames.org/searchJSON?q=Huanca&username=jairomelo&maxRows=10&type=json&style=FULL&country=PE&featureClass=p\n",
      "2025-07-29 21:04:35 - INFO - Post-filtering GeoNames results for 'Huanca' with language 'es'\n",
      "2025-07-29 21:04:35 - INFO - Found match: 'Huanca Santos' with similarity 100.0%\n",
      "2025-07-29 21:04:35 - INFO - Resolved 'Huanca' via GeoNamesQuery: {'place': 'Huanca', 'standardize_label': 'Huanca Santos', 'language': 'es', 'latitude': -13.92, 'longitude': -74.33411, 'source': 'GeoNames', 'id': 3939474, 'uri': 'http://sws.geonames.org/3939474/', 'country_code': 'PE', 'part_of': '', 'part_of_uri': '', 'confidence': 100.0, 'threshold': 90, 'match_type': 'exact'}\n"
     ]
    },
    {
     "name": "stderr",
     "output_type": "stream",
     "text": [
      "Resolving unique places:  50%|█████     | 61/122 [01:41<01:02,  1.02s/it]"
     ]
    },
    {
     "name": "stdout",
     "output_type": "stream",
     "text": [
      "2025-07-29 21:04:35 - INFO - Trying GeoNamesQuery for 'Huanta'\n",
      "2025-07-29 21:04:36 - INFO - [API CALL] http://api.geonames.org/searchJSON?q=Huanta&username=jairomelo&maxRows=10&type=json&style=FULL&country=PE&featureClass=p\n",
      "2025-07-29 21:04:36 - INFO - Post-filtering GeoNames results for 'Huanta' with language 'es'\n",
      "2025-07-29 21:04:36 - INFO - Found match: 'Huanta' with similarity 100.0%\n",
      "2025-07-29 21:04:36 - INFO - Resolved 'Huanta' via GeoNamesQuery: {'place': 'Huanta', 'standardize_label': 'Huanta', 'language': 'es', 'latitude': -12.93333, 'longitude': -74.25, 'source': 'GeoNames', 'id': 3939386, 'uri': 'http://sws.geonames.org/3939386/', 'country_code': 'PE', 'part_of': '', 'part_of_uri': '', 'confidence': 100.0, 'threshold': 90, 'match_type': 'exact'}\n"
     ]
    },
    {
     "name": "stderr",
     "output_type": "stream",
     "text": [
      "Resolving unique places:  51%|█████     | 62/122 [01:42<00:53,  1.12it/s]"
     ]
    },
    {
     "name": "stdout",
     "output_type": "stream",
     "text": [
      "2025-07-29 21:04:36 - INFO - Trying GeoNamesQuery for 'Huaycahuacho'\n",
      "2025-07-29 21:04:36 - INFO - [API CALL] http://api.geonames.org/searchJSON?q=Huaycahuacho&username=jairomelo&maxRows=10&type=json&style=FULL&country=PE&featureClass=p\n",
      "2025-07-29 21:04:36 - INFO - Post-filtering GeoNames results for 'Huaycahuacho' with language 'es'\n",
      "2025-07-29 21:04:36 - INFO - Found match: 'Huaycahuaycho' with similarity 96.0%\n",
      "2025-07-29 21:04:36 - INFO - Post-filtering GeoNames results for 'Huaycahuacho' with language 'es'\n",
      "2025-07-29 21:04:36 - INFO - Found match: 'Santa Ana de Huaycahuacho' with similarity 100.0%\n",
      "2025-07-29 21:04:36 - INFO - Resolved 'Huaycahuacho' via GeoNamesQuery: {'place': 'Huaycahuacho', 'standardize_label': 'Santa Ana de Huaycahuacho', 'language': 'es', 'latitude': -14.95, 'longitude': -73.21667, 'source': 'GeoNames', 'id': 3929281, 'uri': 'http://sws.geonames.org/3929281/', 'country_code': 'PE', 'part_of': '', 'part_of_uri': '', 'confidence': 100.0, 'threshold': 90, 'match_type': 'exact'}\n"
     ]
    },
    {
     "name": "stderr",
     "output_type": "stream",
     "text": [
      "Resolving unique places:  52%|█████▏    | 63/122 [01:42<00:45,  1.31it/s]"
     ]
    },
    {
     "name": "stdout",
     "output_type": "stream",
     "text": [
      "2025-07-29 21:04:36 - INFO - Trying GeoNamesQuery for 'Huaytara'\n",
      "2025-07-29 21:04:37 - INFO - [API CALL] http://api.geonames.org/searchJSON?q=Huaytara&username=jairomelo&maxRows=10&type=json&style=FULL&country=PE&featureClass=p\n",
      "2025-07-29 21:04:37 - INFO - Post-filtering GeoNames results for 'Huaytara' with language 'es'\n",
      "2025-07-29 21:04:37 - INFO - Found match: 'Huaytará' with similarity 93.33333333333333%\n",
      "2025-07-29 21:04:37 - INFO - Resolved 'Huaytara' via GeoNamesQuery: {'place': 'Huaytara', 'standardize_label': 'Huaytará', 'language': 'es', 'latitude': -13.60445, 'longitude': -75.35308, 'source': 'GeoNames', 'id': 3938825, 'uri': 'http://sws.geonames.org/3938825/', 'country_code': 'PE', 'part_of': '', 'part_of_uri': '', 'confidence': 93.33333333333333, 'threshold': 90, 'match_type': 'fuzzy'}\n"
     ]
    },
    {
     "name": "stderr",
     "output_type": "stream",
     "text": [
      "Resolving unique places:  52%|█████▏    | 64/122 [01:43<00:40,  1.42it/s]"
     ]
    },
    {
     "name": "stdout",
     "output_type": "stream",
     "text": [
      "2025-07-29 21:04:37 - WARNING - Using flexible threshold for short place name: 'Ica'\n",
      "2025-07-29 21:04:37 - INFO - Trying GeoNamesQuery for 'Ica'\n",
      "2025-07-29 21:04:37 - INFO - [API CALL] http://api.geonames.org/searchJSON?q=Ica&username=jairomelo&maxRows=10&type=json&style=FULL&country=PE&featureClass=p\n",
      "2025-07-29 21:04:37 - INFO - Post-filtering GeoNames results for 'Ica' with language 'es'\n",
      "2025-07-29 21:04:37 - INFO - Found match: 'Ica' with similarity 100.0%\n",
      "2025-07-29 21:04:37 - INFO - Resolved 'Ica' via GeoNamesQuery: {'place': 'Ica', 'standardize_label': 'Ica', 'language': 'es', 'latitude': -14.07538, 'longitude': -75.73422, 'source': 'GeoNames', 'id': 3938527, 'uri': 'http://sws.geonames.org/3938527/', 'country_code': 'PE', 'part_of': '', 'part_of_uri': '', 'confidence': 100.0, 'threshold': 70, 'match_type': 'exact'}\n"
     ]
    },
    {
     "name": "stderr",
     "output_type": "stream",
     "text": [
      "Resolving unique places:  53%|█████▎    | 65/122 [01:44<00:42,  1.36it/s]"
     ]
    },
    {
     "name": "stdout",
     "output_type": "stream",
     "text": [
      "2025-07-29 21:04:37 - INFO - Trying GeoNamesQuery for 'Iglesia Parroquial de Pampamarca'\n",
      "2025-07-29 21:04:38 - INFO - [API CALL] http://api.geonames.org/searchJSON?q=Iglesia+Parroquial+de+Pampamarca&username=jairomelo&maxRows=10&type=json&style=FULL&country=PE&featureClass=p\n",
      "2025-07-29 21:04:38 - INFO - Trying WHGQuery for 'Iglesia Parroquial de Pampamarca'\n",
      "2025-07-29 21:04:38 - INFO - [API CALL] https://whgazetteer.org/api/index/?name=Iglesia%20Parroquial%20de%20Pampamarca&fclass=p&dataset=&ccodes=PE\n",
      "2025-07-29 21:04:38 - INFO - Finding best match for 'Iglesia Parroquial de Pampamarca' in WHG results\n",
      "2025-07-29 21:04:38 - INFO - Trying TGNQuery for 'Iglesia Parroquial de Pampamarca'\n",
      "2025-07-29 21:04:40 - INFO - Trying WikidataQuery for 'Iglesia Parroquial de Pampamarca'\n",
      "2025-07-29 21:04:40 - INFO - [API CALL] https://www.wikidata.org/w/api.php?action=wbsearchentities&search=Iglesia+Parroquial+de+Pampamarca&language=es&format=json&type=item&limit=10\n",
      "2025-07-29 21:04:40 - WARNING - Could not resolve 'Iglesia Parroquial de Pampamarca' via any service.\n"
     ]
    },
    {
     "name": "stderr",
     "output_type": "stream",
     "text": [
      "Resolving unique places:  54%|█████▍    | 66/122 [01:46<01:16,  1.36s/it]"
     ]
    },
    {
     "name": "stdout",
     "output_type": "stream",
     "text": [
      "2025-07-29 21:04:40 - INFO - Trying GeoNamesQuery for 'Iglesia de  Aucará'\n",
      "2025-07-29 21:04:41 - INFO - [API CALL] http://api.geonames.org/searchJSON?q=Iglesia+de++Aucar%C3%A1&username=jairomelo&maxRows=10&type=json&style=FULL&country=PE&featureClass=p\n",
      "2025-07-29 21:04:41 - INFO - Trying WHGQuery for 'Iglesia de  Aucará'\n",
      "2025-07-29 21:04:41 - INFO - [API CALL] https://whgazetteer.org/api/index/?name=Iglesia%20de%20%20Aucar%C3%A1&fclass=p&dataset=&ccodes=PE\n",
      "2025-07-29 21:04:41 - INFO - Finding best match for 'Iglesia de  Aucará' in WHG results\n",
      "2025-07-29 21:04:41 - INFO - Trying TGNQuery for 'Iglesia de  Aucará'\n",
      "2025-07-29 21:04:43 - INFO - Trying WikidataQuery for 'Iglesia de  Aucará'\n",
      "2025-07-29 21:04:43 - INFO - [API CALL] https://www.wikidata.org/w/api.php?action=wbsearchentities&search=Iglesia+de++Aucar%C3%A1&language=es&format=json&type=item&limit=10\n",
      "2025-07-29 21:04:43 - WARNING - Could not resolve 'Iglesia de  Aucará' via any service.\n"
     ]
    },
    {
     "name": "stderr",
     "output_type": "stream",
     "text": [
      "Resolving unique places:  55%|█████▍    | 67/122 [01:49<01:38,  1.79s/it]"
     ]
    },
    {
     "name": "stdout",
     "output_type": "stream",
     "text": [
      "2025-07-29 21:04:43 - INFO - Trying GeoNamesQuery for 'Iglesia de Aucará'\n",
      "2025-07-29 21:04:43 - INFO - [API CALL] http://api.geonames.org/searchJSON?q=Iglesia+de+Aucar%C3%A1&username=jairomelo&maxRows=10&type=json&style=FULL&country=PE&featureClass=p\n",
      "2025-07-29 21:04:43 - INFO - Trying WHGQuery for 'Iglesia de Aucará'\n",
      "2025-07-29 21:04:44 - INFO - [API CALL] https://whgazetteer.org/api/index/?name=Iglesia%20de%20Aucar%C3%A1&fclass=p&dataset=&ccodes=PE\n",
      "2025-07-29 21:04:44 - INFO - Finding best match for 'Iglesia de Aucará' in WHG results\n",
      "2025-07-29 21:04:44 - INFO - Trying TGNQuery for 'Iglesia de Aucará'\n",
      "2025-07-29 21:04:46 - INFO - Trying WikidataQuery for 'Iglesia de Aucará'\n",
      "2025-07-29 21:04:46 - INFO - [API CALL] https://www.wikidata.org/w/api.php?action=wbsearchentities&search=Iglesia+de+Aucar%C3%A1&language=es&format=json&type=item&limit=10\n",
      "2025-07-29 21:04:46 - WARNING - Could not resolve 'Iglesia de Aucará' via any service.\n"
     ]
    },
    {
     "name": "stderr",
     "output_type": "stream",
     "text": [
      "Resolving unique places:  56%|█████▌    | 68/122 [01:52<01:52,  2.08s/it]"
     ]
    },
    {
     "name": "stdout",
     "output_type": "stream",
     "text": [
      "2025-07-29 21:04:46 - INFO - Trying GeoNamesQuery for 'Iglesia de Pampamarca'\n",
      "2025-07-29 21:04:46 - INFO - [API CALL] http://api.geonames.org/searchJSON?q=Iglesia+de+Pampamarca&username=jairomelo&maxRows=10&type=json&style=FULL&country=PE&featureClass=p\n",
      "2025-07-29 21:04:46 - INFO - Trying WHGQuery for 'Iglesia de Pampamarca'\n",
      "2025-07-29 21:04:47 - INFO - [API CALL] https://whgazetteer.org/api/index/?name=Iglesia%20de%20Pampamarca&fclass=p&dataset=&ccodes=PE\n",
      "2025-07-29 21:04:47 - INFO - Finding best match for 'Iglesia de Pampamarca' in WHG results\n",
      "2025-07-29 21:04:47 - INFO - Trying TGNQuery for 'Iglesia de Pampamarca'\n",
      "2025-07-29 21:04:48 - INFO - Trying WikidataQuery for 'Iglesia de Pampamarca'\n",
      "2025-07-29 21:04:49 - INFO - [API CALL] https://www.wikidata.org/w/api.php?action=wbsearchentities&search=Iglesia+de+Pampamarca&language=es&format=json&type=item&limit=10\n",
      "2025-07-29 21:04:49 - INFO - [API CALL] https://www.wikidata.org/w/api.php?action=wbgetentities&ids=Q42826401&format=json&props=labels%7Cclaims\n",
      "2025-07-29 21:04:49 - INFO - [CACHE HIT] https://www.wikidata.org/w/api.php?action=wbgetentities&format=json&ids=Q419&props=labels%7Cclaims\n",
      "2025-07-29 21:04:49 - INFO - [API CALL] https://www.wikidata.org/w/api.php?action=wbgetentities&ids=Q1920500&format=json&props=labels%7Cclaims\n",
      "2025-07-29 21:04:49 - WARNING - Could not resolve 'Iglesia de Pampamarca' via any service.\n"
     ]
    },
    {
     "name": "stderr",
     "output_type": "stream",
     "text": [
      "Resolving unique places:  57%|█████▋    | 69/122 [01:55<02:08,  2.42s/it]"
     ]
    },
    {
     "name": "stdout",
     "output_type": "stream",
     "text": [
      "2025-07-29 21:04:49 - INFO - Trying GeoNamesQuery for 'Iglesia de Yshua'\n",
      "2025-07-29 21:04:49 - INFO - [API CALL] http://api.geonames.org/searchJSON?q=Iglesia+de+Yshua&username=jairomelo&maxRows=10&type=json&style=FULL&country=PE&featureClass=p\n",
      "2025-07-29 21:04:49 - INFO - Trying WHGQuery for 'Iglesia de Yshua'\n",
      "2025-07-29 21:04:50 - INFO - [API CALL] https://whgazetteer.org/api/index/?name=Iglesia%20de%20Yshua&fclass=p&dataset=&ccodes=PE\n",
      "2025-07-29 21:04:50 - INFO - Finding best match for 'Iglesia de Yshua' in WHG results\n",
      "2025-07-29 21:04:50 - INFO - Trying TGNQuery for 'Iglesia de Yshua'\n",
      "2025-07-29 21:04:52 - INFO - Trying WikidataQuery for 'Iglesia de Yshua'\n",
      "2025-07-29 21:04:52 - INFO - [API CALL] https://www.wikidata.org/w/api.php?action=wbsearchentities&search=Iglesia+de+Yshua&language=es&format=json&type=item&limit=10\n",
      "2025-07-29 21:04:52 - WARNING - Could not resolve 'Iglesia de Yshua' via any service.\n"
     ]
    },
    {
     "name": "stderr",
     "output_type": "stream",
     "text": [
      "Resolving unique places:  57%|█████▋    | 70/122 [01:58<02:11,  2.54s/it]"
     ]
    },
    {
     "name": "stdout",
     "output_type": "stream",
     "text": [
      "2025-07-29 21:04:52 - INFO - Trying GeoNamesQuery for 'India'\n",
      "2025-07-29 21:04:52 - INFO - [API CALL] http://api.geonames.org/searchJSON?q=India&username=jairomelo&maxRows=10&type=json&style=FULL&country=PE&featureClass=p\n",
      "2025-07-29 21:04:52 - INFO - Post-filtering GeoNames results for 'India' with language 'es'\n",
      "2025-07-29 21:04:52 - INFO - Resolved 'India' via GeoNamesQuery: {'place': 'India', 'standardize_label': 'India Muerta', 'language': 'es', 'latitude': -17.52913, 'longitude': -71.16753, 'source': 'GeoNames', 'id': 3938319, 'uri': 'http://sws.geonames.org/3938319/', 'country_code': 'PE', 'part_of': '', 'part_of_uri': '', 'confidence': 100, 'threshold': 90, 'match_type': 'exact'}\n"
     ]
    },
    {
     "name": "stderr",
     "output_type": "stream",
     "text": [
      "Resolving unique places:  58%|█████▊    | 71/122 [01:58<01:36,  1.90s/it]"
     ]
    },
    {
     "name": "stdout",
     "output_type": "stream",
     "text": [
      "2025-07-29 21:04:52 - INFO - Trying GeoNamesQuery for 'India de Hishua'\n",
      "2025-07-29 21:04:53 - INFO - [API CALL] http://api.geonames.org/searchJSON?q=India+de+Hishua&username=jairomelo&maxRows=10&type=json&style=FULL&country=PE&featureClass=p\n",
      "2025-07-29 21:04:53 - INFO - Trying WHGQuery for 'India de Hishua'\n",
      "2025-07-29 21:04:53 - INFO - [API CALL] https://whgazetteer.org/api/index/?name=India%20de%20Hishua&fclass=p&dataset=&ccodes=PE\n",
      "2025-07-29 21:04:53 - INFO - Finding best match for 'India de Hishua' in WHG results\n",
      "2025-07-29 21:04:53 - INFO - Trying TGNQuery for 'India de Hishua'\n",
      "2025-07-29 21:04:55 - INFO - Trying WikidataQuery for 'India de Hishua'\n",
      "2025-07-29 21:04:55 - INFO - [API CALL] https://www.wikidata.org/w/api.php?action=wbsearchentities&search=India+de+Hishua&language=es&format=json&type=item&limit=10\n",
      "2025-07-29 21:04:55 - WARNING - Could not resolve 'India de Hishua' via any service.\n"
     ]
    },
    {
     "name": "stderr",
     "output_type": "stream",
     "text": [
      "Resolving unique places:  59%|█████▉    | 72/122 [02:01<01:48,  2.18s/it]"
     ]
    },
    {
     "name": "stdout",
     "output_type": "stream",
     "text": [
      "2025-07-29 21:04:55 - INFO - Trying GeoNamesQuery for 'India de Pampamarca'\n",
      "2025-07-29 21:04:55 - INFO - [API CALL] http://api.geonames.org/searchJSON?q=India+de+Pampamarca&username=jairomelo&maxRows=10&type=json&style=FULL&country=PE&featureClass=p\n",
      "2025-07-29 21:04:55 - INFO - Trying WHGQuery for 'India de Pampamarca'\n",
      "2025-07-29 21:04:56 - INFO - [API CALL] https://whgazetteer.org/api/index/?name=India%20de%20Pampamarca&fclass=p&dataset=&ccodes=PE\n",
      "2025-07-29 21:04:56 - INFO - Finding best match for 'India de Pampamarca' in WHG results\n",
      "2025-07-29 21:04:56 - INFO - Trying TGNQuery for 'India de Pampamarca'\n",
      "2025-07-29 21:04:58 - INFO - Trying WikidataQuery for 'India de Pampamarca'\n",
      "2025-07-29 21:04:58 - INFO - [API CALL] https://www.wikidata.org/w/api.php?action=wbsearchentities&search=India+de+Pampamarca&language=es&format=json&type=item&limit=10\n",
      "2025-07-29 21:04:58 - WARNING - Could not resolve 'India de Pampamarca' via any service.\n"
     ]
    },
    {
     "name": "stderr",
     "output_type": "stream",
     "text": [
      "Resolving unique places:  60%|█████▉    | 73/122 [02:04<01:54,  2.33s/it]"
     ]
    },
    {
     "name": "stdout",
     "output_type": "stream",
     "text": [
      "2025-07-29 21:04:58 - INFO - Trying GeoNamesQuery for 'Jauja'\n",
      "2025-07-29 21:04:59 - INFO - [API CALL] http://api.geonames.org/searchJSON?q=Jauja&username=jairomelo&maxRows=10&type=json&style=FULL&country=PE&featureClass=p\n",
      "2025-07-29 21:04:59 - INFO - Post-filtering GeoNames results for 'Jauja' with language 'es'\n",
      "2025-07-29 21:04:59 - INFO - Found match: 'Jauja' with similarity 100.0%\n",
      "2025-07-29 21:04:59 - INFO - Resolved 'Jauja' via GeoNamesQuery: {'place': 'Jauja', 'standardize_label': 'Jauja', 'language': 'es', 'latitude': -11.77584, 'longitude': -75.49656, 'source': 'GeoNames', 'id': 3937733, 'uri': 'http://sws.geonames.org/3937733/', 'country_code': 'PE', 'part_of': '', 'part_of_uri': '', 'confidence': 100.0, 'threshold': 90, 'match_type': 'exact'}\n"
     ]
    },
    {
     "name": "stderr",
     "output_type": "stream",
     "text": [
      "Resolving unique places:  61%|██████    | 74/122 [02:05<01:29,  1.87s/it]"
     ]
    },
    {
     "name": "stdout",
     "output_type": "stream",
     "text": [
      "2025-07-29 21:04:59 - INFO - Trying GeoNamesQuery for 'Julcamarca'\n",
      "2025-07-29 21:04:59 - INFO - [API CALL] http://api.geonames.org/searchJSON?q=Julcamarca&username=jairomelo&maxRows=10&type=json&style=FULL&country=PE&featureClass=p\n",
      "2025-07-29 21:04:59 - INFO - Post-filtering GeoNames results for 'Julcamarca' with language 'es'\n",
      "2025-07-29 21:04:59 - INFO - Found match: 'Julcamarca' with similarity 100.0%\n",
      "2025-07-29 21:04:59 - INFO - Resolved 'Julcamarca' via GeoNamesQuery: {'place': 'Julcamarca', 'standardize_label': 'Julcamarca', 'language': 'es', 'latitude': -9.28868, 'longitude': -77.99051, 'source': 'GeoNames', 'id': 6380634, 'uri': 'http://sws.geonames.org/6380634/', 'country_code': 'PE', 'part_of': '', 'part_of_uri': '', 'confidence': 100.0, 'threshold': 90, 'match_type': 'exact'}\n"
     ]
    },
    {
     "name": "stderr",
     "output_type": "stream",
     "text": [
      "Resolving unique places:  61%|██████▏   | 75/122 [02:05<01:11,  1.52s/it]"
     ]
    },
    {
     "name": "stdout",
     "output_type": "stream",
     "text": [
      "2025-07-29 21:04:59 - INFO - Trying GeoNamesQuery for 'Laramate'\n",
      "2025-07-29 21:05:00 - INFO - [API CALL] http://api.geonames.org/searchJSON?q=Laramate&username=jairomelo&maxRows=10&type=json&style=FULL&country=PE&featureClass=p\n",
      "2025-07-29 21:05:00 - INFO - Post-filtering GeoNames results for 'Laramate' with language 'es'\n",
      "2025-07-29 21:05:00 - INFO - Found match: 'Laramate' with similarity 100.0%\n",
      "2025-07-29 21:05:00 - INFO - Resolved 'Laramate' via GeoNamesQuery: {'place': 'Laramate', 'standardize_label': 'Laramate', 'language': 'es', 'latitude': -13.02715, 'longitude': -74.38702, 'source': 'GeoNames', 'id': 3936871, 'uri': 'http://sws.geonames.org/3936871/', 'country_code': 'PE', 'part_of': '', 'part_of_uri': '', 'confidence': 100.0, 'threshold': 90, 'match_type': 'exact'}\n"
     ]
    },
    {
     "name": "stderr",
     "output_type": "stream",
     "text": [
      "Resolving unique places:  62%|██████▏   | 76/122 [02:06<00:55,  1.20s/it]"
     ]
    },
    {
     "name": "stdout",
     "output_type": "stream",
     "text": [
      "2025-07-29 21:05:00 - INFO - Trying GeoNamesQuery for 'Larcay'\n",
      "2025-07-29 21:05:00 - INFO - [API CALL] http://api.geonames.org/searchJSON?q=Larcay&username=jairomelo&maxRows=10&type=json&style=FULL&country=PE&featureClass=p\n",
      "2025-07-29 21:05:00 - INFO - Post-filtering GeoNames results for 'Larcay' with language 'es'\n",
      "2025-07-29 21:05:00 - INFO - Found match: 'Larcay' with similarity 100.0%\n",
      "2025-07-29 21:05:00 - INFO - Resolved 'Larcay' via GeoNamesQuery: {'place': 'Larcay', 'standardize_label': 'Larcay', 'language': 'es', 'latitude': -12.73805, 'longitude': -74.53673, 'source': 'GeoNames', 'id': 8661432, 'uri': 'http://sws.geonames.org/8661432/', 'country_code': 'PE', 'part_of': '', 'part_of_uri': '', 'confidence': 100.0, 'threshold': 90, 'match_type': 'exact'}\n"
     ]
    },
    {
     "name": "stderr",
     "output_type": "stream",
     "text": [
      "Resolving unique places:  63%|██████▎   | 77/122 [02:06<00:43,  1.03it/s]"
     ]
    },
    {
     "name": "stdout",
     "output_type": "stream",
     "text": [
      "2025-07-29 21:05:00 - WARNING - Using flexible threshold for short place name: 'Lima'\n",
      "2025-07-29 21:05:00 - INFO - Trying GeoNamesQuery for 'Lima'\n",
      "2025-07-29 21:05:01 - INFO - [API CALL] http://api.geonames.org/searchJSON?q=Lima&username=jairomelo&maxRows=10&type=json&style=FULL&country=PE&featureClass=p\n",
      "2025-07-29 21:05:01 - INFO - Post-filtering GeoNames results for 'Lima' with language 'es'\n",
      "2025-07-29 21:05:01 - INFO - Found match: 'Lima' with similarity 100.0%\n",
      "2025-07-29 21:05:01 - INFO - Resolved 'Lima' via GeoNamesQuery: {'place': 'Lima', 'standardize_label': 'Lima', 'language': 'es', 'latitude': -12.04318, 'longitude': -77.02824, 'source': 'GeoNames', 'id': 3936456, 'uri': 'http://sws.geonames.org/3936456/', 'country_code': 'PE', 'part_of': '', 'part_of_uri': '', 'confidence': 100.0, 'threshold': 70, 'match_type': 'exact'}\n"
     ]
    },
    {
     "name": "stderr",
     "output_type": "stream",
     "text": [
      "Resolving unique places:  64%|██████▍   | 78/122 [02:07<00:36,  1.21it/s]"
     ]
    },
    {
     "name": "stdout",
     "output_type": "stream",
     "text": [
      "2025-07-29 21:05:01 - INFO - Trying GeoNamesQuery for 'Lucanas'\n",
      "2025-07-29 21:05:01 - INFO - [API CALL] http://api.geonames.org/searchJSON?q=Lucanas&username=jairomelo&maxRows=10&type=json&style=FULL&country=PE&featureClass=p\n",
      "2025-07-29 21:05:01 - INFO - Post-filtering GeoNames results for 'Lucanas' with language 'es'\n",
      "2025-07-29 21:05:01 - INFO - Found match: 'Puquio' with similarity 25.0%\n",
      "2025-07-29 21:05:01 - INFO - Post-filtering GeoNames results for 'Lucanas' with language 'es'\n",
      "2025-07-29 21:05:01 - INFO - Found match: 'Biseca' with similarity 40.0%\n",
      "2025-07-29 21:05:01 - INFO - Post-filtering GeoNames results for 'Lucanas' with language 'es'\n",
      "2025-07-29 21:05:01 - INFO - Found match: 'Santa Cruz de Pichigua' with similarity 50.0%\n",
      "2025-07-29 21:05:01 - INFO - Post-filtering GeoNames results for 'Lucanas' with language 'es'\n",
      "2025-07-29 21:05:01 - INFO - Found match: 'Chillca' with similarity 60.0%\n",
      "2025-07-29 21:05:01 - INFO - Trying WHGQuery for 'Lucanas'\n",
      "2025-07-29 21:05:02 - INFO - [API CALL] https://whgazetteer.org/api/index/?name=Lucanas&fclass=p&dataset=&ccodes=PE\n",
      "2025-07-29 21:05:02 - INFO - Finding best match for 'Lucanas' in WHG results\n",
      "2025-07-29 21:05:02 - INFO - Comparing 'Lucanas' with 'Lucanas': 100.0% similarity\n",
      "2025-07-29 21:05:02 - INFO - Best match for 'Lucanas': Lucanas (100.0%)\n",
      "2025-07-29 21:05:02 - INFO - Resolved 'Lucanas' via WHGQuery: {'place': 'Lucanas', 'standardize_label': 'Lucanas', 'language': 'es', 'latitude': -14.62042, 'longitude': -74.232566, 'source': 'WHG', 'id': '14164987', 'uri': 'https://whgazetteer.org/places/14164987/portal/', 'country_code': 'PE', 'part_of': '', 'part_of_uri': '', 'confidence': 100.0, 'threshold': 90, 'match_type': 'exact'}\n"
     ]
    },
    {
     "name": "stderr",
     "output_type": "stream",
     "text": [
      "Resolving unique places:  65%|██████▍   | 79/122 [02:08<00:38,  1.11it/s]"
     ]
    },
    {
     "name": "stdout",
     "output_type": "stream",
     "text": [
      "2025-07-29 21:05:02 - INFO - Trying GeoNamesQuery for 'Mayobamba'\n",
      "2025-07-29 21:05:02 - INFO - [API CALL] http://api.geonames.org/searchJSON?q=Mayobamba&username=jairomelo&maxRows=10&type=json&style=FULL&country=PE&featureClass=p\n",
      "2025-07-29 21:05:02 - INFO - Post-filtering GeoNames results for 'Mayobamba' with language 'es'\n",
      "2025-07-29 21:05:02 - INFO - Found match: 'Mayobamba' with similarity 100.0%\n",
      "2025-07-29 21:05:02 - INFO - Resolved 'Mayobamba' via GeoNamesQuery: {'place': 'Mayobamba', 'standardize_label': 'Mayobamba', 'language': 'es', 'latitude': -14.37583, 'longitude': -73.89194, 'source': 'GeoNames', 'id': 3935121, 'uri': 'http://sws.geonames.org/3935121/', 'country_code': 'PE', 'part_of': '', 'part_of_uri': '', 'confidence': 100.0, 'threshold': 90, 'match_type': 'exact'}\n"
     ]
    },
    {
     "name": "stderr",
     "output_type": "stream",
     "text": [
      "Resolving unique places:  66%|██████▌   | 80/122 [02:08<00:32,  1.30it/s]"
     ]
    },
    {
     "name": "stdout",
     "output_type": "stream",
     "text": [
      "2025-07-29 21:05:02 - INFO - Trying GeoNamesQuery for 'Morcolla'\n",
      "2025-07-29 21:05:03 - INFO - [API CALL] http://api.geonames.org/searchJSON?q=Morcolla&username=jairomelo&maxRows=10&type=json&style=FULL&country=PE&featureClass=p\n",
      "2025-07-29 21:05:03 - INFO - Post-filtering GeoNames results for 'Morcolla' with language 'es'\n",
      "2025-07-29 21:05:03 - INFO - Found match: 'Marcolla' with similarity 87.5%\n",
      "2025-07-29 21:05:03 - INFO - Trying WHGQuery for 'Morcolla'\n",
      "2025-07-29 21:05:03 - INFO - [API CALL] https://whgazetteer.org/api/index/?name=Morcolla&fclass=p&dataset=&ccodes=PE\n",
      "2025-07-29 21:05:03 - INFO - Finding best match for 'Morcolla' in WHG results\n",
      "2025-07-29 21:05:03 - INFO - Comparing 'Morcolla' with 'Morcolla': 100.0% similarity\n",
      "2025-07-29 21:05:03 - INFO - Best match for 'Morcolla': Morcolla (100.0%)\n",
      "2025-07-29 21:05:03 - INFO - Resolved 'Morcolla' via WHGQuery: {'place': 'Morcolla', 'standardize_label': 'Morcolla', 'language': 'es', 'latitude': -14.110438, 'longitude': -73.872035, 'source': 'WHG', 'id': '14164519', 'uri': 'https://whgazetteer.org/places/14164519/portal/', 'country_code': 'PE', 'part_of': '', 'part_of_uri': '', 'confidence': 100.0, 'threshold': 90, 'match_type': 'exact'}\n"
     ]
    },
    {
     "name": "stderr",
     "output_type": "stream",
     "text": [
      "Resolving unique places:  66%|██████▋   | 81/122 [02:09<00:34,  1.18it/s]"
     ]
    },
    {
     "name": "stdout",
     "output_type": "stream",
     "text": [
      "2025-07-29 21:05:03 - INFO - Trying GeoNamesQuery for 'Moyobamba'\n",
      "2025-07-29 21:05:04 - INFO - [API CALL] http://api.geonames.org/searchJSON?q=Moyobamba&username=jairomelo&maxRows=10&type=json&style=FULL&country=PE&featureClass=p\n",
      "2025-07-29 21:05:04 - INFO - Post-filtering GeoNames results for 'Moyobamba' with language 'es'\n",
      "2025-07-29 21:05:04 - INFO - Found match: 'Moyobamba' with similarity 100.0%\n",
      "2025-07-29 21:05:04 - INFO - Resolved 'Moyobamba' via GeoNamesQuery: {'place': 'Moyobamba', 'standardize_label': 'Moyobamba', 'language': 'es', 'latitude': -6.03441, 'longitude': -76.97423, 'source': 'GeoNames', 'id': 3694564, 'uri': 'http://sws.geonames.org/3694564/', 'country_code': 'PE', 'part_of': '', 'part_of_uri': '', 'confidence': 100.0, 'threshold': 90, 'match_type': 'exact'}\n"
     ]
    },
    {
     "name": "stderr",
     "output_type": "stream",
     "text": [
      "Resolving unique places:  67%|██████▋   | 82/122 [02:10<00:29,  1.34it/s]"
     ]
    },
    {
     "name": "stdout",
     "output_type": "stream",
     "text": [
      "2025-07-29 21:05:04 - INFO - Trying GeoNamesQuery for 'Nasca'\n",
      "2025-07-29 21:05:04 - INFO - [API CALL] http://api.geonames.org/searchJSON?q=Nasca&username=jairomelo&maxRows=10&type=json&style=FULL&country=PE&featureClass=p\n",
      "2025-07-29 21:05:04 - INFO - Post-filtering GeoNames results for 'Nasca' with language 'es'\n",
      "2025-07-29 21:05:04 - INFO - Found match: 'Nazca' with similarity 80.0%\n",
      "2025-07-29 21:05:04 - INFO - Post-filtering GeoNames results for 'Nasca' with language 'es'\n",
      "2025-07-29 21:05:04 - INFO - Found match: 'Nazca' with similarity 100.0%\n",
      "2025-07-29 21:05:04 - INFO - Resolved 'Nasca' via GeoNamesQuery: {'place': 'Nasca', 'standardize_label': 'Provincia de Nazca', 'language': 'es', 'latitude': -14.83098, 'longitude': -74.93895, 'source': 'GeoNames', 'id': 3934356, 'uri': 'http://sws.geonames.org/3934356/', 'country_code': 'PE', 'part_of': '', 'part_of_uri': '', 'confidence': 100.0, 'threshold': 90, 'match_type': 'exact'}\n"
     ]
    },
    {
     "name": "stderr",
     "output_type": "stream",
     "text": [
      "Resolving unique places:  68%|██████▊   | 83/122 [02:10<00:25,  1.56it/s]"
     ]
    },
    {
     "name": "stdout",
     "output_type": "stream",
     "text": [
      "2025-07-29 21:05:04 - INFO - Trying GeoNamesQuery for 'Nazca'\n",
      "2025-07-29 21:05:05 - INFO - [API CALL] http://api.geonames.org/searchJSON?q=Nazca&username=jairomelo&maxRows=10&type=json&style=FULL&country=PE&featureClass=p\n",
      "2025-07-29 21:05:05 - INFO - Post-filtering GeoNames results for 'Nazca' with language 'es'\n",
      "2025-07-29 21:05:05 - INFO - Found match: 'Nazca' with similarity 100.0%\n",
      "2025-07-29 21:05:05 - INFO - Resolved 'Nazca' via GeoNamesQuery: {'place': 'Nazca', 'standardize_label': 'Provincia de Nazca', 'language': 'es', 'latitude': -14.83098, 'longitude': -74.93895, 'source': 'GeoNames', 'id': 3934356, 'uri': 'http://sws.geonames.org/3934356/', 'country_code': 'PE', 'part_of': '', 'part_of_uri': '', 'confidence': 100.0, 'threshold': 90, 'match_type': 'exact'}\n"
     ]
    },
    {
     "name": "stderr",
     "output_type": "stream",
     "text": [
      "Resolving unique places:  69%|██████▉   | 84/122 [02:11<00:22,  1.71it/s]"
     ]
    },
    {
     "name": "stdout",
     "output_type": "stream",
     "text": [
      "2025-07-29 21:05:05 - INFO - Trying GeoNamesQuery for 'Ocaña'\n",
      "2025-07-29 21:05:05 - INFO - [API CALL] http://api.geonames.org/searchJSON?q=Oca%C3%B1a&username=jairomelo&maxRows=10&type=json&style=FULL&country=PE&featureClass=p\n",
      "2025-07-29 21:05:05 - INFO - Post-filtering GeoNames results for 'Ocaña' with language 'es'\n",
      "2025-07-29 21:05:05 - INFO - Found match: 'Yodama' with similarity 60.0%\n",
      "2025-07-29 21:05:05 - INFO - Post-filtering GeoNames results for 'Ocaña' with language 'es'\n",
      "2025-07-29 21:05:05 - INFO - Found match: 'Ocaña' with similarity 100.0%\n",
      "2025-07-29 21:05:05 - INFO - Resolved 'Ocaña' via GeoNamesQuery: {'place': 'Ocaña', 'standardize_label': 'Ocaña', 'language': 'es', 'latitude': -13.04506, 'longitude': -74.3784, 'source': 'GeoNames', 'id': 3934206, 'uri': 'http://sws.geonames.org/3934206/', 'country_code': 'PE', 'part_of': '', 'part_of_uri': '', 'confidence': 100.0, 'threshold': 90, 'match_type': 'exact'}\n"
     ]
    },
    {
     "name": "stderr",
     "output_type": "stream",
     "text": [
      "Resolving unique places:  70%|██████▉   | 85/122 [02:12<00:24,  1.51it/s]"
     ]
    },
    {
     "name": "stdout",
     "output_type": "stream",
     "text": [
      "2025-07-29 21:05:05 - INFO - Trying GeoNamesQuery for 'Pallcco'\n",
      "2025-07-29 21:05:06 - INFO - [API CALL] http://api.geonames.org/searchJSON?q=Pallcco&username=jairomelo&maxRows=10&type=json&style=FULL&country=PE&featureClass=p\n",
      "2025-07-29 21:05:06 - INFO - Trying WHGQuery for 'Pallcco'\n",
      "2025-07-29 21:05:06 - INFO - [API CALL] https://whgazetteer.org/api/index/?name=Pallcco&fclass=p&dataset=&ccodes=PE\n",
      "2025-07-29 21:05:06 - INFO - Finding best match for 'Pallcco' in WHG results\n",
      "2025-07-29 21:05:06 - INFO - Trying TGNQuery for 'Pallcco'\n",
      "2025-07-29 21:05:07 - INFO - Trying WikidataQuery for 'Pallcco'\n",
      "2025-07-29 21:05:07 - INFO - [API CALL] https://www.wikidata.org/w/api.php?action=wbsearchentities&search=Pallcco&language=es&format=json&type=item&limit=10\n",
      "2025-07-29 21:05:07 - WARNING - Could not resolve 'Pallcco' via any service.\n"
     ]
    },
    {
     "name": "stderr",
     "output_type": "stream",
     "text": [
      "Resolving unique places:  70%|███████   | 86/122 [02:13<00:32,  1.12it/s]"
     ]
    },
    {
     "name": "stdout",
     "output_type": "stream",
     "text": [
      "2025-07-29 21:05:07 - INFO - Trying GeoNamesQuery for 'Pampa'\n",
      "2025-07-29 21:05:07 - INFO - [API CALL] http://api.geonames.org/searchJSON?q=Pampa&username=jairomelo&maxRows=10&type=json&style=FULL&country=PE&featureClass=p\n",
      "2025-07-29 21:05:07 - INFO - Post-filtering GeoNames results for 'Pampa' with language 'es'\n",
      "2025-07-29 21:05:07 - INFO - Found match: 'Machupicchu' with similarity 57.14285714285714%\n",
      "2025-07-29 21:05:07 - INFO - Post-filtering GeoNames results for 'Pampa' with language 'es'\n",
      "2025-07-29 21:05:07 - INFO - Found match: 'Pampa Grande' with similarity 100.0%\n",
      "2025-07-29 21:05:07 - INFO - Resolved 'Pampa' via GeoNamesQuery: {'place': 'Pampa', 'standardize_label': 'Pampa Grande', 'language': 'es', 'latitude': -6.75169, 'longitude': -79.48101, 'source': 'GeoNames', 'id': 3693998, 'uri': 'http://sws.geonames.org/3693998/', 'country_code': 'PE', 'part_of': '', 'part_of_uri': '', 'confidence': 100.0, 'threshold': 90, 'match_type': 'exact'}\n"
     ]
    },
    {
     "name": "stderr",
     "output_type": "stream",
     "text": [
      "Resolving unique places:  71%|███████▏  | 87/122 [02:13<00:26,  1.33it/s]"
     ]
    },
    {
     "name": "stdout",
     "output_type": "stream",
     "text": [
      "2025-07-29 21:05:07 - INFO - Trying GeoNamesQuery for 'Pampamarca'\n",
      "2025-07-29 21:05:08 - INFO - [API CALL] http://api.geonames.org/searchJSON?q=Pampamarca&username=jairomelo&maxRows=10&type=json&style=FULL&country=PE&featureClass=p\n",
      "2025-07-29 21:05:08 - INFO - Post-filtering GeoNames results for 'Pampamarca' with language 'es'\n",
      "2025-07-29 21:05:08 - INFO - Found match: 'Pampaccarka' with similarity 77.77777777777779%\n",
      "2025-07-29 21:05:08 - INFO - Post-filtering GeoNames results for 'Pampamarca' with language 'es'\n",
      "2025-07-29 21:05:08 - INFO - Found match: 'Pampamarca' with similarity 100.0%\n",
      "2025-07-29 21:05:08 - INFO - Resolved 'Pampamarca' via GeoNamesQuery: {'place': 'Pampamarca', 'standardize_label': 'Pampamarca', 'language': 'es', 'latitude': -14.14639, 'longitude': -71.45944, 'source': 'GeoNames', 'id': 3933218, 'uri': 'http://sws.geonames.org/3933218/', 'country_code': 'PE', 'part_of': '', 'part_of_uri': '', 'confidence': 100.0, 'threshold': 90, 'match_type': 'exact'}\n"
     ]
    },
    {
     "name": "stderr",
     "output_type": "stream",
     "text": [
      "Resolving unique places:  72%|███████▏  | 88/122 [02:14<00:22,  1.51it/s]"
     ]
    },
    {
     "name": "stdout",
     "output_type": "stream",
     "text": [
      "2025-07-29 21:05:08 - INFO - Trying GeoNamesQuery for 'Pampamarca Barrio de Mayo'\n",
      "2025-07-29 21:05:08 - INFO - [API CALL] http://api.geonames.org/searchJSON?q=Pampamarca+Barrio+de+Mayo&username=jairomelo&maxRows=10&type=json&style=FULL&country=PE&featureClass=p\n",
      "2025-07-29 21:05:08 - INFO - Trying WHGQuery for 'Pampamarca Barrio de Mayo'\n",
      "2025-07-29 21:05:09 - INFO - [API CALL] https://whgazetteer.org/api/index/?name=Pampamarca%20Barrio%20de%20Mayo&fclass=p&dataset=&ccodes=PE\n",
      "2025-07-29 21:05:09 - INFO - Finding best match for 'Pampamarca Barrio de Mayo' in WHG results\n",
      "2025-07-29 21:05:09 - INFO - Trying TGNQuery for 'Pampamarca Barrio de Mayo'\n",
      "2025-07-29 21:05:10 - INFO - Trying WikidataQuery for 'Pampamarca Barrio de Mayo'\n",
      "2025-07-29 21:05:10 - INFO - [API CALL] https://www.wikidata.org/w/api.php?action=wbsearchentities&search=Pampamarca+Barrio+de+Mayo&language=es&format=json&type=item&limit=10\n",
      "2025-07-29 21:05:10 - WARNING - Could not resolve 'Pampamarca Barrio de Mayo' via any service.\n"
     ]
    },
    {
     "name": "stderr",
     "output_type": "stream",
     "text": [
      "Resolving unique places:  73%|███████▎  | 89/122 [02:17<00:42,  1.28s/it]"
     ]
    },
    {
     "name": "stdout",
     "output_type": "stream",
     "text": [
      "2025-07-29 21:05:10 - INFO - Trying GeoNamesQuery for 'Pampamarca Barrios de Tallcce'\n",
      "2025-07-29 21:05:11 - INFO - [API CALL] http://api.geonames.org/searchJSON?q=Pampamarca+Barrios+de+Tallcce&username=jairomelo&maxRows=10&type=json&style=FULL&country=PE&featureClass=p\n",
      "2025-07-29 21:05:11 - INFO - Trying WHGQuery for 'Pampamarca Barrios de Tallcce'\n",
      "2025-07-29 21:05:11 - INFO - [API CALL] https://whgazetteer.org/api/index/?name=Pampamarca%20Barrios%20de%20Tallcce&fclass=p&dataset=&ccodes=PE\n",
      "2025-07-29 21:05:11 - INFO - Finding best match for 'Pampamarca Barrios de Tallcce' in WHG results\n",
      "2025-07-29 21:05:11 - INFO - Trying TGNQuery for 'Pampamarca Barrios de Tallcce'\n",
      "2025-07-29 21:05:13 - INFO - Trying WikidataQuery for 'Pampamarca Barrios de Tallcce'\n",
      "2025-07-29 21:05:13 - INFO - [API CALL] https://www.wikidata.org/w/api.php?action=wbsearchentities&search=Pampamarca+Barrios+de+Tallcce&language=es&format=json&type=item&limit=10\n",
      "2025-07-29 21:05:13 - WARNING - Could not resolve 'Pampamarca Barrios de Tallcce' via any service.\n"
     ]
    },
    {
     "name": "stderr",
     "output_type": "stream",
     "text": [
      "Resolving unique places:  74%|███████▍  | 90/122 [02:19<00:55,  1.72s/it]"
     ]
    },
    {
     "name": "stdout",
     "output_type": "stream",
     "text": [
      "2025-07-29 21:05:13 - INFO - Trying GeoNamesQuery for 'Pampamarca Caserio de Tallcce'\n",
      "2025-07-29 21:05:14 - INFO - [API CALL] http://api.geonames.org/searchJSON?q=Pampamarca+Caserio+de+Tallcce&username=jairomelo&maxRows=10&type=json&style=FULL&country=PE&featureClass=p\n",
      "2025-07-29 21:05:14 - INFO - Trying WHGQuery for 'Pampamarca Caserio de Tallcce'\n",
      "2025-07-29 21:05:14 - INFO - [API CALL] https://whgazetteer.org/api/index/?name=Pampamarca%20Caserio%20de%20Tallcce&fclass=p&dataset=&ccodes=PE\n",
      "2025-07-29 21:05:14 - INFO - Finding best match for 'Pampamarca Caserio de Tallcce' in WHG results\n",
      "2025-07-29 21:05:14 - INFO - Trying TGNQuery for 'Pampamarca Caserio de Tallcce'\n",
      "2025-07-29 21:05:16 - INFO - Trying WikidataQuery for 'Pampamarca Caserio de Tallcce'\n",
      "2025-07-29 21:05:16 - INFO - [API CALL] https://www.wikidata.org/w/api.php?action=wbsearchentities&search=Pampamarca+Caserio+de+Tallcce&language=es&format=json&type=item&limit=10\n",
      "2025-07-29 21:05:16 - WARNING - Could not resolve 'Pampamarca Caserio de Tallcce' via any service.\n"
     ]
    },
    {
     "name": "stderr",
     "output_type": "stream",
     "text": [
      "Resolving unique places:  75%|███████▍  | 91/122 [02:22<01:02,  2.01s/it]"
     ]
    },
    {
     "name": "stdout",
     "output_type": "stream",
     "text": [
      "2025-07-29 21:05:16 - INFO - Trying GeoNamesQuery for 'Pampamarca Santa Ana'\n",
      "2025-07-29 21:05:16 - INFO - [API CALL] http://api.geonames.org/searchJSON?q=Pampamarca+Santa+Ana&username=jairomelo&maxRows=10&type=json&style=FULL&country=PE&featureClass=p\n",
      "2025-07-29 21:05:16 - INFO - Trying WHGQuery for 'Pampamarca Santa Ana'\n",
      "2025-07-29 21:05:17 - INFO - [API CALL] https://whgazetteer.org/api/index/?name=Pampamarca%20Santa%20Ana&fclass=p&dataset=&ccodes=PE\n",
      "2025-07-29 21:05:17 - INFO - Finding best match for 'Pampamarca Santa Ana' in WHG results\n",
      "2025-07-29 21:05:17 - INFO - Trying TGNQuery for 'Pampamarca Santa Ana'\n",
      "2025-07-29 21:05:17 - INFO - Trying WikidataQuery for 'Pampamarca Santa Ana'\n",
      "2025-07-29 21:05:18 - INFO - [API CALL] https://www.wikidata.org/w/api.php?action=wbsearchentities&search=Pampamarca+Santa+Ana&language=es&format=json&type=item&limit=10\n",
      "2025-07-29 21:05:18 - WARNING - Could not resolve 'Pampamarca Santa Ana' via any service.\n"
     ]
    },
    {
     "name": "stderr",
     "output_type": "stream",
     "text": [
      "Resolving unique places:  75%|███████▌  | 92/122 [02:24<00:57,  1.91s/it]"
     ]
    },
    {
     "name": "stdout",
     "output_type": "stream",
     "text": [
      "2025-07-29 21:05:18 - INFO - Trying GeoNamesQuery for 'Parroquia de Aucara'\n",
      "2025-07-29 21:05:18 - INFO - [API CALL] http://api.geonames.org/searchJSON?q=Parroquia+de+Aucara&username=jairomelo&maxRows=10&type=json&style=FULL&country=PE&featureClass=p\n",
      "2025-07-29 21:05:18 - INFO - Trying WHGQuery for 'Parroquia de Aucara'\n",
      "2025-07-29 21:05:18 - INFO - [API CALL] https://whgazetteer.org/api/index/?name=Parroquia%20de%20Aucara&fclass=p&dataset=&ccodes=PE\n",
      "2025-07-29 21:05:18 - INFO - Finding best match for 'Parroquia de Aucara' in WHG results\n",
      "2025-07-29 21:05:18 - INFO - Trying TGNQuery for 'Parroquia de Aucara'\n",
      "2025-07-29 21:05:20 - INFO - Trying WikidataQuery for 'Parroquia de Aucara'\n",
      "2025-07-29 21:05:20 - INFO - [API CALL] https://www.wikidata.org/w/api.php?action=wbsearchentities&search=Parroquia+de+Aucara&language=es&format=json&type=item&limit=10\n",
      "2025-07-29 21:05:20 - WARNING - Could not resolve 'Parroquia de Aucara' via any service.\n"
     ]
    },
    {
     "name": "stderr",
     "output_type": "stream",
     "text": [
      "Resolving unique places:  76%|███████▌  | 93/122 [02:26<01:02,  2.14s/it]"
     ]
    },
    {
     "name": "stdout",
     "output_type": "stream",
     "text": [
      "2025-07-29 21:05:20 - INFO - Trying GeoNamesQuery for 'Parroquia de Aucará'\n",
      "2025-07-29 21:05:21 - INFO - [API CALL] http://api.geonames.org/searchJSON?q=Parroquia+de+Aucar%C3%A1&username=jairomelo&maxRows=10&type=json&style=FULL&country=PE&featureClass=p\n",
      "2025-07-29 21:05:21 - INFO - Trying WHGQuery for 'Parroquia de Aucará'\n",
      "2025-07-29 21:05:21 - INFO - [API CALL] https://whgazetteer.org/api/index/?name=Parroquia%20de%20Aucar%C3%A1&fclass=p&dataset=&ccodes=PE\n",
      "2025-07-29 21:05:21 - INFO - Finding best match for 'Parroquia de Aucará' in WHG results\n",
      "2025-07-29 21:05:21 - INFO - Trying TGNQuery for 'Parroquia de Aucará'\n",
      "2025-07-29 21:05:23 - INFO - Trying WikidataQuery for 'Parroquia de Aucará'\n",
      "2025-07-29 21:05:23 - INFO - [API CALL] https://www.wikidata.org/w/api.php?action=wbsearchentities&search=Parroquia+de+Aucar%C3%A1&language=es&format=json&type=item&limit=10\n",
      "2025-07-29 21:05:23 - WARNING - Could not resolve 'Parroquia de Aucará' via any service.\n"
     ]
    },
    {
     "name": "stderr",
     "output_type": "stream",
     "text": [
      "Resolving unique places:  77%|███████▋  | 94/122 [02:29<01:05,  2.32s/it]"
     ]
    },
    {
     "name": "stdout",
     "output_type": "stream",
     "text": [
      "2025-07-29 21:05:23 - WARNING - Using flexible threshold for short place name: 'Puna'\n",
      "2025-07-29 21:05:23 - INFO - Trying GeoNamesQuery for 'Puna'\n",
      "2025-07-29 21:05:23 - INFO - [API CALL] http://api.geonames.org/searchJSON?q=Puna&username=jairomelo&maxRows=10&type=json&style=FULL&country=PE&featureClass=p\n",
      "2025-07-29 21:05:23 - INFO - Post-filtering GeoNames results for 'Puna' with language 'es'\n",
      "2025-07-29 21:05:23 - INFO - Found match: 'Puno' with similarity 85.71428571428572%\n",
      "2025-07-29 21:05:23 - INFO - Post-filtering GeoNames results for 'Puna' with language 'es'\n",
      "2025-07-29 21:05:23 - INFO - Found match: 'Puno' with similarity 100.0%\n",
      "2025-07-29 21:05:23 - INFO - Resolved 'Puna' via GeoNamesQuery: {'place': 'Puna', 'standardize_label': 'Puno', 'language': 'es', 'latitude': -15.84003, 'longitude': -70.02198, 'source': 'GeoNames', 'id': 3931276, 'uri': 'http://sws.geonames.org/3931276/', 'country_code': 'PE', 'part_of': '', 'part_of_uri': '', 'confidence': 100.0, 'threshold': 70, 'match_type': 'exact'}\n"
     ]
    },
    {
     "name": "stderr",
     "output_type": "stream",
     "text": [
      "Resolving unique places:  78%|███████▊  | 95/122 [02:30<00:47,  1.78s/it]"
     ]
    },
    {
     "name": "stdout",
     "output_type": "stream",
     "text": [
      "2025-07-29 21:05:23 - INFO - Trying GeoNamesQuery for 'Puna de Aucara'\n",
      "2025-07-29 21:05:24 - INFO - [API CALL] http://api.geonames.org/searchJSON?q=Puna+de+Aucara&username=jairomelo&maxRows=10&type=json&style=FULL&country=PE&featureClass=p\n",
      "2025-07-29 21:05:24 - INFO - Trying WHGQuery for 'Puna de Aucara'\n",
      "2025-07-29 21:05:24 - INFO - [API CALL] https://whgazetteer.org/api/index/?name=Puna%20de%20Aucara&fclass=p&dataset=&ccodes=PE\n",
      "2025-07-29 21:05:24 - INFO - Finding best match for 'Puna de Aucara' in WHG results\n",
      "2025-07-29 21:05:24 - INFO - Trying TGNQuery for 'Puna de Aucara'\n",
      "2025-07-29 21:05:26 - INFO - Trying WikidataQuery for 'Puna de Aucara'\n",
      "2025-07-29 21:05:26 - INFO - [API CALL] https://www.wikidata.org/w/api.php?action=wbsearchentities&search=Puna+de+Aucara&language=es&format=json&type=item&limit=10\n",
      "2025-07-29 21:05:26 - WARNING - Could not resolve 'Puna de Aucara' via any service.\n"
     ]
    },
    {
     "name": "stderr",
     "output_type": "stream",
     "text": [
      "Resolving unique places:  79%|███████▊  | 96/122 [02:32<00:54,  2.08s/it]"
     ]
    },
    {
     "name": "stdout",
     "output_type": "stream",
     "text": [
      "2025-07-29 21:05:26 - INFO - Trying GeoNamesQuery for 'Punas de Aucará'\n",
      "2025-07-29 21:05:27 - INFO - [API CALL] http://api.geonames.org/searchJSON?q=Punas+de+Aucar%C3%A1&username=jairomelo&maxRows=10&type=json&style=FULL&country=PE&featureClass=p\n",
      "2025-07-29 21:05:27 - INFO - Trying WHGQuery for 'Punas de Aucará'\n",
      "2025-07-29 21:05:27 - INFO - [API CALL] https://whgazetteer.org/api/index/?name=Punas%20de%20Aucar%C3%A1&fclass=p&dataset=&ccodes=PE\n",
      "2025-07-29 21:05:27 - INFO - Finding best match for 'Punas de Aucará' in WHG results\n",
      "2025-07-29 21:05:27 - INFO - Trying TGNQuery for 'Punas de Aucará'\n",
      "2025-07-29 21:05:29 - INFO - Trying WikidataQuery for 'Punas de Aucará'\n",
      "2025-07-29 21:05:29 - INFO - [API CALL] https://www.wikidata.org/w/api.php?action=wbsearchentities&search=Punas+de+Aucar%C3%A1&language=es&format=json&type=item&limit=10\n",
      "2025-07-29 21:05:29 - WARNING - Could not resolve 'Punas de Aucará' via any service.\n"
     ]
    },
    {
     "name": "stderr",
     "output_type": "stream",
     "text": [
      "Resolving unique places:  80%|███████▉  | 97/122 [02:35<00:56,  2.26s/it]"
     ]
    },
    {
     "name": "stdout",
     "output_type": "stream",
     "text": [
      "2025-07-29 21:05:29 - INFO - Trying GeoNamesQuery for 'Puquio'\n",
      "2025-07-29 21:05:29 - INFO - [API CALL] http://api.geonames.org/searchJSON?q=Puquio&username=jairomelo&maxRows=10&type=json&style=FULL&country=PE&featureClass=p\n",
      "2025-07-29 21:05:29 - INFO - Post-filtering GeoNames results for 'Puquio' with language 'es'\n",
      "2025-07-29 21:05:29 - INFO - Found match: 'Puquio' with similarity 100.0%\n",
      "2025-07-29 21:05:29 - INFO - Resolved 'Puquio' via GeoNamesQuery: {'place': 'Puquio', 'standardize_label': 'Puquio', 'language': 'es', 'latitude': -14.7, 'longitude': -74.13333, 'source': 'GeoNames', 'id': 3931223, 'uri': 'http://sws.geonames.org/3931223/', 'country_code': 'PE', 'part_of': '', 'part_of_uri': '', 'confidence': 100.0, 'threshold': 90, 'match_type': 'exact'}\n"
     ]
    },
    {
     "name": "stderr",
     "output_type": "stream",
     "text": [
      "Resolving unique places:  80%|████████  | 98/122 [02:36<00:41,  1.73s/it]"
     ]
    },
    {
     "name": "stdout",
     "output_type": "stream",
     "text": [
      "2025-07-29 21:05:29 - INFO - Trying GeoNamesQuery for 'Querobamba'\n",
      "2025-07-29 21:05:30 - INFO - [API CALL] http://api.geonames.org/searchJSON?q=Querobamba&username=jairomelo&maxRows=10&type=json&style=FULL&country=PE&featureClass=p\n",
      "2025-07-29 21:05:30 - INFO - Post-filtering GeoNames results for 'Querobamba' with language 'es'\n",
      "2025-07-29 21:05:30 - INFO - Found match: 'Querobamba' with similarity 100.0%\n",
      "2025-07-29 21:05:30 - INFO - Resolved 'Querobamba' via GeoNamesQuery: {'place': 'Querobamba', 'standardize_label': 'Querobamba', 'language': 'es', 'latitude': -13.86667, 'longitude': -73.83333, 'source': 'GeoNames', 'id': 3930947, 'uri': 'http://sws.geonames.org/3930947/', 'country_code': 'PE', 'part_of': '', 'part_of_uri': '', 'confidence': 100.0, 'threshold': 90, 'match_type': 'exact'}\n"
     ]
    },
    {
     "name": "stderr",
     "output_type": "stream",
     "text": [
      "Resolving unique places:  81%|████████  | 99/122 [02:36<00:31,  1.36s/it]"
     ]
    },
    {
     "name": "stdout",
     "output_type": "stream",
     "text": [
      "2025-07-29 21:05:30 - INFO - Trying GeoNamesQuery for 'Sacsamarca'\n",
      "2025-07-29 21:05:30 - INFO - [API CALL] http://api.geonames.org/searchJSON?q=Sacsamarca&username=jairomelo&maxRows=10&type=json&style=FULL&country=PE&featureClass=p\n",
      "2025-07-29 21:05:30 - INFO - Post-filtering GeoNames results for 'Sacsamarca' with language 'es'\n",
      "2025-07-29 21:05:30 - INFO - Found match: 'Sacsamarca' with similarity 100.0%\n",
      "2025-07-29 21:05:30 - INFO - Resolved 'Sacsamarca' via GeoNamesQuery: {'place': 'Sacsamarca', 'standardize_label': 'Sacsamarca', 'language': 'es', 'latitude': -13.15085, 'longitude': -74.27869, 'source': 'GeoNames', 'id': 3930088, 'uri': 'http://sws.geonames.org/3930088/', 'country_code': 'PE', 'part_of': '', 'part_of_uri': '', 'confidence': 100.0, 'threshold': 90, 'match_type': 'exact'}\n"
     ]
    },
    {
     "name": "stderr",
     "output_type": "stream",
     "text": [
      "Resolving unique places:  82%|████████▏ | 100/122 [02:36<00:23,  1.08s/it]"
     ]
    },
    {
     "name": "stdout",
     "output_type": "stream",
     "text": [
      "2025-07-29 21:05:30 - INFO - Trying GeoNamesQuery for 'Saicasa'\n",
      "2025-07-29 21:05:31 - INFO - [API CALL] http://api.geonames.org/searchJSON?q=Saicasa&username=jairomelo&maxRows=10&type=json&style=FULL&country=PE&featureClass=p\n",
      "2025-07-29 21:05:31 - INFO - Trying WHGQuery for 'Saicasa'\n",
      "2025-07-29 21:05:31 - INFO - [API CALL] https://whgazetteer.org/api/index/?name=Saicasa&fclass=p&dataset=&ccodes=PE\n",
      "2025-07-29 21:05:31 - INFO - Finding best match for 'Saicasa' in WHG results\n",
      "2025-07-29 21:05:31 - INFO - Trying TGNQuery for 'Saicasa'\n",
      "2025-07-29 21:05:32 - INFO - Trying WikidataQuery for 'Saicasa'\n",
      "2025-07-29 21:05:32 - INFO - [API CALL] https://www.wikidata.org/w/api.php?action=wbsearchentities&search=Saicasa&language=es&format=json&type=item&limit=10\n",
      "2025-07-29 21:05:32 - WARNING - Could not resolve 'Saicasa' via any service.\n"
     ]
    },
    {
     "name": "stderr",
     "output_type": "stream",
     "text": [
      "Resolving unique places:  83%|████████▎ | 101/122 [02:38<00:24,  1.18s/it]"
     ]
    },
    {
     "name": "stdout",
     "output_type": "stream",
     "text": [
      "2025-07-29 21:05:32 - INFO - Trying GeoNamesQuery for 'San Jeronimo'\n",
      "2025-07-29 21:05:32 - INFO - [API CALL] http://api.geonames.org/searchJSON?q=San+Jeronimo&username=jairomelo&maxRows=10&type=json&style=FULL&country=PE&featureClass=p\n",
      "2025-07-29 21:05:32 - INFO - Post-filtering GeoNames results for 'San Jeronimo' with language 'es'\n",
      "2025-07-29 21:05:32 - INFO - Found match: 'San Jeronimo De Tunan' with similarity 100.0%\n",
      "2025-07-29 21:05:32 - INFO - Resolved 'San Jeronimo' via GeoNamesQuery: {'place': 'San Jeronimo', 'standardize_label': 'San Jeronimo De Tunan', 'language': 'es', 'latitude': -11.95591, 'longitude': -75.28411, 'source': 'GeoNames', 'id': 3929611, 'uri': 'http://sws.geonames.org/3929611/', 'country_code': 'PE', 'part_of': '', 'part_of_uri': '', 'confidence': 100.0, 'threshold': 90, 'match_type': 'exact'}\n"
     ]
    },
    {
     "name": "stderr",
     "output_type": "stream",
     "text": [
      "Resolving unique places:  84%|████████▎ | 102/122 [02:38<00:19,  1.02it/s]"
     ]
    },
    {
     "name": "stdout",
     "output_type": "stream",
     "text": [
      "2025-07-29 21:05:32 - INFO - Trying GeoNamesQuery for 'San Juan de Lucanas'\n",
      "2025-07-29 21:05:33 - INFO - [API CALL] http://api.geonames.org/searchJSON?q=San+Juan+de+Lucanas&username=jairomelo&maxRows=10&type=json&style=FULL&country=PE&featureClass=p\n",
      "2025-07-29 21:05:33 - INFO - Post-filtering GeoNames results for 'San Juan de Lucanas' with language 'es'\n",
      "2025-07-29 21:05:33 - INFO - Found match: 'Utej' with similarity 25.0%\n",
      "2025-07-29 21:05:33 - INFO - Post-filtering GeoNames results for 'San Juan de Lucanas' with language 'es'\n",
      "2025-07-29 21:05:33 - INFO - Found match: 'San Juan' with similarity 100.0%\n",
      "2025-07-29 21:05:33 - INFO - Resolved 'San Juan de Lucanas' via GeoNamesQuery: {'place': 'San Juan de Lucanas', 'standardize_label': 'San Juan', 'language': 'es', 'latitude': -15.32059, 'longitude': -74.33395, 'source': 'GeoNames', 'id': 3929521, 'uri': 'http://sws.geonames.org/3929521/', 'country_code': 'PE', 'part_of': '', 'part_of_uri': '', 'confidence': 100.0, 'threshold': 90, 'match_type': 'exact'}\n"
     ]
    },
    {
     "name": "stderr",
     "output_type": "stream",
     "text": [
      "Resolving unique places:  84%|████████▍ | 103/122 [02:39<00:15,  1.22it/s]"
     ]
    },
    {
     "name": "stdout",
     "output_type": "stream",
     "text": [
      "2025-07-29 21:05:33 - INFO - Trying GeoNamesQuery for 'Santa Ana'\n",
      "2025-07-29 21:05:33 - INFO - [API CALL] http://api.geonames.org/searchJSON?q=Santa+Ana&username=jairomelo&maxRows=10&type=json&style=FULL&country=PE&featureClass=p\n",
      "2025-07-29 21:05:33 - INFO - Post-filtering GeoNames results for 'Santa Ana' with language 'es'\n",
      "2025-07-29 21:05:33 - INFO - Found match: 'Santa Ana' with similarity 100.0%\n",
      "2025-07-29 21:05:33 - INFO - Resolved 'Santa Ana' via GeoNamesQuery: {'place': 'Santa Ana', 'standardize_label': 'Santa Ana', 'language': 'es', 'latitude': -12.86667, 'longitude': -72.71667, 'source': 'GeoNames', 'id': 3929295, 'uri': 'http://sws.geonames.org/3929295/', 'country_code': 'PE', 'part_of': '', 'part_of_uri': '', 'confidence': 100.0, 'threshold': 90, 'match_type': 'exact'}\n"
     ]
    },
    {
     "name": "stderr",
     "output_type": "stream",
     "text": [
      "Resolving unique places:  85%|████████▌ | 104/122 [02:39<00:12,  1.42it/s]"
     ]
    },
    {
     "name": "stdout",
     "output_type": "stream",
     "text": [
      "2025-07-29 21:05:33 - INFO - Trying GeoNamesQuery for 'Santa Ana de Aucara'\n",
      "2025-07-29 21:05:34 - INFO - [API CALL] http://api.geonames.org/searchJSON?q=Santa+Ana+de+Aucara&username=jairomelo&maxRows=10&type=json&style=FULL&country=PE&featureClass=p\n",
      "2025-07-29 21:05:34 - INFO - Post-filtering GeoNames results for 'Santa Ana de Aucara' with language 'es'\n",
      "2025-07-29 21:05:34 - INFO - Resolved 'Santa Ana de Aucara' via GeoNamesQuery: {'place': 'Santa Ana de Aucara', 'standardize_label': 'Santa Ana', 'language': 'es', 'latitude': -14.19904, 'longitude': -74.08815, 'source': 'GeoNames', 'id': 3929293, 'uri': 'http://sws.geonames.org/3929293/', 'country_code': 'PE', 'part_of': '', 'part_of_uri': '', 'confidence': 100, 'threshold': 90, 'match_type': 'exact'}\n"
     ]
    },
    {
     "name": "stderr",
     "output_type": "stream",
     "text": [
      "Resolving unique places:  86%|████████▌ | 105/122 [02:40<00:10,  1.64it/s]"
     ]
    },
    {
     "name": "stdout",
     "output_type": "stream",
     "text": [
      "2025-07-29 21:05:34 - INFO - Trying GeoNamesQuery for 'Sondondo'\n",
      "2025-07-29 21:05:34 - INFO - [API CALL] http://api.geonames.org/searchJSON?q=Sondondo&username=jairomelo&maxRows=10&type=json&style=FULL&country=PE&featureClass=p\n",
      "2025-07-29 21:05:34 - INFO - Post-filtering GeoNames results for 'Sondondo' with language 'es'\n",
      "2025-07-29 21:05:34 - INFO - Found match: 'Sondondo' with similarity 100.0%\n",
      "2025-07-29 21:05:34 - INFO - Resolved 'Sondondo' via GeoNamesQuery: {'place': 'Sondondo', 'standardize_label': 'Sondondo', 'language': 'es', 'latitude': -14.29795, 'longitude': -73.93928, 'source': 'GeoNames', 'id': 3928450, 'uri': 'http://sws.geonames.org/3928450/', 'country_code': 'PE', 'part_of': '', 'part_of_uri': '', 'confidence': 100.0, 'threshold': 90, 'match_type': 'exact'}\n"
     ]
    },
    {
     "name": "stderr",
     "output_type": "stream",
     "text": [
      "Resolving unique places:  87%|████████▋ | 106/122 [02:40<00:08,  1.83it/s]"
     ]
    },
    {
     "name": "stdout",
     "output_type": "stream",
     "text": [
      "2025-07-29 21:05:34 - INFO - Trying GeoNamesQuery for 'Soras'\n",
      "2025-07-29 21:05:35 - INFO - [API CALL] http://api.geonames.org/searchJSON?q=Soras&username=jairomelo&maxRows=10&type=json&style=FULL&country=PE&featureClass=p\n",
      "2025-07-29 21:05:35 - INFO - Post-filtering GeoNames results for 'Soras' with language 'es'\n",
      "2025-07-29 21:05:35 - INFO - Found match: 'Soras Pata' with similarity 100.0%\n",
      "2025-07-29 21:05:35 - INFO - Resolved 'Soras' via GeoNamesQuery: {'place': 'Soras', 'standardize_label': 'Soras Pata', 'language': 'es', 'latitude': -14.23741, 'longitude': -70.65011, 'source': 'GeoNames', 'id': 13238703, 'uri': 'http://sws.geonames.org/13238703/', 'country_code': 'PE', 'part_of': '', 'part_of_uri': '', 'confidence': 100.0, 'threshold': 90, 'match_type': 'exact'}\n"
     ]
    },
    {
     "name": "stderr",
     "output_type": "stream",
     "text": [
      "Resolving unique places:  88%|████████▊ | 107/122 [02:41<00:09,  1.64it/s]"
     ]
    },
    {
     "name": "stdout",
     "output_type": "stream",
     "text": [
      "2025-07-29 21:05:35 - INFO - Trying GeoNamesQuery for 'Taccya'\n",
      "2025-07-29 21:05:35 - INFO - [API CALL] http://api.geonames.org/searchJSON?q=Taccya&username=jairomelo&maxRows=10&type=json&style=FULL&country=PE&featureClass=p\n",
      "2025-07-29 21:05:35 - INFO - Trying WHGQuery for 'Taccya'\n",
      "2025-07-29 21:05:36 - INFO - [API CALL] https://whgazetteer.org/api/index/?name=Taccya&fclass=p&dataset=&ccodes=PE\n",
      "2025-07-29 21:05:36 - INFO - Finding best match for 'Taccya' in WHG results\n",
      "2025-07-29 21:05:36 - INFO - Trying TGNQuery for 'Taccya'\n",
      "2025-07-29 21:05:36 - INFO - Trying WikidataQuery for 'Taccya'\n",
      "2025-07-29 21:05:36 - INFO - [API CALL] https://www.wikidata.org/w/api.php?action=wbsearchentities&search=Taccya&language=es&format=json&type=item&limit=10\n",
      "2025-07-29 21:05:36 - INFO - [API CALL] https://www.wikidata.org/w/api.php?action=wbgetentities&ids=Q9353996&format=json&props=labels%7Cclaims\n",
      "2025-07-29 21:05:36 - WARNING - Could not resolve 'Taccya' via any service.\n"
     ]
    },
    {
     "name": "stderr",
     "output_type": "stream",
     "text": [
      "Resolving unique places:  89%|████████▊ | 108/122 [02:43<00:13,  1.04it/s]"
     ]
    },
    {
     "name": "stdout",
     "output_type": "stream",
     "text": [
      "2025-07-29 21:05:36 - INFO - Trying GeoNamesQuery for 'Templo de Aucará'\n",
      "2025-07-29 21:05:37 - INFO - [API CALL] http://api.geonames.org/searchJSON?q=Templo+de+Aucar%C3%A1&username=jairomelo&maxRows=10&type=json&style=FULL&country=PE&featureClass=p\n",
      "2025-07-29 21:05:37 - INFO - Trying WHGQuery for 'Templo de Aucará'\n",
      "2025-07-29 21:05:37 - INFO - [API CALL] https://whgazetteer.org/api/index/?name=Templo%20de%20Aucar%C3%A1&fclass=p&dataset=&ccodes=PE\n",
      "2025-07-29 21:05:37 - INFO - Finding best match for 'Templo de Aucará' in WHG results\n",
      "2025-07-29 21:05:37 - INFO - Trying TGNQuery for 'Templo de Aucará'\n",
      "2025-07-29 21:05:39 - INFO - Trying WikidataQuery for 'Templo de Aucará'\n",
      "2025-07-29 21:05:39 - INFO - [API CALL] https://www.wikidata.org/w/api.php?action=wbsearchentities&search=Templo+de+Aucar%C3%A1&language=es&format=json&type=item&limit=10\n",
      "2025-07-29 21:05:39 - WARNING - Could not resolve 'Templo de Aucará' via any service.\n"
     ]
    },
    {
     "name": "stderr",
     "output_type": "stream",
     "text": [
      "Resolving unique places:  89%|████████▉ | 109/122 [02:45<00:19,  1.52s/it]"
     ]
    },
    {
     "name": "stdout",
     "output_type": "stream",
     "text": [
      "2025-07-29 21:05:39 - INFO - Trying GeoNamesQuery for 'Umaci'\n",
      "2025-07-29 21:05:40 - INFO - [API CALL] http://api.geonames.org/searchJSON?q=Umaci&username=jairomelo&maxRows=10&type=json&style=FULL&country=PE&featureClass=p\n",
      "2025-07-29 21:05:40 - INFO - Trying WHGQuery for 'Umaci'\n",
      "2025-07-29 21:05:40 - INFO - [API CALL] https://whgazetteer.org/api/index/?name=Umaci&fclass=p&dataset=&ccodes=PE\n",
      "2025-07-29 21:05:40 - INFO - Finding best match for 'Umaci' in WHG results\n",
      "2025-07-29 21:05:40 - INFO - Trying TGNQuery for 'Umaci'\n",
      "2025-07-29 21:05:40 - INFO - Trying WikidataQuery for 'Umaci'\n",
      "2025-07-29 21:05:41 - INFO - [API CALL] https://www.wikidata.org/w/api.php?action=wbsearchentities&search=Umaci&language=es&format=json&type=item&limit=10\n",
      "2025-07-29 21:05:41 - INFO - [API CALL] https://www.wikidata.org/w/api.php?action=wbgetentities&ids=Q124252979&format=json&props=labels%7Cclaims\n",
      "2025-07-29 21:05:41 - WARNING - Could not resolve 'Umaci' via any service.\n"
     ]
    },
    {
     "name": "stderr",
     "output_type": "stream",
     "text": [
      "Resolving unique places:  90%|█████████ | 110/122 [02:47<00:18,  1.56s/it]"
     ]
    },
    {
     "name": "stdout",
     "output_type": "stream",
     "text": [
      "2025-07-29 21:05:41 - INFO - Trying GeoNamesQuery for 'Umalla'\n",
      "2025-07-29 21:05:41 - INFO - [API CALL] http://api.geonames.org/searchJSON?q=Umalla&username=jairomelo&maxRows=10&type=json&style=FULL&country=PE&featureClass=p\n",
      "2025-07-29 21:05:41 - INFO - Trying WHGQuery for 'Umalla'\n",
      "2025-07-29 21:05:42 - INFO - [API CALL] https://whgazetteer.org/api/index/?name=Umalla&fclass=p&dataset=&ccodes=PE\n",
      "2025-07-29 21:05:42 - INFO - Finding best match for 'Umalla' in WHG results\n",
      "2025-07-29 21:05:42 - INFO - Trying TGNQuery for 'Umalla'\n",
      "2025-07-29 21:05:42 - INFO - Trying WikidataQuery for 'Umalla'\n",
      "2025-07-29 21:05:42 - INFO - [API CALL] https://www.wikidata.org/w/api.php?action=wbsearchentities&search=Umalla&language=es&format=json&type=item&limit=10\n",
      "2025-07-29 21:05:43 - INFO - [API CALL] https://www.wikidata.org/w/api.php?action=wbgetentities&ids=Q69677009%7CQ21807499%7CQ21807120%7CQ22152172&format=json&props=labels%7Cclaims\n",
      "2025-07-29 21:05:43 - INFO - [API CALL] https://www.wikidata.org/w/api.php?action=wbgetentities&ids=Q750%7CQ668&format=json&props=labels%7Cclaims\n",
      "2025-07-29 21:05:44 - INFO - [API CALL] https://www.wikidata.org/w/api.php?action=wbgetentities&ids=Q1061368%7CQ854900&format=json&props=labels%7Cclaims\n",
      "2025-07-29 21:05:44 - WARNING - Could not resolve 'Umalla' via any service.\n"
     ]
    },
    {
     "name": "stderr",
     "output_type": "stream",
     "text": [
      "Resolving unique places:  91%|█████████ | 111/122 [02:50<00:21,  1.96s/it]"
     ]
    },
    {
     "name": "stdout",
     "output_type": "stream",
     "text": [
      "2025-07-29 21:05:44 - INFO - Trying GeoNamesQuery for 'Urabamba'\n",
      "2025-07-29 21:05:44 - INFO - [API CALL] http://api.geonames.org/searchJSON?q=Urabamba&username=jairomelo&maxRows=10&type=json&style=FULL&country=PE&featureClass=p\n",
      "2025-07-29 21:05:44 - INFO - Trying WHGQuery for 'Urabamba'\n",
      "2025-07-29 21:05:45 - INFO - [API CALL] https://whgazetteer.org/api/index/?name=Urabamba&fclass=p&dataset=&ccodes=PE\n",
      "2025-07-29 21:05:45 - INFO - Finding best match for 'Urabamba' in WHG results\n",
      "2025-07-29 21:05:45 - INFO - Trying TGNQuery for 'Urabamba'\n",
      "2025-07-29 21:05:45 - INFO - Trying WikidataQuery for 'Urabamba'\n",
      "2025-07-29 21:05:45 - INFO - [API CALL] https://www.wikidata.org/w/api.php?action=wbsearchentities&search=Urabamba&language=es&format=json&type=item&limit=10\n",
      "2025-07-29 21:05:45 - WARNING - Could not resolve 'Urabamba' via any service.\n"
     ]
    },
    {
     "name": "stderr",
     "output_type": "stream",
     "text": [
      "Resolving unique places:  92%|█████████▏| 112/122 [02:51<00:17,  1.79s/it]"
     ]
    },
    {
     "name": "stdout",
     "output_type": "stream",
     "text": [
      "2025-07-29 21:05:45 - INFO - Trying GeoNamesQuery for 'Urccohuase'\n",
      "2025-07-29 21:05:46 - INFO - [API CALL] http://api.geonames.org/searchJSON?q=Urccohuase&username=jairomelo&maxRows=10&type=json&style=FULL&country=PE&featureClass=p\n",
      "2025-07-29 21:05:46 - INFO - Trying WHGQuery for 'Urccohuase'\n",
      "2025-07-29 21:05:46 - INFO - [API CALL] https://whgazetteer.org/api/index/?name=Urccohuase&fclass=p&dataset=&ccodes=PE\n",
      "2025-07-29 21:05:46 - INFO - Finding best match for 'Urccohuase' in WHG results\n",
      "2025-07-29 21:05:46 - INFO - Trying TGNQuery for 'Urccohuase'\n",
      "2025-07-29 21:05:46 - INFO - Trying WikidataQuery for 'Urccohuase'\n",
      "2025-07-29 21:05:47 - INFO - [API CALL] https://www.wikidata.org/w/api.php?action=wbsearchentities&search=Urccohuase&language=es&format=json&type=item&limit=10\n",
      "2025-07-29 21:05:47 - WARNING - Could not resolve 'Urccohuase' via any service.\n"
     ]
    },
    {
     "name": "stderr",
     "output_type": "stream",
     "text": [
      "Resolving unique places:  93%|█████████▎| 113/122 [02:53<00:15,  1.67s/it]"
     ]
    },
    {
     "name": "stdout",
     "output_type": "stream",
     "text": [
      "2025-07-29 21:05:47 - INFO - Trying GeoNamesQuery for 'Viceparroquia de Chacralla'\n",
      "2025-07-29 21:05:47 - INFO - [API CALL] http://api.geonames.org/searchJSON?q=Viceparroquia+de+Chacralla&username=jairomelo&maxRows=10&type=json&style=FULL&country=PE&featureClass=p\n",
      "2025-07-29 21:05:47 - INFO - Trying WHGQuery for 'Viceparroquia de Chacralla'\n",
      "2025-07-29 21:05:48 - INFO - [API CALL] https://whgazetteer.org/api/index/?name=Viceparroquia%20de%20Chacralla&fclass=p&dataset=&ccodes=PE\n",
      "2025-07-29 21:05:48 - INFO - Finding best match for 'Viceparroquia de Chacralla' in WHG results\n",
      "2025-07-29 21:05:48 - INFO - Trying TGNQuery for 'Viceparroquia de Chacralla'\n",
      "2025-07-29 21:05:49 - INFO - Trying WikidataQuery for 'Viceparroquia de Chacralla'\n",
      "2025-07-29 21:05:49 - INFO - [API CALL] https://www.wikidata.org/w/api.php?action=wbsearchentities&search=Viceparroquia+de+Chacralla&language=es&format=json&type=item&limit=10\n",
      "2025-07-29 21:05:49 - WARNING - Could not resolve 'Viceparroquia de Chacralla' via any service.\n"
     ]
    },
    {
     "name": "stderr",
     "output_type": "stream",
     "text": [
      "Resolving unique places:  93%|█████████▎| 114/122 [02:56<00:16,  2.00s/it]"
     ]
    },
    {
     "name": "stdout",
     "output_type": "stream",
     "text": [
      "2025-07-29 21:05:49 - INFO - Trying GeoNamesQuery for 'Viceparroquia de Pampamarca'\n",
      "2025-07-29 21:05:50 - INFO - [API CALL] http://api.geonames.org/searchJSON?q=Viceparroquia+de+Pampamarca&username=jairomelo&maxRows=10&type=json&style=FULL&country=PE&featureClass=p\n",
      "2025-07-29 21:05:50 - INFO - Trying WHGQuery for 'Viceparroquia de Pampamarca'\n",
      "2025-07-29 21:05:50 - INFO - [API CALL] https://whgazetteer.org/api/index/?name=Viceparroquia%20de%20Pampamarca&fclass=p&dataset=&ccodes=PE\n",
      "2025-07-29 21:05:50 - INFO - Finding best match for 'Viceparroquia de Pampamarca' in WHG results\n",
      "2025-07-29 21:05:50 - INFO - Trying TGNQuery for 'Viceparroquia de Pampamarca'\n",
      "2025-07-29 21:05:52 - INFO - Trying WikidataQuery for 'Viceparroquia de Pampamarca'\n",
      "2025-07-29 21:05:52 - INFO - [API CALL] https://www.wikidata.org/w/api.php?action=wbsearchentities&search=Viceparroquia+de+Pampamarca&language=es&format=json&type=item&limit=10\n",
      "2025-07-29 21:05:52 - WARNING - Could not resolve 'Viceparroquia de Pampamarca' via any service.\n"
     ]
    },
    {
     "name": "stderr",
     "output_type": "stream",
     "text": [
      "Resolving unique places:  94%|█████████▍| 115/122 [02:58<00:15,  2.23s/it]"
     ]
    },
    {
     "name": "stdout",
     "output_type": "stream",
     "text": [
      "2025-07-29 21:05:52 - INFO - Trying GeoNamesQuery for 'Vilcas'\n",
      "2025-07-29 21:05:53 - INFO - [API CALL] http://api.geonames.org/searchJSON?q=Vilcas&username=jairomelo&maxRows=10&type=json&style=FULL&country=PE&featureClass=p\n",
      "2025-07-29 21:05:53 - INFO - Post-filtering GeoNames results for 'Vilcas' with language 'es'\n",
      "2025-07-29 21:05:53 - INFO - Found match: 'Vilcashuamán' with similarity 100.0%\n",
      "2025-07-29 21:05:53 - INFO - Resolved 'Vilcas' via GeoNamesQuery: {'place': 'Vilcas', 'standardize_label': 'Vilcashuamán', 'language': 'es', 'latitude': -13.65361, 'longitude': -73.95306, 'source': 'GeoNames', 'id': 3926141, 'uri': 'http://sws.geonames.org/3926141/', 'country_code': 'PE', 'part_of': '', 'part_of_uri': '', 'confidence': 100.0, 'threshold': 90, 'match_type': 'exact'}\n"
     ]
    },
    {
     "name": "stderr",
     "output_type": "stream",
     "text": [
      "Resolving unique places:  95%|█████████▌| 116/122 [02:59<00:10,  1.70s/it]"
     ]
    },
    {
     "name": "stdout",
     "output_type": "stream",
     "text": [
      "2025-07-29 21:05:53 - INFO - Trying GeoNamesQuery for 'Villa de San Juan'\n",
      "2025-07-29 21:05:53 - INFO - [API CALL] http://api.geonames.org/searchJSON?q=Villa+de+San+Juan&username=jairomelo&maxRows=10&type=json&style=FULL&country=PE&featureClass=p\n",
      "2025-07-29 21:05:53 - INFO - Post-filtering GeoNames results for 'Villa de San Juan' with language 'es'\n",
      "2025-07-29 21:05:53 - INFO - Found match: 'Villa Flores' with similarity 72.72727272727273%\n",
      "2025-07-29 21:05:53 - INFO - Post-filtering GeoNames results for 'Villa de San Juan' with language 'es'\n",
      "2025-07-29 21:05:53 - INFO - Found match: 'Villa San Juan' with similarity 90.32258064516128%\n",
      "2025-07-29 21:05:53 - INFO - Resolved 'Villa de San Juan' via GeoNamesQuery: {'place': 'Villa de San Juan', 'standardize_label': 'Villa San Juan', 'language': 'es', 'latitude': -6.37252, 'longitude': -79.80292, 'source': 'GeoNames', 'id': 3820188, 'uri': 'http://sws.geonames.org/3820188/', 'country_code': 'PE', 'part_of': '', 'part_of_uri': '', 'confidence': 90.32258064516128, 'threshold': 90, 'match_type': 'fuzzy'}\n"
     ]
    },
    {
     "name": "stderr",
     "output_type": "stream",
     "text": [
      "Resolving unique places:  96%|█████████▌| 117/122 [02:59<00:06,  1.32s/it]"
     ]
    },
    {
     "name": "stdout",
     "output_type": "stream",
     "text": [
      "2025-07-29 21:05:53 - INFO - Trying GeoNamesQuery for 'Yshua'\n",
      "2025-07-29 21:05:54 - INFO - [API CALL] http://api.geonames.org/searchJSON?q=Yshua&username=jairomelo&maxRows=10&type=json&style=FULL&country=PE&featureClass=p\n",
      "2025-07-29 21:05:54 - INFO - Trying WHGQuery for 'Yshua'\n",
      "2025-07-29 21:05:54 - INFO - [API CALL] https://whgazetteer.org/api/index/?name=Yshua&fclass=p&dataset=&ccodes=PE\n",
      "2025-07-29 21:05:54 - INFO - Finding best match for 'Yshua' in WHG results\n",
      "2025-07-29 21:05:54 - INFO - Trying TGNQuery for 'Yshua'\n",
      "2025-07-29 21:05:54 - INFO - Trying WikidataQuery for 'Yshua'\n",
      "2025-07-29 21:05:55 - INFO - [API CALL] https://www.wikidata.org/w/api.php?action=wbsearchentities&search=Yshua&language=es&format=json&type=item&limit=10\n",
      "2025-07-29 21:05:55 - WARNING - Could not resolve 'Yshua' via any service.\n"
     ]
    },
    {
     "name": "stderr",
     "output_type": "stream",
     "text": [
      "Resolving unique places:  97%|█████████▋| 118/122 [03:01<00:05,  1.40s/it]"
     ]
    },
    {
     "name": "stdout",
     "output_type": "stream",
     "text": [
      "2025-07-29 21:05:55 - INFO - Trying GeoNamesQuery for 'iglesia'\n",
      "2025-07-29 21:05:55 - INFO - [API CALL] http://api.geonames.org/searchJSON?q=iglesia&username=jairomelo&maxRows=10&type=json&style=FULL&country=PE&featureClass=p\n",
      "2025-07-29 21:05:55 - INFO - Post-filtering GeoNames results for 'iglesia' with language 'es'\n",
      "2025-07-29 21:05:55 - INFO - Found match: 'Santa Iglesia' with similarity 100.0%\n",
      "2025-07-29 21:05:55 - INFO - Resolved 'iglesia' via GeoNamesQuery: {'place': 'iglesia', 'standardize_label': 'Santa Iglesia', 'language': 'es', 'latitude': -13.9, 'longitude': -74.18333, 'source': 'GeoNames', 'id': 3929204, 'uri': 'http://sws.geonames.org/3929204/', 'country_code': 'PE', 'part_of': '', 'part_of_uri': '', 'confidence': 100.0, 'threshold': 90, 'match_type': 'exact'}\n"
     ]
    },
    {
     "name": "stderr",
     "output_type": "stream",
     "text": [
      "Resolving unique places:  98%|█████████▊| 119/122 [03:01<00:03,  1.14s/it]"
     ]
    },
    {
     "name": "stdout",
     "output_type": "stream",
     "text": [
      "2025-07-29 21:05:55 - INFO - Trying GeoNamesQuery for 'pantati'\n",
      "2025-07-29 21:05:56 - INFO - [API CALL] http://api.geonames.org/searchJSON?q=pantati&username=jairomelo&maxRows=10&type=json&style=FULL&country=PE&featureClass=p\n",
      "2025-07-29 21:05:56 - INFO - Trying WHGQuery for 'pantati'\n",
      "2025-07-29 21:05:56 - INFO - [API CALL] https://whgazetteer.org/api/index/?name=pantati&fclass=p&dataset=&ccodes=PE\n",
      "2025-07-29 21:05:56 - INFO - Finding best match for 'pantati' in WHG results\n",
      "2025-07-29 21:05:56 - INFO - Trying TGNQuery for 'pantati'\n",
      "2025-07-29 21:05:57 - INFO - Trying WikidataQuery for 'pantati'\n",
      "2025-07-29 21:05:57 - INFO - [API CALL] https://www.wikidata.org/w/api.php?action=wbsearchentities&search=pantati&language=es&format=json&type=item&limit=10\n",
      "2025-07-29 21:05:57 - WARNING - Could not resolve 'pantati' via any service.\n"
     ]
    },
    {
     "name": "stderr",
     "output_type": "stream",
     "text": [
      "Resolving unique places:  98%|█████████▊| 120/122 [03:03<00:02,  1.32s/it]"
     ]
    },
    {
     "name": "stdout",
     "output_type": "stream",
     "text": [
      "2025-07-29 21:05:57 - INFO - Trying GeoNamesQuery for 'santa'\n",
      "2025-07-29 21:05:57 - INFO - [API CALL] http://api.geonames.org/searchJSON?q=santa&username=jairomelo&maxRows=10&type=json&style=FULL&country=PE&featureClass=p\n",
      "2025-07-29 21:05:57 - INFO - Post-filtering GeoNames results for 'santa' with language 'es'\n",
      "2025-07-29 21:05:57 - INFO - Found match: 'Chimbote' with similarity 28.57142857142857%\n",
      "2025-07-29 21:05:57 - INFO - Post-filtering GeoNames results for 'santa' with language 'es'\n",
      "2025-07-29 21:05:57 - INFO - Found match: 'Santa Anita - Los Ficus' with similarity 100.0%\n",
      "2025-07-29 21:05:57 - INFO - Resolved 'santa' via GeoNamesQuery: {'place': 'santa', 'standardize_label': 'Santa Anita - Los Ficus', 'language': 'es', 'latitude': -12.05048, 'longitude': -76.97335, 'source': 'GeoNames', 'id': 12157007, 'uri': 'http://sws.geonames.org/12157007/', 'country_code': 'PE', 'part_of': '', 'part_of_uri': '', 'confidence': 100.0, 'threshold': 90, 'match_type': 'exact'}\n"
     ]
    },
    {
     "name": "stderr",
     "output_type": "stream",
     "text": [
      "Resolving unique places:  99%|█████████▉| 121/122 [03:03<00:01,  1.05s/it]"
     ]
    },
    {
     "name": "stdout",
     "output_type": "stream",
     "text": [
      "2025-07-29 21:05:57 - INFO - Trying GeoNamesQuery for 'santa iglesia'\n",
      "2025-07-29 21:05:58 - INFO - [API CALL] http://api.geonames.org/searchJSON?q=santa+iglesia&username=jairomelo&maxRows=10&type=json&style=FULL&country=PE&featureClass=p\n",
      "2025-07-29 21:05:58 - INFO - Post-filtering GeoNames results for 'santa iglesia' with language 'es'\n",
      "2025-07-29 21:05:58 - INFO - Resolved 'santa iglesia' via GeoNamesQuery: {'place': 'santa iglesia', 'standardize_label': 'Santa Iglesia', 'language': 'es', 'latitude': -13.9, 'longitude': -74.18333, 'source': 'GeoNames', 'id': 3929204, 'uri': 'http://sws.geonames.org/3929204/', 'country_code': 'PE', 'part_of': '', 'part_of_uri': '', 'confidence': 100, 'threshold': 90, 'match_type': 'exact'}\n"
     ]
    },
    {
     "name": "stderr",
     "output_type": "stream",
     "text": [
      "Resolving unique places: 100%|██████████| 122/122 [03:04<00:00,  1.51s/it]"
     ]
    },
    {
     "name": "stdout",
     "output_type": "stream",
     "text": [
      "All unique places extracted:\n",
      "             place country place_type        standardize_label language  \\\n",
      "0         Acobamba      PE       city                 Acobamba       es   \n",
      "1        Alcamenca      PE       city                      NaN      NaN   \n",
      "2          Amaicca      PE       city                      NaN      NaN   \n",
      "3        Andamarca      PE       city                Andamarca       es   \n",
      "4            Antay      PE       city                      NaN      NaN   \n",
      "..             ...     ...        ...                      ...      ...   \n",
      "117          Yshua      PE       city                      NaN      NaN   \n",
      "118        iglesia      PE       city            Santa Iglesia       es   \n",
      "119        pantati      PE       city                      NaN      NaN   \n",
      "120          santa      PE       city  Santa Anita - Los Ficus       es   \n",
      "121  santa iglesia      PE       city            Santa Iglesia       es   \n",
      "\n",
      "     latitude  longitude    source        id  \\\n",
      "0   -12.07757  -74.87127  GeoNames   8663907   \n",
      "1         NaN        NaN       NaN       NaN   \n",
      "2         NaN        NaN       NaN       NaN   \n",
      "3   -15.63833  -70.58848  GeoNames   3947725   \n",
      "4         NaN        NaN       NaN       NaN   \n",
      "..        ...        ...       ...       ...   \n",
      "117       NaN        NaN       NaN       NaN   \n",
      "118 -13.90000  -74.18333  GeoNames   3929204   \n",
      "119       NaN        NaN       NaN       NaN   \n",
      "120 -12.05048  -76.97335  GeoNames  12157007   \n",
      "121 -13.90000  -74.18333  GeoNames   3929204   \n",
      "\n",
      "                                   uri country_code part_of part_of_uri  \\\n",
      "0     http://sws.geonames.org/8663907/           PE                       \n",
      "1                                  NaN          NaN     NaN         NaN   \n",
      "2                                  NaN          NaN     NaN         NaN   \n",
      "3     http://sws.geonames.org/3947725/           PE                       \n",
      "4                                  NaN          NaN     NaN         NaN   \n",
      "..                                 ...          ...     ...         ...   \n",
      "117                                NaN          NaN     NaN         NaN   \n",
      "118   http://sws.geonames.org/3929204/           PE                       \n",
      "119                                NaN          NaN     NaN         NaN   \n",
      "120  http://sws.geonames.org/12157007/           PE                       \n",
      "121   http://sws.geonames.org/3929204/           PE                       \n",
      "\n",
      "     confidence  threshold match_type  \n",
      "0         100.0       90.0      exact  \n",
      "1           NaN        NaN        NaN  \n",
      "2           NaN        NaN        NaN  \n",
      "3         100.0       90.0      exact  \n",
      "4           NaN        NaN        NaN  \n",
      "..          ...        ...        ...  \n",
      "117         NaN        NaN        NaN  \n",
      "118       100.0       90.0      exact  \n",
      "119         NaN        NaN        NaN  \n",
      "120       100.0       90.0      exact  \n",
      "121       100.0       90.0      exact  \n",
      "\n",
      "[122 rows x 16 columns]\n"
     ]
    },
    {
     "name": "stderr",
     "output_type": "stream",
     "text": [
      "\n"
     ]
    }
   ],
   "source": [
    "bautismos_places = BAUTISMOS_HARMONIZED[bautismos_place_columns]\n",
    "matrimonios_places = MATRIMONIOS_HARMONIZED[matrimonios_place_columns] \n",
    "entierros_places = ENTIERROS_HARMONIZED[entierros_place_columns]\n",
    "\n",
    "map_places = placeRecognition.MapPlaces([bautismos_places, matrimonios_places, entierros_places])\n",
    "all_unique_places = map_places.resolve_places()\n",
    "print(\"All unique places extracted:\")\n",
    "print(all_unique_places)"
   ]
  },
  {
   "cell_type": "code",
   "execution_count": 8,
   "id": "b9e0eda0",
   "metadata": {},
   "outputs": [],
   "source": [
    "all_unique_places.to_csv(\"../data/interim/unique_places.csv\", index=False)"
   ]
  },
  {
   "cell_type": "code",
   "execution_count": 9,
   "id": "abc97ae9",
   "metadata": {},
   "outputs": [
    {
     "name": "stdout",
     "output_type": "stream",
     "text": [
      "2025-07-29 21:05:58 - INFO - Processing 65 unique combinations instead of 65 rows (0.0% reduction in API calls)\n"
     ]
    },
    {
     "name": "stderr",
     "output_type": "stream",
     "text": [
      "Resolving unique places:   0%|          | 0/65 [00:00<?, ?it/s]"
     ]
    },
    {
     "name": "stdout",
     "output_type": "stream",
     "text": [
      "2025-07-29 21:05:58 - INFO - Trying GeoNamesQuery for 'Acobamba'\n",
      "2025-07-29 21:05:58 - INFO - [CACHE HIT] http://api.geonames.org/searchJSON?country=PE&featureClass=p&maxRows=10&q=Acobamba&style=FULL&type=json&username=jairomelo\n",
      "2025-07-29 21:05:58 - INFO - Post-filtering GeoNames results for 'Acobamba' with language 'es'\n",
      "2025-07-29 21:05:58 - INFO - Found match: 'Acobamba' with similarity 100.0%\n",
      "2025-07-29 21:05:58 - INFO - Resolved 'Acobamba' via GeoNamesQuery: {'place': 'Acobamba', 'standardize_label': 'Acobamba', 'language': 'es', 'latitude': -12.07757, 'longitude': -74.87127, 'source': 'GeoNames', 'id': 8663907, 'uri': 'http://sws.geonames.org/8663907/', 'country_code': 'PE', 'part_of': '', 'part_of_uri': '', 'confidence': 100.0, 'threshold': 90, 'match_type': 'exact'}\n",
      "2025-07-29 21:05:58 - INFO - Trying GeoNamesQuery for 'Alcamenca'\n",
      "2025-07-29 21:05:58 - INFO - [API CALL] http://api.geonames.org/searchJSON?q=Alcamenca&username=jairomelo&maxRows=10&type=json&style=FULL&country=PE&featureClass=ppl\n",
      "2025-07-29 21:05:58 - INFO - Trying WHGQuery for 'Alcamenca'\n",
      "2025-07-29 21:05:58 - INFO - [CACHE HIT] https://whgazetteer.org/api/index/?ccodes=PE&fclass=p&name=Alcamenca\n",
      "2025-07-29 21:05:58 - INFO - Finding best match for 'Alcamenca' in WHG results\n",
      "2025-07-29 21:05:58 - INFO - Trying TGNQuery for 'Alcamenca'\n",
      "2025-07-29 21:05:58 - INFO - Trying WikidataQuery for 'Alcamenca'\n",
      "2025-07-29 21:05:58 - INFO - [CACHE HIT] https://www.wikidata.org/w/api.php?action=wbsearchentities&format=json&language=es&limit=10&search=Alcamenca&type=item\n",
      "2025-07-29 21:05:58 - INFO - [CACHE HIT] https://www.wikidata.org/w/api.php?action=wbgetentities&format=json&ids=Q130369762%7CQ3824932&props=labels%7Cclaims\n",
      "2025-07-29 21:05:58 - INFO - [CACHE HIT] https://www.wikidata.org/w/api.php?action=wbgetentities&format=json&ids=Q419&props=labels%7Cclaims\n",
      "2025-07-29 21:05:58 - INFO - [CACHE HIT] https://www.wikidata.org/w/api.php?action=wbgetentities&format=json&ids=Q1947116%7CQ3824932&props=labels%7Cclaims\n",
      "2025-07-29 21:05:58 - INFO - Wikidata match: 'Alcamenca' → 100.0%\n",
      "2025-07-29 21:05:58 - INFO - Resolved 'Alcamenca' via WikidataQuery: {'place': 'Alcamenca', 'standardize_label': 'Alcamenca', 'language': 'es', 'latitude': -13.6570495, 'longitude': -74.1471339, 'source': 'Wikidata', 'id': 'Q130369762', 'uri': 'https://www.wikidata.org/entity/Q130369762', 'country_code': 'PE', 'part_of': 'Distrito de Alcamenca', 'part_of_uri': 'https://www.wikidata.org/entity/Q3824932', 'confidence': 100.0, 'threshold': 90, 'match_type': 'exact'}\n"
     ]
    },
    {
     "name": "stderr",
     "output_type": "stream",
     "text": [
      "Resolving unique places:   3%|▎         | 2/65 [00:00<00:20,  3.09it/s]"
     ]
    },
    {
     "name": "stdout",
     "output_type": "stream",
     "text": [
      "2025-07-29 21:05:58 - INFO - Trying GeoNamesQuery for 'Amaicca'\n",
      "2025-07-29 21:05:59 - INFO - [API CALL] http://api.geonames.org/searchJSON?q=Amaicca&username=jairomelo&maxRows=10&type=json&style=FULL&country=PE&featureClass=ppl\n",
      "2025-07-29 21:05:59 - INFO - Trying WHGQuery for 'Amaicca'\n",
      "2025-07-29 21:05:59 - INFO - [CACHE HIT] https://whgazetteer.org/api/index/?ccodes=PE&fclass=p&name=Amaicca\n",
      "2025-07-29 21:05:59 - INFO - Finding best match for 'Amaicca' in WHG results\n",
      "2025-07-29 21:05:59 - INFO - Trying TGNQuery for 'Amaicca'\n",
      "2025-07-29 21:05:59 - INFO - Trying WikidataQuery for 'Amaicca'\n",
      "2025-07-29 21:05:59 - INFO - [CACHE HIT] https://www.wikidata.org/w/api.php?action=wbsearchentities&format=json&language=es&limit=10&search=Amaicca&type=item\n",
      "2025-07-29 21:05:59 - WARNING - Could not resolve 'Amaicca' via any service.\n"
     ]
    },
    {
     "name": "stderr",
     "output_type": "stream",
     "text": [
      "Resolving unique places:   5%|▍         | 3/65 [00:01<00:26,  2.30it/s]"
     ]
    },
    {
     "name": "stdout",
     "output_type": "stream",
     "text": [
      "2025-07-29 21:05:59 - INFO - Trying GeoNamesQuery for 'Andamarca'\n",
      "2025-07-29 21:05:59 - INFO - [CACHE HIT] http://api.geonames.org/searchJSON?country=PE&featureClass=p&maxRows=10&q=Andamarca&style=FULL&type=json&username=jairomelo\n",
      "2025-07-29 21:05:59 - INFO - Post-filtering GeoNames results for 'Andamarca' with language 'es'\n",
      "2025-07-29 21:05:59 - INFO - Found match: 'Andamarca' with similarity 100.0%\n",
      "2025-07-29 21:05:59 - INFO - Resolved 'Andamarca' via GeoNamesQuery: {'place': 'Andamarca', 'standardize_label': 'Andamarca', 'language': 'es', 'latitude': -15.63833, 'longitude': -70.58848, 'source': 'GeoNames', 'id': 3947725, 'uri': 'http://sws.geonames.org/3947725/', 'country_code': 'PE', 'part_of': '', 'part_of_uri': '', 'confidence': 100.0, 'threshold': 90, 'match_type': 'exact'}\n",
      "2025-07-29 21:05:59 - INFO - Trying GeoNamesQuery for 'Antay'\n",
      "2025-07-29 21:05:59 - INFO - [API CALL] http://api.geonames.org/searchJSON?q=Antay&username=jairomelo&maxRows=10&type=json&style=FULL&country=PE&featureClass=ppl\n",
      "2025-07-29 21:05:59 - INFO - Trying WHGQuery for 'Antay'\n",
      "2025-07-29 21:05:59 - INFO - [CACHE HIT] https://whgazetteer.org/api/index/?ccodes=PE&fclass=p&name=Antay\n",
      "2025-07-29 21:05:59 - INFO - Finding best match for 'Antay' in WHG results\n",
      "2025-07-29 21:05:59 - INFO - Trying TGNQuery for 'Antay'\n",
      "2025-07-29 21:06:00 - INFO - Trying WikidataQuery for 'Antay'\n",
      "2025-07-29 21:06:00 - INFO - [CACHE HIT] https://www.wikidata.org/w/api.php?action=wbsearchentities&format=json&language=es&limit=10&search=Antay&type=item\n",
      "2025-07-29 21:06:00 - INFO - [CACHE HIT] https://www.wikidata.org/w/api.php?action=wbgetentities&format=json&ids=Q133868505%7CQ37574665%7CQ97160355%7CQ576104%7CQ4325870%7CQ124457202%7CQ133699136%7CQ16483459%7CQ77957009%7CQ24039110&props=labels%7Cclaims\n",
      "2025-07-29 21:06:00 - INFO - [CACHE HIT] https://www.wikidata.org/w/api.php?action=wbgetentities&format=json&ids=Q30%7CQ212%7CQ419%7CQ298&props=labels%7Cclaims\n",
      "2025-07-29 21:06:00 - INFO - [CACHE HIT] https://www.wikidata.org/w/api.php?action=wbgetentities&format=json&ids=Q3868%7CQ2893883%7CQ4507219%7CQ1948195&props=labels%7Cclaims\n",
      "2025-07-29 21:06:00 - INFO - Wikidata match: 'Antayaje' → 100.0%\n",
      "2025-07-29 21:06:00 - INFO - Resolved 'Antay' via WikidataQuery: {'place': 'Antay', 'standardize_label': 'Antayaje', 'language': 'es', 'latitude': -14.068861111111111, 'longitude': -71.75522222222222, 'source': 'Wikidata', 'id': 'Q97160355', 'uri': 'https://www.wikidata.org/entity/Q97160355', 'country_code': 'PE', 'part_of': 'Distrito de Omacha', 'part_of_uri': 'https://www.wikidata.org/entity/Q2893883', 'confidence': 100.0, 'threshold': 90, 'match_type': 'exact'}\n"
     ]
    },
    {
     "name": "stderr",
     "output_type": "stream",
     "text": [
      "Resolving unique places:   8%|▊         | 5/65 [00:02<00:26,  2.30it/s]"
     ]
    },
    {
     "name": "stdout",
     "output_type": "stream",
     "text": [
      "2025-07-29 21:06:00 - INFO - Trying GeoNamesQuery for 'Aralla'\n",
      "2025-07-29 21:06:00 - INFO - [API CALL] http://api.geonames.org/searchJSON?q=Aralla&username=jairomelo&maxRows=10&type=json&style=FULL&country=PE&featureClass=ppl\n",
      "2025-07-29 21:06:00 - INFO - Trying WHGQuery for 'Aralla'\n",
      "2025-07-29 21:06:00 - INFO - [CACHE HIT] https://whgazetteer.org/api/index/?ccodes=PE&fclass=p&name=Aralla\n",
      "2025-07-29 21:06:00 - INFO - Finding best match for 'Aralla' in WHG results\n",
      "2025-07-29 21:06:00 - INFO - Trying TGNQuery for 'Aralla'\n",
      "2025-07-29 21:06:01 - INFO - Trying WikidataQuery for 'Aralla'\n",
      "2025-07-29 21:06:01 - INFO - [CACHE HIT] https://www.wikidata.org/w/api.php?action=wbsearchentities&format=json&language=es&limit=10&search=Aralla&type=item\n",
      "2025-07-29 21:06:01 - INFO - [CACHE HIT] https://www.wikidata.org/w/api.php?action=wbgetentities&format=json&ids=Q12472367%7CQ20021325%7CQ85742583%7CQ26431540&props=labels%7Cclaims\n",
      "2025-07-29 21:06:01 - INFO - [CACHE HIT] https://www.wikidata.org/w/api.php?action=wbgetentities&format=json&ids=Q29%7CQ145%7CQ252%7CQ43&props=labels%7Cclaims\n",
      "2025-07-29 21:06:01 - INFO - [CACHE HIT] https://www.wikidata.org/w/api.php?action=wbgetentities&format=json&ids=Q1607678%7CQ7593036%7CQ4194832&props=labels%7Cclaims\n",
      "2025-07-29 21:06:01 - WARNING - Could not resolve 'Aralla' via any service.\n"
     ]
    },
    {
     "name": "stderr",
     "output_type": "stream",
     "text": [
      "Resolving unique places:   9%|▉         | 6/65 [00:02<00:29,  1.99it/s]"
     ]
    },
    {
     "name": "stdout",
     "output_type": "stream",
     "text": [
      "2025-07-29 21:06:01 - INFO - Trying GeoNamesQuery for 'Aucará'\n",
      "2025-07-29 21:06:01 - INFO - [CACHE HIT] http://api.geonames.org/searchJSON?country=PE&featureClass=p&maxRows=10&q=Aucar%C3%A1&style=FULL&type=json&username=jairomelo\n",
      "2025-07-29 21:06:01 - INFO - Post-filtering GeoNames results for 'Aucará' with language 'es'\n",
      "2025-07-29 21:06:01 - INFO - Found match: 'Huaycahuaycho' with similarity 50.0%\n",
      "2025-07-29 21:06:01 - INFO - Post-filtering GeoNames results for 'Aucará' with language 'es'\n",
      "2025-07-29 21:06:01 - INFO - Found match: 'Queca' with similarity 66.66666666666667%\n",
      "2025-07-29 21:06:01 - INFO - Post-filtering GeoNames results for 'Aucará' with language 'es'\n",
      "2025-07-29 21:06:01 - INFO - Found match: 'Aucará' with similarity 100.0%\n",
      "2025-07-29 21:06:01 - INFO - Resolved 'Aucará' via GeoNamesQuery: {'place': 'Aucará', 'standardize_label': 'Aucará', 'language': 'es', 'latitude': -14.25, 'longitude': -74.08333, 'source': 'GeoNames', 'id': 3947087, 'uri': 'http://sws.geonames.org/3947087/', 'country_code': 'PE', 'part_of': '', 'part_of_uri': '', 'confidence': 100.0, 'threshold': 90, 'match_type': 'exact'}\n",
      "2025-07-29 21:06:01 - INFO - Trying GeoNamesQuery for 'Cabana'\n",
      "2025-07-29 21:06:01 - INFO - [API CALL] http://api.geonames.org/searchJSON?q=Cabana&username=jairomelo&maxRows=10&type=json&style=FULL&country=PE&featureClass=ppl\n",
      "2025-07-29 21:06:01 - INFO - Trying WHGQuery for 'Cabana'\n",
      "2025-07-29 21:06:02 - INFO - [API CALL] https://whgazetteer.org/api/index/?name=Cabana&fclass=p&dataset=&ccodes=PE\n",
      "2025-07-29 21:06:02 - INFO - Finding best match for 'Cabana' in WHG results\n",
      "2025-07-29 21:06:02 - INFO - Comparing 'Cabana' with 'Cabana': 100.0% similarity\n",
      "2025-07-29 21:06:02 - INFO - Best match for 'Cabana': Cabana (100.0%)\n",
      "2025-07-29 21:06:02 - INFO - Resolved 'Cabana' via WHGQuery: {'place': 'Cabana', 'standardize_label': 'Cabana', 'language': 'es', 'latitude': -14.290698, 'longitude': -73.966841, 'source': 'WHG', 'id': '14164985', 'uri': 'https://whgazetteer.org/places/14164985/portal/', 'country_code': 'PE', 'part_of': '', 'part_of_uri': '', 'confidence': 100.0, 'threshold': 90, 'match_type': 'exact'}\n"
     ]
    },
    {
     "name": "stderr",
     "output_type": "stream",
     "text": [
      "Resolving unique places:  12%|█▏        | 8/65 [00:03<00:29,  1.91it/s]"
     ]
    },
    {
     "name": "stdout",
     "output_type": "stream",
     "text": [
      "2025-07-29 21:06:02 - INFO - Trying GeoNamesQuery for 'Visvicha'\n",
      "2025-07-29 21:06:02 - INFO - [API CALL] http://api.geonames.org/searchJSON?q=Visvicha&username=jairomelo&maxRows=10&type=json&style=FULL&country=PE&featureClass=ppl\n",
      "2025-07-29 21:06:02 - INFO - Trying WHGQuery for 'Visvicha'\n",
      "2025-07-29 21:06:03 - INFO - [API CALL] https://whgazetteer.org/api/index/?name=Visvicha&fclass=p&dataset=&ccodes=PE\n",
      "2025-07-29 21:06:03 - INFO - Finding best match for 'Visvicha' in WHG results\n",
      "2025-07-29 21:06:03 - INFO - Trying TGNQuery for 'Visvicha'\n",
      "2025-07-29 21:06:03 - INFO - Trying WikidataQuery for 'Visvicha'\n",
      "2025-07-29 21:06:03 - INFO - [API CALL] https://www.wikidata.org/w/api.php?action=wbsearchentities&search=Visvicha&language=es&format=json&type=item&limit=10\n",
      "2025-07-29 21:06:03 - WARNING - Could not resolve 'Visvicha' via any service.\n"
     ]
    },
    {
     "name": "stderr",
     "output_type": "stream",
     "text": [
      "Resolving unique places:  14%|█▍        | 9/65 [00:05<00:43,  1.28it/s]"
     ]
    },
    {
     "name": "stdout",
     "output_type": "stream",
     "text": [
      "2025-07-29 21:06:03 - INFO - Trying GeoNamesQuery for 'Chapa'\n",
      "2025-07-29 21:06:04 - INFO - [API CALL] http://api.geonames.org/searchJSON?q=Chapa&username=jairomelo&maxRows=10&type=json&style=FULL&country=PE&featureClass=ppl\n",
      "2025-07-29 21:06:04 - INFO - Trying WHGQuery for 'Chapa'\n",
      "2025-07-29 21:06:04 - INFO - [API CALL] https://whgazetteer.org/api/index/?name=Chapa&fclass=p&dataset=&ccodes=PE\n",
      "2025-07-29 21:06:04 - INFO - Finding best match for 'Chapa' in WHG results\n",
      "2025-07-29 21:06:04 - INFO - Trying TGNQuery for 'Chapa'\n",
      "2025-07-29 21:06:04 - INFO - Trying WikidataQuery for 'Chapa'\n",
      "2025-07-29 21:06:05 - INFO - [API CALL] https://www.wikidata.org/w/api.php?action=wbsearchentities&search=Chapa&language=es&format=json&type=item&limit=10\n",
      "2025-07-29 21:06:05 - INFO - [API CALL] https://www.wikidata.org/w/api.php?action=wbgetentities&ids=Q18324542%7CQ211367%7CQ61765708%7CQ539191%7CQ61755768%7CQ61765037%7CQ61765754%7CQ61765639%7CQ61765646%7CQ61766053&format=json&props=labels%7Cclaims\n",
      "2025-07-29 21:06:06 - INFO - [API CALL] https://www.wikidata.org/w/api.php?action=wbgetentities&ids=Q155%7CQ45&format=json&props=labels%7Cclaims\n",
      "2025-07-29 21:06:06 - INFO - [API CALL] https://www.wikidata.org/w/api.php?action=wbgetentities&ids=Q454875&format=json&props=labels%7Cclaims\n",
      "2025-07-29 21:06:06 - WARNING - Could not resolve 'Chapa' via any service.\n"
     ]
    },
    {
     "name": "stderr",
     "output_type": "stream",
     "text": [
      "Resolving unique places:  15%|█▌        | 10/65 [00:08<01:13,  1.33s/it]"
     ]
    },
    {
     "name": "stdout",
     "output_type": "stream",
     "text": [
      "2025-07-29 21:06:06 - INFO - Trying GeoNamesQuery for 'Huaycahuaycho'\n",
      "2025-07-29 21:06:07 - INFO - [API CALL] http://api.geonames.org/searchJSON?q=Huaycahuaycho&username=jairomelo&maxRows=10&type=json&style=FULL&country=PE&featureClass=p\n",
      "2025-07-29 21:06:07 - INFO - Post-filtering GeoNames results for 'Huaycahuaycho' with language 'es'\n",
      "2025-07-29 21:06:07 - INFO - Resolved 'Huaycahuaycho' via GeoNamesQuery: {'place': 'Huaycahuaycho', 'standardize_label': 'Huaycahuaycho', 'language': 'es', 'latitude': -14.15, 'longitude': -74.01667, 'source': 'GeoNames', 'id': 3939003, 'uri': 'http://sws.geonames.org/3939003/', 'country_code': 'PE', 'part_of': '', 'part_of_uri': '', 'confidence': 100, 'threshold': 90, 'match_type': 'exact'}\n"
     ]
    },
    {
     "name": "stderr",
     "output_type": "stream",
     "text": [
      "Resolving unique places:  17%|█▋        | 11/65 [00:08<00:58,  1.07s/it]"
     ]
    },
    {
     "name": "stdout",
     "output_type": "stream",
     "text": [
      "2025-07-29 21:06:07 - INFO - Trying GeoNamesQuery for 'Ayacucho'\n",
      "2025-07-29 21:06:07 - INFO - [CACHE HIT] http://api.geonames.org/searchJSON?country=PE&featureClass=p&maxRows=10&q=Ayacucho&style=FULL&type=json&username=jairomelo\n",
      "2025-07-29 21:06:07 - INFO - Post-filtering GeoNames results for 'Ayacucho' with language 'es'\n",
      "2025-07-29 21:06:07 - INFO - Found match: 'Ayacucho' with similarity 100.0%\n",
      "2025-07-29 21:06:07 - INFO - Resolved 'Ayacucho' via GeoNamesQuery: {'place': 'Ayacucho', 'standardize_label': 'Ayacucho', 'language': 'es', 'latitude': -13.1638, 'longitude': -74.22345, 'source': 'GeoNames', 'id': 3947019, 'uri': 'http://sws.geonames.org/3947019/', 'country_code': 'PE', 'part_of': '', 'part_of_uri': '', 'confidence': 100.0, 'threshold': 90, 'match_type': 'exact'}\n",
      "2025-07-29 21:06:07 - INFO - Trying GeoNamesQuery for 'Cabana'\n",
      "2025-07-29 21:06:07 - INFO - [CACHE HIT] http://api.geonames.org/searchJSON?country=PE&featureClass=p&maxRows=10&q=Cabana&style=FULL&type=json&username=jairomelo\n",
      "2025-07-29 21:06:07 - INFO - Post-filtering GeoNames results for 'Cabana' with language 'es'\n",
      "2025-07-29 21:06:07 - INFO - Found match: 'Cabana' with similarity 100.0%\n",
      "2025-07-29 21:06:07 - INFO - Resolved 'Cabana' via GeoNamesQuery: {'place': 'Cabana', 'standardize_label': 'Cabana', 'language': 'es', 'latitude': -8.4, 'longitude': -78.03333, 'source': 'GeoNames', 'id': 3699185, 'uri': 'http://sws.geonames.org/3699185/', 'country_code': 'PE', 'part_of': '', 'part_of_uri': '', 'confidence': 100.0, 'threshold': 90, 'match_type': 'exact'}\n",
      "2025-07-29 21:06:07 - INFO - Trying GeoNamesQuery for 'Canaria'\n",
      "2025-07-29 21:06:07 - INFO - [CACHE HIT] http://api.geonames.org/searchJSON?country=PE&featureClass=p&maxRows=10&q=Canaria&style=FULL&type=json&username=jairomelo\n",
      "2025-07-29 21:06:07 - INFO - Post-filtering GeoNames results for 'Canaria' with language 'es'\n",
      "2025-07-29 21:06:07 - INFO - Found match: 'Marcolla' with similarity 42.85714285714286%\n",
      "2025-07-29 21:06:07 - INFO - Post-filtering GeoNames results for 'Canaria' with language 'es'\n",
      "2025-07-29 21:06:07 - INFO - Found match: 'Sallani' with similarity 60.0%\n",
      "2025-07-29 21:06:07 - INFO - Post-filtering GeoNames results for 'Canaria' with language 'es'\n",
      "2025-07-29 21:06:07 - INFO - Found match: 'Canaria' with similarity 100.0%\n",
      "2025-07-29 21:06:07 - INFO - Resolved 'Canaria' via GeoNamesQuery: {'place': 'Canaria', 'standardize_label': 'Canaria', 'language': 'es', 'latitude': -13.81667, 'longitude': -73.86667, 'source': 'GeoNames', 'id': 3945879, 'uri': 'http://sws.geonames.org/3945879/', 'country_code': 'PE', 'part_of': '', 'part_of_uri': '', 'confidence': 100.0, 'threshold': 90, 'match_type': 'exact'}\n",
      "2025-07-29 21:06:07 - INFO - Trying GeoNamesQuery for 'Cangallo'\n",
      "2025-07-29 21:06:07 - INFO - [CACHE HIT] http://api.geonames.org/searchJSON?country=PE&featureClass=p&maxRows=10&q=Cangallo&style=FULL&type=json&username=jairomelo\n",
      "2025-07-29 21:06:07 - INFO - Post-filtering GeoNames results for 'Cangallo' with language 'es'\n",
      "2025-07-29 21:06:07 - INFO - Found match: 'Cangallo' with similarity 100.0%\n",
      "2025-07-29 21:06:07 - INFO - Resolved 'Cangallo' via GeoNamesQuery: {'place': 'Cangallo', 'standardize_label': 'Cangallo', 'language': 'es', 'latitude': -13.62861, 'longitude': -74.14389, 'source': 'GeoNames', 'id': 3945793, 'uri': 'http://sws.geonames.org/3945793/', 'country_code': 'PE', 'part_of': '', 'part_of_uri': '', 'confidence': 100.0, 'threshold': 90, 'match_type': 'exact'}\n",
      "2025-07-29 21:06:07 - INFO - Trying GeoNamesQuery for 'Caralla'\n",
      "2025-07-29 21:06:07 - INFO - [CACHE HIT] http://api.geonames.org/searchJSON?country=PE&featureClass=p&maxRows=10&q=Caralla&style=FULL&type=json&username=jairomelo\n",
      "2025-07-29 21:06:07 - INFO - Post-filtering GeoNames results for 'Caralla' with language 'es'\n",
      "2025-07-29 21:06:07 - INFO - Resolved 'Caralla' via GeoNamesQuery: {'place': 'Caralla', 'standardize_label': 'Caralla', 'language': 'es', 'latitude': -15.29535, 'longitude': -71.56692, 'source': 'GeoNames', 'id': 3955233, 'uri': 'http://sws.geonames.org/3955233/', 'country_code': 'PE', 'part_of': '', 'part_of_uri': '', 'confidence': 100, 'threshold': 90, 'match_type': 'exact'}\n",
      "2025-07-29 21:06:07 - INFO - Trying GeoNamesQuery for 'Carapo'\n",
      "2025-07-29 21:06:07 - INFO - [API CALL] http://api.geonames.org/searchJSON?q=Carapo&username=jairomelo&maxRows=10&type=json&style=FULL&country=PE&featureClass=p\n",
      "2025-07-29 21:06:07 - INFO - Post-filtering GeoNames results for 'Carapo' with language 'es'\n",
      "2025-07-29 21:06:07 - INFO - Found match: 'Carapo' with similarity 100.0%\n",
      "2025-07-29 21:06:07 - INFO - Resolved 'Carapo' via GeoNamesQuery: {'place': 'Carapo', 'standardize_label': 'Carapo', 'language': 'es', 'latitude': -13.75, 'longitude': -74.23333, 'source': 'GeoNames', 'id': 3945552, 'uri': 'http://sws.geonames.org/3945552/', 'country_code': 'PE', 'part_of': '', 'part_of_uri': '', 'confidence': 100.0, 'threshold': 90, 'match_type': 'exact'}\n"
     ]
    },
    {
     "name": "stderr",
     "output_type": "stream",
     "text": [
      "Resolving unique places:  26%|██▌       | 17/65 [00:09<00:18,  2.64it/s]"
     ]
    },
    {
     "name": "stdout",
     "output_type": "stream",
     "text": [
      "2025-07-29 21:06:07 - INFO - Trying GeoNamesQuery for 'Carmen Alto'\n",
      "2025-07-29 21:06:07 - INFO - [CACHE HIT] http://api.geonames.org/searchJSON?country=PE&featureClass=p&maxRows=10&q=Carmen+Alto&style=FULL&type=json&username=jairomelo\n",
      "2025-07-29 21:06:07 - INFO - Post-filtering GeoNames results for 'Carmen Alto' with language 'es'\n",
      "2025-07-29 21:06:07 - INFO - Found match: 'Yanama' with similarity 40.0%\n",
      "2025-07-29 21:06:07 - INFO - Post-filtering GeoNames results for 'Carmen Alto' with language 'es'\n",
      "2025-07-29 21:06:07 - INFO - Found match: 'Campanayocc' with similarity 60.0%\n",
      "2025-07-29 21:06:07 - INFO - Post-filtering GeoNames results for 'Carmen Alto' with language 'es'\n",
      "2025-07-29 21:06:07 - INFO - Found match: 'Carmen Alto' with similarity 100.0%\n",
      "2025-07-29 21:06:07 - INFO - Resolved 'Carmen Alto' via GeoNamesQuery: {'place': 'Carmen Alto', 'standardize_label': 'Carmen Alto', 'language': 'es', 'latitude': -14.70031, 'longitude': -70.5173, 'source': 'GeoNames', 'id': 13318788, 'uri': 'http://sws.geonames.org/13318788/', 'country_code': 'PE', 'part_of': '', 'part_of_uri': '', 'confidence': 100.0, 'threshold': 90, 'match_type': 'exact'}\n",
      "2025-07-29 21:06:07 - INFO - Trying GeoNamesQuery for 'Saicasa'\n",
      "2025-07-29 21:06:07 - INFO - [API CALL] http://api.geonames.org/searchJSON?q=Saicasa&username=jairomelo&maxRows=10&type=json&style=FULL&country=PE&featureClass=ppl\n",
      "2025-07-29 21:06:07 - INFO - Trying WHGQuery for 'Saicasa'\n",
      "2025-07-29 21:06:07 - INFO - [CACHE HIT] https://whgazetteer.org/api/index/?ccodes=PE&fclass=p&name=Saicasa\n",
      "2025-07-29 21:06:07 - INFO - Finding best match for 'Saicasa' in WHG results\n",
      "2025-07-29 21:06:07 - INFO - Trying TGNQuery for 'Saicasa'\n",
      "2025-07-29 21:06:08 - INFO - Trying WikidataQuery for 'Saicasa'\n",
      "2025-07-29 21:06:08 - INFO - [CACHE HIT] https://www.wikidata.org/w/api.php?action=wbsearchentities&format=json&language=es&limit=10&search=Saicasa&type=item\n",
      "2025-07-29 21:06:08 - WARNING - Could not resolve 'Saicasa' via any service.\n"
     ]
    },
    {
     "name": "stderr",
     "output_type": "stream",
     "text": [
      "Resolving unique places:  29%|██▉       | 19/65 [00:09<00:16,  2.74it/s]"
     ]
    },
    {
     "name": "stdout",
     "output_type": "stream",
     "text": [
      "2025-07-29 21:06:08 - INFO - Trying GeoNamesQuery for 'Castilla Puquio'\n",
      "2025-07-29 21:06:08 - INFO - [API CALL] http://api.geonames.org/searchJSON?q=Castilla+Puquio&username=jairomelo&maxRows=10&type=json&style=FULL&country=PE&featureClass=p\n",
      "2025-07-29 21:06:08 - INFO - Post-filtering GeoNames results for 'Castilla Puquio' with language 'es'\n",
      "2025-07-29 21:06:08 - INFO - Resolved 'Castilla Puquio' via GeoNamesQuery: {'place': 'Castilla Puquio', 'standardize_label': 'Castilla Puquio', 'language': 'es', 'latitude': -15.90016, 'longitude': -70.59152, 'source': 'GeoNames', 'id': 3945238, 'uri': 'http://sws.geonames.org/3945238/', 'country_code': 'PE', 'part_of': '', 'part_of_uri': '', 'confidence': 100, 'threshold': 90, 'match_type': 'exact'}\n"
     ]
    },
    {
     "name": "stderr",
     "output_type": "stream",
     "text": [
      "Resolving unique places:  31%|███       | 20/65 [00:10<00:16,  2.72it/s]"
     ]
    },
    {
     "name": "stdout",
     "output_type": "stream",
     "text": [
      "2025-07-29 21:06:08 - INFO - Trying GeoNamesQuery for 'Cayara'\n",
      "2025-07-29 21:06:08 - INFO - [CACHE HIT] http://api.geonames.org/searchJSON?country=PE&featureClass=p&maxRows=10&q=Cayara&style=FULL&type=json&username=jairomelo\n",
      "2025-07-29 21:06:08 - INFO - Post-filtering GeoNames results for 'Cayara' with language 'es'\n",
      "2025-07-29 21:06:08 - INFO - Found match: 'Mayopampa' with similarity 53.333333333333336%\n",
      "2025-07-29 21:06:08 - INFO - Post-filtering GeoNames results for 'Cayara' with language 'es'\n",
      "2025-07-29 21:06:08 - INFO - Found match: 'Cayara' with similarity 100.0%\n",
      "2025-07-29 21:06:08 - INFO - Resolved 'Cayara' via GeoNamesQuery: {'place': 'Cayara', 'standardize_label': 'Cayara', 'language': 'es', 'latitude': -15.31836, 'longitude': -73.55003, 'source': 'GeoNames', 'id': 3945148, 'uri': 'http://sws.geonames.org/3945148/', 'country_code': 'PE', 'part_of': '', 'part_of_uri': '', 'confidence': 100.0, 'threshold': 90, 'match_type': 'exact'}\n",
      "2025-07-29 21:06:08 - INFO - Trying GeoNamesQuery for 'Chacralla'\n",
      "2025-07-29 21:06:08 - INFO - [CACHE HIT] http://api.geonames.org/searchJSON?country=PE&featureClass=p&maxRows=10&q=Chacralla&style=FULL&type=json&username=jairomelo\n",
      "2025-07-29 21:06:08 - INFO - Post-filtering GeoNames results for 'Chacralla' with language 'es'\n",
      "2025-07-29 21:06:08 - INFO - Resolved 'Chacralla' via GeoNamesQuery: {'place': 'Chacralla', 'standardize_label': 'Chacralla', 'language': 'es', 'latitude': -14.20736, 'longitude': -73.99278, 'source': 'GeoNames', 'id': 3944632, 'uri': 'http://sws.geonames.org/3944632/', 'country_code': 'PE', 'part_of': '', 'part_of_uri': '', 'confidence': 100, 'threshold': 90, 'match_type': 'exact'}\n",
      "2025-07-29 21:06:08 - INFO - Trying GeoNamesQuery for 'Checca'\n",
      "2025-07-29 21:06:08 - INFO - [API CALL] http://api.geonames.org/searchJSON?q=Checca&username=jairomelo&maxRows=10&type=json&style=FULL&country=PE&featureClass=ppl\n",
      "2025-07-29 21:06:08 - INFO - Trying WHGQuery for 'Checca'\n",
      "2025-07-29 21:06:09 - INFO - [API CALL] https://whgazetteer.org/api/index/?name=Checca&fclass=p&dataset=&ccodes=PE\n",
      "2025-07-29 21:06:09 - INFO - Finding best match for 'Checca' in WHG results\n",
      "2025-07-29 21:06:09 - INFO - Comparing 'Checca' with 'Checca': 100.0% similarity\n",
      "2025-07-29 21:06:09 - INFO - Best match for 'Checca': Checca (100.0%)\n",
      "2025-07-29 21:06:09 - INFO - Resolved 'Checca' via WHGQuery: {'place': 'Checca', 'standardize_label': 'Checca', 'language': 'es', 'latitude': -14.473453, 'longitude': -71.394246, 'source': 'WHG', 'id': '14173701', 'uri': 'https://whgazetteer.org/places/14173701/portal/', 'country_code': 'PE', 'part_of': '', 'part_of_uri': '', 'confidence': 100.0, 'threshold': 90, 'match_type': 'exact'}\n"
     ]
    },
    {
     "name": "stderr",
     "output_type": "stream",
     "text": [
      "Resolving unique places:  35%|███▌      | 23/65 [00:11<00:14,  2.88it/s]"
     ]
    },
    {
     "name": "stdout",
     "output_type": "stream",
     "text": [
      "2025-07-29 21:06:09 - INFO - Trying GeoNamesQuery for 'Pampamarca'\n",
      "2025-07-29 21:06:09 - INFO - [CACHE HIT] http://api.geonames.org/searchJSON?country=PE&featureClass=p&maxRows=10&q=Pampamarca&style=FULL&type=json&username=jairomelo\n",
      "2025-07-29 21:06:09 - INFO - Post-filtering GeoNames results for 'Pampamarca' with language 'es'\n",
      "2025-07-29 21:06:09 - INFO - Found match: 'Pampaccarka' with similarity 77.77777777777779%\n",
      "2025-07-29 21:06:09 - INFO - Post-filtering GeoNames results for 'Pampamarca' with language 'es'\n",
      "2025-07-29 21:06:09 - INFO - Found match: 'Pampamarca' with similarity 100.0%\n",
      "2025-07-29 21:06:09 - INFO - Resolved 'Pampamarca' via GeoNamesQuery: {'place': 'Pampamarca', 'standardize_label': 'Pampamarca', 'language': 'es', 'latitude': -14.14639, 'longitude': -71.45944, 'source': 'GeoNames', 'id': 3933218, 'uri': 'http://sws.geonames.org/3933218/', 'country_code': 'PE', 'part_of': '', 'part_of_uri': '', 'confidence': 100.0, 'threshold': 90, 'match_type': 'exact'}\n",
      "2025-07-29 21:06:09 - INFO - Trying GeoNamesQuery for 'Chacalla'\n",
      "2025-07-29 21:06:09 - INFO - [CACHE HIT] http://api.geonames.org/searchJSON?country=PE&featureClass=p&maxRows=10&q=Chacalla&style=FULL&type=json&username=jairomelo\n",
      "2025-07-29 21:06:09 - INFO - Post-filtering GeoNames results for 'Chacalla' with language 'es'\n",
      "2025-07-29 21:06:09 - INFO - Resolved 'Chacalla' via GeoNamesQuery: {'place': 'Chacalla', 'standardize_label': 'Chacalla', 'language': 'es', 'latitude': -13.96889, 'longitude': -72.20556, 'source': 'GeoNames', 'id': 6392254, 'uri': 'http://sws.geonames.org/6392254/', 'country_code': 'PE', 'part_of': '', 'part_of_uri': '', 'confidence': 100, 'threshold': 90, 'match_type': 'exact'}\n",
      "2025-07-29 21:06:09 - INFO - Trying GeoNamesQuery for 'Chalhuanca'\n",
      "2025-07-29 21:06:09 - INFO - [CACHE HIT] http://api.geonames.org/searchJSON?country=PE&featureClass=p&maxRows=10&q=Chalhuanca&style=FULL&type=json&username=jairomelo\n",
      "2025-07-29 21:06:09 - INFO - Post-filtering GeoNames results for 'Chalhuanca' with language 'es'\n",
      "2025-07-29 21:06:09 - INFO - Found match: 'Chalhuanca' with similarity 100.0%\n",
      "2025-07-29 21:06:09 - INFO - Resolved 'Chalhuanca' via GeoNamesQuery: {'place': 'Chalhuanca', 'standardize_label': 'Chalhuanca', 'language': 'es', 'latitude': -14.30056, 'longitude': -73.23083, 'source': 'GeoNames', 'id': 3944545, 'uri': 'http://sws.geonames.org/3944545/', 'country_code': 'PE', 'part_of': '', 'part_of_uri': '', 'confidence': 100.0, 'threshold': 90, 'match_type': 'exact'}\n",
      "2025-07-29 21:06:09 - INFO - Trying GeoNamesQuery for 'Chilcas'\n",
      "2025-07-29 21:06:09 - INFO - [CACHE HIT] http://api.geonames.org/searchJSON?country=PE&featureClass=p&maxRows=10&q=Chilcas&style=FULL&type=json&username=jairomelo\n",
      "2025-07-29 21:06:09 - INFO - Post-filtering GeoNames results for 'Chilcas' with language 'es'\n",
      "2025-07-29 21:06:09 - INFO - Found match: 'Trigo Orjo' with similarity 19.999999999999996%\n",
      "2025-07-29 21:06:09 - INFO - Post-filtering GeoNames results for 'Chilcas' with language 'es'\n",
      "2025-07-29 21:06:09 - INFO - Found match: 'Chuchín Santa Calle' with similarity 54.54545454545454%\n",
      "2025-07-29 21:06:09 - INFO - Post-filtering GeoNames results for 'Chilcas' with language 'es'\n",
      "2025-07-29 21:06:09 - INFO - Found match: 'Huilculo' with similarity 66.66666666666667%\n",
      "2025-07-29 21:06:09 - INFO - Post-filtering GeoNames results for 'Chilcas' with language 'es'\n",
      "2025-07-29 21:06:09 - INFO - Found match: 'Chilcas' with similarity 100.0%\n",
      "2025-07-29 21:06:09 - INFO - Resolved 'Chilcas' via GeoNamesQuery: {'place': 'Chilcas', 'standardize_label': 'Chilcas', 'language': 'es', 'latitude': -12.37284, 'longitude': -74.84687, 'source': 'GeoNames', 'id': 8664084, 'uri': 'http://sws.geonames.org/8664084/', 'country_code': 'PE', 'part_of': '', 'part_of_uri': '', 'confidence': 100.0, 'threshold': 90, 'match_type': 'exact'}\n",
      "2025-07-29 21:06:09 - INFO - Trying GeoNamesQuery for 'Chumpe'\n",
      "2025-07-29 21:06:09 - INFO - [CACHE HIT] http://api.geonames.org/searchJSON?country=PE&featureClass=p&maxRows=10&q=Chumpe&style=FULL&type=json&username=jairomelo\n",
      "2025-07-29 21:06:09 - INFO - Post-filtering GeoNames results for 'Chumpe' with language 'es'\n",
      "2025-07-29 21:06:09 - INFO - Resolved 'Chumpe' via GeoNamesQuery: {'place': 'Chumpe', 'standardize_label': 'Chumpe', 'language': 'es', 'latitude': -12.29611, 'longitude': -75.69778, 'source': 'GeoNames', 'id': 6304004, 'uri': 'http://sws.geonames.org/6304004/', 'country_code': 'PE', 'part_of': '', 'part_of_uri': '', 'confidence': 100, 'threshold': 90, 'match_type': 'exact'}\n",
      "2025-07-29 21:06:09 - INFO - Trying GeoNamesQuery for 'San Nicolás'\n",
      "2025-07-29 21:06:10 - INFO - [API CALL] http://api.geonames.org/searchJSON?q=San+Nicol%C3%A1s&username=jairomelo&maxRows=10&type=json&style=FULL&country=PE&featureClass=p\n",
      "2025-07-29 21:06:10 - INFO - Post-filtering GeoNames results for 'San Nicolás' with language 'es'\n",
      "2025-07-29 21:06:10 - INFO - Found match: 'San Nicolás' with similarity 100.0%\n",
      "2025-07-29 21:06:10 - INFO - Resolved 'San Nicolás' via GeoNamesQuery: {'place': 'San Nicolás', 'standardize_label': 'Puerto San Nicolás', 'language': 'es', 'latitude': -15.26124, 'longitude': -75.22536, 'source': 'GeoNames', 'id': 3929384, 'uri': 'http://sws.geonames.org/3929384/', 'country_code': 'PE', 'part_of': '', 'part_of_uri': '', 'confidence': 100.0, 'threshold': 90, 'match_type': 'exact'}\n"
     ]
    },
    {
     "name": "stderr",
     "output_type": "stream",
     "text": [
      "Resolving unique places:  45%|████▍     | 29/65 [00:11<00:07,  4.82it/s]"
     ]
    },
    {
     "name": "stdout",
     "output_type": "stream",
     "text": [
      "2025-07-29 21:06:10 - INFO - Trying GeoNamesQuery for 'Córdova'\n",
      "2025-07-29 21:06:10 - INFO - [API CALL] http://api.geonames.org/searchJSON?q=C%C3%B3rdova&username=jairomelo&maxRows=10&type=json&style=FULL&country=PE&featureClass=p\n",
      "2025-07-29 21:06:10 - INFO - Post-filtering GeoNames results for 'Córdova' with language 'es'\n",
      "2025-07-29 21:06:10 - INFO - Found match: 'Puesto Cabo Córdova' with similarity 100.0%\n",
      "2025-07-29 21:06:10 - INFO - Resolved 'Córdova' via GeoNamesQuery: {'place': 'Córdova', 'standardize_label': 'Puesto Cabo Córdova', 'language': 'es', 'latitude': -4.19148, 'longitude': -80.45773, 'source': 'GeoNames', 'id': 3693175, 'uri': 'http://sws.geonames.org/3693175/', 'country_code': 'PE', 'part_of': '', 'part_of_uri': '', 'confidence': 100.0, 'threshold': 90, 'match_type': 'exact'}\n"
     ]
    },
    {
     "name": "stderr",
     "output_type": "stream",
     "text": [
      "Resolving unique places:  46%|████▌     | 30/65 [00:12<00:07,  4.39it/s]"
     ]
    },
    {
     "name": "stdout",
     "output_type": "stream",
     "text": [
      "2025-07-29 21:06:10 - INFO - Trying GeoNamesQuery for 'Cordova'\n",
      "2025-07-29 21:06:10 - INFO - [CACHE HIT] http://api.geonames.org/searchJSON?country=PE&featureClass=p&maxRows=10&q=Cordova&style=FULL&type=json&username=jairomelo\n",
      "2025-07-29 21:06:10 - INFO - Post-filtering GeoNames results for 'Cordova' with language 'es'\n",
      "2025-07-29 21:06:10 - INFO - Found match: 'Puesto Cabo Córdova' with similarity 85.71428571428572%\n",
      "2025-07-29 21:06:10 - INFO - Trying WHGQuery for 'Cordova'\n",
      "2025-07-29 21:06:10 - INFO - [CACHE HIT] https://whgazetteer.org/api/index/?ccodes=PE&fclass=p&name=Cordova\n",
      "2025-07-29 21:06:10 - INFO - Finding best match for 'Cordova' in WHG results\n",
      "2025-07-29 21:06:10 - INFO - Comparing 'Cordova' with 'Cordova': 100.0% similarity\n",
      "2025-07-29 21:06:10 - INFO - Best match for 'Cordova': Cordova (100.0%)\n",
      "2025-07-29 21:06:10 - INFO - Resolved 'Cordova' via WHGQuery: {'place': 'Cordova', 'standardize_label': 'Cordova', 'language': 'es', 'latitude': -14.04, 'longitude': -75.1853, 'source': 'WHG', 'id': '14164455', 'uri': 'https://whgazetteer.org/places/14164455/portal/', 'country_code': 'PE', 'part_of': '', 'part_of_uri': '', 'confidence': 100.0, 'threshold': 90, 'match_type': 'exact'}\n",
      "2025-07-29 21:06:10 - INFO - Trying GeoNamesQuery for 'Huacaña'\n",
      "2025-07-29 21:06:10 - INFO - [CACHE HIT] http://api.geonames.org/searchJSON?country=PE&featureClass=p&maxRows=10&q=Huaca%C3%B1a&style=FULL&type=json&username=jairomelo\n",
      "2025-07-29 21:06:10 - INFO - Post-filtering GeoNames results for 'Huacaña' with language 'es'\n",
      "2025-07-29 21:06:10 - INFO - Found match: 'Huacaña' with similarity 100.0%\n",
      "2025-07-29 21:06:10 - INFO - Resolved 'Huacaña' via GeoNamesQuery: {'place': 'Huacaña', 'standardize_label': 'Huacaña', 'language': 'es', 'latitude': -15.51861, 'longitude': -72.01884, 'source': 'GeoNames', 'id': 3940068, 'uri': 'http://sws.geonames.org/3940068/', 'country_code': 'PE', 'part_of': '', 'part_of_uri': '', 'confidence': 100.0, 'threshold': 90, 'match_type': 'exact'}\n",
      "2025-07-29 21:06:10 - INFO - Trying GeoNamesQuery for 'Huallatalloc'\n",
      "2025-07-29 21:06:10 - INFO - [API CALL] http://api.geonames.org/searchJSON?q=Huallatalloc&username=jairomelo&maxRows=10&type=json&style=FULL&country=PE&featureClass=p\n",
      "2025-07-29 21:06:10 - INFO - Post-filtering GeoNames results for 'Huallatalloc' with language 'es'\n",
      "2025-07-29 21:06:10 - INFO - Resolved 'Huallatalloc' via GeoNamesQuery: {'place': 'Huallatalloc', 'standardize_label': 'Huallatalloc', 'language': 'es', 'latitude': -13.51667, 'longitude': -70.95, 'source': 'GeoNames', 'id': 3939794, 'uri': 'http://sws.geonames.org/3939794/', 'country_code': 'PE', 'part_of': '', 'part_of_uri': '', 'confidence': 100, 'threshold': 90, 'match_type': 'exact'}\n"
     ]
    },
    {
     "name": "stderr",
     "output_type": "stream",
     "text": [
      "Resolving unique places:  51%|█████     | 33/65 [00:12<00:06,  5.09it/s]"
     ]
    },
    {
     "name": "stdout",
     "output_type": "stream",
     "text": [
      "2025-07-29 21:06:10 - INFO - Trying GeoNamesQuery for 'Huanca Santos'\n",
      "2025-07-29 21:06:11 - INFO - [API CALL] http://api.geonames.org/searchJSON?q=Huanca+Santos&username=jairomelo&maxRows=10&type=json&style=FULL&country=PE&featureClass=p\n",
      "2025-07-29 21:06:11 - INFO - Post-filtering GeoNames results for 'Huanca Santos' with language 'es'\n",
      "2025-07-29 21:06:11 - INFO - Resolved 'Huanca Santos' via GeoNamesQuery: {'place': 'Huanca Santos', 'standardize_label': 'Huanca Santos', 'language': 'es', 'latitude': -13.92, 'longitude': -74.33411, 'source': 'GeoNames', 'id': 3939474, 'uri': 'http://sws.geonames.org/3939474/', 'country_code': 'PE', 'part_of': '', 'part_of_uri': '', 'confidence': 100, 'threshold': 90, 'match_type': 'exact'}\n"
     ]
    },
    {
     "name": "stderr",
     "output_type": "stream",
     "text": [
      "Resolving unique places:  52%|█████▏    | 34/65 [00:12<00:07,  4.40it/s]"
     ]
    },
    {
     "name": "stdout",
     "output_type": "stream",
     "text": [
      "2025-07-29 21:06:11 - INFO - Trying GeoNamesQuery for 'Huanta'\n",
      "2025-07-29 21:06:11 - INFO - [CACHE HIT] http://api.geonames.org/searchJSON?country=PE&featureClass=p&maxRows=10&q=Huanta&style=FULL&type=json&username=jairomelo\n",
      "2025-07-29 21:06:11 - INFO - Post-filtering GeoNames results for 'Huanta' with language 'es'\n",
      "2025-07-29 21:06:11 - INFO - Found match: 'Huanta' with similarity 100.0%\n",
      "2025-07-29 21:06:11 - INFO - Resolved 'Huanta' via GeoNamesQuery: {'place': 'Huanta', 'standardize_label': 'Huanta', 'language': 'es', 'latitude': -12.93333, 'longitude': -74.25, 'source': 'GeoNames', 'id': 3939386, 'uri': 'http://sws.geonames.org/3939386/', 'country_code': 'PE', 'part_of': '', 'part_of_uri': '', 'confidence': 100.0, 'threshold': 90, 'match_type': 'exact'}\n",
      "2025-07-29 21:06:11 - INFO - Trying GeoNamesQuery for 'Santa Ana de Huaycahuacho'\n",
      "2025-07-29 21:06:11 - INFO - [API CALL] http://api.geonames.org/searchJSON?q=Santa+Ana+de+Huaycahuacho&username=jairomelo&maxRows=10&type=json&style=FULL&country=PE&featureClass=p\n",
      "2025-07-29 21:06:11 - INFO - Post-filtering GeoNames results for 'Santa Ana de Huaycahuacho' with language 'es'\n",
      "2025-07-29 21:06:11 - INFO - Found match: 'Santa Ana de Huaycahuacho' with similarity 100.0%\n",
      "2025-07-29 21:06:11 - INFO - Resolved 'Santa Ana de Huaycahuacho' via GeoNamesQuery: {'place': 'Santa Ana de Huaycahuacho', 'standardize_label': 'Santa Ana de Huaycahuacho', 'language': 'es', 'latitude': -14.95, 'longitude': -73.21667, 'source': 'GeoNames', 'id': 3929281, 'uri': 'http://sws.geonames.org/3929281/', 'country_code': 'PE', 'part_of': '', 'part_of_uri': '', 'confidence': 100.0, 'threshold': 90, 'match_type': 'exact'}\n"
     ]
    },
    {
     "name": "stderr",
     "output_type": "stream",
     "text": [
      "Resolving unique places:  55%|█████▌    | 36/65 [00:13<00:06,  4.52it/s]"
     ]
    },
    {
     "name": "stdout",
     "output_type": "stream",
     "text": [
      "2025-07-29 21:06:11 - INFO - Trying GeoNamesQuery for 'Huaytará'\n",
      "2025-07-29 21:06:12 - INFO - [API CALL] http://api.geonames.org/searchJSON?q=Huaytar%C3%A1&username=jairomelo&maxRows=10&type=json&style=FULL&country=PE&featureClass=p\n",
      "2025-07-29 21:06:12 - INFO - Post-filtering GeoNames results for 'Huaytará' with language 'es'\n",
      "2025-07-29 21:06:12 - INFO - Found match: 'Huaytará' with similarity 100.0%\n",
      "2025-07-29 21:06:12 - INFO - Resolved 'Huaytará' via GeoNamesQuery: {'place': 'Huaytará', 'standardize_label': 'Huaytará', 'language': 'es', 'latitude': -13.60445, 'longitude': -75.35308, 'source': 'GeoNames', 'id': 3938825, 'uri': 'http://sws.geonames.org/3938825/', 'country_code': 'PE', 'part_of': '', 'part_of_uri': '', 'confidence': 100.0, 'threshold': 90, 'match_type': 'exact'}\n"
     ]
    },
    {
     "name": "stderr",
     "output_type": "stream",
     "text": [
      "Resolving unique places:  57%|█████▋    | 37/65 [00:13<00:07,  3.98it/s]"
     ]
    },
    {
     "name": "stdout",
     "output_type": "stream",
     "text": [
      "2025-07-29 21:06:12 - WARNING - Using flexible threshold for short place name: 'Ica'\n",
      "2025-07-29 21:06:12 - INFO - Trying GeoNamesQuery for 'Ica'\n",
      "2025-07-29 21:06:12 - INFO - [CACHE HIT] http://api.geonames.org/searchJSON?country=PE&featureClass=p&maxRows=10&q=Ica&style=FULL&type=json&username=jairomelo\n",
      "2025-07-29 21:06:12 - INFO - Post-filtering GeoNames results for 'Ica' with language 'es'\n",
      "2025-07-29 21:06:12 - INFO - Found match: 'Ica' with similarity 100.0%\n",
      "2025-07-29 21:06:12 - INFO - Resolved 'Ica' via GeoNamesQuery: {'place': 'Ica', 'standardize_label': 'Ica', 'language': 'es', 'latitude': -14.07538, 'longitude': -75.73422, 'source': 'GeoNames', 'id': 3938527, 'uri': 'http://sws.geonames.org/3938527/', 'country_code': 'PE', 'part_of': '', 'part_of_uri': '', 'confidence': 100.0, 'threshold': 70, 'match_type': 'exact'}\n",
      "2025-07-29 21:06:12 - INFO - Trying GeoNamesQuery for 'Ishua'\n",
      "2025-07-29 21:06:12 - INFO - [API CALL] http://api.geonames.org/searchJSON?q=Ishua&username=jairomelo&maxRows=10&type=json&style=FULL&country=PE&featureClass=p\n",
      "2025-07-29 21:06:12 - INFO - Post-filtering GeoNames results for 'Ishua' with language 'es'\n",
      "2025-07-29 21:06:12 - INFO - Resolved 'Ishua' via GeoNamesQuery: {'place': 'Ishua', 'standardize_label': 'Ishua', 'language': 'es', 'latitude': -14.24986, 'longitude': -73.95556, 'source': 'GeoNames', 'id': 3938160, 'uri': 'http://sws.geonames.org/3938160/', 'country_code': 'PE', 'part_of': '', 'part_of_uri': '', 'confidence': 100, 'threshold': 90, 'match_type': 'exact'}\n"
     ]
    },
    {
     "name": "stderr",
     "output_type": "stream",
     "text": [
      "Resolving unique places:  60%|██████    | 39/65 [00:14<00:06,  4.22it/s]"
     ]
    },
    {
     "name": "stdout",
     "output_type": "stream",
     "text": [
      "2025-07-29 21:06:12 - INFO - Trying GeoNamesQuery for 'Jauja'\n",
      "2025-07-29 21:06:12 - INFO - [CACHE HIT] http://api.geonames.org/searchJSON?country=PE&featureClass=p&maxRows=10&q=Jauja&style=FULL&type=json&username=jairomelo\n",
      "2025-07-29 21:06:12 - INFO - Post-filtering GeoNames results for 'Jauja' with language 'es'\n",
      "2025-07-29 21:06:12 - INFO - Found match: 'Jauja' with similarity 100.0%\n",
      "2025-07-29 21:06:12 - INFO - Resolved 'Jauja' via GeoNamesQuery: {'place': 'Jauja', 'standardize_label': 'Jauja', 'language': 'es', 'latitude': -11.77584, 'longitude': -75.49656, 'source': 'GeoNames', 'id': 3937733, 'uri': 'http://sws.geonames.org/3937733/', 'country_code': 'PE', 'part_of': '', 'part_of_uri': '', 'confidence': 100.0, 'threshold': 90, 'match_type': 'exact'}\n",
      "2025-07-29 21:06:12 - INFO - Trying GeoNamesQuery for 'Julcamarca'\n",
      "2025-07-29 21:06:12 - INFO - [CACHE HIT] http://api.geonames.org/searchJSON?country=PE&featureClass=p&maxRows=10&q=Julcamarca&style=FULL&type=json&username=jairomelo\n",
      "2025-07-29 21:06:12 - INFO - Post-filtering GeoNames results for 'Julcamarca' with language 'es'\n",
      "2025-07-29 21:06:12 - INFO - Found match: 'Julcamarca' with similarity 100.0%\n",
      "2025-07-29 21:06:12 - INFO - Resolved 'Julcamarca' via GeoNamesQuery: {'place': 'Julcamarca', 'standardize_label': 'Julcamarca', 'language': 'es', 'latitude': -9.28868, 'longitude': -77.99051, 'source': 'GeoNames', 'id': 6380634, 'uri': 'http://sws.geonames.org/6380634/', 'country_code': 'PE', 'part_of': '', 'part_of_uri': '', 'confidence': 100.0, 'threshold': 90, 'match_type': 'exact'}\n",
      "2025-07-29 21:06:12 - INFO - Trying GeoNamesQuery for 'Laramate'\n",
      "2025-07-29 21:06:12 - INFO - [CACHE HIT] http://api.geonames.org/searchJSON?country=PE&featureClass=p&maxRows=10&q=Laramate&style=FULL&type=json&username=jairomelo\n",
      "2025-07-29 21:06:12 - INFO - Post-filtering GeoNames results for 'Laramate' with language 'es'\n",
      "2025-07-29 21:06:12 - INFO - Found match: 'Laramate' with similarity 100.0%\n",
      "2025-07-29 21:06:12 - INFO - Resolved 'Laramate' via GeoNamesQuery: {'place': 'Laramate', 'standardize_label': 'Laramate', 'language': 'es', 'latitude': -13.02715, 'longitude': -74.38702, 'source': 'GeoNames', 'id': 3936871, 'uri': 'http://sws.geonames.org/3936871/', 'country_code': 'PE', 'part_of': '', 'part_of_uri': '', 'confidence': 100.0, 'threshold': 90, 'match_type': 'exact'}\n",
      "2025-07-29 21:06:12 - INFO - Trying GeoNamesQuery for 'Larcay'\n",
      "2025-07-29 21:06:12 - INFO - [CACHE HIT] http://api.geonames.org/searchJSON?country=PE&featureClass=p&maxRows=10&q=Larcay&style=FULL&type=json&username=jairomelo\n",
      "2025-07-29 21:06:12 - INFO - Post-filtering GeoNames results for 'Larcay' with language 'es'\n",
      "2025-07-29 21:06:12 - INFO - Found match: 'Larcay' with similarity 100.0%\n",
      "2025-07-29 21:06:12 - INFO - Resolved 'Larcay' via GeoNamesQuery: {'place': 'Larcay', 'standardize_label': 'Larcay', 'language': 'es', 'latitude': -12.73805, 'longitude': -74.53673, 'source': 'GeoNames', 'id': 8661432, 'uri': 'http://sws.geonames.org/8661432/', 'country_code': 'PE', 'part_of': '', 'part_of_uri': '', 'confidence': 100.0, 'threshold': 90, 'match_type': 'exact'}\n",
      "2025-07-29 21:06:12 - WARNING - Using flexible threshold for short place name: 'Lima'\n",
      "2025-07-29 21:06:12 - INFO - Trying GeoNamesQuery for 'Lima'\n",
      "2025-07-29 21:06:12 - INFO - [CACHE HIT] http://api.geonames.org/searchJSON?country=PE&featureClass=p&maxRows=10&q=Lima&style=FULL&type=json&username=jairomelo\n",
      "2025-07-29 21:06:12 - INFO - Post-filtering GeoNames results for 'Lima' with language 'es'\n",
      "2025-07-29 21:06:12 - INFO - Found match: 'Lima' with similarity 100.0%\n",
      "2025-07-29 21:06:12 - INFO - Resolved 'Lima' via GeoNamesQuery: {'place': 'Lima', 'standardize_label': 'Lima', 'language': 'es', 'latitude': -12.04318, 'longitude': -77.02824, 'source': 'GeoNames', 'id': 3936456, 'uri': 'http://sws.geonames.org/3936456/', 'country_code': 'PE', 'part_of': '', 'part_of_uri': '', 'confidence': 100.0, 'threshold': 70, 'match_type': 'exact'}\n",
      "2025-07-29 21:06:12 - INFO - Trying GeoNamesQuery for 'Lucanas'\n",
      "2025-07-29 21:06:12 - INFO - [CACHE HIT] http://api.geonames.org/searchJSON?country=PE&featureClass=p&maxRows=10&q=Lucanas&style=FULL&type=json&username=jairomelo\n",
      "2025-07-29 21:06:12 - INFO - Post-filtering GeoNames results for 'Lucanas' with language 'es'\n",
      "2025-07-29 21:06:12 - INFO - Found match: 'Puquio' with similarity 25.0%\n",
      "2025-07-29 21:06:12 - INFO - Post-filtering GeoNames results for 'Lucanas' with language 'es'\n",
      "2025-07-29 21:06:12 - INFO - Found match: 'Biseca' with similarity 40.0%\n",
      "2025-07-29 21:06:12 - INFO - Post-filtering GeoNames results for 'Lucanas' with language 'es'\n",
      "2025-07-29 21:06:12 - INFO - Found match: 'Santa Cruz de Pichigua' with similarity 50.0%\n",
      "2025-07-29 21:06:12 - INFO - Post-filtering GeoNames results for 'Lucanas' with language 'es'\n",
      "2025-07-29 21:06:12 - INFO - Found match: 'Chillca' with similarity 60.0%\n",
      "2025-07-29 21:06:12 - INFO - Trying WHGQuery for 'Lucanas'\n",
      "2025-07-29 21:06:12 - INFO - [CACHE HIT] https://whgazetteer.org/api/index/?ccodes=PE&fclass=p&name=Lucanas\n",
      "2025-07-29 21:06:12 - INFO - Finding best match for 'Lucanas' in WHG results\n",
      "2025-07-29 21:06:12 - INFO - Comparing 'Lucanas' with 'Lucanas': 100.0% similarity\n",
      "2025-07-29 21:06:12 - INFO - Best match for 'Lucanas': Lucanas (100.0%)\n",
      "2025-07-29 21:06:12 - INFO - Resolved 'Lucanas' via WHGQuery: {'place': 'Lucanas', 'standardize_label': 'Lucanas', 'language': 'es', 'latitude': -14.62042, 'longitude': -74.232566, 'source': 'WHG', 'id': '14164987', 'uri': 'https://whgazetteer.org/places/14164987/portal/', 'country_code': 'PE', 'part_of': '', 'part_of_uri': '', 'confidence': 100.0, 'threshold': 90, 'match_type': 'exact'}\n",
      "2025-07-29 21:06:12 - INFO - Trying GeoNamesQuery for 'Cajamarca'\n",
      "2025-07-29 21:06:12 - INFO - [API CALL] http://api.geonames.org/searchJSON?q=Cajamarca&username=jairomelo&maxRows=10&type=json&style=FULL&country=PE&featureClass=p\n",
      "2025-07-29 21:06:12 - INFO - Post-filtering GeoNames results for 'Cajamarca' with language 'es'\n",
      "2025-07-29 21:06:12 - INFO - Found match: 'Cajamarca' with similarity 100.0%\n",
      "2025-07-29 21:06:12 - INFO - Resolved 'Cajamarca' via GeoNamesQuery: {'place': 'Cajamarca', 'standardize_label': 'Cajamarca', 'language': 'es', 'latitude': -7.16378, 'longitude': -78.50027, 'source': 'GeoNames', 'id': 3699088, 'uri': 'http://sws.geonames.org/3699088/', 'country_code': 'PE', 'part_of': '', 'part_of_uri': '', 'confidence': 100.0, 'threshold': 90, 'match_type': 'exact'}\n"
     ]
    },
    {
     "name": "stderr",
     "output_type": "stream",
     "text": [
      "Resolving unique places:  71%|███████   | 46/65 [00:14<00:02,  7.26it/s]"
     ]
    },
    {
     "name": "stdout",
     "output_type": "stream",
     "text": [
      "2025-07-29 21:06:12 - INFO - Trying GeoNamesQuery for 'Mayobamba'\n",
      "2025-07-29 21:06:12 - INFO - [CACHE HIT] http://api.geonames.org/searchJSON?country=PE&featureClass=p&maxRows=10&q=Mayobamba&style=FULL&type=json&username=jairomelo\n",
      "2025-07-29 21:06:12 - INFO - Post-filtering GeoNames results for 'Mayobamba' with language 'es'\n",
      "2025-07-29 21:06:12 - INFO - Found match: 'Mayobamba' with similarity 100.0%\n",
      "2025-07-29 21:06:12 - INFO - Resolved 'Mayobamba' via GeoNamesQuery: {'place': 'Mayobamba', 'standardize_label': 'Mayobamba', 'language': 'es', 'latitude': -14.37583, 'longitude': -73.89194, 'source': 'GeoNames', 'id': 3935121, 'uri': 'http://sws.geonames.org/3935121/', 'country_code': 'PE', 'part_of': '', 'part_of_uri': '', 'confidence': 100.0, 'threshold': 90, 'match_type': 'exact'}\n",
      "2025-07-29 21:06:12 - INFO - Trying GeoNamesQuery for 'Morcolla'\n",
      "2025-07-29 21:06:12 - INFO - [CACHE HIT] http://api.geonames.org/searchJSON?country=PE&featureClass=p&maxRows=10&q=Morcolla&style=FULL&type=json&username=jairomelo\n",
      "2025-07-29 21:06:12 - INFO - Post-filtering GeoNames results for 'Morcolla' with language 'es'\n",
      "2025-07-29 21:06:12 - INFO - Found match: 'Marcolla' with similarity 87.5%\n",
      "2025-07-29 21:06:12 - INFO - Trying WHGQuery for 'Morcolla'\n",
      "2025-07-29 21:06:12 - INFO - [CACHE HIT] https://whgazetteer.org/api/index/?ccodes=PE&fclass=p&name=Morcolla\n",
      "2025-07-29 21:06:12 - INFO - Finding best match for 'Morcolla' in WHG results\n",
      "2025-07-29 21:06:12 - INFO - Comparing 'Morcolla' with 'Morcolla': 100.0% similarity\n",
      "2025-07-29 21:06:12 - INFO - Best match for 'Morcolla': Morcolla (100.0%)\n",
      "2025-07-29 21:06:12 - INFO - Resolved 'Morcolla' via WHGQuery: {'place': 'Morcolla', 'standardize_label': 'Morcolla', 'language': 'es', 'latitude': -14.110438, 'longitude': -73.872035, 'source': 'WHG', 'id': '14164519', 'uri': 'https://whgazetteer.org/places/14164519/portal/', 'country_code': 'PE', 'part_of': '', 'part_of_uri': '', 'confidence': 100.0, 'threshold': 90, 'match_type': 'exact'}\n",
      "2025-07-29 21:06:12 - INFO - Trying GeoNamesQuery for 'Moyobamba'\n",
      "2025-07-29 21:06:12 - INFO - [CACHE HIT] http://api.geonames.org/searchJSON?country=PE&featureClass=p&maxRows=10&q=Moyobamba&style=FULL&type=json&username=jairomelo\n",
      "2025-07-29 21:06:12 - INFO - Post-filtering GeoNames results for 'Moyobamba' with language 'es'\n",
      "2025-07-29 21:06:12 - INFO - Found match: 'Moyobamba' with similarity 100.0%\n",
      "2025-07-29 21:06:12 - INFO - Resolved 'Moyobamba' via GeoNamesQuery: {'place': 'Moyobamba', 'standardize_label': 'Moyobamba', 'language': 'es', 'latitude': -6.03441, 'longitude': -76.97423, 'source': 'GeoNames', 'id': 3694564, 'uri': 'http://sws.geonames.org/3694564/', 'country_code': 'PE', 'part_of': '', 'part_of_uri': '', 'confidence': 100.0, 'threshold': 90, 'match_type': 'exact'}\n",
      "2025-07-29 21:06:12 - INFO - Trying GeoNamesQuery for 'Provincia de Nazca'\n",
      "2025-07-29 21:06:13 - INFO - [API CALL] http://api.geonames.org/searchJSON?q=Provincia+de+Nazca&username=jairomelo&maxRows=10&type=json&style=FULL&country=PE&featureClass=p\n",
      "2025-07-29 21:06:13 - INFO - Post-filtering GeoNames results for 'Provincia de Nazca' with language 'es'\n",
      "2025-07-29 21:06:13 - INFO - Found match: 'Nazca' with similarity 100.0%\n",
      "2025-07-29 21:06:13 - INFO - Resolved 'Provincia de Nazca' via GeoNamesQuery: {'place': 'Provincia de Nazca', 'standardize_label': 'Provincia de Nazca', 'language': 'es', 'latitude': -14.83098, 'longitude': -74.93895, 'source': 'GeoNames', 'id': 3934356, 'uri': 'http://sws.geonames.org/3934356/', 'country_code': 'PE', 'part_of': '', 'part_of_uri': '', 'confidence': 100.0, 'threshold': 90, 'match_type': 'exact'}\n"
     ]
    },
    {
     "name": "stderr",
     "output_type": "stream",
     "text": [
      "Resolving unique places:  77%|███████▋  | 50/65 [00:15<00:02,  7.11it/s]"
     ]
    },
    {
     "name": "stdout",
     "output_type": "stream",
     "text": [
      "2025-07-29 21:06:13 - INFO - Trying GeoNamesQuery for 'Ocaña'\n",
      "2025-07-29 21:06:13 - INFO - [CACHE HIT] http://api.geonames.org/searchJSON?country=PE&featureClass=p&maxRows=10&q=Oca%C3%B1a&style=FULL&type=json&username=jairomelo\n",
      "2025-07-29 21:06:13 - INFO - Post-filtering GeoNames results for 'Ocaña' with language 'es'\n",
      "2025-07-29 21:06:13 - INFO - Found match: 'Yodama' with similarity 60.0%\n",
      "2025-07-29 21:06:13 - INFO - Post-filtering GeoNames results for 'Ocaña' with language 'es'\n",
      "2025-07-29 21:06:13 - INFO - Found match: 'Ocaña' with similarity 100.0%\n",
      "2025-07-29 21:06:13 - INFO - Resolved 'Ocaña' via GeoNamesQuery: {'place': 'Ocaña', 'standardize_label': 'Ocaña', 'language': 'es', 'latitude': -13.04506, 'longitude': -74.3784, 'source': 'GeoNames', 'id': 3934206, 'uri': 'http://sws.geonames.org/3934206/', 'country_code': 'PE', 'part_of': '', 'part_of_uri': '', 'confidence': 100.0, 'threshold': 90, 'match_type': 'exact'}\n",
      "2025-07-29 21:06:13 - INFO - Trying GeoNamesQuery for 'Pampa Grande'\n",
      "2025-07-29 21:06:14 - INFO - [API CALL] http://api.geonames.org/searchJSON?q=Pampa+Grande&username=jairomelo&maxRows=10&type=json&style=FULL&country=PE&featureClass=p\n",
      "2025-07-29 21:06:14 - INFO - Post-filtering GeoNames results for 'Pampa Grande' with language 'es'\n",
      "2025-07-29 21:06:14 - INFO - Found match: 'Pampa Grande' with similarity 100.0%\n",
      "2025-07-29 21:06:14 - INFO - Resolved 'Pampa Grande' via GeoNamesQuery: {'place': 'Pampa Grande', 'standardize_label': 'Pampa Grande', 'language': 'es', 'latitude': -6.75169, 'longitude': -79.48101, 'source': 'GeoNames', 'id': 3693998, 'uri': 'http://sws.geonames.org/3693998/', 'country_code': 'PE', 'part_of': '', 'part_of_uri': '', 'confidence': 100.0, 'threshold': 90, 'match_type': 'exact'}\n"
     ]
    },
    {
     "name": "stderr",
     "output_type": "stream",
     "text": [
      "Resolving unique places:  80%|████████  | 52/65 [00:15<00:02,  6.33it/s]"
     ]
    },
    {
     "name": "stdout",
     "output_type": "stream",
     "text": [
      "2025-07-29 21:06:14 - WARNING - Using flexible threshold for short place name: 'Puno'\n",
      "2025-07-29 21:06:14 - INFO - Trying GeoNamesQuery for 'Puno'\n",
      "2025-07-29 21:06:14 - INFO - [API CALL] http://api.geonames.org/searchJSON?q=Puno&username=jairomelo&maxRows=10&type=json&style=FULL&country=PE&featureClass=p\n",
      "2025-07-29 21:06:14 - INFO - Post-filtering GeoNames results for 'Puno' with language 'es'\n",
      "2025-07-29 21:06:14 - INFO - Found match: 'Puno' with similarity 100.0%\n",
      "2025-07-29 21:06:14 - INFO - Resolved 'Puno' via GeoNamesQuery: {'place': 'Puno', 'standardize_label': 'Puno', 'language': 'es', 'latitude': -15.84003, 'longitude': -70.02198, 'source': 'GeoNames', 'id': 3931276, 'uri': 'http://sws.geonames.org/3931276/', 'country_code': 'PE', 'part_of': '', 'part_of_uri': '', 'confidence': 100.0, 'threshold': 70, 'match_type': 'exact'}\n"
     ]
    },
    {
     "name": "stderr",
     "output_type": "stream",
     "text": [
      "Resolving unique places:  82%|████████▏ | 53/65 [00:16<00:02,  5.06it/s]"
     ]
    },
    {
     "name": "stdout",
     "output_type": "stream",
     "text": [
      "2025-07-29 21:06:14 - INFO - Trying GeoNamesQuery for 'Puquio'\n",
      "2025-07-29 21:06:14 - INFO - [CACHE HIT] http://api.geonames.org/searchJSON?country=PE&featureClass=p&maxRows=10&q=Puquio&style=FULL&type=json&username=jairomelo\n",
      "2025-07-29 21:06:14 - INFO - Post-filtering GeoNames results for 'Puquio' with language 'es'\n",
      "2025-07-29 21:06:14 - INFO - Found match: 'Puquio' with similarity 100.0%\n",
      "2025-07-29 21:06:14 - INFO - Resolved 'Puquio' via GeoNamesQuery: {'place': 'Puquio', 'standardize_label': 'Puquio', 'language': 'es', 'latitude': -14.7, 'longitude': -74.13333, 'source': 'GeoNames', 'id': 3931223, 'uri': 'http://sws.geonames.org/3931223/', 'country_code': 'PE', 'part_of': '', 'part_of_uri': '', 'confidence': 100.0, 'threshold': 90, 'match_type': 'exact'}\n",
      "2025-07-29 21:06:14 - INFO - Trying GeoNamesQuery for 'Querobamba'\n",
      "2025-07-29 21:06:14 - INFO - [CACHE HIT] http://api.geonames.org/searchJSON?country=PE&featureClass=p&maxRows=10&q=Querobamba&style=FULL&type=json&username=jairomelo\n",
      "2025-07-29 21:06:14 - INFO - Post-filtering GeoNames results for 'Querobamba' with language 'es'\n",
      "2025-07-29 21:06:14 - INFO - Found match: 'Querobamba' with similarity 100.0%\n",
      "2025-07-29 21:06:14 - INFO - Resolved 'Querobamba' via GeoNamesQuery: {'place': 'Querobamba', 'standardize_label': 'Querobamba', 'language': 'es', 'latitude': -13.86667, 'longitude': -73.83333, 'source': 'GeoNames', 'id': 3930947, 'uri': 'http://sws.geonames.org/3930947/', 'country_code': 'PE', 'part_of': '', 'part_of_uri': '', 'confidence': 100.0, 'threshold': 90, 'match_type': 'exact'}\n",
      "2025-07-29 21:06:14 - INFO - Trying GeoNamesQuery for 'Sacsamarca'\n",
      "2025-07-29 21:06:14 - INFO - [CACHE HIT] http://api.geonames.org/searchJSON?country=PE&featureClass=p&maxRows=10&q=Sacsamarca&style=FULL&type=json&username=jairomelo\n",
      "2025-07-29 21:06:14 - INFO - Post-filtering GeoNames results for 'Sacsamarca' with language 'es'\n",
      "2025-07-29 21:06:14 - INFO - Found match: 'Sacsamarca' with similarity 100.0%\n",
      "2025-07-29 21:06:14 - INFO - Resolved 'Sacsamarca' via GeoNamesQuery: {'place': 'Sacsamarca', 'standardize_label': 'Sacsamarca', 'language': 'es', 'latitude': -13.15085, 'longitude': -74.27869, 'source': 'GeoNames', 'id': 3930088, 'uri': 'http://sws.geonames.org/3930088/', 'country_code': 'PE', 'part_of': '', 'part_of_uri': '', 'confidence': 100.0, 'threshold': 90, 'match_type': 'exact'}\n",
      "2025-07-29 21:06:14 - INFO - Trying GeoNamesQuery for 'San Jeronimo De Tunan'\n",
      "2025-07-29 21:06:14 - INFO - [API CALL] http://api.geonames.org/searchJSON?q=San+Jeronimo+De+Tunan&username=jairomelo&maxRows=10&type=json&style=FULL&country=PE&featureClass=p\n",
      "2025-07-29 21:06:14 - INFO - Post-filtering GeoNames results for 'San Jeronimo De Tunan' with language 'es'\n",
      "2025-07-29 21:06:14 - INFO - Found match: 'San Jeronimo De Tunan' with similarity 100.0%\n",
      "2025-07-29 21:06:14 - INFO - Resolved 'San Jeronimo De Tunan' via GeoNamesQuery: {'place': 'San Jeronimo De Tunan', 'standardize_label': 'San Jeronimo De Tunan', 'language': 'es', 'latitude': -11.95591, 'longitude': -75.28411, 'source': 'GeoNames', 'id': 3929611, 'uri': 'http://sws.geonames.org/3929611/', 'country_code': 'PE', 'part_of': '', 'part_of_uri': '', 'confidence': 100.0, 'threshold': 90, 'match_type': 'exact'}\n"
     ]
    },
    {
     "name": "stderr",
     "output_type": "stream",
     "text": [
      "Resolving unique places:  88%|████████▊ | 57/65 [00:16<00:01,  6.11it/s]"
     ]
    },
    {
     "name": "stdout",
     "output_type": "stream",
     "text": [
      "2025-07-29 21:06:14 - INFO - Trying GeoNamesQuery for 'San Juan'\n",
      "2025-07-29 21:06:15 - INFO - [API CALL] http://api.geonames.org/searchJSON?q=San+Juan&username=jairomelo&maxRows=10&type=json&style=FULL&country=PE&featureClass=p\n",
      "2025-07-29 21:06:15 - INFO - Post-filtering GeoNames results for 'San Juan' with language 'es'\n",
      "2025-07-29 21:06:15 - INFO - Found match: 'San Juan' with similarity 100.0%\n",
      "2025-07-29 21:06:15 - INFO - Resolved 'San Juan' via GeoNamesQuery: {'place': 'San Juan', 'standardize_label': 'San Juan', 'language': 'es', 'latitude': -3.77611, 'longitude': -73.28139, 'source': 'GeoNames', 'id': 3692462, 'uri': 'http://sws.geonames.org/3692462/', 'country_code': 'PE', 'part_of': '', 'part_of_uri': '', 'confidence': 100.0, 'threshold': 90, 'match_type': 'exact'}\n"
     ]
    },
    {
     "name": "stderr",
     "output_type": "stream",
     "text": [
      "Resolving unique places:  89%|████████▉ | 58/65 [00:17<00:01,  4.96it/s]"
     ]
    },
    {
     "name": "stdout",
     "output_type": "stream",
     "text": [
      "2025-07-29 21:06:15 - INFO - Trying GeoNamesQuery for 'Santa Ana'\n",
      "2025-07-29 21:06:15 - INFO - [CACHE HIT] http://api.geonames.org/searchJSON?country=PE&featureClass=p&maxRows=10&q=Santa+Ana&style=FULL&type=json&username=jairomelo\n",
      "2025-07-29 21:06:15 - INFO - Post-filtering GeoNames results for 'Santa Ana' with language 'es'\n",
      "2025-07-29 21:06:15 - INFO - Found match: 'Santa Ana' with similarity 100.0%\n",
      "2025-07-29 21:06:15 - INFO - Resolved 'Santa Ana' via GeoNamesQuery: {'place': 'Santa Ana', 'standardize_label': 'Santa Ana', 'language': 'es', 'latitude': -12.86667, 'longitude': -72.71667, 'source': 'GeoNames', 'id': 3929295, 'uri': 'http://sws.geonames.org/3929295/', 'country_code': 'PE', 'part_of': '', 'part_of_uri': '', 'confidence': 100.0, 'threshold': 90, 'match_type': 'exact'}\n",
      "2025-07-29 21:06:15 - INFO - Trying GeoNamesQuery for 'Sondondo'\n",
      "2025-07-29 21:06:15 - INFO - [CACHE HIT] http://api.geonames.org/searchJSON?country=PE&featureClass=p&maxRows=10&q=Sondondo&style=FULL&type=json&username=jairomelo\n",
      "2025-07-29 21:06:15 - INFO - Post-filtering GeoNames results for 'Sondondo' with language 'es'\n",
      "2025-07-29 21:06:15 - INFO - Found match: 'Sondondo' with similarity 100.0%\n",
      "2025-07-29 21:06:15 - INFO - Resolved 'Sondondo' via GeoNamesQuery: {'place': 'Sondondo', 'standardize_label': 'Sondondo', 'language': 'es', 'latitude': -14.29795, 'longitude': -73.93928, 'source': 'GeoNames', 'id': 3928450, 'uri': 'http://sws.geonames.org/3928450/', 'country_code': 'PE', 'part_of': '', 'part_of_uri': '', 'confidence': 100.0, 'threshold': 90, 'match_type': 'exact'}\n",
      "2025-07-29 21:06:15 - INFO - Trying GeoNamesQuery for 'Soras Pata'\n",
      "2025-07-29 21:06:15 - INFO - [API CALL] http://api.geonames.org/searchJSON?q=Soras+Pata&username=jairomelo&maxRows=10&type=json&style=FULL&country=PE&featureClass=p\n",
      "2025-07-29 21:06:15 - INFO - Post-filtering GeoNames results for 'Soras Pata' with language 'es'\n",
      "2025-07-29 21:06:15 - INFO - Found match: 'Soras Pata' with similarity 100.0%\n",
      "2025-07-29 21:06:15 - INFO - Resolved 'Soras Pata' via GeoNamesQuery: {'place': 'Soras Pata', 'standardize_label': 'Soras Pata', 'language': 'es', 'latitude': -14.23741, 'longitude': -70.65011, 'source': 'GeoNames', 'id': 13238703, 'uri': 'http://sws.geonames.org/13238703/', 'country_code': 'PE', 'part_of': '', 'part_of_uri': '', 'confidence': 100.0, 'threshold': 90, 'match_type': 'exact'}\n"
     ]
    },
    {
     "name": "stderr",
     "output_type": "stream",
     "text": [
      "Resolving unique places:  94%|█████████▍| 61/65 [00:17<00:00,  5.56it/s]"
     ]
    },
    {
     "name": "stdout",
     "output_type": "stream",
     "text": [
      "2025-07-29 21:06:15 - INFO - Trying GeoNamesQuery for 'Umasi'\n",
      "2025-07-29 21:06:16 - INFO - [API CALL] http://api.geonames.org/searchJSON?q=Umasi&username=jairomelo&maxRows=10&type=json&style=FULL&country=PE&featureClass=p\n",
      "2025-07-29 21:06:16 - INFO - Post-filtering GeoNames results for 'Umasi' with language 'es'\n",
      "2025-07-29 21:06:16 - INFO - Resolved 'Umasi' via GeoNamesQuery: {'place': 'Umasi', 'standardize_label': 'Umasi', 'language': 'es', 'latitude': -14.89142, 'longitude': -70.68701, 'source': 'GeoNames', 'id': 13238711, 'uri': 'http://sws.geonames.org/13238711/', 'country_code': 'PE', 'part_of': '', 'part_of_uri': '', 'confidence': 100, 'threshold': 90, 'match_type': 'exact'}\n"
     ]
    },
    {
     "name": "stderr",
     "output_type": "stream",
     "text": [
      "Resolving unique places:  95%|█████████▌| 62/65 [00:17<00:00,  4.66it/s]"
     ]
    },
    {
     "name": "stdout",
     "output_type": "stream",
     "text": [
      "2025-07-29 21:06:16 - INFO - Trying GeoNamesQuery for 'Urubamba'\n",
      "2025-07-29 21:06:16 - INFO - [API CALL] http://api.geonames.org/searchJSON?q=Urubamba&username=jairomelo&maxRows=10&type=json&style=FULL&country=PE&featureClass=p\n",
      "2025-07-29 21:06:16 - INFO - Post-filtering GeoNames results for 'Urubamba' with language 'es'\n",
      "2025-07-29 21:06:16 - INFO - Found match: 'Ollantaytambo' with similarity 50.0%\n",
      "2025-07-29 21:06:16 - INFO - Post-filtering GeoNames results for 'Urubamba' with language 'es'\n",
      "2025-07-29 21:06:16 - INFO - Found match: 'Ollantaytambo' with similarity 61.53846153846154%\n",
      "2025-07-29 21:06:16 - INFO - Post-filtering GeoNames results for 'Urubamba' with language 'es'\n",
      "2025-07-29 21:06:16 - INFO - Found match: 'Urubamba' with similarity 100.0%\n",
      "2025-07-29 21:06:16 - INFO - Resolved 'Urubamba' via GeoNamesQuery: {'place': 'Urubamba', 'standardize_label': 'Urubamba', 'language': 'es', 'latitude': -13.30472, 'longitude': -72.11583, 'source': 'GeoNames', 'id': 3926438, 'uri': 'http://sws.geonames.org/3926438/', 'country_code': 'PE', 'part_of': '', 'part_of_uri': '', 'confidence': 100.0, 'threshold': 90, 'match_type': 'exact'}\n"
     ]
    },
    {
     "name": "stderr",
     "output_type": "stream",
     "text": [
      "Resolving unique places:  97%|█████████▋| 63/65 [00:18<00:00,  3.92it/s]"
     ]
    },
    {
     "name": "stdout",
     "output_type": "stream",
     "text": [
      "2025-07-29 21:06:16 - INFO - Trying GeoNamesQuery for 'Vilcashuamán'\n",
      "2025-07-29 21:06:17 - INFO - [API CALL] http://api.geonames.org/searchJSON?q=Vilcashuam%C3%A1n&username=jairomelo&maxRows=10&type=json&style=FULL&country=PE&featureClass=p\n",
      "2025-07-29 21:06:17 - INFO - Post-filtering GeoNames results for 'Vilcashuamán' with language 'es'\n",
      "2025-07-29 21:06:17 - INFO - Resolved 'Vilcashuamán' via GeoNamesQuery: {'place': 'Vilcashuamán', 'standardize_label': 'Vilcashuamán', 'language': 'es', 'latitude': -13.65361, 'longitude': -73.95306, 'source': 'GeoNames', 'id': 3926141, 'uri': 'http://sws.geonames.org/3926141/', 'country_code': 'PE', 'part_of': '', 'part_of_uri': '', 'confidence': 100, 'threshold': 90, 'match_type': 'exact'}\n"
     ]
    },
    {
     "name": "stderr",
     "output_type": "stream",
     "text": [
      "Resolving unique places:  98%|█████████▊| 64/65 [00:18<00:00,  3.50it/s]"
     ]
    },
    {
     "name": "stdout",
     "output_type": "stream",
     "text": [
      "2025-07-29 21:06:17 - INFO - Trying GeoNamesQuery for 'Villa San Juan'\n",
      "2025-07-29 21:06:17 - INFO - [API CALL] http://api.geonames.org/searchJSON?q=Villa+San+Juan&username=jairomelo&maxRows=10&type=json&style=FULL&country=PE&featureClass=p\n",
      "2025-07-29 21:06:17 - INFO - Post-filtering GeoNames results for 'Villa San Juan' with language 'es'\n",
      "2025-07-29 21:06:17 - INFO - Found match: 'Villa Flores' with similarity 73.6842105263158%\n",
      "2025-07-29 21:06:17 - INFO - Post-filtering GeoNames results for 'Villa San Juan' with language 'es'\n",
      "2025-07-29 21:06:17 - INFO - Found match: 'Villa San Juan' with similarity 100.0%\n",
      "2025-07-29 21:06:17 - INFO - Resolved 'Villa San Juan' via GeoNamesQuery: {'place': 'Villa San Juan', 'standardize_label': 'Villa San Juan', 'language': 'es', 'latitude': -6.37252, 'longitude': -79.80292, 'source': 'GeoNames', 'id': 3820188, 'uri': 'http://sws.geonames.org/3820188/', 'country_code': 'PE', 'part_of': '', 'part_of_uri': '', 'confidence': 100.0, 'threshold': 90, 'match_type': 'exact'}\n"
     ]
    },
    {
     "name": "stderr",
     "output_type": "stream",
     "text": [
      "Resolving unique places: 100%|██████████| 65/65 [00:19<00:00,  3.38it/s]"
     ]
    },
    {
     "name": "stdout",
     "output_type": "stream",
     "text": [
      "Resolved places:\n",
      "    manually_normalized_place          standardize_label language   latitude  \\\n",
      "0                    Acobamba                   Acobamba       es -12.077570   \n",
      "1                   Alcamenca                  Alcamenca       es -13.657049   \n",
      "3                   Andamarca                  Andamarca       es -15.638330   \n",
      "4                       Antay                   Antayaje       es -14.068861   \n",
      "6                      Aucará                     Aucará       es -14.250000   \n",
      "7                      Cabana                     Cabana       es -14.290698   \n",
      "10              Huaycahuaycho              Huaycahuaycho       es -14.150000   \n",
      "11                   Ayacucho                   Ayacucho       es -13.163800   \n",
      "12                     Cabana                     Cabana       es  -8.400000   \n",
      "13                    Canaria                    Canaria       es -13.816670   \n",
      "14                   Cangallo                   Cangallo       es -13.628610   \n",
      "15                    Caralla                    Caralla       es -15.295350   \n",
      "16                     Carapo                     Carapo       es -13.750000   \n",
      "17                Carmen Alto                Carmen Alto       es -14.700310   \n",
      "19            Castilla Puquio            Castilla Puquio       es -15.900160   \n",
      "20                     Cayara                     Cayara       es -15.318360   \n",
      "21                  Chacralla                  Chacralla       es -14.207360   \n",
      "22                     Checca                     Checca       es -14.473453   \n",
      "23                 Pampamarca                 Pampamarca       es -14.146390   \n",
      "25                   Chacalla                   Chacalla       es -13.968890   \n",
      "26                 Chalhuanca                 Chalhuanca       es -14.300560   \n",
      "27                    Chilcas                    Chilcas       es -12.372840   \n",
      "28                     Chumpe                     Chumpe       es -12.296110   \n",
      "29                San Nicolás         Puerto San Nicolás       es -15.261240   \n",
      "30                    Córdova        Puesto Cabo Córdova       es  -4.191480   \n",
      "31                    Cordova                    Cordova       es -14.040000   \n",
      "32                    Huacaña                    Huacaña       es -15.518610   \n",
      "33               Huallatalloc               Huallatalloc       es -13.516670   \n",
      "34              Huanca Santos              Huanca Santos       es -13.920000   \n",
      "35                     Huanta                     Huanta       es -12.933330   \n",
      "36  Santa Ana de Huaycahuacho  Santa Ana de Huaycahuacho       es -14.950000   \n",
      "37                   Huaytará                   Huaytará       es -13.604450   \n",
      "38                        Ica                        Ica       es -14.075380   \n",
      "39                      Ishua                      Ishua       es -14.249860   \n",
      "40                      Jauja                      Jauja       es -11.775840   \n",
      "41                 Julcamarca                 Julcamarca       es  -9.288680   \n",
      "42                   Laramate                   Laramate       es -13.027150   \n",
      "43                     Larcay                     Larcay       es -12.738050   \n",
      "44                       Lima                       Lima       es -12.043180   \n",
      "45                    Lucanas                    Lucanas       es -14.620420   \n",
      "46                  Cajamarca                  Cajamarca       es  -7.163780   \n",
      "47                  Mayobamba                  Mayobamba       es -14.375830   \n",
      "48                   Morcolla                   Morcolla       es -14.110438   \n",
      "49                  Moyobamba                  Moyobamba       es  -6.034410   \n",
      "50         Provincia de Nazca         Provincia de Nazca       es -14.830980   \n",
      "51                      Ocaña                      Ocaña       es -13.045060   \n",
      "52               Pampa Grande               Pampa Grande       es  -6.751690   \n",
      "53                       Puno                       Puno       es -15.840030   \n",
      "54                     Puquio                     Puquio       es -14.700000   \n",
      "55                 Querobamba                 Querobamba       es -13.866670   \n",
      "56                 Sacsamarca                 Sacsamarca       es -13.150850   \n",
      "57      San Jeronimo De Tunan      San Jeronimo De Tunan       es -11.955910   \n",
      "58                   San Juan                   San Juan       es  -3.776110   \n",
      "59                  Santa Ana                  Santa Ana       es -12.866670   \n",
      "60                   Sondondo                   Sondondo       es -14.297950   \n",
      "61                 Soras Pata                 Soras Pata       es -14.237410   \n",
      "62                      Umasi                      Umasi       es -14.891420   \n",
      "63                   Urubamba                   Urubamba       es -13.304720   \n",
      "64               Vilcashuamán               Vilcashuamán       es -13.653610   \n",
      "65             Villa San Juan             Villa San Juan       es  -6.372520   \n",
      "\n",
      "    longitude    source          id  \\\n",
      "0  -74.871270  GeoNames     8663907   \n",
      "1  -74.147134  Wikidata  Q130369762   \n",
      "3  -70.588480  GeoNames     3947725   \n",
      "4  -71.755222  Wikidata   Q97160355   \n",
      "6  -74.083330  GeoNames     3947087   \n",
      "7  -73.966841       WHG    14164985   \n",
      "10 -74.016670  GeoNames     3939003   \n",
      "11 -74.223450  GeoNames     3947019   \n",
      "12 -78.033330  GeoNames     3699185   \n",
      "13 -73.866670  GeoNames     3945879   \n",
      "14 -74.143890  GeoNames     3945793   \n",
      "15 -71.566920  GeoNames     3955233   \n",
      "16 -74.233330  GeoNames     3945552   \n",
      "17 -70.517300  GeoNames    13318788   \n",
      "19 -70.591520  GeoNames     3945238   \n",
      "20 -73.550030  GeoNames     3945148   \n",
      "21 -73.992780  GeoNames     3944632   \n",
      "22 -71.394246       WHG    14173701   \n",
      "23 -71.459440  GeoNames     3933218   \n",
      "25 -72.205560  GeoNames     6392254   \n",
      "26 -73.230830  GeoNames     3944545   \n",
      "27 -74.846870  GeoNames     8664084   \n",
      "28 -75.697780  GeoNames     6304004   \n",
      "29 -75.225360  GeoNames     3929384   \n",
      "30 -80.457730  GeoNames     3693175   \n",
      "31 -75.185300       WHG    14164455   \n",
      "32 -72.018840  GeoNames     3940068   \n",
      "33 -70.950000  GeoNames     3939794   \n",
      "34 -74.334110  GeoNames     3939474   \n",
      "35 -74.250000  GeoNames     3939386   \n",
      "36 -73.216670  GeoNames     3929281   \n",
      "37 -75.353080  GeoNames     3938825   \n",
      "38 -75.734220  GeoNames     3938527   \n",
      "39 -73.955560  GeoNames     3938160   \n",
      "40 -75.496560  GeoNames     3937733   \n",
      "41 -77.990510  GeoNames     6380634   \n",
      "42 -74.387020  GeoNames     3936871   \n",
      "43 -74.536730  GeoNames     8661432   \n",
      "44 -77.028240  GeoNames     3936456   \n",
      "45 -74.232566       WHG    14164987   \n",
      "46 -78.500270  GeoNames     3699088   \n",
      "47 -73.891940  GeoNames     3935121   \n",
      "48 -73.872035       WHG    14164519   \n",
      "49 -76.974230  GeoNames     3694564   \n",
      "50 -74.938950  GeoNames     3934356   \n",
      "51 -74.378400  GeoNames     3934206   \n",
      "52 -79.481010  GeoNames     3693998   \n",
      "53 -70.021980  GeoNames     3931276   \n",
      "54 -74.133330  GeoNames     3931223   \n",
      "55 -73.833330  GeoNames     3930947   \n",
      "56 -74.278690  GeoNames     3930088   \n",
      "57 -75.284110  GeoNames     3929611   \n",
      "58 -73.281390  GeoNames     3692462   \n",
      "59 -72.716670  GeoNames     3929295   \n",
      "60 -73.939280  GeoNames     3928450   \n",
      "61 -70.650110  GeoNames    13238703   \n",
      "62 -70.687010  GeoNames    13238711   \n",
      "63 -72.115830  GeoNames     3926438   \n",
      "64 -73.953060  GeoNames     3926141   \n",
      "65 -79.802920  GeoNames     3820188   \n",
      "\n",
      "                                                uri country_code  \\\n",
      "0                  http://sws.geonames.org/8663907/           PE   \n",
      "1        https://www.wikidata.org/entity/Q130369762           PE   \n",
      "3                  http://sws.geonames.org/3947725/           PE   \n",
      "4         https://www.wikidata.org/entity/Q97160355           PE   \n",
      "6                  http://sws.geonames.org/3947087/           PE   \n",
      "7   https://whgazetteer.org/places/14164985/portal/           PE   \n",
      "10                 http://sws.geonames.org/3939003/           PE   \n",
      "11                 http://sws.geonames.org/3947019/           PE   \n",
      "12                 http://sws.geonames.org/3699185/           PE   \n",
      "13                 http://sws.geonames.org/3945879/           PE   \n",
      "14                 http://sws.geonames.org/3945793/           PE   \n",
      "15                 http://sws.geonames.org/3955233/           PE   \n",
      "16                 http://sws.geonames.org/3945552/           PE   \n",
      "17                http://sws.geonames.org/13318788/           PE   \n",
      "19                 http://sws.geonames.org/3945238/           PE   \n",
      "20                 http://sws.geonames.org/3945148/           PE   \n",
      "21                 http://sws.geonames.org/3944632/           PE   \n",
      "22  https://whgazetteer.org/places/14173701/portal/           PE   \n",
      "23                 http://sws.geonames.org/3933218/           PE   \n",
      "25                 http://sws.geonames.org/6392254/           PE   \n",
      "26                 http://sws.geonames.org/3944545/           PE   \n",
      "27                 http://sws.geonames.org/8664084/           PE   \n",
      "28                 http://sws.geonames.org/6304004/           PE   \n",
      "29                 http://sws.geonames.org/3929384/           PE   \n",
      "30                 http://sws.geonames.org/3693175/           PE   \n",
      "31  https://whgazetteer.org/places/14164455/portal/           PE   \n",
      "32                 http://sws.geonames.org/3940068/           PE   \n",
      "33                 http://sws.geonames.org/3939794/           PE   \n",
      "34                 http://sws.geonames.org/3939474/           PE   \n",
      "35                 http://sws.geonames.org/3939386/           PE   \n",
      "36                 http://sws.geonames.org/3929281/           PE   \n",
      "37                 http://sws.geonames.org/3938825/           PE   \n",
      "38                 http://sws.geonames.org/3938527/           PE   \n",
      "39                 http://sws.geonames.org/3938160/           PE   \n",
      "40                 http://sws.geonames.org/3937733/           PE   \n",
      "41                 http://sws.geonames.org/6380634/           PE   \n",
      "42                 http://sws.geonames.org/3936871/           PE   \n",
      "43                 http://sws.geonames.org/8661432/           PE   \n",
      "44                 http://sws.geonames.org/3936456/           PE   \n",
      "45  https://whgazetteer.org/places/14164987/portal/           PE   \n",
      "46                 http://sws.geonames.org/3699088/           PE   \n",
      "47                 http://sws.geonames.org/3935121/           PE   \n",
      "48  https://whgazetteer.org/places/14164519/portal/           PE   \n",
      "49                 http://sws.geonames.org/3694564/           PE   \n",
      "50                 http://sws.geonames.org/3934356/           PE   \n",
      "51                 http://sws.geonames.org/3934206/           PE   \n",
      "52                 http://sws.geonames.org/3693998/           PE   \n",
      "53                 http://sws.geonames.org/3931276/           PE   \n",
      "54                 http://sws.geonames.org/3931223/           PE   \n",
      "55                 http://sws.geonames.org/3930947/           PE   \n",
      "56                 http://sws.geonames.org/3930088/           PE   \n",
      "57                 http://sws.geonames.org/3929611/           PE   \n",
      "58                 http://sws.geonames.org/3692462/           PE   \n",
      "59                 http://sws.geonames.org/3929295/           PE   \n",
      "60                 http://sws.geonames.org/3928450/           PE   \n",
      "61                http://sws.geonames.org/13238703/           PE   \n",
      "62                http://sws.geonames.org/13238711/           PE   \n",
      "63                 http://sws.geonames.org/3926438/           PE   \n",
      "64                 http://sws.geonames.org/3926141/           PE   \n",
      "65                 http://sws.geonames.org/3820188/           PE   \n",
      "\n",
      "                  part_of                               part_of_uri  \\\n",
      "0                                                                     \n",
      "1   Distrito de Alcamenca  https://www.wikidata.org/entity/Q3824932   \n",
      "3                                                                     \n",
      "4      Distrito de Omacha  https://www.wikidata.org/entity/Q2893883   \n",
      "6                                                                     \n",
      "7                                                                     \n",
      "10                                                                    \n",
      "11                                                                    \n",
      "12                                                                    \n",
      "13                                                                    \n",
      "14                                                                    \n",
      "15                                                                    \n",
      "16                                                                    \n",
      "17                                                                    \n",
      "19                                                                    \n",
      "20                                                                    \n",
      "21                                                                    \n",
      "22                                                                    \n",
      "23                                                                    \n",
      "25                                                                    \n",
      "26                                                                    \n",
      "27                                                                    \n",
      "28                                                                    \n",
      "29                                                                    \n",
      "30                                                                    \n",
      "31                                                                    \n",
      "32                                                                    \n",
      "33                                                                    \n",
      "34                                                                    \n",
      "35                                                                    \n",
      "36                                                                    \n",
      "37                                                                    \n",
      "38                                                                    \n",
      "39                                                                    \n",
      "40                                                                    \n",
      "41                                                                    \n",
      "42                                                                    \n",
      "43                                                                    \n",
      "44                                                                    \n",
      "45                                                                    \n",
      "46                                                                    \n",
      "47                                                                    \n",
      "48                                                                    \n",
      "49                                                                    \n",
      "50                                                                    \n",
      "51                                                                    \n",
      "52                                                                    \n",
      "53                                                                    \n",
      "54                                                                    \n",
      "55                                                                    \n",
      "56                                                                    \n",
      "57                                                                    \n",
      "58                                                                    \n",
      "59                                                                    \n",
      "60                                                                    \n",
      "61                                                                    \n",
      "62                                                                    \n",
      "63                                                                    \n",
      "64                                                                    \n",
      "65                                                                    \n",
      "\n",
      "    confidence  threshold match_type  \\\n",
      "0        100.0       90.0      exact   \n",
      "1        100.0       90.0      exact   \n",
      "3        100.0       90.0      exact   \n",
      "4        100.0       90.0      exact   \n",
      "6        100.0       90.0      exact   \n",
      "7        100.0       90.0      exact   \n",
      "10       100.0       90.0      exact   \n",
      "11       100.0       90.0      exact   \n",
      "12       100.0       90.0      exact   \n",
      "13       100.0       90.0      exact   \n",
      "14       100.0       90.0      exact   \n",
      "15       100.0       90.0      exact   \n",
      "16       100.0       90.0      exact   \n",
      "17       100.0       90.0      exact   \n",
      "19       100.0       90.0      exact   \n",
      "20       100.0       90.0      exact   \n",
      "21       100.0       90.0      exact   \n",
      "22       100.0       90.0      exact   \n",
      "23       100.0       90.0      exact   \n",
      "25       100.0       90.0      exact   \n",
      "26       100.0       90.0      exact   \n",
      "27       100.0       90.0      exact   \n",
      "28       100.0       90.0      exact   \n",
      "29       100.0       90.0      exact   \n",
      "30       100.0       90.0      exact   \n",
      "31       100.0       90.0      exact   \n",
      "32       100.0       90.0      exact   \n",
      "33       100.0       90.0      exact   \n",
      "34       100.0       90.0      exact   \n",
      "35       100.0       90.0      exact   \n",
      "36       100.0       90.0      exact   \n",
      "37       100.0       90.0      exact   \n",
      "38       100.0       70.0      exact   \n",
      "39       100.0       90.0      exact   \n",
      "40       100.0       90.0      exact   \n",
      "41       100.0       90.0      exact   \n",
      "42       100.0       90.0      exact   \n",
      "43       100.0       90.0      exact   \n",
      "44       100.0       70.0      exact   \n",
      "45       100.0       90.0      exact   \n",
      "46       100.0       90.0      exact   \n",
      "47       100.0       90.0      exact   \n",
      "48       100.0       90.0      exact   \n",
      "49       100.0       90.0      exact   \n",
      "50       100.0       90.0      exact   \n",
      "51       100.0       90.0      exact   \n",
      "52       100.0       90.0      exact   \n",
      "53       100.0       70.0      exact   \n",
      "54       100.0       90.0      exact   \n",
      "55       100.0       90.0      exact   \n",
      "56       100.0       90.0      exact   \n",
      "57       100.0       90.0      exact   \n",
      "58       100.0       90.0      exact   \n",
      "59       100.0       90.0      exact   \n",
      "60       100.0       90.0      exact   \n",
      "61       100.0       90.0      exact   \n",
      "62       100.0       90.0      exact   \n",
      "63       100.0       90.0      exact   \n",
      "64       100.0       90.0      exact   \n",
      "65       100.0       90.0      exact   \n",
      "\n",
      "                                         mentioned_as  \n",
      "0                                          [Acobamba]  \n",
      "1                                         [Alcamenca]  \n",
      "3                                         [Andamarca]  \n",
      "4                                             [Antay]  \n",
      "6   [Aucara, Aucara Barrio de Mayo, Aucará, Barrio...  \n",
      "7                             [Aucara Cabana, Cabana]  \n",
      "10                [Aucara Huaycahuacho, Huaicahuacho]  \n",
      "11  [Ayacucho, Ayacuchoi, Ciuda de Ayacucho, Ciuda...  \n",
      "12                            [Aucara Cabana, Cabana]  \n",
      "13                                          [Canaria]  \n",
      "14                     [Cangallo, provincia Cangallo]  \n",
      "15                                          [Caralla]  \n",
      "16                                           [Carapo]  \n",
      "17                                      [Carmen Alto]  \n",
      "19                                         [Castilla]  \n",
      "20                                           [Cayara]  \n",
      "21  [Ccaralla, Cementerio general  Chacralla, Chac...  \n",
      "22                                    [Ccecca, Cecca]  \n",
      "23  [Cementerio de Pampamarca, Cementerio general ...  \n",
      "25                                         [Chacalla]  \n",
      "26                          [Chalhuanca, Challhuanca]  \n",
      "27                                          [Chilcas]  \n",
      "28                                           [Chumpe]  \n",
      "29                                            [Colca]  \n",
      "30                                          [Cordoba]  \n",
      "31                                          [Cordova]  \n",
      "32                                          [Huacaña]  \n",
      "33                                           [Hualla]  \n",
      "34                                   [Huanca, Sancos]  \n",
      "35                                           [Huanta]  \n",
      "36                                     [Huaycahuacho]  \n",
      "37                                         [Huaytara]  \n",
      "38                                              [Ica]  \n",
      "39  [Iglesia de Yshua, India de Hishua, Ishua, Yshua]  \n",
      "40                                            [Jauja]  \n",
      "41                                       [Julcamarca]  \n",
      "42                                         [Laramate]  \n",
      "43                                           [Larcay]  \n",
      "44                                             [Lima]  \n",
      "45                                          [Lucanas]  \n",
      "46                                              [Mar]  \n",
      "47                                        [Mayobamba]  \n",
      "48                                         [Morcolla]  \n",
      "49                                        [Moyobamba]  \n",
      "50                                     [Nasca, Nazca]  \n",
      "51                                            [Ocaña]  \n",
      "52                                            [Pampa]  \n",
      "53                                             [Puna]  \n",
      "54                                           [Puquio]  \n",
      "55                                       [Querobamba]  \n",
      "56                                       [Sacsamarca]  \n",
      "57                                     [San Jeronimo]  \n",
      "58                              [San Juan de Lucanas]  \n",
      "59                   [Santa Ana, Santa Ana de Aucara]  \n",
      "60                                         [Sondondo]  \n",
      "61                                            [Soras]  \n",
      "62                                     [Umaci, Umasi]  \n",
      "63                                         [Urabamba]  \n",
      "64                                           [Vilcas]  \n",
      "65                                [Villa de San Juan]  \n"
     ]
    },
    {
     "name": "stderr",
     "output_type": "stream",
     "text": [
      "\n"
     ]
    }
   ],
   "source": [
    "manual_data = '../data/interim/unique_places_manual.csv'\n",
    "places_map = '../data/mappings/places_types.json'\n",
    "\n",
    "manual_data = pd.read_csv(manual_data)\n",
    "\n",
    "resolver = placeRecognition.AuthoritativePlaceResolver(data=manual_data, places_map=places_map)\n",
    "result_df = resolver.resolve_places()\n",
    "\n",
    "print(\"Resolved places:\")\n",
    "print(result_df)"
   ]
  },
  {
   "cell_type": "code",
   "execution_count": 10,
   "id": "bad8462a",
   "metadata": {},
   "outputs": [],
   "source": [
    "result_df.to_csv(\"../data/clean/unique_places.csv\")"
   ]
  }
 ],
 "metadata": {
  "kernelspec": {
   "display_name": ".venv",
   "language": "python",
   "name": "python3"
  },
  "language_info": {
   "codemirror_mode": {
    "name": "ipython",
    "version": 3
   },
   "file_extension": ".py",
   "mimetype": "text/x-python",
   "name": "python",
   "nbconvert_exporter": "python",
   "pygments_lexer": "ipython3",
   "version": "3.11.6"
  }
 },
 "nbformat": 4,
 "nbformat_minor": 5
}
